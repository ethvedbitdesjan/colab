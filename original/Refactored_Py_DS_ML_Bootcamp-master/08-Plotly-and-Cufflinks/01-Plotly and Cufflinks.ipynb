{
 "cells": [
  {
   "cell_type": "markdown",
   "metadata": {},
   "source": [
    "___\n",
    "\n",
    "<a href='http://www.pieriandata.com'> <img src='../Pierian_Data_Logo.png' /></a>\n",
    "___\n",
    "# Plotly and Cufflinks"
   ]
  },
  {
   "cell_type": "markdown",
   "metadata": {},
   "source": [
    "Plotly is a library that allows you to create interactive plots that you can use in dashboards or websites (you can save them as html files or static images).\n",
    "\n",
    "## Installation\n",
    "\n",
    "In order for this all to work, you'll need to install plotly and cufflinks to call plots directly off of a pandas dataframe. These libraries are not currently available through **conda** but are available through **pip**. Install the libraries at your command line/terminal using:\n",
    "\n",
    "    pip install plotly\n",
    "    pip install cufflinks\n",
    "\n",
    "** NOTE: Make sure you only have one installation of Python on your computer when you do this, otherwise the installation may not work. **\n",
    "\n",
    "## Imports and Set-up"
   ]
  },
  {
   "cell_type": "code",
   "execution_count": 1,
   "metadata": {},
   "outputs": [],
   "source": [
    "import pandas as pd\n",
    "import numpy as np\n",
    "%matplotlib inline"
   ]
  },
  {
   "cell_type": "code",
   "execution_count": 3,
   "metadata": {},
   "outputs": [
    {
     "name": "stdout",
     "output_type": "stream",
     "text": [
      "4.14.1\n"
     ]
    }
   ],
   "source": [
    "from plotly import __version__\n",
    "from plotly.offline import download_plotlyjs, init_notebook_mode, plot, iplot\n",
    "import chart_studio.plotly as py\n",
    "print(__version__) # requires version >= 1.9.0"
   ]
  },
  {
   "cell_type": "code",
   "execution_count": 4,
   "metadata": {},
   "outputs": [],
   "source": [
    "import cufflinks as cf"
   ]
  },
  {
   "cell_type": "code",
   "execution_count": 5,
   "metadata": {},
   "outputs": [
    {
     "data": {
      "text/html": [
       "        <script type=\"text/javascript\">\n",
       "        window.PlotlyConfig = {MathJaxConfig: 'local'};\n",
       "        if (window.MathJax) {MathJax.Hub.Config({SVG: {font: \"STIX-Web\"}});}\n",
       "        if (typeof require !== 'undefined') {\n",
       "        require.undef(\"plotly\");\n",
       "        requirejs.config({\n",
       "            paths: {\n",
       "                'plotly': ['https://cdn.plot.ly/plotly-latest.min']\n",
       "            }\n",
       "        });\n",
       "        require(['plotly'], function(Plotly) {\n",
       "            window._Plotly = Plotly;\n",
       "        });\n",
       "        }\n",
       "        </script>\n",
       "        "
      ]
     },
     "metadata": {},
     "output_type": "display_data"
    }
   ],
   "source": [
    "# For Notebooks\n",
    "init_notebook_mode(connected=True)"
   ]
  },
  {
   "cell_type": "code",
   "execution_count": 6,
   "metadata": {},
   "outputs": [
    {
     "data": {
      "text/html": [
       "        <script type=\"text/javascript\">\n",
       "        window.PlotlyConfig = {MathJaxConfig: 'local'};\n",
       "        if (window.MathJax) {MathJax.Hub.Config({SVG: {font: \"STIX-Web\"}});}\n",
       "        if (typeof require !== 'undefined') {\n",
       "        require.undef(\"plotly\");\n",
       "        requirejs.config({\n",
       "            paths: {\n",
       "                'plotly': ['https://cdn.plot.ly/plotly-latest.min']\n",
       "            }\n",
       "        });\n",
       "        require(['plotly'], function(Plotly) {\n",
       "            window._Plotly = Plotly;\n",
       "        });\n",
       "        }\n",
       "        </script>\n",
       "        "
      ]
     },
     "metadata": {},
     "output_type": "display_data"
    }
   ],
   "source": [
    "# For offline use\n",
    "cf.go_offline()"
   ]
  },
  {
   "cell_type": "markdown",
   "metadata": {},
   "source": [
    "### Fake Data"
   ]
  },
  {
   "cell_type": "code",
   "execution_count": 7,
   "metadata": {},
   "outputs": [],
   "source": [
    "df = pd.DataFrame(np.random.randn(100,4),columns='A B C D'.split())"
   ]
  },
  {
   "cell_type": "code",
   "execution_count": 8,
   "metadata": {},
   "outputs": [
    {
     "data": {
      "text/html": [
       "<div>\n",
       "<style scoped>\n",
       "    .dataframe tbody tr th:only-of-type {\n",
       "        vertical-align: middle;\n",
       "    }\n",
       "\n",
       "    .dataframe tbody tr th {\n",
       "        vertical-align: top;\n",
       "    }\n",
       "\n",
       "    .dataframe thead th {\n",
       "        text-align: right;\n",
       "    }\n",
       "</style>\n",
       "<table border=\"1\" class=\"dataframe\">\n",
       "  <thead>\n",
       "    <tr style=\"text-align: right;\">\n",
       "      <th></th>\n",
       "      <th>A</th>\n",
       "      <th>B</th>\n",
       "      <th>C</th>\n",
       "      <th>D</th>\n",
       "    </tr>\n",
       "  </thead>\n",
       "  <tbody>\n",
       "    <tr>\n",
       "      <th>0</th>\n",
       "      <td>1.005985</td>\n",
       "      <td>0.271232</td>\n",
       "      <td>1.002080</td>\n",
       "      <td>-1.073024</td>\n",
       "    </tr>\n",
       "    <tr>\n",
       "      <th>1</th>\n",
       "      <td>-0.701028</td>\n",
       "      <td>-0.799430</td>\n",
       "      <td>-0.539057</td>\n",
       "      <td>0.279405</td>\n",
       "    </tr>\n",
       "    <tr>\n",
       "      <th>2</th>\n",
       "      <td>-0.553013</td>\n",
       "      <td>0.277729</td>\n",
       "      <td>-1.173587</td>\n",
       "      <td>1.201055</td>\n",
       "    </tr>\n",
       "    <tr>\n",
       "      <th>3</th>\n",
       "      <td>1.505359</td>\n",
       "      <td>0.189602</td>\n",
       "      <td>-0.193707</td>\n",
       "      <td>-0.875613</td>\n",
       "    </tr>\n",
       "    <tr>\n",
       "      <th>4</th>\n",
       "      <td>-0.147267</td>\n",
       "      <td>-0.804443</td>\n",
       "      <td>-0.862748</td>\n",
       "      <td>0.697329</td>\n",
       "    </tr>\n",
       "  </tbody>\n",
       "</table>\n",
       "</div>"
      ],
      "text/plain": [
       "          A         B         C         D\n",
       "0  1.005985  0.271232  1.002080 -1.073024\n",
       "1 -0.701028 -0.799430 -0.539057  0.279405\n",
       "2 -0.553013  0.277729 -1.173587  1.201055\n",
       "3  1.505359  0.189602 -0.193707 -0.875613\n",
       "4 -0.147267 -0.804443 -0.862748  0.697329"
      ]
     },
     "execution_count": 8,
     "metadata": {},
     "output_type": "execute_result"
    }
   ],
   "source": [
    "df.head()"
   ]
  },
  {
   "cell_type": "code",
   "execution_count": 9,
   "metadata": {},
   "outputs": [],
   "source": [
    "df2 = pd.DataFrame({'Category':['A','B','C'],'Values':[32,43,50]})"
   ]
  },
  {
   "cell_type": "code",
   "execution_count": 10,
   "metadata": {},
   "outputs": [
    {
     "data": {
      "text/html": [
       "<div>\n",
       "<style scoped>\n",
       "    .dataframe tbody tr th:only-of-type {\n",
       "        vertical-align: middle;\n",
       "    }\n",
       "\n",
       "    .dataframe tbody tr th {\n",
       "        vertical-align: top;\n",
       "    }\n",
       "\n",
       "    .dataframe thead th {\n",
       "        text-align: right;\n",
       "    }\n",
       "</style>\n",
       "<table border=\"1\" class=\"dataframe\">\n",
       "  <thead>\n",
       "    <tr style=\"text-align: right;\">\n",
       "      <th></th>\n",
       "      <th>Category</th>\n",
       "      <th>Values</th>\n",
       "    </tr>\n",
       "  </thead>\n",
       "  <tbody>\n",
       "    <tr>\n",
       "      <th>0</th>\n",
       "      <td>A</td>\n",
       "      <td>32</td>\n",
       "    </tr>\n",
       "    <tr>\n",
       "      <th>1</th>\n",
       "      <td>B</td>\n",
       "      <td>43</td>\n",
       "    </tr>\n",
       "    <tr>\n",
       "      <th>2</th>\n",
       "      <td>C</td>\n",
       "      <td>50</td>\n",
       "    </tr>\n",
       "  </tbody>\n",
       "</table>\n",
       "</div>"
      ],
      "text/plain": [
       "  Category  Values\n",
       "0        A      32\n",
       "1        B      43\n",
       "2        C      50"
      ]
     },
     "execution_count": 10,
     "metadata": {},
     "output_type": "execute_result"
    }
   ],
   "source": [
    "df2.head()"
   ]
  },
  {
   "cell_type": "markdown",
   "metadata": {},
   "source": [
    "## Using Cufflinks and iplot()\n",
    "\n",
    "* scatter\n",
    "* bar\n",
    "* box\n",
    "* spread\n",
    "* ratio\n",
    "* heatmap\n",
    "* surface\n",
    "* histogram\n",
    "* bubble"
   ]
  },
  {
   "cell_type": "markdown",
   "metadata": {},
   "source": [
    "## Scatter"
   ]
  },
  {
   "cell_type": "code",
   "execution_count": 11,
   "metadata": {},
   "outputs": [
    {
     "data": {
      "application/vnd.plotly.v1+json": {
       "config": {
        "linkText": "Export to plot.ly",
        "plotlyServerURL": "https://plot.ly",
        "showLink": true
       },
       "data": [
        {
         "line": {
          "color": "rgba(255, 153, 51, 1.0)",
          "dash": "solid",
          "shape": "linear",
          "width": 1.3
         },
         "marker": {
          "size": 10,
          "symbol": "circle"
         },
         "mode": "markers",
         "name": "B",
         "text": "",
         "type": "scatter",
         "x": [
          1.0059849258878888,
          -0.7010283547172209,
          -0.5530126170762337,
          1.5053586782927417,
          -0.14726718874838793,
          0.9770648926030767,
          0.6582506381399114,
          1.0301364104111772,
          -0.6260545174128129,
          -0.23780547328255147,
          0.8692692347787173,
          -0.5941485868327748,
          1.3591357195353555,
          -0.06399674516066887,
          0.829491071166314,
          0.5075254902761043,
          0.39113458866456685,
          1.063590572916894,
          0.8260655068010079,
          0.05245914539600717,
          -0.29323652668514805,
          -0.8401937481829118,
          0.024392012903958628,
          -1.521808563029623,
          -1.7272984737501598,
          -1.2563625232193036,
          0.633200412942476,
          -0.06367695602209411,
          -0.9017297357282704,
          0.11698081887161703,
          1.1789543999818366,
          0.7660384597132036,
          -0.14251541251705346,
          -1.4439954490372702,
          -0.1134737009733189,
          0.3916399896467472,
          -1.6438615230459779,
          -1.575452925220763,
          0.19490135135400036,
          -0.44498886895191403,
          0.2312126079129507,
          -0.19627309617738198,
          -1.5339188969959598,
          -1.0101177305805602,
          -0.5550261122432499,
          0.5981372038864573,
          1.9910393634213503,
          0.2492201885622451,
          -0.9944304584636777,
          0.5646967420168103,
          -0.08274449653620139,
          -0.7036502030924995,
          -0.30780049682799165,
          0.37452281339802984,
          -1.7872024370426731,
          1.3150335765180852,
          -0.5022658671929559,
          -0.344075543749246,
          -2.2374361399516345,
          1.041499401164971,
          0.7817975414736285,
          1.107319698661312,
          -1.2737183030994284,
          -0.5950888503549907,
          -1.190172709089028,
          -0.8952366180461947,
          -0.9450534445999006,
          0.7107542518724876,
          -0.24820813158798022,
          0.4198423385645599,
          0.6047113262770456,
          -0.4160311294851515,
          -0.36728501047823253,
          0.3451507507628055,
          3.0630486256974994,
          -0.08746757371406043,
          0.5379769422520592,
          -0.5196889635008731,
          -0.6871870613667098,
          -0.9885145886506468,
          -0.05642607429579795,
          0.694024910793667,
          0.1117698851259172,
          0.6280284197808698,
          -0.41881620021060223,
          0.0163714417546095,
          0.6214157736302589,
          2.5611775910144434,
          -1.651426960827347,
          0.7276986756237057,
          0.0020637820745796525,
          1.0825882895513737,
          0.8522486570762773,
          0.9254765481327194,
          2.369406636690293,
          -0.1864307255187936,
          -1.2220120453149546,
          0.12374884427234126,
          1.0240876997603876,
          0.9306315414048747
         ],
         "y": [
          0.27123248257990207,
          -0.79942997399121,
          0.27772911725777966,
          0.18960229284980287,
          -0.8044425029603967,
          0.7931602887107293,
          0.09652443857989028,
          0.8655015370064665,
          1.8308095515374818,
          0.2749896402271901,
          -2.362470749558614,
          0.11318463248836325,
          1.1119060219411647,
          0.8413226249722645,
          0.264162004739382,
          -0.6226535951055381,
          -0.737187879777522,
          -0.3626954861256312,
          0.4294362143199215,
          0.41469046140977495,
          0.5680125191650225,
          -1.2090340893662848,
          -1.1517342459828552,
          0.07448158921672837,
          0.4342728711098793,
          -0.20340173641225098,
          -0.528340097965374,
          0.4026325670699657,
          -0.40849660314465924,
          -0.9428728834213882,
          -1.0889224753201423,
          0.4343412244961164,
          -0.7027380984223325,
          1.1319173613819913,
          1.6681268067655357,
          1.2858714822530204,
          1.4153351993627128,
          -0.08415221277465915,
          0.17385461825845852,
          -1.8272643020599595,
          2.2419576746860828,
          -2.3016095629002367,
          0.4881547327449486,
          1.1274204073827983,
          -1.6610304314092292,
          0.5084657836063696,
          1.1018806738410605,
          1.7331852105972836,
          -1.6921562959754037,
          0.7935734457392073,
          -0.4618448454747036,
          0.09704187385754046,
          1.6348279512783874,
          0.19093918341701024,
          0.5081161905495156,
          0.10409349820610142,
          0.5898422928262188,
          1.2059751159993455,
          -0.5116586540463366,
          2.3208666873631407,
          0.6591266073249621,
          0.011168806554076564,
          -0.24826244758228458,
          -0.2025377569889235,
          -1.214073633209104,
          -0.5942956343079454,
          0.42789903281354497,
          -0.7250345597938104,
          0.9089201785078819,
          -1.7571715280512354,
          -0.36961300780873146,
          -0.8017050054439957,
          -1.6479669486704083,
          -0.5583710349189371,
          0.18414634913941588,
          0.6033431857155406,
          -0.1260205311565872,
          1.7062195203355053,
          0.5551594111777242,
          0.45691501176084015,
          1.439617458449986,
          0.6476365584272519,
          -0.4839348534689651,
          -0.013750335017990164,
          -0.4257175480997596,
          0.6781859750888468,
          -0.25706909317655696,
          -0.5362230018794678,
          1.2984894985704358,
          -0.5492264295963026,
          -0.33213986415001917,
          1.8882234704904772,
          -0.6624309121654113,
          1.446259954425405,
          1.2473065619110835,
          -0.4161884594577917,
          0.08657820546570494,
          -1.2691170457140617,
          0.5963599115083469,
          1.5661208240920954
         ]
        }
       ],
       "layout": {
        "legend": {
         "bgcolor": "#F5F6F9",
         "font": {
          "color": "#4D5663"
         }
        },
        "paper_bgcolor": "#F5F6F9",
        "plot_bgcolor": "#F5F6F9",
        "template": {
         "data": {
          "bar": [
           {
            "error_x": {
             "color": "#2a3f5f"
            },
            "error_y": {
             "color": "#2a3f5f"
            },
            "marker": {
             "line": {
              "color": "#E5ECF6",
              "width": 0.5
             }
            },
            "type": "bar"
           }
          ],
          "barpolar": [
           {
            "marker": {
             "line": {
              "color": "#E5ECF6",
              "width": 0.5
             }
            },
            "type": "barpolar"
           }
          ],
          "carpet": [
           {
            "aaxis": {
             "endlinecolor": "#2a3f5f",
             "gridcolor": "white",
             "linecolor": "white",
             "minorgridcolor": "white",
             "startlinecolor": "#2a3f5f"
            },
            "baxis": {
             "endlinecolor": "#2a3f5f",
             "gridcolor": "white",
             "linecolor": "white",
             "minorgridcolor": "white",
             "startlinecolor": "#2a3f5f"
            },
            "type": "carpet"
           }
          ],
          "choropleth": [
           {
            "colorbar": {
             "outlinewidth": 0,
             "ticks": ""
            },
            "type": "choropleth"
           }
          ],
          "contour": [
           {
            "colorbar": {
             "outlinewidth": 0,
             "ticks": ""
            },
            "colorscale": [
             [
              0,
              "#0d0887"
             ],
             [
              0.1111111111111111,
              "#46039f"
             ],
             [
              0.2222222222222222,
              "#7201a8"
             ],
             [
              0.3333333333333333,
              "#9c179e"
             ],
             [
              0.4444444444444444,
              "#bd3786"
             ],
             [
              0.5555555555555556,
              "#d8576b"
             ],
             [
              0.6666666666666666,
              "#ed7953"
             ],
             [
              0.7777777777777778,
              "#fb9f3a"
             ],
             [
              0.8888888888888888,
              "#fdca26"
             ],
             [
              1,
              "#f0f921"
             ]
            ],
            "type": "contour"
           }
          ],
          "contourcarpet": [
           {
            "colorbar": {
             "outlinewidth": 0,
             "ticks": ""
            },
            "type": "contourcarpet"
           }
          ],
          "heatmap": [
           {
            "colorbar": {
             "outlinewidth": 0,
             "ticks": ""
            },
            "colorscale": [
             [
              0,
              "#0d0887"
             ],
             [
              0.1111111111111111,
              "#46039f"
             ],
             [
              0.2222222222222222,
              "#7201a8"
             ],
             [
              0.3333333333333333,
              "#9c179e"
             ],
             [
              0.4444444444444444,
              "#bd3786"
             ],
             [
              0.5555555555555556,
              "#d8576b"
             ],
             [
              0.6666666666666666,
              "#ed7953"
             ],
             [
              0.7777777777777778,
              "#fb9f3a"
             ],
             [
              0.8888888888888888,
              "#fdca26"
             ],
             [
              1,
              "#f0f921"
             ]
            ],
            "type": "heatmap"
           }
          ],
          "heatmapgl": [
           {
            "colorbar": {
             "outlinewidth": 0,
             "ticks": ""
            },
            "colorscale": [
             [
              0,
              "#0d0887"
             ],
             [
              0.1111111111111111,
              "#46039f"
             ],
             [
              0.2222222222222222,
              "#7201a8"
             ],
             [
              0.3333333333333333,
              "#9c179e"
             ],
             [
              0.4444444444444444,
              "#bd3786"
             ],
             [
              0.5555555555555556,
              "#d8576b"
             ],
             [
              0.6666666666666666,
              "#ed7953"
             ],
             [
              0.7777777777777778,
              "#fb9f3a"
             ],
             [
              0.8888888888888888,
              "#fdca26"
             ],
             [
              1,
              "#f0f921"
             ]
            ],
            "type": "heatmapgl"
           }
          ],
          "histogram": [
           {
            "marker": {
             "colorbar": {
              "outlinewidth": 0,
              "ticks": ""
             }
            },
            "type": "histogram"
           }
          ],
          "histogram2d": [
           {
            "colorbar": {
             "outlinewidth": 0,
             "ticks": ""
            },
            "colorscale": [
             [
              0,
              "#0d0887"
             ],
             [
              0.1111111111111111,
              "#46039f"
             ],
             [
              0.2222222222222222,
              "#7201a8"
             ],
             [
              0.3333333333333333,
              "#9c179e"
             ],
             [
              0.4444444444444444,
              "#bd3786"
             ],
             [
              0.5555555555555556,
              "#d8576b"
             ],
             [
              0.6666666666666666,
              "#ed7953"
             ],
             [
              0.7777777777777778,
              "#fb9f3a"
             ],
             [
              0.8888888888888888,
              "#fdca26"
             ],
             [
              1,
              "#f0f921"
             ]
            ],
            "type": "histogram2d"
           }
          ],
          "histogram2dcontour": [
           {
            "colorbar": {
             "outlinewidth": 0,
             "ticks": ""
            },
            "colorscale": [
             [
              0,
              "#0d0887"
             ],
             [
              0.1111111111111111,
              "#46039f"
             ],
             [
              0.2222222222222222,
              "#7201a8"
             ],
             [
              0.3333333333333333,
              "#9c179e"
             ],
             [
              0.4444444444444444,
              "#bd3786"
             ],
             [
              0.5555555555555556,
              "#d8576b"
             ],
             [
              0.6666666666666666,
              "#ed7953"
             ],
             [
              0.7777777777777778,
              "#fb9f3a"
             ],
             [
              0.8888888888888888,
              "#fdca26"
             ],
             [
              1,
              "#f0f921"
             ]
            ],
            "type": "histogram2dcontour"
           }
          ],
          "mesh3d": [
           {
            "colorbar": {
             "outlinewidth": 0,
             "ticks": ""
            },
            "type": "mesh3d"
           }
          ],
          "parcoords": [
           {
            "line": {
             "colorbar": {
              "outlinewidth": 0,
              "ticks": ""
             }
            },
            "type": "parcoords"
           }
          ],
          "pie": [
           {
            "automargin": true,
            "type": "pie"
           }
          ],
          "scatter": [
           {
            "marker": {
             "colorbar": {
              "outlinewidth": 0,
              "ticks": ""
             }
            },
            "type": "scatter"
           }
          ],
          "scatter3d": [
           {
            "line": {
             "colorbar": {
              "outlinewidth": 0,
              "ticks": ""
             }
            },
            "marker": {
             "colorbar": {
              "outlinewidth": 0,
              "ticks": ""
             }
            },
            "type": "scatter3d"
           }
          ],
          "scattercarpet": [
           {
            "marker": {
             "colorbar": {
              "outlinewidth": 0,
              "ticks": ""
             }
            },
            "type": "scattercarpet"
           }
          ],
          "scattergeo": [
           {
            "marker": {
             "colorbar": {
              "outlinewidth": 0,
              "ticks": ""
             }
            },
            "type": "scattergeo"
           }
          ],
          "scattergl": [
           {
            "marker": {
             "colorbar": {
              "outlinewidth": 0,
              "ticks": ""
             }
            },
            "type": "scattergl"
           }
          ],
          "scattermapbox": [
           {
            "marker": {
             "colorbar": {
              "outlinewidth": 0,
              "ticks": ""
             }
            },
            "type": "scattermapbox"
           }
          ],
          "scatterpolar": [
           {
            "marker": {
             "colorbar": {
              "outlinewidth": 0,
              "ticks": ""
             }
            },
            "type": "scatterpolar"
           }
          ],
          "scatterpolargl": [
           {
            "marker": {
             "colorbar": {
              "outlinewidth": 0,
              "ticks": ""
             }
            },
            "type": "scatterpolargl"
           }
          ],
          "scatterternary": [
           {
            "marker": {
             "colorbar": {
              "outlinewidth": 0,
              "ticks": ""
             }
            },
            "type": "scatterternary"
           }
          ],
          "surface": [
           {
            "colorbar": {
             "outlinewidth": 0,
             "ticks": ""
            },
            "colorscale": [
             [
              0,
              "#0d0887"
             ],
             [
              0.1111111111111111,
              "#46039f"
             ],
             [
              0.2222222222222222,
              "#7201a8"
             ],
             [
              0.3333333333333333,
              "#9c179e"
             ],
             [
              0.4444444444444444,
              "#bd3786"
             ],
             [
              0.5555555555555556,
              "#d8576b"
             ],
             [
              0.6666666666666666,
              "#ed7953"
             ],
             [
              0.7777777777777778,
              "#fb9f3a"
             ],
             [
              0.8888888888888888,
              "#fdca26"
             ],
             [
              1,
              "#f0f921"
             ]
            ],
            "type": "surface"
           }
          ],
          "table": [
           {
            "cells": {
             "fill": {
              "color": "#EBF0F8"
             },
             "line": {
              "color": "white"
             }
            },
            "header": {
             "fill": {
              "color": "#C8D4E3"
             },
             "line": {
              "color": "white"
             }
            },
            "type": "table"
           }
          ]
         },
         "layout": {
          "annotationdefaults": {
           "arrowcolor": "#2a3f5f",
           "arrowhead": 0,
           "arrowwidth": 1
          },
          "autotypenumbers": "strict",
          "coloraxis": {
           "colorbar": {
            "outlinewidth": 0,
            "ticks": ""
           }
          },
          "colorscale": {
           "diverging": [
            [
             0,
             "#8e0152"
            ],
            [
             0.1,
             "#c51b7d"
            ],
            [
             0.2,
             "#de77ae"
            ],
            [
             0.3,
             "#f1b6da"
            ],
            [
             0.4,
             "#fde0ef"
            ],
            [
             0.5,
             "#f7f7f7"
            ],
            [
             0.6,
             "#e6f5d0"
            ],
            [
             0.7,
             "#b8e186"
            ],
            [
             0.8,
             "#7fbc41"
            ],
            [
             0.9,
             "#4d9221"
            ],
            [
             1,
             "#276419"
            ]
           ],
           "sequential": [
            [
             0,
             "#0d0887"
            ],
            [
             0.1111111111111111,
             "#46039f"
            ],
            [
             0.2222222222222222,
             "#7201a8"
            ],
            [
             0.3333333333333333,
             "#9c179e"
            ],
            [
             0.4444444444444444,
             "#bd3786"
            ],
            [
             0.5555555555555556,
             "#d8576b"
            ],
            [
             0.6666666666666666,
             "#ed7953"
            ],
            [
             0.7777777777777778,
             "#fb9f3a"
            ],
            [
             0.8888888888888888,
             "#fdca26"
            ],
            [
             1,
             "#f0f921"
            ]
           ],
           "sequentialminus": [
            [
             0,
             "#0d0887"
            ],
            [
             0.1111111111111111,
             "#46039f"
            ],
            [
             0.2222222222222222,
             "#7201a8"
            ],
            [
             0.3333333333333333,
             "#9c179e"
            ],
            [
             0.4444444444444444,
             "#bd3786"
            ],
            [
             0.5555555555555556,
             "#d8576b"
            ],
            [
             0.6666666666666666,
             "#ed7953"
            ],
            [
             0.7777777777777778,
             "#fb9f3a"
            ],
            [
             0.8888888888888888,
             "#fdca26"
            ],
            [
             1,
             "#f0f921"
            ]
           ]
          },
          "colorway": [
           "#636efa",
           "#EF553B",
           "#00cc96",
           "#ab63fa",
           "#FFA15A",
           "#19d3f3",
           "#FF6692",
           "#B6E880",
           "#FF97FF",
           "#FECB52"
          ],
          "font": {
           "color": "#2a3f5f"
          },
          "geo": {
           "bgcolor": "white",
           "lakecolor": "white",
           "landcolor": "#E5ECF6",
           "showlakes": true,
           "showland": true,
           "subunitcolor": "white"
          },
          "hoverlabel": {
           "align": "left"
          },
          "hovermode": "closest",
          "mapbox": {
           "style": "light"
          },
          "paper_bgcolor": "white",
          "plot_bgcolor": "#E5ECF6",
          "polar": {
           "angularaxis": {
            "gridcolor": "white",
            "linecolor": "white",
            "ticks": ""
           },
           "bgcolor": "#E5ECF6",
           "radialaxis": {
            "gridcolor": "white",
            "linecolor": "white",
            "ticks": ""
           }
          },
          "scene": {
           "xaxis": {
            "backgroundcolor": "#E5ECF6",
            "gridcolor": "white",
            "gridwidth": 2,
            "linecolor": "white",
            "showbackground": true,
            "ticks": "",
            "zerolinecolor": "white"
           },
           "yaxis": {
            "backgroundcolor": "#E5ECF6",
            "gridcolor": "white",
            "gridwidth": 2,
            "linecolor": "white",
            "showbackground": true,
            "ticks": "",
            "zerolinecolor": "white"
           },
           "zaxis": {
            "backgroundcolor": "#E5ECF6",
            "gridcolor": "white",
            "gridwidth": 2,
            "linecolor": "white",
            "showbackground": true,
            "ticks": "",
            "zerolinecolor": "white"
           }
          },
          "shapedefaults": {
           "line": {
            "color": "#2a3f5f"
           }
          },
          "ternary": {
           "aaxis": {
            "gridcolor": "white",
            "linecolor": "white",
            "ticks": ""
           },
           "baxis": {
            "gridcolor": "white",
            "linecolor": "white",
            "ticks": ""
           },
           "bgcolor": "#E5ECF6",
           "caxis": {
            "gridcolor": "white",
            "linecolor": "white",
            "ticks": ""
           }
          },
          "title": {
           "x": 0.05
          },
          "xaxis": {
           "automargin": true,
           "gridcolor": "white",
           "linecolor": "white",
           "ticks": "",
           "title": {
            "standoff": 15
           },
           "zerolinecolor": "white",
           "zerolinewidth": 2
          },
          "yaxis": {
           "automargin": true,
           "gridcolor": "white",
           "linecolor": "white",
           "ticks": "",
           "title": {
            "standoff": 15
           },
           "zerolinecolor": "white",
           "zerolinewidth": 2
          }
         }
        },
        "title": {
         "font": {
          "color": "#4D5663"
         }
        },
        "xaxis": {
         "gridcolor": "#E1E5ED",
         "showgrid": true,
         "tickfont": {
          "color": "#4D5663"
         },
         "title": {
          "font": {
           "color": "#4D5663"
          },
          "text": ""
         },
         "zerolinecolor": "#E1E5ED"
        },
        "yaxis": {
         "gridcolor": "#E1E5ED",
         "showgrid": true,
         "tickfont": {
          "color": "#4D5663"
         },
         "title": {
          "font": {
           "color": "#4D5663"
          },
          "text": ""
         },
         "zerolinecolor": "#E1E5ED"
        }
       }
      },
      "text/html": [
       "<div>                            <div id=\"14728808-ab90-4122-9b48-205ddc621b85\" class=\"plotly-graph-div\" style=\"height:525px; width:100%;\"></div>            <script type=\"text/javascript\">                require([\"plotly\"], function(Plotly) {                    window.PLOTLYENV=window.PLOTLYENV || {};\n",
       "                    window.PLOTLYENV.BASE_URL='https://plot.ly';                                    if (document.getElementById(\"14728808-ab90-4122-9b48-205ddc621b85\")) {                    Plotly.newPlot(                        \"14728808-ab90-4122-9b48-205ddc621b85\",                        [{\"line\": {\"color\": \"rgba(255, 153, 51, 1.0)\", \"dash\": \"solid\", \"shape\": \"linear\", \"width\": 1.3}, \"marker\": {\"size\": 10, \"symbol\": \"circle\"}, \"mode\": \"markers\", \"name\": \"B\", \"text\": \"\", \"type\": \"scatter\", \"x\": [1.0059849258878888, -0.7010283547172209, -0.5530126170762337, 1.5053586782927417, -0.14726718874838793, 0.9770648926030767, 0.6582506381399114, 1.0301364104111772, -0.6260545174128129, -0.23780547328255147, 0.8692692347787173, -0.5941485868327748, 1.3591357195353555, -0.06399674516066887, 0.829491071166314, 0.5075254902761043, 0.39113458866456685, 1.063590572916894, 0.8260655068010079, 0.05245914539600717, -0.29323652668514805, -0.8401937481829118, 0.024392012903958628, -1.521808563029623, -1.7272984737501598, -1.2563625232193036, 0.633200412942476, -0.06367695602209411, -0.9017297357282704, 0.11698081887161703, 1.1789543999818366, 0.7660384597132036, -0.14251541251705346, -1.4439954490372702, -0.1134737009733189, 0.3916399896467472, -1.6438615230459779, -1.575452925220763, 0.19490135135400036, -0.44498886895191403, 0.2312126079129507, -0.19627309617738198, -1.5339188969959598, -1.0101177305805602, -0.5550261122432499, 0.5981372038864573, 1.9910393634213503, 0.2492201885622451, -0.9944304584636777, 0.5646967420168103, -0.08274449653620139, -0.7036502030924995, -0.30780049682799165, 0.37452281339802984, -1.7872024370426731, 1.3150335765180852, -0.5022658671929559, -0.344075543749246, -2.2374361399516345, 1.041499401164971, 0.7817975414736285, 1.107319698661312, -1.2737183030994284, -0.5950888503549907, -1.190172709089028, -0.8952366180461947, -0.9450534445999006, 0.7107542518724876, -0.24820813158798022, 0.4198423385645599, 0.6047113262770456, -0.4160311294851515, -0.36728501047823253, 0.3451507507628055, 3.0630486256974994, -0.08746757371406043, 0.5379769422520592, -0.5196889635008731, -0.6871870613667098, -0.9885145886506468, -0.05642607429579795, 0.694024910793667, 0.1117698851259172, 0.6280284197808698, -0.41881620021060223, 0.0163714417546095, 0.6214157736302589, 2.5611775910144434, -1.651426960827347, 0.7276986756237057, 0.0020637820745796525, 1.0825882895513737, 0.8522486570762773, 0.9254765481327194, 2.369406636690293, -0.1864307255187936, -1.2220120453149546, 0.12374884427234126, 1.0240876997603876, 0.9306315414048747], \"y\": [0.27123248257990207, -0.79942997399121, 0.27772911725777966, 0.18960229284980287, -0.8044425029603967, 0.7931602887107293, 0.09652443857989028, 0.8655015370064665, 1.8308095515374818, 0.2749896402271901, -2.362470749558614, 0.11318463248836325, 1.1119060219411647, 0.8413226249722645, 0.264162004739382, -0.6226535951055381, -0.737187879777522, -0.3626954861256312, 0.4294362143199215, 0.41469046140977495, 0.5680125191650225, -1.2090340893662848, -1.1517342459828552, 0.07448158921672837, 0.4342728711098793, -0.20340173641225098, -0.528340097965374, 0.4026325670699657, -0.40849660314465924, -0.9428728834213882, -1.0889224753201423, 0.4343412244961164, -0.7027380984223325, 1.1319173613819913, 1.6681268067655357, 1.2858714822530204, 1.4153351993627128, -0.08415221277465915, 0.17385461825845852, -1.8272643020599595, 2.2419576746860828, -2.3016095629002367, 0.4881547327449486, 1.1274204073827983, -1.6610304314092292, 0.5084657836063696, 1.1018806738410605, 1.7331852105972836, -1.6921562959754037, 0.7935734457392073, -0.4618448454747036, 0.09704187385754046, 1.6348279512783874, 0.19093918341701024, 0.5081161905495156, 0.10409349820610142, 0.5898422928262188, 1.2059751159993455, -0.5116586540463366, 2.3208666873631407, 0.6591266073249621, 0.011168806554076564, -0.24826244758228458, -0.2025377569889235, -1.214073633209104, -0.5942956343079454, 0.42789903281354497, -0.7250345597938104, 0.9089201785078819, -1.7571715280512354, -0.36961300780873146, -0.8017050054439957, -1.6479669486704083, -0.5583710349189371, 0.18414634913941588, 0.6033431857155406, -0.1260205311565872, 1.7062195203355053, 0.5551594111777242, 0.45691501176084015, 1.439617458449986, 0.6476365584272519, -0.4839348534689651, -0.013750335017990164, -0.4257175480997596, 0.6781859750888468, -0.25706909317655696, -0.5362230018794678, 1.2984894985704358, -0.5492264295963026, -0.33213986415001917, 1.8882234704904772, -0.6624309121654113, 1.446259954425405, 1.2473065619110835, -0.4161884594577917, 0.08657820546570494, -1.2691170457140617, 0.5963599115083469, 1.5661208240920954]}],                        {\"legend\": {\"bgcolor\": \"#F5F6F9\", \"font\": {\"color\": \"#4D5663\"}}, \"paper_bgcolor\": \"#F5F6F9\", \"plot_bgcolor\": \"#F5F6F9\", \"template\": {\"data\": {\"bar\": [{\"error_x\": {\"color\": \"#2a3f5f\"}, \"error_y\": {\"color\": \"#2a3f5f\"}, \"marker\": {\"line\": {\"color\": \"#E5ECF6\", \"width\": 0.5}}, \"type\": \"bar\"}], \"barpolar\": [{\"marker\": {\"line\": {\"color\": \"#E5ECF6\", \"width\": 0.5}}, \"type\": \"barpolar\"}], \"carpet\": [{\"aaxis\": {\"endlinecolor\": \"#2a3f5f\", \"gridcolor\": \"white\", \"linecolor\": \"white\", \"minorgridcolor\": \"white\", \"startlinecolor\": \"#2a3f5f\"}, \"baxis\": {\"endlinecolor\": \"#2a3f5f\", \"gridcolor\": \"white\", \"linecolor\": \"white\", \"minorgridcolor\": \"white\", \"startlinecolor\": \"#2a3f5f\"}, \"type\": \"carpet\"}], \"choropleth\": [{\"colorbar\": {\"outlinewidth\": 0, \"ticks\": \"\"}, \"type\": \"choropleth\"}], \"contour\": [{\"colorbar\": {\"outlinewidth\": 0, \"ticks\": \"\"}, \"colorscale\": [[0.0, \"#0d0887\"], [0.1111111111111111, \"#46039f\"], [0.2222222222222222, \"#7201a8\"], [0.3333333333333333, \"#9c179e\"], [0.4444444444444444, \"#bd3786\"], [0.5555555555555556, \"#d8576b\"], [0.6666666666666666, \"#ed7953\"], [0.7777777777777778, \"#fb9f3a\"], [0.8888888888888888, \"#fdca26\"], [1.0, \"#f0f921\"]], \"type\": \"contour\"}], \"contourcarpet\": [{\"colorbar\": {\"outlinewidth\": 0, \"ticks\": \"\"}, \"type\": \"contourcarpet\"}], \"heatmap\": [{\"colorbar\": {\"outlinewidth\": 0, \"ticks\": \"\"}, \"colorscale\": [[0.0, \"#0d0887\"], [0.1111111111111111, \"#46039f\"], [0.2222222222222222, \"#7201a8\"], [0.3333333333333333, \"#9c179e\"], [0.4444444444444444, \"#bd3786\"], [0.5555555555555556, \"#d8576b\"], [0.6666666666666666, \"#ed7953\"], [0.7777777777777778, \"#fb9f3a\"], [0.8888888888888888, \"#fdca26\"], [1.0, \"#f0f921\"]], \"type\": \"heatmap\"}], \"heatmapgl\": [{\"colorbar\": {\"outlinewidth\": 0, \"ticks\": \"\"}, \"colorscale\": [[0.0, \"#0d0887\"], [0.1111111111111111, \"#46039f\"], [0.2222222222222222, \"#7201a8\"], [0.3333333333333333, \"#9c179e\"], [0.4444444444444444, \"#bd3786\"], [0.5555555555555556, \"#d8576b\"], [0.6666666666666666, \"#ed7953\"], [0.7777777777777778, \"#fb9f3a\"], [0.8888888888888888, \"#fdca26\"], [1.0, \"#f0f921\"]], \"type\": \"heatmapgl\"}], \"histogram\": [{\"marker\": {\"colorbar\": {\"outlinewidth\": 0, \"ticks\": \"\"}}, \"type\": \"histogram\"}], \"histogram2d\": [{\"colorbar\": {\"outlinewidth\": 0, \"ticks\": \"\"}, \"colorscale\": [[0.0, \"#0d0887\"], [0.1111111111111111, \"#46039f\"], [0.2222222222222222, \"#7201a8\"], [0.3333333333333333, \"#9c179e\"], [0.4444444444444444, \"#bd3786\"], [0.5555555555555556, \"#d8576b\"], [0.6666666666666666, \"#ed7953\"], [0.7777777777777778, \"#fb9f3a\"], [0.8888888888888888, \"#fdca26\"], [1.0, \"#f0f921\"]], \"type\": \"histogram2d\"}], \"histogram2dcontour\": [{\"colorbar\": {\"outlinewidth\": 0, \"ticks\": \"\"}, \"colorscale\": [[0.0, \"#0d0887\"], [0.1111111111111111, \"#46039f\"], [0.2222222222222222, \"#7201a8\"], [0.3333333333333333, \"#9c179e\"], [0.4444444444444444, \"#bd3786\"], [0.5555555555555556, \"#d8576b\"], [0.6666666666666666, \"#ed7953\"], [0.7777777777777778, \"#fb9f3a\"], [0.8888888888888888, \"#fdca26\"], [1.0, \"#f0f921\"]], \"type\": \"histogram2dcontour\"}], \"mesh3d\": [{\"colorbar\": {\"outlinewidth\": 0, \"ticks\": \"\"}, \"type\": \"mesh3d\"}], \"parcoords\": [{\"line\": {\"colorbar\": {\"outlinewidth\": 0, \"ticks\": \"\"}}, \"type\": \"parcoords\"}], \"pie\": [{\"automargin\": true, \"type\": \"pie\"}], \"scatter\": [{\"marker\": {\"colorbar\": {\"outlinewidth\": 0, \"ticks\": \"\"}}, \"type\": \"scatter\"}], \"scatter3d\": [{\"line\": {\"colorbar\": {\"outlinewidth\": 0, \"ticks\": \"\"}}, \"marker\": {\"colorbar\": {\"outlinewidth\": 0, \"ticks\": \"\"}}, \"type\": \"scatter3d\"}], \"scattercarpet\": [{\"marker\": {\"colorbar\": {\"outlinewidth\": 0, \"ticks\": \"\"}}, \"type\": \"scattercarpet\"}], \"scattergeo\": [{\"marker\": {\"colorbar\": {\"outlinewidth\": 0, \"ticks\": \"\"}}, \"type\": \"scattergeo\"}], \"scattergl\": [{\"marker\": {\"colorbar\": {\"outlinewidth\": 0, \"ticks\": \"\"}}, \"type\": \"scattergl\"}], \"scattermapbox\": [{\"marker\": {\"colorbar\": {\"outlinewidth\": 0, \"ticks\": \"\"}}, \"type\": \"scattermapbox\"}], \"scatterpolar\": [{\"marker\": {\"colorbar\": {\"outlinewidth\": 0, \"ticks\": \"\"}}, \"type\": \"scatterpolar\"}], \"scatterpolargl\": [{\"marker\": {\"colorbar\": {\"outlinewidth\": 0, \"ticks\": \"\"}}, \"type\": \"scatterpolargl\"}], \"scatterternary\": [{\"marker\": {\"colorbar\": {\"outlinewidth\": 0, \"ticks\": \"\"}}, \"type\": \"scatterternary\"}], \"surface\": [{\"colorbar\": {\"outlinewidth\": 0, \"ticks\": \"\"}, \"colorscale\": [[0.0, \"#0d0887\"], [0.1111111111111111, \"#46039f\"], [0.2222222222222222, \"#7201a8\"], [0.3333333333333333, \"#9c179e\"], [0.4444444444444444, \"#bd3786\"], [0.5555555555555556, \"#d8576b\"], [0.6666666666666666, \"#ed7953\"], [0.7777777777777778, \"#fb9f3a\"], [0.8888888888888888, \"#fdca26\"], [1.0, \"#f0f921\"]], \"type\": \"surface\"}], \"table\": [{\"cells\": {\"fill\": {\"color\": \"#EBF0F8\"}, \"line\": {\"color\": \"white\"}}, \"header\": {\"fill\": {\"color\": \"#C8D4E3\"}, \"line\": {\"color\": \"white\"}}, \"type\": \"table\"}]}, \"layout\": {\"annotationdefaults\": {\"arrowcolor\": \"#2a3f5f\", \"arrowhead\": 0, \"arrowwidth\": 1}, \"autotypenumbers\": \"strict\", \"coloraxis\": {\"colorbar\": {\"outlinewidth\": 0, \"ticks\": \"\"}}, \"colorscale\": {\"diverging\": [[0, \"#8e0152\"], [0.1, \"#c51b7d\"], [0.2, \"#de77ae\"], [0.3, \"#f1b6da\"], [0.4, \"#fde0ef\"], [0.5, \"#f7f7f7\"], [0.6, \"#e6f5d0\"], [0.7, \"#b8e186\"], [0.8, \"#7fbc41\"], [0.9, \"#4d9221\"], [1, \"#276419\"]], \"sequential\": [[0.0, \"#0d0887\"], [0.1111111111111111, \"#46039f\"], [0.2222222222222222, \"#7201a8\"], [0.3333333333333333, \"#9c179e\"], [0.4444444444444444, \"#bd3786\"], [0.5555555555555556, \"#d8576b\"], [0.6666666666666666, \"#ed7953\"], [0.7777777777777778, \"#fb9f3a\"], [0.8888888888888888, \"#fdca26\"], [1.0, \"#f0f921\"]], \"sequentialminus\": [[0.0, \"#0d0887\"], [0.1111111111111111, \"#46039f\"], [0.2222222222222222, \"#7201a8\"], [0.3333333333333333, \"#9c179e\"], [0.4444444444444444, \"#bd3786\"], [0.5555555555555556, \"#d8576b\"], [0.6666666666666666, \"#ed7953\"], [0.7777777777777778, \"#fb9f3a\"], [0.8888888888888888, \"#fdca26\"], [1.0, \"#f0f921\"]]}, \"colorway\": [\"#636efa\", \"#EF553B\", \"#00cc96\", \"#ab63fa\", \"#FFA15A\", \"#19d3f3\", \"#FF6692\", \"#B6E880\", \"#FF97FF\", \"#FECB52\"], \"font\": {\"color\": \"#2a3f5f\"}, \"geo\": {\"bgcolor\": \"white\", \"lakecolor\": \"white\", \"landcolor\": \"#E5ECF6\", \"showlakes\": true, \"showland\": true, \"subunitcolor\": \"white\"}, \"hoverlabel\": {\"align\": \"left\"}, \"hovermode\": \"closest\", \"mapbox\": {\"style\": \"light\"}, \"paper_bgcolor\": \"white\", \"plot_bgcolor\": \"#E5ECF6\", \"polar\": {\"angularaxis\": {\"gridcolor\": \"white\", \"linecolor\": \"white\", \"ticks\": \"\"}, \"bgcolor\": \"#E5ECF6\", \"radialaxis\": {\"gridcolor\": \"white\", \"linecolor\": \"white\", \"ticks\": \"\"}}, \"scene\": {\"xaxis\": {\"backgroundcolor\": \"#E5ECF6\", \"gridcolor\": \"white\", \"gridwidth\": 2, \"linecolor\": \"white\", \"showbackground\": true, \"ticks\": \"\", \"zerolinecolor\": \"white\"}, \"yaxis\": {\"backgroundcolor\": \"#E5ECF6\", \"gridcolor\": \"white\", \"gridwidth\": 2, \"linecolor\": \"white\", \"showbackground\": true, \"ticks\": \"\", \"zerolinecolor\": \"white\"}, \"zaxis\": {\"backgroundcolor\": \"#E5ECF6\", \"gridcolor\": \"white\", \"gridwidth\": 2, \"linecolor\": \"white\", \"showbackground\": true, \"ticks\": \"\", \"zerolinecolor\": \"white\"}}, \"shapedefaults\": {\"line\": {\"color\": \"#2a3f5f\"}}, \"ternary\": {\"aaxis\": {\"gridcolor\": \"white\", \"linecolor\": \"white\", \"ticks\": \"\"}, \"baxis\": {\"gridcolor\": \"white\", \"linecolor\": \"white\", \"ticks\": \"\"}, \"bgcolor\": \"#E5ECF6\", \"caxis\": {\"gridcolor\": \"white\", \"linecolor\": \"white\", \"ticks\": \"\"}}, \"title\": {\"x\": 0.05}, \"xaxis\": {\"automargin\": true, \"gridcolor\": \"white\", \"linecolor\": \"white\", \"ticks\": \"\", \"title\": {\"standoff\": 15}, \"zerolinecolor\": \"white\", \"zerolinewidth\": 2}, \"yaxis\": {\"automargin\": true, \"gridcolor\": \"white\", \"linecolor\": \"white\", \"ticks\": \"\", \"title\": {\"standoff\": 15}, \"zerolinecolor\": \"white\", \"zerolinewidth\": 2}}}, \"title\": {\"font\": {\"color\": \"#4D5663\"}}, \"xaxis\": {\"gridcolor\": \"#E1E5ED\", \"showgrid\": true, \"tickfont\": {\"color\": \"#4D5663\"}, \"title\": {\"font\": {\"color\": \"#4D5663\"}, \"text\": \"\"}, \"zerolinecolor\": \"#E1E5ED\"}, \"yaxis\": {\"gridcolor\": \"#E1E5ED\", \"showgrid\": true, \"tickfont\": {\"color\": \"#4D5663\"}, \"title\": {\"font\": {\"color\": \"#4D5663\"}, \"text\": \"\"}, \"zerolinecolor\": \"#E1E5ED\"}},                        {\"showLink\": true, \"linkText\": \"Export to plot.ly\", \"plotlyServerURL\": \"https://plot.ly\", \"responsive\": true}                    ).then(function(){\n",
       "                            \n",
       "var gd = document.getElementById('14728808-ab90-4122-9b48-205ddc621b85');\n",
       "var x = new MutationObserver(function (mutations, observer) {{\n",
       "        var display = window.getComputedStyle(gd).display;\n",
       "        if (!display || display === 'none') {{\n",
       "            console.log([gd, 'removed!']);\n",
       "            Plotly.purge(gd);\n",
       "            observer.disconnect();\n",
       "        }}\n",
       "}});\n",
       "\n",
       "// Listen for the removal of the full notebook cells\n",
       "var notebookContainer = gd.closest('#notebook-container');\n",
       "if (notebookContainer) {{\n",
       "    x.observe(notebookContainer, {childList: true});\n",
       "}}\n",
       "\n",
       "// Listen for the clearing of the current output cell\n",
       "var outputEl = gd.closest('.output');\n",
       "if (outputEl) {{\n",
       "    x.observe(outputEl, {childList: true});\n",
       "}}\n",
       "\n",
       "                        })                };                });            </script>        </div>"
      ]
     },
     "metadata": {},
     "output_type": "display_data"
    }
   ],
   "source": [
    "df.iplot(kind='scatter',x='A',y='B',mode='markers',size=10)"
   ]
  },
  {
   "cell_type": "markdown",
   "metadata": {},
   "source": [
    "## Bar Plots"
   ]
  },
  {
   "cell_type": "code",
   "execution_count": 12,
   "metadata": {},
   "outputs": [
    {
     "data": {
      "application/vnd.plotly.v1+json": {
       "config": {
        "linkText": "Export to plot.ly",
        "plotlyServerURL": "https://plot.ly",
        "showLink": true
       },
       "data": [
        {
         "marker": {
          "color": "rgba(255, 153, 51, 0.6)",
          "line": {
           "color": "rgba(255, 153, 51, 1.0)",
           "width": 1
          }
         },
         "name": "Values",
         "orientation": "v",
         "text": "",
         "type": "bar",
         "x": [
          "A",
          "B",
          "C"
         ],
         "y": [
          32,
          43,
          50
         ]
        }
       ],
       "layout": {
        "legend": {
         "bgcolor": "#F5F6F9",
         "font": {
          "color": "#4D5663"
         }
        },
        "paper_bgcolor": "#F5F6F9",
        "plot_bgcolor": "#F5F6F9",
        "template": {
         "data": {
          "bar": [
           {
            "error_x": {
             "color": "#2a3f5f"
            },
            "error_y": {
             "color": "#2a3f5f"
            },
            "marker": {
             "line": {
              "color": "#E5ECF6",
              "width": 0.5
             }
            },
            "type": "bar"
           }
          ],
          "barpolar": [
           {
            "marker": {
             "line": {
              "color": "#E5ECF6",
              "width": 0.5
             }
            },
            "type": "barpolar"
           }
          ],
          "carpet": [
           {
            "aaxis": {
             "endlinecolor": "#2a3f5f",
             "gridcolor": "white",
             "linecolor": "white",
             "minorgridcolor": "white",
             "startlinecolor": "#2a3f5f"
            },
            "baxis": {
             "endlinecolor": "#2a3f5f",
             "gridcolor": "white",
             "linecolor": "white",
             "minorgridcolor": "white",
             "startlinecolor": "#2a3f5f"
            },
            "type": "carpet"
           }
          ],
          "choropleth": [
           {
            "colorbar": {
             "outlinewidth": 0,
             "ticks": ""
            },
            "type": "choropleth"
           }
          ],
          "contour": [
           {
            "colorbar": {
             "outlinewidth": 0,
             "ticks": ""
            },
            "colorscale": [
             [
              0,
              "#0d0887"
             ],
             [
              0.1111111111111111,
              "#46039f"
             ],
             [
              0.2222222222222222,
              "#7201a8"
             ],
             [
              0.3333333333333333,
              "#9c179e"
             ],
             [
              0.4444444444444444,
              "#bd3786"
             ],
             [
              0.5555555555555556,
              "#d8576b"
             ],
             [
              0.6666666666666666,
              "#ed7953"
             ],
             [
              0.7777777777777778,
              "#fb9f3a"
             ],
             [
              0.8888888888888888,
              "#fdca26"
             ],
             [
              1,
              "#f0f921"
             ]
            ],
            "type": "contour"
           }
          ],
          "contourcarpet": [
           {
            "colorbar": {
             "outlinewidth": 0,
             "ticks": ""
            },
            "type": "contourcarpet"
           }
          ],
          "heatmap": [
           {
            "colorbar": {
             "outlinewidth": 0,
             "ticks": ""
            },
            "colorscale": [
             [
              0,
              "#0d0887"
             ],
             [
              0.1111111111111111,
              "#46039f"
             ],
             [
              0.2222222222222222,
              "#7201a8"
             ],
             [
              0.3333333333333333,
              "#9c179e"
             ],
             [
              0.4444444444444444,
              "#bd3786"
             ],
             [
              0.5555555555555556,
              "#d8576b"
             ],
             [
              0.6666666666666666,
              "#ed7953"
             ],
             [
              0.7777777777777778,
              "#fb9f3a"
             ],
             [
              0.8888888888888888,
              "#fdca26"
             ],
             [
              1,
              "#f0f921"
             ]
            ],
            "type": "heatmap"
           }
          ],
          "heatmapgl": [
           {
            "colorbar": {
             "outlinewidth": 0,
             "ticks": ""
            },
            "colorscale": [
             [
              0,
              "#0d0887"
             ],
             [
              0.1111111111111111,
              "#46039f"
             ],
             [
              0.2222222222222222,
              "#7201a8"
             ],
             [
              0.3333333333333333,
              "#9c179e"
             ],
             [
              0.4444444444444444,
              "#bd3786"
             ],
             [
              0.5555555555555556,
              "#d8576b"
             ],
             [
              0.6666666666666666,
              "#ed7953"
             ],
             [
              0.7777777777777778,
              "#fb9f3a"
             ],
             [
              0.8888888888888888,
              "#fdca26"
             ],
             [
              1,
              "#f0f921"
             ]
            ],
            "type": "heatmapgl"
           }
          ],
          "histogram": [
           {
            "marker": {
             "colorbar": {
              "outlinewidth": 0,
              "ticks": ""
             }
            },
            "type": "histogram"
           }
          ],
          "histogram2d": [
           {
            "colorbar": {
             "outlinewidth": 0,
             "ticks": ""
            },
            "colorscale": [
             [
              0,
              "#0d0887"
             ],
             [
              0.1111111111111111,
              "#46039f"
             ],
             [
              0.2222222222222222,
              "#7201a8"
             ],
             [
              0.3333333333333333,
              "#9c179e"
             ],
             [
              0.4444444444444444,
              "#bd3786"
             ],
             [
              0.5555555555555556,
              "#d8576b"
             ],
             [
              0.6666666666666666,
              "#ed7953"
             ],
             [
              0.7777777777777778,
              "#fb9f3a"
             ],
             [
              0.8888888888888888,
              "#fdca26"
             ],
             [
              1,
              "#f0f921"
             ]
            ],
            "type": "histogram2d"
           }
          ],
          "histogram2dcontour": [
           {
            "colorbar": {
             "outlinewidth": 0,
             "ticks": ""
            },
            "colorscale": [
             [
              0,
              "#0d0887"
             ],
             [
              0.1111111111111111,
              "#46039f"
             ],
             [
              0.2222222222222222,
              "#7201a8"
             ],
             [
              0.3333333333333333,
              "#9c179e"
             ],
             [
              0.4444444444444444,
              "#bd3786"
             ],
             [
              0.5555555555555556,
              "#d8576b"
             ],
             [
              0.6666666666666666,
              "#ed7953"
             ],
             [
              0.7777777777777778,
              "#fb9f3a"
             ],
             [
              0.8888888888888888,
              "#fdca26"
             ],
             [
              1,
              "#f0f921"
             ]
            ],
            "type": "histogram2dcontour"
           }
          ],
          "mesh3d": [
           {
            "colorbar": {
             "outlinewidth": 0,
             "ticks": ""
            },
            "type": "mesh3d"
           }
          ],
          "parcoords": [
           {
            "line": {
             "colorbar": {
              "outlinewidth": 0,
              "ticks": ""
             }
            },
            "type": "parcoords"
           }
          ],
          "pie": [
           {
            "automargin": true,
            "type": "pie"
           }
          ],
          "scatter": [
           {
            "marker": {
             "colorbar": {
              "outlinewidth": 0,
              "ticks": ""
             }
            },
            "type": "scatter"
           }
          ],
          "scatter3d": [
           {
            "line": {
             "colorbar": {
              "outlinewidth": 0,
              "ticks": ""
             }
            },
            "marker": {
             "colorbar": {
              "outlinewidth": 0,
              "ticks": ""
             }
            },
            "type": "scatter3d"
           }
          ],
          "scattercarpet": [
           {
            "marker": {
             "colorbar": {
              "outlinewidth": 0,
              "ticks": ""
             }
            },
            "type": "scattercarpet"
           }
          ],
          "scattergeo": [
           {
            "marker": {
             "colorbar": {
              "outlinewidth": 0,
              "ticks": ""
             }
            },
            "type": "scattergeo"
           }
          ],
          "scattergl": [
           {
            "marker": {
             "colorbar": {
              "outlinewidth": 0,
              "ticks": ""
             }
            },
            "type": "scattergl"
           }
          ],
          "scattermapbox": [
           {
            "marker": {
             "colorbar": {
              "outlinewidth": 0,
              "ticks": ""
             }
            },
            "type": "scattermapbox"
           }
          ],
          "scatterpolar": [
           {
            "marker": {
             "colorbar": {
              "outlinewidth": 0,
              "ticks": ""
             }
            },
            "type": "scatterpolar"
           }
          ],
          "scatterpolargl": [
           {
            "marker": {
             "colorbar": {
              "outlinewidth": 0,
              "ticks": ""
             }
            },
            "type": "scatterpolargl"
           }
          ],
          "scatterternary": [
           {
            "marker": {
             "colorbar": {
              "outlinewidth": 0,
              "ticks": ""
             }
            },
            "type": "scatterternary"
           }
          ],
          "surface": [
           {
            "colorbar": {
             "outlinewidth": 0,
             "ticks": ""
            },
            "colorscale": [
             [
              0,
              "#0d0887"
             ],
             [
              0.1111111111111111,
              "#46039f"
             ],
             [
              0.2222222222222222,
              "#7201a8"
             ],
             [
              0.3333333333333333,
              "#9c179e"
             ],
             [
              0.4444444444444444,
              "#bd3786"
             ],
             [
              0.5555555555555556,
              "#d8576b"
             ],
             [
              0.6666666666666666,
              "#ed7953"
             ],
             [
              0.7777777777777778,
              "#fb9f3a"
             ],
             [
              0.8888888888888888,
              "#fdca26"
             ],
             [
              1,
              "#f0f921"
             ]
            ],
            "type": "surface"
           }
          ],
          "table": [
           {
            "cells": {
             "fill": {
              "color": "#EBF0F8"
             },
             "line": {
              "color": "white"
             }
            },
            "header": {
             "fill": {
              "color": "#C8D4E3"
             },
             "line": {
              "color": "white"
             }
            },
            "type": "table"
           }
          ]
         },
         "layout": {
          "annotationdefaults": {
           "arrowcolor": "#2a3f5f",
           "arrowhead": 0,
           "arrowwidth": 1
          },
          "autotypenumbers": "strict",
          "coloraxis": {
           "colorbar": {
            "outlinewidth": 0,
            "ticks": ""
           }
          },
          "colorscale": {
           "diverging": [
            [
             0,
             "#8e0152"
            ],
            [
             0.1,
             "#c51b7d"
            ],
            [
             0.2,
             "#de77ae"
            ],
            [
             0.3,
             "#f1b6da"
            ],
            [
             0.4,
             "#fde0ef"
            ],
            [
             0.5,
             "#f7f7f7"
            ],
            [
             0.6,
             "#e6f5d0"
            ],
            [
             0.7,
             "#b8e186"
            ],
            [
             0.8,
             "#7fbc41"
            ],
            [
             0.9,
             "#4d9221"
            ],
            [
             1,
             "#276419"
            ]
           ],
           "sequential": [
            [
             0,
             "#0d0887"
            ],
            [
             0.1111111111111111,
             "#46039f"
            ],
            [
             0.2222222222222222,
             "#7201a8"
            ],
            [
             0.3333333333333333,
             "#9c179e"
            ],
            [
             0.4444444444444444,
             "#bd3786"
            ],
            [
             0.5555555555555556,
             "#d8576b"
            ],
            [
             0.6666666666666666,
             "#ed7953"
            ],
            [
             0.7777777777777778,
             "#fb9f3a"
            ],
            [
             0.8888888888888888,
             "#fdca26"
            ],
            [
             1,
             "#f0f921"
            ]
           ],
           "sequentialminus": [
            [
             0,
             "#0d0887"
            ],
            [
             0.1111111111111111,
             "#46039f"
            ],
            [
             0.2222222222222222,
             "#7201a8"
            ],
            [
             0.3333333333333333,
             "#9c179e"
            ],
            [
             0.4444444444444444,
             "#bd3786"
            ],
            [
             0.5555555555555556,
             "#d8576b"
            ],
            [
             0.6666666666666666,
             "#ed7953"
            ],
            [
             0.7777777777777778,
             "#fb9f3a"
            ],
            [
             0.8888888888888888,
             "#fdca26"
            ],
            [
             1,
             "#f0f921"
            ]
           ]
          },
          "colorway": [
           "#636efa",
           "#EF553B",
           "#00cc96",
           "#ab63fa",
           "#FFA15A",
           "#19d3f3",
           "#FF6692",
           "#B6E880",
           "#FF97FF",
           "#FECB52"
          ],
          "font": {
           "color": "#2a3f5f"
          },
          "geo": {
           "bgcolor": "white",
           "lakecolor": "white",
           "landcolor": "#E5ECF6",
           "showlakes": true,
           "showland": true,
           "subunitcolor": "white"
          },
          "hoverlabel": {
           "align": "left"
          },
          "hovermode": "closest",
          "mapbox": {
           "style": "light"
          },
          "paper_bgcolor": "white",
          "plot_bgcolor": "#E5ECF6",
          "polar": {
           "angularaxis": {
            "gridcolor": "white",
            "linecolor": "white",
            "ticks": ""
           },
           "bgcolor": "#E5ECF6",
           "radialaxis": {
            "gridcolor": "white",
            "linecolor": "white",
            "ticks": ""
           }
          },
          "scene": {
           "xaxis": {
            "backgroundcolor": "#E5ECF6",
            "gridcolor": "white",
            "gridwidth": 2,
            "linecolor": "white",
            "showbackground": true,
            "ticks": "",
            "zerolinecolor": "white"
           },
           "yaxis": {
            "backgroundcolor": "#E5ECF6",
            "gridcolor": "white",
            "gridwidth": 2,
            "linecolor": "white",
            "showbackground": true,
            "ticks": "",
            "zerolinecolor": "white"
           },
           "zaxis": {
            "backgroundcolor": "#E5ECF6",
            "gridcolor": "white",
            "gridwidth": 2,
            "linecolor": "white",
            "showbackground": true,
            "ticks": "",
            "zerolinecolor": "white"
           }
          },
          "shapedefaults": {
           "line": {
            "color": "#2a3f5f"
           }
          },
          "ternary": {
           "aaxis": {
            "gridcolor": "white",
            "linecolor": "white",
            "ticks": ""
           },
           "baxis": {
            "gridcolor": "white",
            "linecolor": "white",
            "ticks": ""
           },
           "bgcolor": "#E5ECF6",
           "caxis": {
            "gridcolor": "white",
            "linecolor": "white",
            "ticks": ""
           }
          },
          "title": {
           "x": 0.05
          },
          "xaxis": {
           "automargin": true,
           "gridcolor": "white",
           "linecolor": "white",
           "ticks": "",
           "title": {
            "standoff": 15
           },
           "zerolinecolor": "white",
           "zerolinewidth": 2
          },
          "yaxis": {
           "automargin": true,
           "gridcolor": "white",
           "linecolor": "white",
           "ticks": "",
           "title": {
            "standoff": 15
           },
           "zerolinecolor": "white",
           "zerolinewidth": 2
          }
         }
        },
        "title": {
         "font": {
          "color": "#4D5663"
         }
        },
        "xaxis": {
         "gridcolor": "#E1E5ED",
         "showgrid": true,
         "tickfont": {
          "color": "#4D5663"
         },
         "title": {
          "font": {
           "color": "#4D5663"
          },
          "text": ""
         },
         "zerolinecolor": "#E1E5ED"
        },
        "yaxis": {
         "gridcolor": "#E1E5ED",
         "showgrid": true,
         "tickfont": {
          "color": "#4D5663"
         },
         "title": {
          "font": {
           "color": "#4D5663"
          },
          "text": ""
         },
         "zerolinecolor": "#E1E5ED"
        }
       }
      },
      "text/html": [
       "<div>                            <div id=\"eaf30617-22a1-4a7e-91fa-6078c724cdcf\" class=\"plotly-graph-div\" style=\"height:525px; width:100%;\"></div>            <script type=\"text/javascript\">                require([\"plotly\"], function(Plotly) {                    window.PLOTLYENV=window.PLOTLYENV || {};\n",
       "                    window.PLOTLYENV.BASE_URL='https://plot.ly';                                    if (document.getElementById(\"eaf30617-22a1-4a7e-91fa-6078c724cdcf\")) {                    Plotly.newPlot(                        \"eaf30617-22a1-4a7e-91fa-6078c724cdcf\",                        [{\"marker\": {\"color\": \"rgba(255, 153, 51, 0.6)\", \"line\": {\"color\": \"rgba(255, 153, 51, 1.0)\", \"width\": 1}}, \"name\": \"Values\", \"orientation\": \"v\", \"text\": \"\", \"type\": \"bar\", \"x\": [\"A\", \"B\", \"C\"], \"y\": [32, 43, 50]}],                        {\"legend\": {\"bgcolor\": \"#F5F6F9\", \"font\": {\"color\": \"#4D5663\"}}, \"paper_bgcolor\": \"#F5F6F9\", \"plot_bgcolor\": \"#F5F6F9\", \"template\": {\"data\": {\"bar\": [{\"error_x\": {\"color\": \"#2a3f5f\"}, \"error_y\": {\"color\": \"#2a3f5f\"}, \"marker\": {\"line\": {\"color\": \"#E5ECF6\", \"width\": 0.5}}, \"type\": \"bar\"}], \"barpolar\": [{\"marker\": {\"line\": {\"color\": \"#E5ECF6\", \"width\": 0.5}}, \"type\": \"barpolar\"}], \"carpet\": [{\"aaxis\": {\"endlinecolor\": \"#2a3f5f\", \"gridcolor\": \"white\", \"linecolor\": \"white\", \"minorgridcolor\": \"white\", \"startlinecolor\": \"#2a3f5f\"}, \"baxis\": {\"endlinecolor\": \"#2a3f5f\", \"gridcolor\": \"white\", \"linecolor\": \"white\", \"minorgridcolor\": \"white\", \"startlinecolor\": \"#2a3f5f\"}, \"type\": \"carpet\"}], \"choropleth\": [{\"colorbar\": {\"outlinewidth\": 0, \"ticks\": \"\"}, \"type\": \"choropleth\"}], \"contour\": [{\"colorbar\": {\"outlinewidth\": 0, \"ticks\": \"\"}, \"colorscale\": [[0.0, \"#0d0887\"], [0.1111111111111111, \"#46039f\"], [0.2222222222222222, \"#7201a8\"], [0.3333333333333333, \"#9c179e\"], [0.4444444444444444, \"#bd3786\"], [0.5555555555555556, \"#d8576b\"], [0.6666666666666666, \"#ed7953\"], [0.7777777777777778, \"#fb9f3a\"], [0.8888888888888888, \"#fdca26\"], [1.0, \"#f0f921\"]], \"type\": \"contour\"}], \"contourcarpet\": [{\"colorbar\": {\"outlinewidth\": 0, \"ticks\": \"\"}, \"type\": \"contourcarpet\"}], \"heatmap\": [{\"colorbar\": {\"outlinewidth\": 0, \"ticks\": \"\"}, \"colorscale\": [[0.0, \"#0d0887\"], [0.1111111111111111, \"#46039f\"], [0.2222222222222222, \"#7201a8\"], [0.3333333333333333, \"#9c179e\"], [0.4444444444444444, \"#bd3786\"], [0.5555555555555556, \"#d8576b\"], [0.6666666666666666, \"#ed7953\"], [0.7777777777777778, \"#fb9f3a\"], [0.8888888888888888, \"#fdca26\"], [1.0, \"#f0f921\"]], \"type\": \"heatmap\"}], \"heatmapgl\": [{\"colorbar\": {\"outlinewidth\": 0, \"ticks\": \"\"}, \"colorscale\": [[0.0, \"#0d0887\"], [0.1111111111111111, \"#46039f\"], [0.2222222222222222, \"#7201a8\"], [0.3333333333333333, \"#9c179e\"], [0.4444444444444444, \"#bd3786\"], [0.5555555555555556, \"#d8576b\"], [0.6666666666666666, \"#ed7953\"], [0.7777777777777778, \"#fb9f3a\"], [0.8888888888888888, \"#fdca26\"], [1.0, \"#f0f921\"]], \"type\": \"heatmapgl\"}], \"histogram\": [{\"marker\": {\"colorbar\": {\"outlinewidth\": 0, \"ticks\": \"\"}}, \"type\": \"histogram\"}], \"histogram2d\": [{\"colorbar\": {\"outlinewidth\": 0, \"ticks\": \"\"}, \"colorscale\": [[0.0, \"#0d0887\"], [0.1111111111111111, \"#46039f\"], [0.2222222222222222, \"#7201a8\"], [0.3333333333333333, \"#9c179e\"], [0.4444444444444444, \"#bd3786\"], [0.5555555555555556, \"#d8576b\"], [0.6666666666666666, \"#ed7953\"], [0.7777777777777778, \"#fb9f3a\"], [0.8888888888888888, \"#fdca26\"], [1.0, \"#f0f921\"]], \"type\": \"histogram2d\"}], \"histogram2dcontour\": [{\"colorbar\": {\"outlinewidth\": 0, \"ticks\": \"\"}, \"colorscale\": [[0.0, \"#0d0887\"], [0.1111111111111111, \"#46039f\"], [0.2222222222222222, \"#7201a8\"], [0.3333333333333333, \"#9c179e\"], [0.4444444444444444, \"#bd3786\"], [0.5555555555555556, \"#d8576b\"], [0.6666666666666666, \"#ed7953\"], [0.7777777777777778, \"#fb9f3a\"], [0.8888888888888888, \"#fdca26\"], [1.0, \"#f0f921\"]], \"type\": \"histogram2dcontour\"}], \"mesh3d\": [{\"colorbar\": {\"outlinewidth\": 0, \"ticks\": \"\"}, \"type\": \"mesh3d\"}], \"parcoords\": [{\"line\": {\"colorbar\": {\"outlinewidth\": 0, \"ticks\": \"\"}}, \"type\": \"parcoords\"}], \"pie\": [{\"automargin\": true, \"type\": \"pie\"}], \"scatter\": [{\"marker\": {\"colorbar\": {\"outlinewidth\": 0, \"ticks\": \"\"}}, \"type\": \"scatter\"}], \"scatter3d\": [{\"line\": {\"colorbar\": {\"outlinewidth\": 0, \"ticks\": \"\"}}, \"marker\": {\"colorbar\": {\"outlinewidth\": 0, \"ticks\": \"\"}}, \"type\": \"scatter3d\"}], \"scattercarpet\": [{\"marker\": {\"colorbar\": {\"outlinewidth\": 0, \"ticks\": \"\"}}, \"type\": \"scattercarpet\"}], \"scattergeo\": [{\"marker\": {\"colorbar\": {\"outlinewidth\": 0, \"ticks\": \"\"}}, \"type\": \"scattergeo\"}], \"scattergl\": [{\"marker\": {\"colorbar\": {\"outlinewidth\": 0, \"ticks\": \"\"}}, \"type\": \"scattergl\"}], \"scattermapbox\": [{\"marker\": {\"colorbar\": {\"outlinewidth\": 0, \"ticks\": \"\"}}, \"type\": \"scattermapbox\"}], \"scatterpolar\": [{\"marker\": {\"colorbar\": {\"outlinewidth\": 0, \"ticks\": \"\"}}, \"type\": \"scatterpolar\"}], \"scatterpolargl\": [{\"marker\": {\"colorbar\": {\"outlinewidth\": 0, \"ticks\": \"\"}}, \"type\": \"scatterpolargl\"}], \"scatterternary\": [{\"marker\": {\"colorbar\": {\"outlinewidth\": 0, \"ticks\": \"\"}}, \"type\": \"scatterternary\"}], \"surface\": [{\"colorbar\": {\"outlinewidth\": 0, \"ticks\": \"\"}, \"colorscale\": [[0.0, \"#0d0887\"], [0.1111111111111111, \"#46039f\"], [0.2222222222222222, \"#7201a8\"], [0.3333333333333333, \"#9c179e\"], [0.4444444444444444, \"#bd3786\"], [0.5555555555555556, \"#d8576b\"], [0.6666666666666666, \"#ed7953\"], [0.7777777777777778, \"#fb9f3a\"], [0.8888888888888888, \"#fdca26\"], [1.0, \"#f0f921\"]], \"type\": \"surface\"}], \"table\": [{\"cells\": {\"fill\": {\"color\": \"#EBF0F8\"}, \"line\": {\"color\": \"white\"}}, \"header\": {\"fill\": {\"color\": \"#C8D4E3\"}, \"line\": {\"color\": \"white\"}}, \"type\": \"table\"}]}, \"layout\": {\"annotationdefaults\": {\"arrowcolor\": \"#2a3f5f\", \"arrowhead\": 0, \"arrowwidth\": 1}, \"autotypenumbers\": \"strict\", \"coloraxis\": {\"colorbar\": {\"outlinewidth\": 0, \"ticks\": \"\"}}, \"colorscale\": {\"diverging\": [[0, \"#8e0152\"], [0.1, \"#c51b7d\"], [0.2, \"#de77ae\"], [0.3, \"#f1b6da\"], [0.4, \"#fde0ef\"], [0.5, \"#f7f7f7\"], [0.6, \"#e6f5d0\"], [0.7, \"#b8e186\"], [0.8, \"#7fbc41\"], [0.9, \"#4d9221\"], [1, \"#276419\"]], \"sequential\": [[0.0, \"#0d0887\"], [0.1111111111111111, \"#46039f\"], [0.2222222222222222, \"#7201a8\"], [0.3333333333333333, \"#9c179e\"], [0.4444444444444444, \"#bd3786\"], [0.5555555555555556, \"#d8576b\"], [0.6666666666666666, \"#ed7953\"], [0.7777777777777778, \"#fb9f3a\"], [0.8888888888888888, \"#fdca26\"], [1.0, \"#f0f921\"]], \"sequentialminus\": [[0.0, \"#0d0887\"], [0.1111111111111111, \"#46039f\"], [0.2222222222222222, \"#7201a8\"], [0.3333333333333333, \"#9c179e\"], [0.4444444444444444, \"#bd3786\"], [0.5555555555555556, \"#d8576b\"], [0.6666666666666666, \"#ed7953\"], [0.7777777777777778, \"#fb9f3a\"], [0.8888888888888888, \"#fdca26\"], [1.0, \"#f0f921\"]]}, \"colorway\": [\"#636efa\", \"#EF553B\", \"#00cc96\", \"#ab63fa\", \"#FFA15A\", \"#19d3f3\", \"#FF6692\", \"#B6E880\", \"#FF97FF\", \"#FECB52\"], \"font\": {\"color\": \"#2a3f5f\"}, \"geo\": {\"bgcolor\": \"white\", \"lakecolor\": \"white\", \"landcolor\": \"#E5ECF6\", \"showlakes\": true, \"showland\": true, \"subunitcolor\": \"white\"}, \"hoverlabel\": {\"align\": \"left\"}, \"hovermode\": \"closest\", \"mapbox\": {\"style\": \"light\"}, \"paper_bgcolor\": \"white\", \"plot_bgcolor\": \"#E5ECF6\", \"polar\": {\"angularaxis\": {\"gridcolor\": \"white\", \"linecolor\": \"white\", \"ticks\": \"\"}, \"bgcolor\": \"#E5ECF6\", \"radialaxis\": {\"gridcolor\": \"white\", \"linecolor\": \"white\", \"ticks\": \"\"}}, \"scene\": {\"xaxis\": {\"backgroundcolor\": \"#E5ECF6\", \"gridcolor\": \"white\", \"gridwidth\": 2, \"linecolor\": \"white\", \"showbackground\": true, \"ticks\": \"\", \"zerolinecolor\": \"white\"}, \"yaxis\": {\"backgroundcolor\": \"#E5ECF6\", \"gridcolor\": \"white\", \"gridwidth\": 2, \"linecolor\": \"white\", \"showbackground\": true, \"ticks\": \"\", \"zerolinecolor\": \"white\"}, \"zaxis\": {\"backgroundcolor\": \"#E5ECF6\", \"gridcolor\": \"white\", \"gridwidth\": 2, \"linecolor\": \"white\", \"showbackground\": true, \"ticks\": \"\", \"zerolinecolor\": \"white\"}}, \"shapedefaults\": {\"line\": {\"color\": \"#2a3f5f\"}}, \"ternary\": {\"aaxis\": {\"gridcolor\": \"white\", \"linecolor\": \"white\", \"ticks\": \"\"}, \"baxis\": {\"gridcolor\": \"white\", \"linecolor\": \"white\", \"ticks\": \"\"}, \"bgcolor\": \"#E5ECF6\", \"caxis\": {\"gridcolor\": \"white\", \"linecolor\": \"white\", \"ticks\": \"\"}}, \"title\": {\"x\": 0.05}, \"xaxis\": {\"automargin\": true, \"gridcolor\": \"white\", \"linecolor\": \"white\", \"ticks\": \"\", \"title\": {\"standoff\": 15}, \"zerolinecolor\": \"white\", \"zerolinewidth\": 2}, \"yaxis\": {\"automargin\": true, \"gridcolor\": \"white\", \"linecolor\": \"white\", \"ticks\": \"\", \"title\": {\"standoff\": 15}, \"zerolinecolor\": \"white\", \"zerolinewidth\": 2}}}, \"title\": {\"font\": {\"color\": \"#4D5663\"}}, \"xaxis\": {\"gridcolor\": \"#E1E5ED\", \"showgrid\": true, \"tickfont\": {\"color\": \"#4D5663\"}, \"title\": {\"font\": {\"color\": \"#4D5663\"}, \"text\": \"\"}, \"zerolinecolor\": \"#E1E5ED\"}, \"yaxis\": {\"gridcolor\": \"#E1E5ED\", \"showgrid\": true, \"tickfont\": {\"color\": \"#4D5663\"}, \"title\": {\"font\": {\"color\": \"#4D5663\"}, \"text\": \"\"}, \"zerolinecolor\": \"#E1E5ED\"}},                        {\"showLink\": true, \"linkText\": \"Export to plot.ly\", \"plotlyServerURL\": \"https://plot.ly\", \"responsive\": true}                    ).then(function(){\n",
       "                            \n",
       "var gd = document.getElementById('eaf30617-22a1-4a7e-91fa-6078c724cdcf');\n",
       "var x = new MutationObserver(function (mutations, observer) {{\n",
       "        var display = window.getComputedStyle(gd).display;\n",
       "        if (!display || display === 'none') {{\n",
       "            console.log([gd, 'removed!']);\n",
       "            Plotly.purge(gd);\n",
       "            observer.disconnect();\n",
       "        }}\n",
       "}});\n",
       "\n",
       "// Listen for the removal of the full notebook cells\n",
       "var notebookContainer = gd.closest('#notebook-container');\n",
       "if (notebookContainer) {{\n",
       "    x.observe(notebookContainer, {childList: true});\n",
       "}}\n",
       "\n",
       "// Listen for the clearing of the current output cell\n",
       "var outputEl = gd.closest('.output');\n",
       "if (outputEl) {{\n",
       "    x.observe(outputEl, {childList: true});\n",
       "}}\n",
       "\n",
       "                        })                };                });            </script>        </div>"
      ]
     },
     "metadata": {},
     "output_type": "display_data"
    }
   ],
   "source": [
    "df2.iplot(kind='bar',x='Category',y='Values')"
   ]
  },
  {
   "cell_type": "code",
   "execution_count": 13,
   "metadata": {},
   "outputs": [
    {
     "data": {
      "application/vnd.plotly.v1+json": {
       "config": {
        "linkText": "Export to plot.ly",
        "plotlyServerURL": "https://plot.ly",
        "showLink": true
       },
       "data": [
        {
         "marker": {
          "color": "rgba(255, 153, 51, 0.6)",
          "line": {
           "color": "rgba(255, 153, 51, 1.0)",
           "width": 1
          }
         },
         "name": "None",
         "orientation": "v",
         "text": "",
         "type": "bar",
         "x": [
          "A",
          "B",
          "C",
          "D"
         ],
         "y": [
          100,
          100,
          100,
          100
         ]
        }
       ],
       "layout": {
        "legend": {
         "bgcolor": "#F5F6F9",
         "font": {
          "color": "#4D5663"
         }
        },
        "paper_bgcolor": "#F5F6F9",
        "plot_bgcolor": "#F5F6F9",
        "template": {
         "data": {
          "bar": [
           {
            "error_x": {
             "color": "#2a3f5f"
            },
            "error_y": {
             "color": "#2a3f5f"
            },
            "marker": {
             "line": {
              "color": "#E5ECF6",
              "width": 0.5
             }
            },
            "type": "bar"
           }
          ],
          "barpolar": [
           {
            "marker": {
             "line": {
              "color": "#E5ECF6",
              "width": 0.5
             }
            },
            "type": "barpolar"
           }
          ],
          "carpet": [
           {
            "aaxis": {
             "endlinecolor": "#2a3f5f",
             "gridcolor": "white",
             "linecolor": "white",
             "minorgridcolor": "white",
             "startlinecolor": "#2a3f5f"
            },
            "baxis": {
             "endlinecolor": "#2a3f5f",
             "gridcolor": "white",
             "linecolor": "white",
             "minorgridcolor": "white",
             "startlinecolor": "#2a3f5f"
            },
            "type": "carpet"
           }
          ],
          "choropleth": [
           {
            "colorbar": {
             "outlinewidth": 0,
             "ticks": ""
            },
            "type": "choropleth"
           }
          ],
          "contour": [
           {
            "colorbar": {
             "outlinewidth": 0,
             "ticks": ""
            },
            "colorscale": [
             [
              0,
              "#0d0887"
             ],
             [
              0.1111111111111111,
              "#46039f"
             ],
             [
              0.2222222222222222,
              "#7201a8"
             ],
             [
              0.3333333333333333,
              "#9c179e"
             ],
             [
              0.4444444444444444,
              "#bd3786"
             ],
             [
              0.5555555555555556,
              "#d8576b"
             ],
             [
              0.6666666666666666,
              "#ed7953"
             ],
             [
              0.7777777777777778,
              "#fb9f3a"
             ],
             [
              0.8888888888888888,
              "#fdca26"
             ],
             [
              1,
              "#f0f921"
             ]
            ],
            "type": "contour"
           }
          ],
          "contourcarpet": [
           {
            "colorbar": {
             "outlinewidth": 0,
             "ticks": ""
            },
            "type": "contourcarpet"
           }
          ],
          "heatmap": [
           {
            "colorbar": {
             "outlinewidth": 0,
             "ticks": ""
            },
            "colorscale": [
             [
              0,
              "#0d0887"
             ],
             [
              0.1111111111111111,
              "#46039f"
             ],
             [
              0.2222222222222222,
              "#7201a8"
             ],
             [
              0.3333333333333333,
              "#9c179e"
             ],
             [
              0.4444444444444444,
              "#bd3786"
             ],
             [
              0.5555555555555556,
              "#d8576b"
             ],
             [
              0.6666666666666666,
              "#ed7953"
             ],
             [
              0.7777777777777778,
              "#fb9f3a"
             ],
             [
              0.8888888888888888,
              "#fdca26"
             ],
             [
              1,
              "#f0f921"
             ]
            ],
            "type": "heatmap"
           }
          ],
          "heatmapgl": [
           {
            "colorbar": {
             "outlinewidth": 0,
             "ticks": ""
            },
            "colorscale": [
             [
              0,
              "#0d0887"
             ],
             [
              0.1111111111111111,
              "#46039f"
             ],
             [
              0.2222222222222222,
              "#7201a8"
             ],
             [
              0.3333333333333333,
              "#9c179e"
             ],
             [
              0.4444444444444444,
              "#bd3786"
             ],
             [
              0.5555555555555556,
              "#d8576b"
             ],
             [
              0.6666666666666666,
              "#ed7953"
             ],
             [
              0.7777777777777778,
              "#fb9f3a"
             ],
             [
              0.8888888888888888,
              "#fdca26"
             ],
             [
              1,
              "#f0f921"
             ]
            ],
            "type": "heatmapgl"
           }
          ],
          "histogram": [
           {
            "marker": {
             "colorbar": {
              "outlinewidth": 0,
              "ticks": ""
             }
            },
            "type": "histogram"
           }
          ],
          "histogram2d": [
           {
            "colorbar": {
             "outlinewidth": 0,
             "ticks": ""
            },
            "colorscale": [
             [
              0,
              "#0d0887"
             ],
             [
              0.1111111111111111,
              "#46039f"
             ],
             [
              0.2222222222222222,
              "#7201a8"
             ],
             [
              0.3333333333333333,
              "#9c179e"
             ],
             [
              0.4444444444444444,
              "#bd3786"
             ],
             [
              0.5555555555555556,
              "#d8576b"
             ],
             [
              0.6666666666666666,
              "#ed7953"
             ],
             [
              0.7777777777777778,
              "#fb9f3a"
             ],
             [
              0.8888888888888888,
              "#fdca26"
             ],
             [
              1,
              "#f0f921"
             ]
            ],
            "type": "histogram2d"
           }
          ],
          "histogram2dcontour": [
           {
            "colorbar": {
             "outlinewidth": 0,
             "ticks": ""
            },
            "colorscale": [
             [
              0,
              "#0d0887"
             ],
             [
              0.1111111111111111,
              "#46039f"
             ],
             [
              0.2222222222222222,
              "#7201a8"
             ],
             [
              0.3333333333333333,
              "#9c179e"
             ],
             [
              0.4444444444444444,
              "#bd3786"
             ],
             [
              0.5555555555555556,
              "#d8576b"
             ],
             [
              0.6666666666666666,
              "#ed7953"
             ],
             [
              0.7777777777777778,
              "#fb9f3a"
             ],
             [
              0.8888888888888888,
              "#fdca26"
             ],
             [
              1,
              "#f0f921"
             ]
            ],
            "type": "histogram2dcontour"
           }
          ],
          "mesh3d": [
           {
            "colorbar": {
             "outlinewidth": 0,
             "ticks": ""
            },
            "type": "mesh3d"
           }
          ],
          "parcoords": [
           {
            "line": {
             "colorbar": {
              "outlinewidth": 0,
              "ticks": ""
             }
            },
            "type": "parcoords"
           }
          ],
          "pie": [
           {
            "automargin": true,
            "type": "pie"
           }
          ],
          "scatter": [
           {
            "marker": {
             "colorbar": {
              "outlinewidth": 0,
              "ticks": ""
             }
            },
            "type": "scatter"
           }
          ],
          "scatter3d": [
           {
            "line": {
             "colorbar": {
              "outlinewidth": 0,
              "ticks": ""
             }
            },
            "marker": {
             "colorbar": {
              "outlinewidth": 0,
              "ticks": ""
             }
            },
            "type": "scatter3d"
           }
          ],
          "scattercarpet": [
           {
            "marker": {
             "colorbar": {
              "outlinewidth": 0,
              "ticks": ""
             }
            },
            "type": "scattercarpet"
           }
          ],
          "scattergeo": [
           {
            "marker": {
             "colorbar": {
              "outlinewidth": 0,
              "ticks": ""
             }
            },
            "type": "scattergeo"
           }
          ],
          "scattergl": [
           {
            "marker": {
             "colorbar": {
              "outlinewidth": 0,
              "ticks": ""
             }
            },
            "type": "scattergl"
           }
          ],
          "scattermapbox": [
           {
            "marker": {
             "colorbar": {
              "outlinewidth": 0,
              "ticks": ""
             }
            },
            "type": "scattermapbox"
           }
          ],
          "scatterpolar": [
           {
            "marker": {
             "colorbar": {
              "outlinewidth": 0,
              "ticks": ""
             }
            },
            "type": "scatterpolar"
           }
          ],
          "scatterpolargl": [
           {
            "marker": {
             "colorbar": {
              "outlinewidth": 0,
              "ticks": ""
             }
            },
            "type": "scatterpolargl"
           }
          ],
          "scatterternary": [
           {
            "marker": {
             "colorbar": {
              "outlinewidth": 0,
              "ticks": ""
             }
            },
            "type": "scatterternary"
           }
          ],
          "surface": [
           {
            "colorbar": {
             "outlinewidth": 0,
             "ticks": ""
            },
            "colorscale": [
             [
              0,
              "#0d0887"
             ],
             [
              0.1111111111111111,
              "#46039f"
             ],
             [
              0.2222222222222222,
              "#7201a8"
             ],
             [
              0.3333333333333333,
              "#9c179e"
             ],
             [
              0.4444444444444444,
              "#bd3786"
             ],
             [
              0.5555555555555556,
              "#d8576b"
             ],
             [
              0.6666666666666666,
              "#ed7953"
             ],
             [
              0.7777777777777778,
              "#fb9f3a"
             ],
             [
              0.8888888888888888,
              "#fdca26"
             ],
             [
              1,
              "#f0f921"
             ]
            ],
            "type": "surface"
           }
          ],
          "table": [
           {
            "cells": {
             "fill": {
              "color": "#EBF0F8"
             },
             "line": {
              "color": "white"
             }
            },
            "header": {
             "fill": {
              "color": "#C8D4E3"
             },
             "line": {
              "color": "white"
             }
            },
            "type": "table"
           }
          ]
         },
         "layout": {
          "annotationdefaults": {
           "arrowcolor": "#2a3f5f",
           "arrowhead": 0,
           "arrowwidth": 1
          },
          "autotypenumbers": "strict",
          "coloraxis": {
           "colorbar": {
            "outlinewidth": 0,
            "ticks": ""
           }
          },
          "colorscale": {
           "diverging": [
            [
             0,
             "#8e0152"
            ],
            [
             0.1,
             "#c51b7d"
            ],
            [
             0.2,
             "#de77ae"
            ],
            [
             0.3,
             "#f1b6da"
            ],
            [
             0.4,
             "#fde0ef"
            ],
            [
             0.5,
             "#f7f7f7"
            ],
            [
             0.6,
             "#e6f5d0"
            ],
            [
             0.7,
             "#b8e186"
            ],
            [
             0.8,
             "#7fbc41"
            ],
            [
             0.9,
             "#4d9221"
            ],
            [
             1,
             "#276419"
            ]
           ],
           "sequential": [
            [
             0,
             "#0d0887"
            ],
            [
             0.1111111111111111,
             "#46039f"
            ],
            [
             0.2222222222222222,
             "#7201a8"
            ],
            [
             0.3333333333333333,
             "#9c179e"
            ],
            [
             0.4444444444444444,
             "#bd3786"
            ],
            [
             0.5555555555555556,
             "#d8576b"
            ],
            [
             0.6666666666666666,
             "#ed7953"
            ],
            [
             0.7777777777777778,
             "#fb9f3a"
            ],
            [
             0.8888888888888888,
             "#fdca26"
            ],
            [
             1,
             "#f0f921"
            ]
           ],
           "sequentialminus": [
            [
             0,
             "#0d0887"
            ],
            [
             0.1111111111111111,
             "#46039f"
            ],
            [
             0.2222222222222222,
             "#7201a8"
            ],
            [
             0.3333333333333333,
             "#9c179e"
            ],
            [
             0.4444444444444444,
             "#bd3786"
            ],
            [
             0.5555555555555556,
             "#d8576b"
            ],
            [
             0.6666666666666666,
             "#ed7953"
            ],
            [
             0.7777777777777778,
             "#fb9f3a"
            ],
            [
             0.8888888888888888,
             "#fdca26"
            ],
            [
             1,
             "#f0f921"
            ]
           ]
          },
          "colorway": [
           "#636efa",
           "#EF553B",
           "#00cc96",
           "#ab63fa",
           "#FFA15A",
           "#19d3f3",
           "#FF6692",
           "#B6E880",
           "#FF97FF",
           "#FECB52"
          ],
          "font": {
           "color": "#2a3f5f"
          },
          "geo": {
           "bgcolor": "white",
           "lakecolor": "white",
           "landcolor": "#E5ECF6",
           "showlakes": true,
           "showland": true,
           "subunitcolor": "white"
          },
          "hoverlabel": {
           "align": "left"
          },
          "hovermode": "closest",
          "mapbox": {
           "style": "light"
          },
          "paper_bgcolor": "white",
          "plot_bgcolor": "#E5ECF6",
          "polar": {
           "angularaxis": {
            "gridcolor": "white",
            "linecolor": "white",
            "ticks": ""
           },
           "bgcolor": "#E5ECF6",
           "radialaxis": {
            "gridcolor": "white",
            "linecolor": "white",
            "ticks": ""
           }
          },
          "scene": {
           "xaxis": {
            "backgroundcolor": "#E5ECF6",
            "gridcolor": "white",
            "gridwidth": 2,
            "linecolor": "white",
            "showbackground": true,
            "ticks": "",
            "zerolinecolor": "white"
           },
           "yaxis": {
            "backgroundcolor": "#E5ECF6",
            "gridcolor": "white",
            "gridwidth": 2,
            "linecolor": "white",
            "showbackground": true,
            "ticks": "",
            "zerolinecolor": "white"
           },
           "zaxis": {
            "backgroundcolor": "#E5ECF6",
            "gridcolor": "white",
            "gridwidth": 2,
            "linecolor": "white",
            "showbackground": true,
            "ticks": "",
            "zerolinecolor": "white"
           }
          },
          "shapedefaults": {
           "line": {
            "color": "#2a3f5f"
           }
          },
          "ternary": {
           "aaxis": {
            "gridcolor": "white",
            "linecolor": "white",
            "ticks": ""
           },
           "baxis": {
            "gridcolor": "white",
            "linecolor": "white",
            "ticks": ""
           },
           "bgcolor": "#E5ECF6",
           "caxis": {
            "gridcolor": "white",
            "linecolor": "white",
            "ticks": ""
           }
          },
          "title": {
           "x": 0.05
          },
          "xaxis": {
           "automargin": true,
           "gridcolor": "white",
           "linecolor": "white",
           "ticks": "",
           "title": {
            "standoff": 15
           },
           "zerolinecolor": "white",
           "zerolinewidth": 2
          },
          "yaxis": {
           "automargin": true,
           "gridcolor": "white",
           "linecolor": "white",
           "ticks": "",
           "title": {
            "standoff": 15
           },
           "zerolinecolor": "white",
           "zerolinewidth": 2
          }
         }
        },
        "title": {
         "font": {
          "color": "#4D5663"
         }
        },
        "xaxis": {
         "gridcolor": "#E1E5ED",
         "showgrid": true,
         "tickfont": {
          "color": "#4D5663"
         },
         "title": {
          "font": {
           "color": "#4D5663"
          },
          "text": ""
         },
         "zerolinecolor": "#E1E5ED"
        },
        "yaxis": {
         "gridcolor": "#E1E5ED",
         "showgrid": true,
         "tickfont": {
          "color": "#4D5663"
         },
         "title": {
          "font": {
           "color": "#4D5663"
          },
          "text": ""
         },
         "zerolinecolor": "#E1E5ED"
        }
       }
      },
      "text/html": [
       "<div>                            <div id=\"ce73c64c-02a2-4d5c-8649-39ee98980913\" class=\"plotly-graph-div\" style=\"height:525px; width:100%;\"></div>            <script type=\"text/javascript\">                require([\"plotly\"], function(Plotly) {                    window.PLOTLYENV=window.PLOTLYENV || {};\n",
       "                    window.PLOTLYENV.BASE_URL='https://plot.ly';                                    if (document.getElementById(\"ce73c64c-02a2-4d5c-8649-39ee98980913\")) {                    Plotly.newPlot(                        \"ce73c64c-02a2-4d5c-8649-39ee98980913\",                        [{\"marker\": {\"color\": \"rgba(255, 153, 51, 0.6)\", \"line\": {\"color\": \"rgba(255, 153, 51, 1.0)\", \"width\": 1}}, \"name\": \"None\", \"orientation\": \"v\", \"text\": \"\", \"type\": \"bar\", \"x\": [\"A\", \"B\", \"C\", \"D\"], \"y\": [100, 100, 100, 100]}],                        {\"legend\": {\"bgcolor\": \"#F5F6F9\", \"font\": {\"color\": \"#4D5663\"}}, \"paper_bgcolor\": \"#F5F6F9\", \"plot_bgcolor\": \"#F5F6F9\", \"template\": {\"data\": {\"bar\": [{\"error_x\": {\"color\": \"#2a3f5f\"}, \"error_y\": {\"color\": \"#2a3f5f\"}, \"marker\": {\"line\": {\"color\": \"#E5ECF6\", \"width\": 0.5}}, \"type\": \"bar\"}], \"barpolar\": [{\"marker\": {\"line\": {\"color\": \"#E5ECF6\", \"width\": 0.5}}, \"type\": \"barpolar\"}], \"carpet\": [{\"aaxis\": {\"endlinecolor\": \"#2a3f5f\", \"gridcolor\": \"white\", \"linecolor\": \"white\", \"minorgridcolor\": \"white\", \"startlinecolor\": \"#2a3f5f\"}, \"baxis\": {\"endlinecolor\": \"#2a3f5f\", \"gridcolor\": \"white\", \"linecolor\": \"white\", \"minorgridcolor\": \"white\", \"startlinecolor\": \"#2a3f5f\"}, \"type\": \"carpet\"}], \"choropleth\": [{\"colorbar\": {\"outlinewidth\": 0, \"ticks\": \"\"}, \"type\": \"choropleth\"}], \"contour\": [{\"colorbar\": {\"outlinewidth\": 0, \"ticks\": \"\"}, \"colorscale\": [[0.0, \"#0d0887\"], [0.1111111111111111, \"#46039f\"], [0.2222222222222222, \"#7201a8\"], [0.3333333333333333, \"#9c179e\"], [0.4444444444444444, \"#bd3786\"], [0.5555555555555556, \"#d8576b\"], [0.6666666666666666, \"#ed7953\"], [0.7777777777777778, \"#fb9f3a\"], [0.8888888888888888, \"#fdca26\"], [1.0, \"#f0f921\"]], \"type\": \"contour\"}], \"contourcarpet\": [{\"colorbar\": {\"outlinewidth\": 0, \"ticks\": \"\"}, \"type\": \"contourcarpet\"}], \"heatmap\": [{\"colorbar\": {\"outlinewidth\": 0, \"ticks\": \"\"}, \"colorscale\": [[0.0, \"#0d0887\"], [0.1111111111111111, \"#46039f\"], [0.2222222222222222, \"#7201a8\"], [0.3333333333333333, \"#9c179e\"], [0.4444444444444444, \"#bd3786\"], [0.5555555555555556, \"#d8576b\"], [0.6666666666666666, \"#ed7953\"], [0.7777777777777778, \"#fb9f3a\"], [0.8888888888888888, \"#fdca26\"], [1.0, \"#f0f921\"]], \"type\": \"heatmap\"}], \"heatmapgl\": [{\"colorbar\": {\"outlinewidth\": 0, \"ticks\": \"\"}, \"colorscale\": [[0.0, \"#0d0887\"], [0.1111111111111111, \"#46039f\"], [0.2222222222222222, \"#7201a8\"], [0.3333333333333333, \"#9c179e\"], [0.4444444444444444, \"#bd3786\"], [0.5555555555555556, \"#d8576b\"], [0.6666666666666666, \"#ed7953\"], [0.7777777777777778, \"#fb9f3a\"], [0.8888888888888888, \"#fdca26\"], [1.0, \"#f0f921\"]], \"type\": \"heatmapgl\"}], \"histogram\": [{\"marker\": {\"colorbar\": {\"outlinewidth\": 0, \"ticks\": \"\"}}, \"type\": \"histogram\"}], \"histogram2d\": [{\"colorbar\": {\"outlinewidth\": 0, \"ticks\": \"\"}, \"colorscale\": [[0.0, \"#0d0887\"], [0.1111111111111111, \"#46039f\"], [0.2222222222222222, \"#7201a8\"], [0.3333333333333333, \"#9c179e\"], [0.4444444444444444, \"#bd3786\"], [0.5555555555555556, \"#d8576b\"], [0.6666666666666666, \"#ed7953\"], [0.7777777777777778, \"#fb9f3a\"], [0.8888888888888888, \"#fdca26\"], [1.0, \"#f0f921\"]], \"type\": \"histogram2d\"}], \"histogram2dcontour\": [{\"colorbar\": {\"outlinewidth\": 0, \"ticks\": \"\"}, \"colorscale\": [[0.0, \"#0d0887\"], [0.1111111111111111, \"#46039f\"], [0.2222222222222222, \"#7201a8\"], [0.3333333333333333, \"#9c179e\"], [0.4444444444444444, \"#bd3786\"], [0.5555555555555556, \"#d8576b\"], [0.6666666666666666, \"#ed7953\"], [0.7777777777777778, \"#fb9f3a\"], [0.8888888888888888, \"#fdca26\"], [1.0, \"#f0f921\"]], \"type\": \"histogram2dcontour\"}], \"mesh3d\": [{\"colorbar\": {\"outlinewidth\": 0, \"ticks\": \"\"}, \"type\": \"mesh3d\"}], \"parcoords\": [{\"line\": {\"colorbar\": {\"outlinewidth\": 0, \"ticks\": \"\"}}, \"type\": \"parcoords\"}], \"pie\": [{\"automargin\": true, \"type\": \"pie\"}], \"scatter\": [{\"marker\": {\"colorbar\": {\"outlinewidth\": 0, \"ticks\": \"\"}}, \"type\": \"scatter\"}], \"scatter3d\": [{\"line\": {\"colorbar\": {\"outlinewidth\": 0, \"ticks\": \"\"}}, \"marker\": {\"colorbar\": {\"outlinewidth\": 0, \"ticks\": \"\"}}, \"type\": \"scatter3d\"}], \"scattercarpet\": [{\"marker\": {\"colorbar\": {\"outlinewidth\": 0, \"ticks\": \"\"}}, \"type\": \"scattercarpet\"}], \"scattergeo\": [{\"marker\": {\"colorbar\": {\"outlinewidth\": 0, \"ticks\": \"\"}}, \"type\": \"scattergeo\"}], \"scattergl\": [{\"marker\": {\"colorbar\": {\"outlinewidth\": 0, \"ticks\": \"\"}}, \"type\": \"scattergl\"}], \"scattermapbox\": [{\"marker\": {\"colorbar\": {\"outlinewidth\": 0, \"ticks\": \"\"}}, \"type\": \"scattermapbox\"}], \"scatterpolar\": [{\"marker\": {\"colorbar\": {\"outlinewidth\": 0, \"ticks\": \"\"}}, \"type\": \"scatterpolar\"}], \"scatterpolargl\": [{\"marker\": {\"colorbar\": {\"outlinewidth\": 0, \"ticks\": \"\"}}, \"type\": \"scatterpolargl\"}], \"scatterternary\": [{\"marker\": {\"colorbar\": {\"outlinewidth\": 0, \"ticks\": \"\"}}, \"type\": \"scatterternary\"}], \"surface\": [{\"colorbar\": {\"outlinewidth\": 0, \"ticks\": \"\"}, \"colorscale\": [[0.0, \"#0d0887\"], [0.1111111111111111, \"#46039f\"], [0.2222222222222222, \"#7201a8\"], [0.3333333333333333, \"#9c179e\"], [0.4444444444444444, \"#bd3786\"], [0.5555555555555556, \"#d8576b\"], [0.6666666666666666, \"#ed7953\"], [0.7777777777777778, \"#fb9f3a\"], [0.8888888888888888, \"#fdca26\"], [1.0, \"#f0f921\"]], \"type\": \"surface\"}], \"table\": [{\"cells\": {\"fill\": {\"color\": \"#EBF0F8\"}, \"line\": {\"color\": \"white\"}}, \"header\": {\"fill\": {\"color\": \"#C8D4E3\"}, \"line\": {\"color\": \"white\"}}, \"type\": \"table\"}]}, \"layout\": {\"annotationdefaults\": {\"arrowcolor\": \"#2a3f5f\", \"arrowhead\": 0, \"arrowwidth\": 1}, \"autotypenumbers\": \"strict\", \"coloraxis\": {\"colorbar\": {\"outlinewidth\": 0, \"ticks\": \"\"}}, \"colorscale\": {\"diverging\": [[0, \"#8e0152\"], [0.1, \"#c51b7d\"], [0.2, \"#de77ae\"], [0.3, \"#f1b6da\"], [0.4, \"#fde0ef\"], [0.5, \"#f7f7f7\"], [0.6, \"#e6f5d0\"], [0.7, \"#b8e186\"], [0.8, \"#7fbc41\"], [0.9, \"#4d9221\"], [1, \"#276419\"]], \"sequential\": [[0.0, \"#0d0887\"], [0.1111111111111111, \"#46039f\"], [0.2222222222222222, \"#7201a8\"], [0.3333333333333333, \"#9c179e\"], [0.4444444444444444, \"#bd3786\"], [0.5555555555555556, \"#d8576b\"], [0.6666666666666666, \"#ed7953\"], [0.7777777777777778, \"#fb9f3a\"], [0.8888888888888888, \"#fdca26\"], [1.0, \"#f0f921\"]], \"sequentialminus\": [[0.0, \"#0d0887\"], [0.1111111111111111, \"#46039f\"], [0.2222222222222222, \"#7201a8\"], [0.3333333333333333, \"#9c179e\"], [0.4444444444444444, \"#bd3786\"], [0.5555555555555556, \"#d8576b\"], [0.6666666666666666, \"#ed7953\"], [0.7777777777777778, \"#fb9f3a\"], [0.8888888888888888, \"#fdca26\"], [1.0, \"#f0f921\"]]}, \"colorway\": [\"#636efa\", \"#EF553B\", \"#00cc96\", \"#ab63fa\", \"#FFA15A\", \"#19d3f3\", \"#FF6692\", \"#B6E880\", \"#FF97FF\", \"#FECB52\"], \"font\": {\"color\": \"#2a3f5f\"}, \"geo\": {\"bgcolor\": \"white\", \"lakecolor\": \"white\", \"landcolor\": \"#E5ECF6\", \"showlakes\": true, \"showland\": true, \"subunitcolor\": \"white\"}, \"hoverlabel\": {\"align\": \"left\"}, \"hovermode\": \"closest\", \"mapbox\": {\"style\": \"light\"}, \"paper_bgcolor\": \"white\", \"plot_bgcolor\": \"#E5ECF6\", \"polar\": {\"angularaxis\": {\"gridcolor\": \"white\", \"linecolor\": \"white\", \"ticks\": \"\"}, \"bgcolor\": \"#E5ECF6\", \"radialaxis\": {\"gridcolor\": \"white\", \"linecolor\": \"white\", \"ticks\": \"\"}}, \"scene\": {\"xaxis\": {\"backgroundcolor\": \"#E5ECF6\", \"gridcolor\": \"white\", \"gridwidth\": 2, \"linecolor\": \"white\", \"showbackground\": true, \"ticks\": \"\", \"zerolinecolor\": \"white\"}, \"yaxis\": {\"backgroundcolor\": \"#E5ECF6\", \"gridcolor\": \"white\", \"gridwidth\": 2, \"linecolor\": \"white\", \"showbackground\": true, \"ticks\": \"\", \"zerolinecolor\": \"white\"}, \"zaxis\": {\"backgroundcolor\": \"#E5ECF6\", \"gridcolor\": \"white\", \"gridwidth\": 2, \"linecolor\": \"white\", \"showbackground\": true, \"ticks\": \"\", \"zerolinecolor\": \"white\"}}, \"shapedefaults\": {\"line\": {\"color\": \"#2a3f5f\"}}, \"ternary\": {\"aaxis\": {\"gridcolor\": \"white\", \"linecolor\": \"white\", \"ticks\": \"\"}, \"baxis\": {\"gridcolor\": \"white\", \"linecolor\": \"white\", \"ticks\": \"\"}, \"bgcolor\": \"#E5ECF6\", \"caxis\": {\"gridcolor\": \"white\", \"linecolor\": \"white\", \"ticks\": \"\"}}, \"title\": {\"x\": 0.05}, \"xaxis\": {\"automargin\": true, \"gridcolor\": \"white\", \"linecolor\": \"white\", \"ticks\": \"\", \"title\": {\"standoff\": 15}, \"zerolinecolor\": \"white\", \"zerolinewidth\": 2}, \"yaxis\": {\"automargin\": true, \"gridcolor\": \"white\", \"linecolor\": \"white\", \"ticks\": \"\", \"title\": {\"standoff\": 15}, \"zerolinecolor\": \"white\", \"zerolinewidth\": 2}}}, \"title\": {\"font\": {\"color\": \"#4D5663\"}}, \"xaxis\": {\"gridcolor\": \"#E1E5ED\", \"showgrid\": true, \"tickfont\": {\"color\": \"#4D5663\"}, \"title\": {\"font\": {\"color\": \"#4D5663\"}, \"text\": \"\"}, \"zerolinecolor\": \"#E1E5ED\"}, \"yaxis\": {\"gridcolor\": \"#E1E5ED\", \"showgrid\": true, \"tickfont\": {\"color\": \"#4D5663\"}, \"title\": {\"font\": {\"color\": \"#4D5663\"}, \"text\": \"\"}, \"zerolinecolor\": \"#E1E5ED\"}},                        {\"showLink\": true, \"linkText\": \"Export to plot.ly\", \"plotlyServerURL\": \"https://plot.ly\", \"responsive\": true}                    ).then(function(){\n",
       "                            \n",
       "var gd = document.getElementById('ce73c64c-02a2-4d5c-8649-39ee98980913');\n",
       "var x = new MutationObserver(function (mutations, observer) {{\n",
       "        var display = window.getComputedStyle(gd).display;\n",
       "        if (!display || display === 'none') {{\n",
       "            console.log([gd, 'removed!']);\n",
       "            Plotly.purge(gd);\n",
       "            observer.disconnect();\n",
       "        }}\n",
       "}});\n",
       "\n",
       "// Listen for the removal of the full notebook cells\n",
       "var notebookContainer = gd.closest('#notebook-container');\n",
       "if (notebookContainer) {{\n",
       "    x.observe(notebookContainer, {childList: true});\n",
       "}}\n",
       "\n",
       "// Listen for the clearing of the current output cell\n",
       "var outputEl = gd.closest('.output');\n",
       "if (outputEl) {{\n",
       "    x.observe(outputEl, {childList: true});\n",
       "}}\n",
       "\n",
       "                        })                };                });            </script>        </div>"
      ]
     },
     "metadata": {},
     "output_type": "display_data"
    }
   ],
   "source": [
    "df.count().iplot(kind='bar')"
   ]
  },
  {
   "cell_type": "markdown",
   "metadata": {},
   "source": [
    "## Boxplots"
   ]
  },
  {
   "cell_type": "code",
   "execution_count": 14,
   "metadata": {},
   "outputs": [
    {
     "data": {
      "application/vnd.plotly.v1+json": {
       "config": {
        "linkText": "Export to plot.ly",
        "plotlyServerURL": "https://plot.ly",
        "showLink": true
       },
       "data": [
        {
         "boxpoints": false,
         "line": {
          "width": 1.3
         },
         "marker": {
          "color": "rgba(255, 153, 51, 1.0)"
         },
         "name": "A",
         "orientation": "v",
         "type": "box",
         "y": [
          1.0059849258878888,
          -0.7010283547172209,
          -0.5530126170762337,
          1.5053586782927417,
          -0.14726718874838793,
          0.9770648926030767,
          0.6582506381399114,
          1.0301364104111772,
          -0.6260545174128129,
          -0.23780547328255147,
          0.8692692347787173,
          -0.5941485868327748,
          1.3591357195353555,
          -0.06399674516066887,
          0.829491071166314,
          0.5075254902761043,
          0.39113458866456685,
          1.063590572916894,
          0.8260655068010079,
          0.05245914539600717,
          -0.29323652668514805,
          -0.8401937481829118,
          0.024392012903958628,
          -1.521808563029623,
          -1.7272984737501598,
          -1.2563625232193036,
          0.633200412942476,
          -0.06367695602209411,
          -0.9017297357282704,
          0.11698081887161703,
          1.1789543999818366,
          0.7660384597132036,
          -0.14251541251705346,
          -1.4439954490372702,
          -0.1134737009733189,
          0.3916399896467472,
          -1.6438615230459779,
          -1.575452925220763,
          0.19490135135400036,
          -0.44498886895191403,
          0.2312126079129507,
          -0.19627309617738198,
          -1.5339188969959598,
          -1.0101177305805602,
          -0.5550261122432499,
          0.5981372038864573,
          1.9910393634213503,
          0.2492201885622451,
          -0.9944304584636777,
          0.5646967420168103,
          -0.08274449653620139,
          -0.7036502030924995,
          -0.30780049682799165,
          0.37452281339802984,
          -1.7872024370426731,
          1.3150335765180852,
          -0.5022658671929559,
          -0.344075543749246,
          -2.2374361399516345,
          1.041499401164971,
          0.7817975414736285,
          1.107319698661312,
          -1.2737183030994284,
          -0.5950888503549907,
          -1.190172709089028,
          -0.8952366180461947,
          -0.9450534445999006,
          0.7107542518724876,
          -0.24820813158798022,
          0.4198423385645599,
          0.6047113262770456,
          -0.4160311294851515,
          -0.36728501047823253,
          0.3451507507628055,
          3.0630486256974994,
          -0.08746757371406043,
          0.5379769422520592,
          -0.5196889635008731,
          -0.6871870613667098,
          -0.9885145886506468,
          -0.05642607429579795,
          0.694024910793667,
          0.1117698851259172,
          0.6280284197808698,
          -0.41881620021060223,
          0.0163714417546095,
          0.6214157736302589,
          2.5611775910144434,
          -1.651426960827347,
          0.7276986756237057,
          0.0020637820745796525,
          1.0825882895513737,
          0.8522486570762773,
          0.9254765481327194,
          2.369406636690293,
          -0.1864307255187936,
          -1.2220120453149546,
          0.12374884427234126,
          1.0240876997603876,
          0.9306315414048747
         ]
        },
        {
         "boxpoints": false,
         "line": {
          "width": 1.3
         },
         "marker": {
          "color": "rgba(55, 128, 191, 1.0)"
         },
         "name": "B",
         "orientation": "v",
         "type": "box",
         "y": [
          0.27123248257990207,
          -0.79942997399121,
          0.27772911725777966,
          0.18960229284980287,
          -0.8044425029603967,
          0.7931602887107293,
          0.09652443857989028,
          0.8655015370064665,
          1.8308095515374818,
          0.2749896402271901,
          -2.362470749558614,
          0.11318463248836325,
          1.1119060219411647,
          0.8413226249722645,
          0.264162004739382,
          -0.6226535951055381,
          -0.737187879777522,
          -0.3626954861256312,
          0.4294362143199215,
          0.41469046140977495,
          0.5680125191650225,
          -1.2090340893662848,
          -1.1517342459828552,
          0.07448158921672837,
          0.4342728711098793,
          -0.20340173641225098,
          -0.528340097965374,
          0.4026325670699657,
          -0.40849660314465924,
          -0.9428728834213882,
          -1.0889224753201423,
          0.4343412244961164,
          -0.7027380984223325,
          1.1319173613819913,
          1.6681268067655357,
          1.2858714822530204,
          1.4153351993627128,
          -0.08415221277465915,
          0.17385461825845852,
          -1.8272643020599595,
          2.2419576746860828,
          -2.3016095629002367,
          0.4881547327449486,
          1.1274204073827983,
          -1.6610304314092292,
          0.5084657836063696,
          1.1018806738410605,
          1.7331852105972836,
          -1.6921562959754037,
          0.7935734457392073,
          -0.4618448454747036,
          0.09704187385754046,
          1.6348279512783874,
          0.19093918341701024,
          0.5081161905495156,
          0.10409349820610142,
          0.5898422928262188,
          1.2059751159993455,
          -0.5116586540463366,
          2.3208666873631407,
          0.6591266073249621,
          0.011168806554076564,
          -0.24826244758228458,
          -0.2025377569889235,
          -1.214073633209104,
          -0.5942956343079454,
          0.42789903281354497,
          -0.7250345597938104,
          0.9089201785078819,
          -1.7571715280512354,
          -0.36961300780873146,
          -0.8017050054439957,
          -1.6479669486704083,
          -0.5583710349189371,
          0.18414634913941588,
          0.6033431857155406,
          -0.1260205311565872,
          1.7062195203355053,
          0.5551594111777242,
          0.45691501176084015,
          1.439617458449986,
          0.6476365584272519,
          -0.4839348534689651,
          -0.013750335017990164,
          -0.4257175480997596,
          0.6781859750888468,
          -0.25706909317655696,
          -0.5362230018794678,
          1.2984894985704358,
          -0.5492264295963026,
          -0.33213986415001917,
          1.8882234704904772,
          -0.6624309121654113,
          1.446259954425405,
          1.2473065619110835,
          -0.4161884594577917,
          0.08657820546570494,
          -1.2691170457140617,
          0.5963599115083469,
          1.5661208240920954
         ]
        },
        {
         "boxpoints": false,
         "line": {
          "width": 1.3
         },
         "marker": {
          "color": "rgba(50, 171, 96, 1.0)"
         },
         "name": "C",
         "orientation": "v",
         "type": "box",
         "y": [
          1.0020802852169395,
          -0.5390569136608081,
          -1.1735868528978086,
          -0.19370678015108822,
          -0.8627480348176071,
          -0.07916561711684227,
          0.7890727092933453,
          1.208131982351821,
          0.5251009234628812,
          -0.15354741461965063,
          0.8475205965443758,
          0.8616925857300906,
          -1.4983455175296703,
          2.038864774512134,
          -1.384089685448887,
          -0.0199128398487301,
          -0.901535292624148,
          -1.4260708926371368,
          0.31947303727231025,
          0.6955250953666504,
          -0.14826157401941345,
          -0.27867589482986965,
          2.0559916394347963,
          -1.142218313487505,
          -0.6532889903314228,
          -0.6681667040328896,
          -0.3819589457468317,
          -1.3242792685257907,
          -0.582693172285536,
          0.8380985075058318,
          -1.5900544945919126,
          -0.817323791042536,
          -0.5770712712136894,
          1.598049493241747,
          -1.6030546917479342,
          -0.18893479142076497,
          -0.14275386670057358,
          -1.0808485786210216,
          1.7441259924784798,
          -0.5668225024663784,
          2.2483807923478487,
          -1.2380132169909308,
          0.08187177392120813,
          -1.2340558481383763,
          0.12891657023598793,
          0.16161417970845665,
          -1.2815449662266547,
          0.44255808468406754,
          -1.0208382866621604,
          0.37405706780317527,
          1.7030649229524548,
          -0.8175610347174083,
          -0.28648787422820254,
          -0.7855871653772528,
          0.4409277705447799,
          3.543351845608989,
          -1.1874349429981723,
          0.5848514099685764,
          -1.3798439328236585,
          1.0274144640710137,
          0.8306381470734858,
          0.5092013929593797,
          1.0140034129689417,
          0.6835686285842434,
          1.7952181251101156,
          0.9473422224217499,
          -0.03671829779430676,
          -0.2860039225741498,
          -0.6645535810763674,
          0.35361402690987087,
          -0.4838160786577071,
          -0.3306437100433293,
          0.7578497774109706,
          0.6171141472049061,
          1.3705691489603569,
          0.5009242912330782,
          -0.1798435960914884,
          -0.4703086828538535,
          -0.6466893155159424,
          -0.5585942489444932,
          -0.02599426496031827,
          1.2347156023274353,
          -0.34351542125379675,
          -0.5588861571003991,
          -2.1750786951966687,
          0.5479115263608578,
          -1.334641208833851,
          -0.6690430786891292,
          1.3751780594241751,
          0.26847159545018806,
          -0.1761820585181939,
          1.05314198035309,
          1.3094116617361056,
          -1.1745893269297902,
          -1.201001044670139,
          1.6329366211410532,
          -0.23414871056271985,
          0.958359103538749,
          1.6208728035608129,
          1.976957756428609
         ]
        },
        {
         "boxpoints": false,
         "line": {
          "width": 1.3
         },
         "marker": {
          "color": "rgba(128, 0, 128, 1.0)"
         },
         "name": "D",
         "orientation": "v",
         "type": "box",
         "y": [
          -1.0730237098656148,
          0.2794052342320543,
          1.2010550003526252,
          -0.8756125607759215,
          0.6973288114083869,
          -0.5175638226684373,
          -0.19100021548276025,
          -1.1261632863496405,
          0.4093467997142295,
          -1.1810452254539712,
          -1.6421097159239544,
          -0.36175609087987676,
          -0.570870365133796,
          -0.22860936246283636,
          2.4841487092545327,
          2.8668607090480163,
          2.0827019107651283,
          -1.1051879951439498,
          1.850009089308549,
          -0.9115784516092622,
          0.6554854193062295,
          0.023464263393912856,
          -1.3839777212230235,
          -0.20959889906106324,
          0.7300331971299585,
          -2.7377559487231524,
          2.0847339873067487,
          -0.4906215247853985,
          -1.4675505846766048,
          -0.23977044690699248,
          -0.2850539573504832,
          1.6788932677843182,
          -0.28954305067488045,
          -0.6582003111774273,
          0.7556677086028821,
          -1.2463215669305947,
          0.19858081252017226,
          -0.07164550809083756,
          -1.8485949588626711,
          -0.10119396429207501,
          -0.264430453219776,
          0.796674568982724,
          0.6439357673746793,
          0.5166924710532177,
          -0.36772158478393324,
          -0.789478896455601,
          -0.5510152121867143,
          -1.2576160991632663,
          1.1389336894281417,
          -2.2015249466112166,
          -1.2114788378792567,
          -1.2348064014679465,
          -2.1091970515178584,
          -0.31763178375937506,
          -0.9133573531122807,
          -0.6331311678008216,
          0.9369116422442504,
          0.9083676783872775,
          1.5710016950446708,
          0.9618189048878746,
          0.8702472012619139,
          0.16749411099852338,
          -0.19611312770862116,
          -0.041887486426224765,
          -0.17388136524387854,
          -1.1313118395056132,
          -0.2678535099561108,
          -1.1753831498470801,
          0.9380088756427204,
          -1.627900222339357,
          -0.1595193877062732,
          0.2916393711874212,
          0.06653326084873111,
          -0.10112392340973708,
          -0.6909977061948326,
          0.30822221740449457,
          -0.989269805452754,
          0.15658232583343956,
          -0.4094025742419398,
          -0.6950892772326683,
          -0.25831385337232443,
          -1.1726481945419387,
          0.6908554822616798,
          0.16147855619255203,
          2.507269356076118,
          -0.7861694165655152,
          -0.07345624254973059,
          0.9481105312495175,
          2.582822327265082,
          -0.6670838788614623,
          1.1221203026517277,
          -1.3695156966498792,
          0.8412337675522863,
          0.3070779970130713,
          -0.9395414007292571,
          -2.264013877875384,
          0.6052148453710591,
          0.7437978752182598,
          -0.7635869173453622,
          -1.4639645624109963
         ]
        }
       ],
       "layout": {
        "legend": {
         "bgcolor": "#F5F6F9",
         "font": {
          "color": "#4D5663"
         }
        },
        "paper_bgcolor": "#F5F6F9",
        "plot_bgcolor": "#F5F6F9",
        "template": {
         "data": {
          "bar": [
           {
            "error_x": {
             "color": "#2a3f5f"
            },
            "error_y": {
             "color": "#2a3f5f"
            },
            "marker": {
             "line": {
              "color": "#E5ECF6",
              "width": 0.5
             }
            },
            "type": "bar"
           }
          ],
          "barpolar": [
           {
            "marker": {
             "line": {
              "color": "#E5ECF6",
              "width": 0.5
             }
            },
            "type": "barpolar"
           }
          ],
          "carpet": [
           {
            "aaxis": {
             "endlinecolor": "#2a3f5f",
             "gridcolor": "white",
             "linecolor": "white",
             "minorgridcolor": "white",
             "startlinecolor": "#2a3f5f"
            },
            "baxis": {
             "endlinecolor": "#2a3f5f",
             "gridcolor": "white",
             "linecolor": "white",
             "minorgridcolor": "white",
             "startlinecolor": "#2a3f5f"
            },
            "type": "carpet"
           }
          ],
          "choropleth": [
           {
            "colorbar": {
             "outlinewidth": 0,
             "ticks": ""
            },
            "type": "choropleth"
           }
          ],
          "contour": [
           {
            "colorbar": {
             "outlinewidth": 0,
             "ticks": ""
            },
            "colorscale": [
             [
              0,
              "#0d0887"
             ],
             [
              0.1111111111111111,
              "#46039f"
             ],
             [
              0.2222222222222222,
              "#7201a8"
             ],
             [
              0.3333333333333333,
              "#9c179e"
             ],
             [
              0.4444444444444444,
              "#bd3786"
             ],
             [
              0.5555555555555556,
              "#d8576b"
             ],
             [
              0.6666666666666666,
              "#ed7953"
             ],
             [
              0.7777777777777778,
              "#fb9f3a"
             ],
             [
              0.8888888888888888,
              "#fdca26"
             ],
             [
              1,
              "#f0f921"
             ]
            ],
            "type": "contour"
           }
          ],
          "contourcarpet": [
           {
            "colorbar": {
             "outlinewidth": 0,
             "ticks": ""
            },
            "type": "contourcarpet"
           }
          ],
          "heatmap": [
           {
            "colorbar": {
             "outlinewidth": 0,
             "ticks": ""
            },
            "colorscale": [
             [
              0,
              "#0d0887"
             ],
             [
              0.1111111111111111,
              "#46039f"
             ],
             [
              0.2222222222222222,
              "#7201a8"
             ],
             [
              0.3333333333333333,
              "#9c179e"
             ],
             [
              0.4444444444444444,
              "#bd3786"
             ],
             [
              0.5555555555555556,
              "#d8576b"
             ],
             [
              0.6666666666666666,
              "#ed7953"
             ],
             [
              0.7777777777777778,
              "#fb9f3a"
             ],
             [
              0.8888888888888888,
              "#fdca26"
             ],
             [
              1,
              "#f0f921"
             ]
            ],
            "type": "heatmap"
           }
          ],
          "heatmapgl": [
           {
            "colorbar": {
             "outlinewidth": 0,
             "ticks": ""
            },
            "colorscale": [
             [
              0,
              "#0d0887"
             ],
             [
              0.1111111111111111,
              "#46039f"
             ],
             [
              0.2222222222222222,
              "#7201a8"
             ],
             [
              0.3333333333333333,
              "#9c179e"
             ],
             [
              0.4444444444444444,
              "#bd3786"
             ],
             [
              0.5555555555555556,
              "#d8576b"
             ],
             [
              0.6666666666666666,
              "#ed7953"
             ],
             [
              0.7777777777777778,
              "#fb9f3a"
             ],
             [
              0.8888888888888888,
              "#fdca26"
             ],
             [
              1,
              "#f0f921"
             ]
            ],
            "type": "heatmapgl"
           }
          ],
          "histogram": [
           {
            "marker": {
             "colorbar": {
              "outlinewidth": 0,
              "ticks": ""
             }
            },
            "type": "histogram"
           }
          ],
          "histogram2d": [
           {
            "colorbar": {
             "outlinewidth": 0,
             "ticks": ""
            },
            "colorscale": [
             [
              0,
              "#0d0887"
             ],
             [
              0.1111111111111111,
              "#46039f"
             ],
             [
              0.2222222222222222,
              "#7201a8"
             ],
             [
              0.3333333333333333,
              "#9c179e"
             ],
             [
              0.4444444444444444,
              "#bd3786"
             ],
             [
              0.5555555555555556,
              "#d8576b"
             ],
             [
              0.6666666666666666,
              "#ed7953"
             ],
             [
              0.7777777777777778,
              "#fb9f3a"
             ],
             [
              0.8888888888888888,
              "#fdca26"
             ],
             [
              1,
              "#f0f921"
             ]
            ],
            "type": "histogram2d"
           }
          ],
          "histogram2dcontour": [
           {
            "colorbar": {
             "outlinewidth": 0,
             "ticks": ""
            },
            "colorscale": [
             [
              0,
              "#0d0887"
             ],
             [
              0.1111111111111111,
              "#46039f"
             ],
             [
              0.2222222222222222,
              "#7201a8"
             ],
             [
              0.3333333333333333,
              "#9c179e"
             ],
             [
              0.4444444444444444,
              "#bd3786"
             ],
             [
              0.5555555555555556,
              "#d8576b"
             ],
             [
              0.6666666666666666,
              "#ed7953"
             ],
             [
              0.7777777777777778,
              "#fb9f3a"
             ],
             [
              0.8888888888888888,
              "#fdca26"
             ],
             [
              1,
              "#f0f921"
             ]
            ],
            "type": "histogram2dcontour"
           }
          ],
          "mesh3d": [
           {
            "colorbar": {
             "outlinewidth": 0,
             "ticks": ""
            },
            "type": "mesh3d"
           }
          ],
          "parcoords": [
           {
            "line": {
             "colorbar": {
              "outlinewidth": 0,
              "ticks": ""
             }
            },
            "type": "parcoords"
           }
          ],
          "pie": [
           {
            "automargin": true,
            "type": "pie"
           }
          ],
          "scatter": [
           {
            "marker": {
             "colorbar": {
              "outlinewidth": 0,
              "ticks": ""
             }
            },
            "type": "scatter"
           }
          ],
          "scatter3d": [
           {
            "line": {
             "colorbar": {
              "outlinewidth": 0,
              "ticks": ""
             }
            },
            "marker": {
             "colorbar": {
              "outlinewidth": 0,
              "ticks": ""
             }
            },
            "type": "scatter3d"
           }
          ],
          "scattercarpet": [
           {
            "marker": {
             "colorbar": {
              "outlinewidth": 0,
              "ticks": ""
             }
            },
            "type": "scattercarpet"
           }
          ],
          "scattergeo": [
           {
            "marker": {
             "colorbar": {
              "outlinewidth": 0,
              "ticks": ""
             }
            },
            "type": "scattergeo"
           }
          ],
          "scattergl": [
           {
            "marker": {
             "colorbar": {
              "outlinewidth": 0,
              "ticks": ""
             }
            },
            "type": "scattergl"
           }
          ],
          "scattermapbox": [
           {
            "marker": {
             "colorbar": {
              "outlinewidth": 0,
              "ticks": ""
             }
            },
            "type": "scattermapbox"
           }
          ],
          "scatterpolar": [
           {
            "marker": {
             "colorbar": {
              "outlinewidth": 0,
              "ticks": ""
             }
            },
            "type": "scatterpolar"
           }
          ],
          "scatterpolargl": [
           {
            "marker": {
             "colorbar": {
              "outlinewidth": 0,
              "ticks": ""
             }
            },
            "type": "scatterpolargl"
           }
          ],
          "scatterternary": [
           {
            "marker": {
             "colorbar": {
              "outlinewidth": 0,
              "ticks": ""
             }
            },
            "type": "scatterternary"
           }
          ],
          "surface": [
           {
            "colorbar": {
             "outlinewidth": 0,
             "ticks": ""
            },
            "colorscale": [
             [
              0,
              "#0d0887"
             ],
             [
              0.1111111111111111,
              "#46039f"
             ],
             [
              0.2222222222222222,
              "#7201a8"
             ],
             [
              0.3333333333333333,
              "#9c179e"
             ],
             [
              0.4444444444444444,
              "#bd3786"
             ],
             [
              0.5555555555555556,
              "#d8576b"
             ],
             [
              0.6666666666666666,
              "#ed7953"
             ],
             [
              0.7777777777777778,
              "#fb9f3a"
             ],
             [
              0.8888888888888888,
              "#fdca26"
             ],
             [
              1,
              "#f0f921"
             ]
            ],
            "type": "surface"
           }
          ],
          "table": [
           {
            "cells": {
             "fill": {
              "color": "#EBF0F8"
             },
             "line": {
              "color": "white"
             }
            },
            "header": {
             "fill": {
              "color": "#C8D4E3"
             },
             "line": {
              "color": "white"
             }
            },
            "type": "table"
           }
          ]
         },
         "layout": {
          "annotationdefaults": {
           "arrowcolor": "#2a3f5f",
           "arrowhead": 0,
           "arrowwidth": 1
          },
          "autotypenumbers": "strict",
          "coloraxis": {
           "colorbar": {
            "outlinewidth": 0,
            "ticks": ""
           }
          },
          "colorscale": {
           "diverging": [
            [
             0,
             "#8e0152"
            ],
            [
             0.1,
             "#c51b7d"
            ],
            [
             0.2,
             "#de77ae"
            ],
            [
             0.3,
             "#f1b6da"
            ],
            [
             0.4,
             "#fde0ef"
            ],
            [
             0.5,
             "#f7f7f7"
            ],
            [
             0.6,
             "#e6f5d0"
            ],
            [
             0.7,
             "#b8e186"
            ],
            [
             0.8,
             "#7fbc41"
            ],
            [
             0.9,
             "#4d9221"
            ],
            [
             1,
             "#276419"
            ]
           ],
           "sequential": [
            [
             0,
             "#0d0887"
            ],
            [
             0.1111111111111111,
             "#46039f"
            ],
            [
             0.2222222222222222,
             "#7201a8"
            ],
            [
             0.3333333333333333,
             "#9c179e"
            ],
            [
             0.4444444444444444,
             "#bd3786"
            ],
            [
             0.5555555555555556,
             "#d8576b"
            ],
            [
             0.6666666666666666,
             "#ed7953"
            ],
            [
             0.7777777777777778,
             "#fb9f3a"
            ],
            [
             0.8888888888888888,
             "#fdca26"
            ],
            [
             1,
             "#f0f921"
            ]
           ],
           "sequentialminus": [
            [
             0,
             "#0d0887"
            ],
            [
             0.1111111111111111,
             "#46039f"
            ],
            [
             0.2222222222222222,
             "#7201a8"
            ],
            [
             0.3333333333333333,
             "#9c179e"
            ],
            [
             0.4444444444444444,
             "#bd3786"
            ],
            [
             0.5555555555555556,
             "#d8576b"
            ],
            [
             0.6666666666666666,
             "#ed7953"
            ],
            [
             0.7777777777777778,
             "#fb9f3a"
            ],
            [
             0.8888888888888888,
             "#fdca26"
            ],
            [
             1,
             "#f0f921"
            ]
           ]
          },
          "colorway": [
           "#636efa",
           "#EF553B",
           "#00cc96",
           "#ab63fa",
           "#FFA15A",
           "#19d3f3",
           "#FF6692",
           "#B6E880",
           "#FF97FF",
           "#FECB52"
          ],
          "font": {
           "color": "#2a3f5f"
          },
          "geo": {
           "bgcolor": "white",
           "lakecolor": "white",
           "landcolor": "#E5ECF6",
           "showlakes": true,
           "showland": true,
           "subunitcolor": "white"
          },
          "hoverlabel": {
           "align": "left"
          },
          "hovermode": "closest",
          "mapbox": {
           "style": "light"
          },
          "paper_bgcolor": "white",
          "plot_bgcolor": "#E5ECF6",
          "polar": {
           "angularaxis": {
            "gridcolor": "white",
            "linecolor": "white",
            "ticks": ""
           },
           "bgcolor": "#E5ECF6",
           "radialaxis": {
            "gridcolor": "white",
            "linecolor": "white",
            "ticks": ""
           }
          },
          "scene": {
           "xaxis": {
            "backgroundcolor": "#E5ECF6",
            "gridcolor": "white",
            "gridwidth": 2,
            "linecolor": "white",
            "showbackground": true,
            "ticks": "",
            "zerolinecolor": "white"
           },
           "yaxis": {
            "backgroundcolor": "#E5ECF6",
            "gridcolor": "white",
            "gridwidth": 2,
            "linecolor": "white",
            "showbackground": true,
            "ticks": "",
            "zerolinecolor": "white"
           },
           "zaxis": {
            "backgroundcolor": "#E5ECF6",
            "gridcolor": "white",
            "gridwidth": 2,
            "linecolor": "white",
            "showbackground": true,
            "ticks": "",
            "zerolinecolor": "white"
           }
          },
          "shapedefaults": {
           "line": {
            "color": "#2a3f5f"
           }
          },
          "ternary": {
           "aaxis": {
            "gridcolor": "white",
            "linecolor": "white",
            "ticks": ""
           },
           "baxis": {
            "gridcolor": "white",
            "linecolor": "white",
            "ticks": ""
           },
           "bgcolor": "#E5ECF6",
           "caxis": {
            "gridcolor": "white",
            "linecolor": "white",
            "ticks": ""
           }
          },
          "title": {
           "x": 0.05
          },
          "xaxis": {
           "automargin": true,
           "gridcolor": "white",
           "linecolor": "white",
           "ticks": "",
           "title": {
            "standoff": 15
           },
           "zerolinecolor": "white",
           "zerolinewidth": 2
          },
          "yaxis": {
           "automargin": true,
           "gridcolor": "white",
           "linecolor": "white",
           "ticks": "",
           "title": {
            "standoff": 15
           },
           "zerolinecolor": "white",
           "zerolinewidth": 2
          }
         }
        },
        "title": {
         "font": {
          "color": "#4D5663"
         }
        },
        "xaxis": {
         "gridcolor": "#E1E5ED",
         "showgrid": true,
         "tickfont": {
          "color": "#4D5663"
         },
         "title": {
          "font": {
           "color": "#4D5663"
          },
          "text": ""
         },
         "zerolinecolor": "#E1E5ED"
        },
        "yaxis": {
         "gridcolor": "#E1E5ED",
         "showgrid": true,
         "tickfont": {
          "color": "#4D5663"
         },
         "title": {
          "font": {
           "color": "#4D5663"
          },
          "text": ""
         },
         "zerolinecolor": "#E1E5ED"
        }
       }
      },
      "text/html": [
       "<div>                            <div id=\"89edce13-bf7f-40dd-ab72-8ac14cf31399\" class=\"plotly-graph-div\" style=\"height:525px; width:100%;\"></div>            <script type=\"text/javascript\">                require([\"plotly\"], function(Plotly) {                    window.PLOTLYENV=window.PLOTLYENV || {};\n",
       "                    window.PLOTLYENV.BASE_URL='https://plot.ly';                                    if (document.getElementById(\"89edce13-bf7f-40dd-ab72-8ac14cf31399\")) {                    Plotly.newPlot(                        \"89edce13-bf7f-40dd-ab72-8ac14cf31399\",                        [{\"boxpoints\": false, \"line\": {\"width\": 1.3}, \"marker\": {\"color\": \"rgba(255, 153, 51, 1.0)\"}, \"name\": \"A\", \"orientation\": \"v\", \"type\": \"box\", \"y\": [1.0059849258878888, -0.7010283547172209, -0.5530126170762337, 1.5053586782927417, -0.14726718874838793, 0.9770648926030767, 0.6582506381399114, 1.0301364104111772, -0.6260545174128129, -0.23780547328255147, 0.8692692347787173, -0.5941485868327748, 1.3591357195353555, -0.06399674516066887, 0.829491071166314, 0.5075254902761043, 0.39113458866456685, 1.063590572916894, 0.8260655068010079, 0.05245914539600717, -0.29323652668514805, -0.8401937481829118, 0.024392012903958628, -1.521808563029623, -1.7272984737501598, -1.2563625232193036, 0.633200412942476, -0.06367695602209411, -0.9017297357282704, 0.11698081887161703, 1.1789543999818366, 0.7660384597132036, -0.14251541251705346, -1.4439954490372702, -0.1134737009733189, 0.3916399896467472, -1.6438615230459779, -1.575452925220763, 0.19490135135400036, -0.44498886895191403, 0.2312126079129507, -0.19627309617738198, -1.5339188969959598, -1.0101177305805602, -0.5550261122432499, 0.5981372038864573, 1.9910393634213503, 0.2492201885622451, -0.9944304584636777, 0.5646967420168103, -0.08274449653620139, -0.7036502030924995, -0.30780049682799165, 0.37452281339802984, -1.7872024370426731, 1.3150335765180852, -0.5022658671929559, -0.344075543749246, -2.2374361399516345, 1.041499401164971, 0.7817975414736285, 1.107319698661312, -1.2737183030994284, -0.5950888503549907, -1.190172709089028, -0.8952366180461947, -0.9450534445999006, 0.7107542518724876, -0.24820813158798022, 0.4198423385645599, 0.6047113262770456, -0.4160311294851515, -0.36728501047823253, 0.3451507507628055, 3.0630486256974994, -0.08746757371406043, 0.5379769422520592, -0.5196889635008731, -0.6871870613667098, -0.9885145886506468, -0.05642607429579795, 0.694024910793667, 0.1117698851259172, 0.6280284197808698, -0.41881620021060223, 0.0163714417546095, 0.6214157736302589, 2.5611775910144434, -1.651426960827347, 0.7276986756237057, 0.0020637820745796525, 1.0825882895513737, 0.8522486570762773, 0.9254765481327194, 2.369406636690293, -0.1864307255187936, -1.2220120453149546, 0.12374884427234126, 1.0240876997603876, 0.9306315414048747]}, {\"boxpoints\": false, \"line\": {\"width\": 1.3}, \"marker\": {\"color\": \"rgba(55, 128, 191, 1.0)\"}, \"name\": \"B\", \"orientation\": \"v\", \"type\": \"box\", \"y\": [0.27123248257990207, -0.79942997399121, 0.27772911725777966, 0.18960229284980287, -0.8044425029603967, 0.7931602887107293, 0.09652443857989028, 0.8655015370064665, 1.8308095515374818, 0.2749896402271901, -2.362470749558614, 0.11318463248836325, 1.1119060219411647, 0.8413226249722645, 0.264162004739382, -0.6226535951055381, -0.737187879777522, -0.3626954861256312, 0.4294362143199215, 0.41469046140977495, 0.5680125191650225, -1.2090340893662848, -1.1517342459828552, 0.07448158921672837, 0.4342728711098793, -0.20340173641225098, -0.528340097965374, 0.4026325670699657, -0.40849660314465924, -0.9428728834213882, -1.0889224753201423, 0.4343412244961164, -0.7027380984223325, 1.1319173613819913, 1.6681268067655357, 1.2858714822530204, 1.4153351993627128, -0.08415221277465915, 0.17385461825845852, -1.8272643020599595, 2.2419576746860828, -2.3016095629002367, 0.4881547327449486, 1.1274204073827983, -1.6610304314092292, 0.5084657836063696, 1.1018806738410605, 1.7331852105972836, -1.6921562959754037, 0.7935734457392073, -0.4618448454747036, 0.09704187385754046, 1.6348279512783874, 0.19093918341701024, 0.5081161905495156, 0.10409349820610142, 0.5898422928262188, 1.2059751159993455, -0.5116586540463366, 2.3208666873631407, 0.6591266073249621, 0.011168806554076564, -0.24826244758228458, -0.2025377569889235, -1.214073633209104, -0.5942956343079454, 0.42789903281354497, -0.7250345597938104, 0.9089201785078819, -1.7571715280512354, -0.36961300780873146, -0.8017050054439957, -1.6479669486704083, -0.5583710349189371, 0.18414634913941588, 0.6033431857155406, -0.1260205311565872, 1.7062195203355053, 0.5551594111777242, 0.45691501176084015, 1.439617458449986, 0.6476365584272519, -0.4839348534689651, -0.013750335017990164, -0.4257175480997596, 0.6781859750888468, -0.25706909317655696, -0.5362230018794678, 1.2984894985704358, -0.5492264295963026, -0.33213986415001917, 1.8882234704904772, -0.6624309121654113, 1.446259954425405, 1.2473065619110835, -0.4161884594577917, 0.08657820546570494, -1.2691170457140617, 0.5963599115083469, 1.5661208240920954]}, {\"boxpoints\": false, \"line\": {\"width\": 1.3}, \"marker\": {\"color\": \"rgba(50, 171, 96, 1.0)\"}, \"name\": \"C\", \"orientation\": \"v\", \"type\": \"box\", \"y\": [1.0020802852169395, -0.5390569136608081, -1.1735868528978086, -0.19370678015108822, -0.8627480348176071, -0.07916561711684227, 0.7890727092933453, 1.208131982351821, 0.5251009234628812, -0.15354741461965063, 0.8475205965443758, 0.8616925857300906, -1.4983455175296703, 2.038864774512134, -1.384089685448887, -0.0199128398487301, -0.901535292624148, -1.4260708926371368, 0.31947303727231025, 0.6955250953666504, -0.14826157401941345, -0.27867589482986965, 2.0559916394347963, -1.142218313487505, -0.6532889903314228, -0.6681667040328896, -0.3819589457468317, -1.3242792685257907, -0.582693172285536, 0.8380985075058318, -1.5900544945919126, -0.817323791042536, -0.5770712712136894, 1.598049493241747, -1.6030546917479342, -0.18893479142076497, -0.14275386670057358, -1.0808485786210216, 1.7441259924784798, -0.5668225024663784, 2.2483807923478487, -1.2380132169909308, 0.08187177392120813, -1.2340558481383763, 0.12891657023598793, 0.16161417970845665, -1.2815449662266547, 0.44255808468406754, -1.0208382866621604, 0.37405706780317527, 1.7030649229524548, -0.8175610347174083, -0.28648787422820254, -0.7855871653772528, 0.4409277705447799, 3.543351845608989, -1.1874349429981723, 0.5848514099685764, -1.3798439328236585, 1.0274144640710137, 0.8306381470734858, 0.5092013929593797, 1.0140034129689417, 0.6835686285842434, 1.7952181251101156, 0.9473422224217499, -0.03671829779430676, -0.2860039225741498, -0.6645535810763674, 0.35361402690987087, -0.4838160786577071, -0.3306437100433293, 0.7578497774109706, 0.6171141472049061, 1.3705691489603569, 0.5009242912330782, -0.1798435960914884, -0.4703086828538535, -0.6466893155159424, -0.5585942489444932, -0.02599426496031827, 1.2347156023274353, -0.34351542125379675, -0.5588861571003991, -2.1750786951966687, 0.5479115263608578, -1.334641208833851, -0.6690430786891292, 1.3751780594241751, 0.26847159545018806, -0.1761820585181939, 1.05314198035309, 1.3094116617361056, -1.1745893269297902, -1.201001044670139, 1.6329366211410532, -0.23414871056271985, 0.958359103538749, 1.6208728035608129, 1.976957756428609]}, {\"boxpoints\": false, \"line\": {\"width\": 1.3}, \"marker\": {\"color\": \"rgba(128, 0, 128, 1.0)\"}, \"name\": \"D\", \"orientation\": \"v\", \"type\": \"box\", \"y\": [-1.0730237098656148, 0.2794052342320543, 1.2010550003526252, -0.8756125607759215, 0.6973288114083869, -0.5175638226684373, -0.19100021548276025, -1.1261632863496405, 0.4093467997142295, -1.1810452254539712, -1.6421097159239544, -0.36175609087987676, -0.570870365133796, -0.22860936246283636, 2.4841487092545327, 2.8668607090480163, 2.0827019107651283, -1.1051879951439498, 1.850009089308549, -0.9115784516092622, 0.6554854193062295, 0.023464263393912856, -1.3839777212230235, -0.20959889906106324, 0.7300331971299585, -2.7377559487231524, 2.0847339873067487, -0.4906215247853985, -1.4675505846766048, -0.23977044690699248, -0.2850539573504832, 1.6788932677843182, -0.28954305067488045, -0.6582003111774273, 0.7556677086028821, -1.2463215669305947, 0.19858081252017226, -0.07164550809083756, -1.8485949588626711, -0.10119396429207501, -0.264430453219776, 0.796674568982724, 0.6439357673746793, 0.5166924710532177, -0.36772158478393324, -0.789478896455601, -0.5510152121867143, -1.2576160991632663, 1.1389336894281417, -2.2015249466112166, -1.2114788378792567, -1.2348064014679465, -2.1091970515178584, -0.31763178375937506, -0.9133573531122807, -0.6331311678008216, 0.9369116422442504, 0.9083676783872775, 1.5710016950446708, 0.9618189048878746, 0.8702472012619139, 0.16749411099852338, -0.19611312770862116, -0.041887486426224765, -0.17388136524387854, -1.1313118395056132, -0.2678535099561108, -1.1753831498470801, 0.9380088756427204, -1.627900222339357, -0.1595193877062732, 0.2916393711874212, 0.06653326084873111, -0.10112392340973708, -0.6909977061948326, 0.30822221740449457, -0.989269805452754, 0.15658232583343956, -0.4094025742419398, -0.6950892772326683, -0.25831385337232443, -1.1726481945419387, 0.6908554822616798, 0.16147855619255203, 2.507269356076118, -0.7861694165655152, -0.07345624254973059, 0.9481105312495175, 2.582822327265082, -0.6670838788614623, 1.1221203026517277, -1.3695156966498792, 0.8412337675522863, 0.3070779970130713, -0.9395414007292571, -2.264013877875384, 0.6052148453710591, 0.7437978752182598, -0.7635869173453622, -1.4639645624109963]}],                        {\"legend\": {\"bgcolor\": \"#F5F6F9\", \"font\": {\"color\": \"#4D5663\"}}, \"paper_bgcolor\": \"#F5F6F9\", \"plot_bgcolor\": \"#F5F6F9\", \"template\": {\"data\": {\"bar\": [{\"error_x\": {\"color\": \"#2a3f5f\"}, \"error_y\": {\"color\": \"#2a3f5f\"}, \"marker\": {\"line\": {\"color\": \"#E5ECF6\", \"width\": 0.5}}, \"type\": \"bar\"}], \"barpolar\": [{\"marker\": {\"line\": {\"color\": \"#E5ECF6\", \"width\": 0.5}}, \"type\": \"barpolar\"}], \"carpet\": [{\"aaxis\": {\"endlinecolor\": \"#2a3f5f\", \"gridcolor\": \"white\", \"linecolor\": \"white\", \"minorgridcolor\": \"white\", \"startlinecolor\": \"#2a3f5f\"}, \"baxis\": {\"endlinecolor\": \"#2a3f5f\", \"gridcolor\": \"white\", \"linecolor\": \"white\", \"minorgridcolor\": \"white\", \"startlinecolor\": \"#2a3f5f\"}, \"type\": \"carpet\"}], \"choropleth\": [{\"colorbar\": {\"outlinewidth\": 0, \"ticks\": \"\"}, \"type\": \"choropleth\"}], \"contour\": [{\"colorbar\": {\"outlinewidth\": 0, \"ticks\": \"\"}, \"colorscale\": [[0.0, \"#0d0887\"], [0.1111111111111111, \"#46039f\"], [0.2222222222222222, \"#7201a8\"], [0.3333333333333333, \"#9c179e\"], [0.4444444444444444, \"#bd3786\"], [0.5555555555555556, \"#d8576b\"], [0.6666666666666666, \"#ed7953\"], [0.7777777777777778, \"#fb9f3a\"], [0.8888888888888888, \"#fdca26\"], [1.0, \"#f0f921\"]], \"type\": \"contour\"}], \"contourcarpet\": [{\"colorbar\": {\"outlinewidth\": 0, \"ticks\": \"\"}, \"type\": \"contourcarpet\"}], \"heatmap\": [{\"colorbar\": {\"outlinewidth\": 0, \"ticks\": \"\"}, \"colorscale\": [[0.0, \"#0d0887\"], [0.1111111111111111, \"#46039f\"], [0.2222222222222222, \"#7201a8\"], [0.3333333333333333, \"#9c179e\"], [0.4444444444444444, \"#bd3786\"], [0.5555555555555556, \"#d8576b\"], [0.6666666666666666, \"#ed7953\"], [0.7777777777777778, \"#fb9f3a\"], [0.8888888888888888, \"#fdca26\"], [1.0, \"#f0f921\"]], \"type\": \"heatmap\"}], \"heatmapgl\": [{\"colorbar\": {\"outlinewidth\": 0, \"ticks\": \"\"}, \"colorscale\": [[0.0, \"#0d0887\"], [0.1111111111111111, \"#46039f\"], [0.2222222222222222, \"#7201a8\"], [0.3333333333333333, \"#9c179e\"], [0.4444444444444444, \"#bd3786\"], [0.5555555555555556, \"#d8576b\"], [0.6666666666666666, \"#ed7953\"], [0.7777777777777778, \"#fb9f3a\"], [0.8888888888888888, \"#fdca26\"], [1.0, \"#f0f921\"]], \"type\": \"heatmapgl\"}], \"histogram\": [{\"marker\": {\"colorbar\": {\"outlinewidth\": 0, \"ticks\": \"\"}}, \"type\": \"histogram\"}], \"histogram2d\": [{\"colorbar\": {\"outlinewidth\": 0, \"ticks\": \"\"}, \"colorscale\": [[0.0, \"#0d0887\"], [0.1111111111111111, \"#46039f\"], [0.2222222222222222, \"#7201a8\"], [0.3333333333333333, \"#9c179e\"], [0.4444444444444444, \"#bd3786\"], [0.5555555555555556, \"#d8576b\"], [0.6666666666666666, \"#ed7953\"], [0.7777777777777778, \"#fb9f3a\"], [0.8888888888888888, \"#fdca26\"], [1.0, \"#f0f921\"]], \"type\": \"histogram2d\"}], \"histogram2dcontour\": [{\"colorbar\": {\"outlinewidth\": 0, \"ticks\": \"\"}, \"colorscale\": [[0.0, \"#0d0887\"], [0.1111111111111111, \"#46039f\"], [0.2222222222222222, \"#7201a8\"], [0.3333333333333333, \"#9c179e\"], [0.4444444444444444, \"#bd3786\"], [0.5555555555555556, \"#d8576b\"], [0.6666666666666666, \"#ed7953\"], [0.7777777777777778, \"#fb9f3a\"], [0.8888888888888888, \"#fdca26\"], [1.0, \"#f0f921\"]], \"type\": \"histogram2dcontour\"}], \"mesh3d\": [{\"colorbar\": {\"outlinewidth\": 0, \"ticks\": \"\"}, \"type\": \"mesh3d\"}], \"parcoords\": [{\"line\": {\"colorbar\": {\"outlinewidth\": 0, \"ticks\": \"\"}}, \"type\": \"parcoords\"}], \"pie\": [{\"automargin\": true, \"type\": \"pie\"}], \"scatter\": [{\"marker\": {\"colorbar\": {\"outlinewidth\": 0, \"ticks\": \"\"}}, \"type\": \"scatter\"}], \"scatter3d\": [{\"line\": {\"colorbar\": {\"outlinewidth\": 0, \"ticks\": \"\"}}, \"marker\": {\"colorbar\": {\"outlinewidth\": 0, \"ticks\": \"\"}}, \"type\": \"scatter3d\"}], \"scattercarpet\": [{\"marker\": {\"colorbar\": {\"outlinewidth\": 0, \"ticks\": \"\"}}, \"type\": \"scattercarpet\"}], \"scattergeo\": [{\"marker\": {\"colorbar\": {\"outlinewidth\": 0, \"ticks\": \"\"}}, \"type\": \"scattergeo\"}], \"scattergl\": [{\"marker\": {\"colorbar\": {\"outlinewidth\": 0, \"ticks\": \"\"}}, \"type\": \"scattergl\"}], \"scattermapbox\": [{\"marker\": {\"colorbar\": {\"outlinewidth\": 0, \"ticks\": \"\"}}, \"type\": \"scattermapbox\"}], \"scatterpolar\": [{\"marker\": {\"colorbar\": {\"outlinewidth\": 0, \"ticks\": \"\"}}, \"type\": \"scatterpolar\"}], \"scatterpolargl\": [{\"marker\": {\"colorbar\": {\"outlinewidth\": 0, \"ticks\": \"\"}}, \"type\": \"scatterpolargl\"}], \"scatterternary\": [{\"marker\": {\"colorbar\": {\"outlinewidth\": 0, \"ticks\": \"\"}}, \"type\": \"scatterternary\"}], \"surface\": [{\"colorbar\": {\"outlinewidth\": 0, \"ticks\": \"\"}, \"colorscale\": [[0.0, \"#0d0887\"], [0.1111111111111111, \"#46039f\"], [0.2222222222222222, \"#7201a8\"], [0.3333333333333333, \"#9c179e\"], [0.4444444444444444, \"#bd3786\"], [0.5555555555555556, \"#d8576b\"], [0.6666666666666666, \"#ed7953\"], [0.7777777777777778, \"#fb9f3a\"], [0.8888888888888888, \"#fdca26\"], [1.0, \"#f0f921\"]], \"type\": \"surface\"}], \"table\": [{\"cells\": {\"fill\": {\"color\": \"#EBF0F8\"}, \"line\": {\"color\": \"white\"}}, \"header\": {\"fill\": {\"color\": \"#C8D4E3\"}, \"line\": {\"color\": \"white\"}}, \"type\": \"table\"}]}, \"layout\": {\"annotationdefaults\": {\"arrowcolor\": \"#2a3f5f\", \"arrowhead\": 0, \"arrowwidth\": 1}, \"autotypenumbers\": \"strict\", \"coloraxis\": {\"colorbar\": {\"outlinewidth\": 0, \"ticks\": \"\"}}, \"colorscale\": {\"diverging\": [[0, \"#8e0152\"], [0.1, \"#c51b7d\"], [0.2, \"#de77ae\"], [0.3, \"#f1b6da\"], [0.4, \"#fde0ef\"], [0.5, \"#f7f7f7\"], [0.6, \"#e6f5d0\"], [0.7, \"#b8e186\"], [0.8, \"#7fbc41\"], [0.9, \"#4d9221\"], [1, \"#276419\"]], \"sequential\": [[0.0, \"#0d0887\"], [0.1111111111111111, \"#46039f\"], [0.2222222222222222, \"#7201a8\"], [0.3333333333333333, \"#9c179e\"], [0.4444444444444444, \"#bd3786\"], [0.5555555555555556, \"#d8576b\"], [0.6666666666666666, \"#ed7953\"], [0.7777777777777778, \"#fb9f3a\"], [0.8888888888888888, \"#fdca26\"], [1.0, \"#f0f921\"]], \"sequentialminus\": [[0.0, \"#0d0887\"], [0.1111111111111111, \"#46039f\"], [0.2222222222222222, \"#7201a8\"], [0.3333333333333333, \"#9c179e\"], [0.4444444444444444, \"#bd3786\"], [0.5555555555555556, \"#d8576b\"], [0.6666666666666666, \"#ed7953\"], [0.7777777777777778, \"#fb9f3a\"], [0.8888888888888888, \"#fdca26\"], [1.0, \"#f0f921\"]]}, \"colorway\": [\"#636efa\", \"#EF553B\", \"#00cc96\", \"#ab63fa\", \"#FFA15A\", \"#19d3f3\", \"#FF6692\", \"#B6E880\", \"#FF97FF\", \"#FECB52\"], \"font\": {\"color\": \"#2a3f5f\"}, \"geo\": {\"bgcolor\": \"white\", \"lakecolor\": \"white\", \"landcolor\": \"#E5ECF6\", \"showlakes\": true, \"showland\": true, \"subunitcolor\": \"white\"}, \"hoverlabel\": {\"align\": \"left\"}, \"hovermode\": \"closest\", \"mapbox\": {\"style\": \"light\"}, \"paper_bgcolor\": \"white\", \"plot_bgcolor\": \"#E5ECF6\", \"polar\": {\"angularaxis\": {\"gridcolor\": \"white\", \"linecolor\": \"white\", \"ticks\": \"\"}, \"bgcolor\": \"#E5ECF6\", \"radialaxis\": {\"gridcolor\": \"white\", \"linecolor\": \"white\", \"ticks\": \"\"}}, \"scene\": {\"xaxis\": {\"backgroundcolor\": \"#E5ECF6\", \"gridcolor\": \"white\", \"gridwidth\": 2, \"linecolor\": \"white\", \"showbackground\": true, \"ticks\": \"\", \"zerolinecolor\": \"white\"}, \"yaxis\": {\"backgroundcolor\": \"#E5ECF6\", \"gridcolor\": \"white\", \"gridwidth\": 2, \"linecolor\": \"white\", \"showbackground\": true, \"ticks\": \"\", \"zerolinecolor\": \"white\"}, \"zaxis\": {\"backgroundcolor\": \"#E5ECF6\", \"gridcolor\": \"white\", \"gridwidth\": 2, \"linecolor\": \"white\", \"showbackground\": true, \"ticks\": \"\", \"zerolinecolor\": \"white\"}}, \"shapedefaults\": {\"line\": {\"color\": \"#2a3f5f\"}}, \"ternary\": {\"aaxis\": {\"gridcolor\": \"white\", \"linecolor\": \"white\", \"ticks\": \"\"}, \"baxis\": {\"gridcolor\": \"white\", \"linecolor\": \"white\", \"ticks\": \"\"}, \"bgcolor\": \"#E5ECF6\", \"caxis\": {\"gridcolor\": \"white\", \"linecolor\": \"white\", \"ticks\": \"\"}}, \"title\": {\"x\": 0.05}, \"xaxis\": {\"automargin\": true, \"gridcolor\": \"white\", \"linecolor\": \"white\", \"ticks\": \"\", \"title\": {\"standoff\": 15}, \"zerolinecolor\": \"white\", \"zerolinewidth\": 2}, \"yaxis\": {\"automargin\": true, \"gridcolor\": \"white\", \"linecolor\": \"white\", \"ticks\": \"\", \"title\": {\"standoff\": 15}, \"zerolinecolor\": \"white\", \"zerolinewidth\": 2}}}, \"title\": {\"font\": {\"color\": \"#4D5663\"}}, \"xaxis\": {\"gridcolor\": \"#E1E5ED\", \"showgrid\": true, \"tickfont\": {\"color\": \"#4D5663\"}, \"title\": {\"font\": {\"color\": \"#4D5663\"}, \"text\": \"\"}, \"zerolinecolor\": \"#E1E5ED\"}, \"yaxis\": {\"gridcolor\": \"#E1E5ED\", \"showgrid\": true, \"tickfont\": {\"color\": \"#4D5663\"}, \"title\": {\"font\": {\"color\": \"#4D5663\"}, \"text\": \"\"}, \"zerolinecolor\": \"#E1E5ED\"}},                        {\"showLink\": true, \"linkText\": \"Export to plot.ly\", \"plotlyServerURL\": \"https://plot.ly\", \"responsive\": true}                    ).then(function(){\n",
       "                            \n",
       "var gd = document.getElementById('89edce13-bf7f-40dd-ab72-8ac14cf31399');\n",
       "var x = new MutationObserver(function (mutations, observer) {{\n",
       "        var display = window.getComputedStyle(gd).display;\n",
       "        if (!display || display === 'none') {{\n",
       "            console.log([gd, 'removed!']);\n",
       "            Plotly.purge(gd);\n",
       "            observer.disconnect();\n",
       "        }}\n",
       "}});\n",
       "\n",
       "// Listen for the removal of the full notebook cells\n",
       "var notebookContainer = gd.closest('#notebook-container');\n",
       "if (notebookContainer) {{\n",
       "    x.observe(notebookContainer, {childList: true});\n",
       "}}\n",
       "\n",
       "// Listen for the clearing of the current output cell\n",
       "var outputEl = gd.closest('.output');\n",
       "if (outputEl) {{\n",
       "    x.observe(outputEl, {childList: true});\n",
       "}}\n",
       "\n",
       "                        })                };                });            </script>        </div>"
      ]
     },
     "metadata": {},
     "output_type": "display_data"
    }
   ],
   "source": [
    "df.iplot(kind='box')"
   ]
  },
  {
   "cell_type": "markdown",
   "metadata": {},
   "source": [
    "## 3d Surface"
   ]
  },
  {
   "cell_type": "code",
   "execution_count": 15,
   "metadata": {},
   "outputs": [
    {
     "data": {
      "application/vnd.plotly.v1+json": {
       "config": {
        "linkText": "Export to plot.ly",
        "plotlyServerURL": "https://plot.ly",
        "showLink": true
       },
       "data": [
        {
         "colorscale": [
          [
           0,
           "rgb(165,0,38)"
          ],
          [
           0.1,
           "rgb(215,48,39)"
          ],
          [
           0.2,
           "rgb(244,109,67)"
          ],
          [
           0.3,
           "rgb(253,174,97)"
          ],
          [
           0.4,
           "rgb(254,224,144)"
          ],
          [
           0.5,
           "rgb(255,255,191)"
          ],
          [
           0.6,
           "rgb(224,243,248)"
          ],
          [
           0.7,
           "rgb(171,217,233)"
          ],
          [
           0.8,
           "rgb(116,173,209)"
          ],
          [
           0.9,
           "rgb(69,117,180)"
          ],
          [
           1,
           "rgb(49,54,149)"
          ]
         ],
         "type": "surface",
         "x": [
          0,
          1,
          2,
          3,
          4
         ],
         "y": [
          "x",
          "y",
          "z"
         ],
         "z": [
          [
           1,
           2,
           3,
           4,
           5
          ],
          [
           10,
           20,
           30,
           20,
           10
          ],
          [
           5,
           4,
           3,
           2,
           1
          ]
         ]
        }
       ],
       "layout": {
        "legend": {
         "bgcolor": "#F5F6F9",
         "font": {
          "color": "#4D5663"
         }
        },
        "paper_bgcolor": "#F5F6F9",
        "plot_bgcolor": "#F5F6F9",
        "template": {
         "data": {
          "bar": [
           {
            "error_x": {
             "color": "#2a3f5f"
            },
            "error_y": {
             "color": "#2a3f5f"
            },
            "marker": {
             "line": {
              "color": "#E5ECF6",
              "width": 0.5
             }
            },
            "type": "bar"
           }
          ],
          "barpolar": [
           {
            "marker": {
             "line": {
              "color": "#E5ECF6",
              "width": 0.5
             }
            },
            "type": "barpolar"
           }
          ],
          "carpet": [
           {
            "aaxis": {
             "endlinecolor": "#2a3f5f",
             "gridcolor": "white",
             "linecolor": "white",
             "minorgridcolor": "white",
             "startlinecolor": "#2a3f5f"
            },
            "baxis": {
             "endlinecolor": "#2a3f5f",
             "gridcolor": "white",
             "linecolor": "white",
             "minorgridcolor": "white",
             "startlinecolor": "#2a3f5f"
            },
            "type": "carpet"
           }
          ],
          "choropleth": [
           {
            "colorbar": {
             "outlinewidth": 0,
             "ticks": ""
            },
            "type": "choropleth"
           }
          ],
          "contour": [
           {
            "colorbar": {
             "outlinewidth": 0,
             "ticks": ""
            },
            "colorscale": [
             [
              0,
              "#0d0887"
             ],
             [
              0.1111111111111111,
              "#46039f"
             ],
             [
              0.2222222222222222,
              "#7201a8"
             ],
             [
              0.3333333333333333,
              "#9c179e"
             ],
             [
              0.4444444444444444,
              "#bd3786"
             ],
             [
              0.5555555555555556,
              "#d8576b"
             ],
             [
              0.6666666666666666,
              "#ed7953"
             ],
             [
              0.7777777777777778,
              "#fb9f3a"
             ],
             [
              0.8888888888888888,
              "#fdca26"
             ],
             [
              1,
              "#f0f921"
             ]
            ],
            "type": "contour"
           }
          ],
          "contourcarpet": [
           {
            "colorbar": {
             "outlinewidth": 0,
             "ticks": ""
            },
            "type": "contourcarpet"
           }
          ],
          "heatmap": [
           {
            "colorbar": {
             "outlinewidth": 0,
             "ticks": ""
            },
            "colorscale": [
             [
              0,
              "#0d0887"
             ],
             [
              0.1111111111111111,
              "#46039f"
             ],
             [
              0.2222222222222222,
              "#7201a8"
             ],
             [
              0.3333333333333333,
              "#9c179e"
             ],
             [
              0.4444444444444444,
              "#bd3786"
             ],
             [
              0.5555555555555556,
              "#d8576b"
             ],
             [
              0.6666666666666666,
              "#ed7953"
             ],
             [
              0.7777777777777778,
              "#fb9f3a"
             ],
             [
              0.8888888888888888,
              "#fdca26"
             ],
             [
              1,
              "#f0f921"
             ]
            ],
            "type": "heatmap"
           }
          ],
          "heatmapgl": [
           {
            "colorbar": {
             "outlinewidth": 0,
             "ticks": ""
            },
            "colorscale": [
             [
              0,
              "#0d0887"
             ],
             [
              0.1111111111111111,
              "#46039f"
             ],
             [
              0.2222222222222222,
              "#7201a8"
             ],
             [
              0.3333333333333333,
              "#9c179e"
             ],
             [
              0.4444444444444444,
              "#bd3786"
             ],
             [
              0.5555555555555556,
              "#d8576b"
             ],
             [
              0.6666666666666666,
              "#ed7953"
             ],
             [
              0.7777777777777778,
              "#fb9f3a"
             ],
             [
              0.8888888888888888,
              "#fdca26"
             ],
             [
              1,
              "#f0f921"
             ]
            ],
            "type": "heatmapgl"
           }
          ],
          "histogram": [
           {
            "marker": {
             "colorbar": {
              "outlinewidth": 0,
              "ticks": ""
             }
            },
            "type": "histogram"
           }
          ],
          "histogram2d": [
           {
            "colorbar": {
             "outlinewidth": 0,
             "ticks": ""
            },
            "colorscale": [
             [
              0,
              "#0d0887"
             ],
             [
              0.1111111111111111,
              "#46039f"
             ],
             [
              0.2222222222222222,
              "#7201a8"
             ],
             [
              0.3333333333333333,
              "#9c179e"
             ],
             [
              0.4444444444444444,
              "#bd3786"
             ],
             [
              0.5555555555555556,
              "#d8576b"
             ],
             [
              0.6666666666666666,
              "#ed7953"
             ],
             [
              0.7777777777777778,
              "#fb9f3a"
             ],
             [
              0.8888888888888888,
              "#fdca26"
             ],
             [
              1,
              "#f0f921"
             ]
            ],
            "type": "histogram2d"
           }
          ],
          "histogram2dcontour": [
           {
            "colorbar": {
             "outlinewidth": 0,
             "ticks": ""
            },
            "colorscale": [
             [
              0,
              "#0d0887"
             ],
             [
              0.1111111111111111,
              "#46039f"
             ],
             [
              0.2222222222222222,
              "#7201a8"
             ],
             [
              0.3333333333333333,
              "#9c179e"
             ],
             [
              0.4444444444444444,
              "#bd3786"
             ],
             [
              0.5555555555555556,
              "#d8576b"
             ],
             [
              0.6666666666666666,
              "#ed7953"
             ],
             [
              0.7777777777777778,
              "#fb9f3a"
             ],
             [
              0.8888888888888888,
              "#fdca26"
             ],
             [
              1,
              "#f0f921"
             ]
            ],
            "type": "histogram2dcontour"
           }
          ],
          "mesh3d": [
           {
            "colorbar": {
             "outlinewidth": 0,
             "ticks": ""
            },
            "type": "mesh3d"
           }
          ],
          "parcoords": [
           {
            "line": {
             "colorbar": {
              "outlinewidth": 0,
              "ticks": ""
             }
            },
            "type": "parcoords"
           }
          ],
          "pie": [
           {
            "automargin": true,
            "type": "pie"
           }
          ],
          "scatter": [
           {
            "marker": {
             "colorbar": {
              "outlinewidth": 0,
              "ticks": ""
             }
            },
            "type": "scatter"
           }
          ],
          "scatter3d": [
           {
            "line": {
             "colorbar": {
              "outlinewidth": 0,
              "ticks": ""
             }
            },
            "marker": {
             "colorbar": {
              "outlinewidth": 0,
              "ticks": ""
             }
            },
            "type": "scatter3d"
           }
          ],
          "scattercarpet": [
           {
            "marker": {
             "colorbar": {
              "outlinewidth": 0,
              "ticks": ""
             }
            },
            "type": "scattercarpet"
           }
          ],
          "scattergeo": [
           {
            "marker": {
             "colorbar": {
              "outlinewidth": 0,
              "ticks": ""
             }
            },
            "type": "scattergeo"
           }
          ],
          "scattergl": [
           {
            "marker": {
             "colorbar": {
              "outlinewidth": 0,
              "ticks": ""
             }
            },
            "type": "scattergl"
           }
          ],
          "scattermapbox": [
           {
            "marker": {
             "colorbar": {
              "outlinewidth": 0,
              "ticks": ""
             }
            },
            "type": "scattermapbox"
           }
          ],
          "scatterpolar": [
           {
            "marker": {
             "colorbar": {
              "outlinewidth": 0,
              "ticks": ""
             }
            },
            "type": "scatterpolar"
           }
          ],
          "scatterpolargl": [
           {
            "marker": {
             "colorbar": {
              "outlinewidth": 0,
              "ticks": ""
             }
            },
            "type": "scatterpolargl"
           }
          ],
          "scatterternary": [
           {
            "marker": {
             "colorbar": {
              "outlinewidth": 0,
              "ticks": ""
             }
            },
            "type": "scatterternary"
           }
          ],
          "surface": [
           {
            "colorbar": {
             "outlinewidth": 0,
             "ticks": ""
            },
            "colorscale": [
             [
              0,
              "#0d0887"
             ],
             [
              0.1111111111111111,
              "#46039f"
             ],
             [
              0.2222222222222222,
              "#7201a8"
             ],
             [
              0.3333333333333333,
              "#9c179e"
             ],
             [
              0.4444444444444444,
              "#bd3786"
             ],
             [
              0.5555555555555556,
              "#d8576b"
             ],
             [
              0.6666666666666666,
              "#ed7953"
             ],
             [
              0.7777777777777778,
              "#fb9f3a"
             ],
             [
              0.8888888888888888,
              "#fdca26"
             ],
             [
              1,
              "#f0f921"
             ]
            ],
            "type": "surface"
           }
          ],
          "table": [
           {
            "cells": {
             "fill": {
              "color": "#EBF0F8"
             },
             "line": {
              "color": "white"
             }
            },
            "header": {
             "fill": {
              "color": "#C8D4E3"
             },
             "line": {
              "color": "white"
             }
            },
            "type": "table"
           }
          ]
         },
         "layout": {
          "annotationdefaults": {
           "arrowcolor": "#2a3f5f",
           "arrowhead": 0,
           "arrowwidth": 1
          },
          "autotypenumbers": "strict",
          "coloraxis": {
           "colorbar": {
            "outlinewidth": 0,
            "ticks": ""
           }
          },
          "colorscale": {
           "diverging": [
            [
             0,
             "#8e0152"
            ],
            [
             0.1,
             "#c51b7d"
            ],
            [
             0.2,
             "#de77ae"
            ],
            [
             0.3,
             "#f1b6da"
            ],
            [
             0.4,
             "#fde0ef"
            ],
            [
             0.5,
             "#f7f7f7"
            ],
            [
             0.6,
             "#e6f5d0"
            ],
            [
             0.7,
             "#b8e186"
            ],
            [
             0.8,
             "#7fbc41"
            ],
            [
             0.9,
             "#4d9221"
            ],
            [
             1,
             "#276419"
            ]
           ],
           "sequential": [
            [
             0,
             "#0d0887"
            ],
            [
             0.1111111111111111,
             "#46039f"
            ],
            [
             0.2222222222222222,
             "#7201a8"
            ],
            [
             0.3333333333333333,
             "#9c179e"
            ],
            [
             0.4444444444444444,
             "#bd3786"
            ],
            [
             0.5555555555555556,
             "#d8576b"
            ],
            [
             0.6666666666666666,
             "#ed7953"
            ],
            [
             0.7777777777777778,
             "#fb9f3a"
            ],
            [
             0.8888888888888888,
             "#fdca26"
            ],
            [
             1,
             "#f0f921"
            ]
           ],
           "sequentialminus": [
            [
             0,
             "#0d0887"
            ],
            [
             0.1111111111111111,
             "#46039f"
            ],
            [
             0.2222222222222222,
             "#7201a8"
            ],
            [
             0.3333333333333333,
             "#9c179e"
            ],
            [
             0.4444444444444444,
             "#bd3786"
            ],
            [
             0.5555555555555556,
             "#d8576b"
            ],
            [
             0.6666666666666666,
             "#ed7953"
            ],
            [
             0.7777777777777778,
             "#fb9f3a"
            ],
            [
             0.8888888888888888,
             "#fdca26"
            ],
            [
             1,
             "#f0f921"
            ]
           ]
          },
          "colorway": [
           "#636efa",
           "#EF553B",
           "#00cc96",
           "#ab63fa",
           "#FFA15A",
           "#19d3f3",
           "#FF6692",
           "#B6E880",
           "#FF97FF",
           "#FECB52"
          ],
          "font": {
           "color": "#2a3f5f"
          },
          "geo": {
           "bgcolor": "white",
           "lakecolor": "white",
           "landcolor": "#E5ECF6",
           "showlakes": true,
           "showland": true,
           "subunitcolor": "white"
          },
          "hoverlabel": {
           "align": "left"
          },
          "hovermode": "closest",
          "mapbox": {
           "style": "light"
          },
          "paper_bgcolor": "white",
          "plot_bgcolor": "#E5ECF6",
          "polar": {
           "angularaxis": {
            "gridcolor": "white",
            "linecolor": "white",
            "ticks": ""
           },
           "bgcolor": "#E5ECF6",
           "radialaxis": {
            "gridcolor": "white",
            "linecolor": "white",
            "ticks": ""
           }
          },
          "scene": {
           "xaxis": {
            "backgroundcolor": "#E5ECF6",
            "gridcolor": "white",
            "gridwidth": 2,
            "linecolor": "white",
            "showbackground": true,
            "ticks": "",
            "zerolinecolor": "white"
           },
           "yaxis": {
            "backgroundcolor": "#E5ECF6",
            "gridcolor": "white",
            "gridwidth": 2,
            "linecolor": "white",
            "showbackground": true,
            "ticks": "",
            "zerolinecolor": "white"
           },
           "zaxis": {
            "backgroundcolor": "#E5ECF6",
            "gridcolor": "white",
            "gridwidth": 2,
            "linecolor": "white",
            "showbackground": true,
            "ticks": "",
            "zerolinecolor": "white"
           }
          },
          "shapedefaults": {
           "line": {
            "color": "#2a3f5f"
           }
          },
          "ternary": {
           "aaxis": {
            "gridcolor": "white",
            "linecolor": "white",
            "ticks": ""
           },
           "baxis": {
            "gridcolor": "white",
            "linecolor": "white",
            "ticks": ""
           },
           "bgcolor": "#E5ECF6",
           "caxis": {
            "gridcolor": "white",
            "linecolor": "white",
            "ticks": ""
           }
          },
          "title": {
           "x": 0.05
          },
          "xaxis": {
           "automargin": true,
           "gridcolor": "white",
           "linecolor": "white",
           "ticks": "",
           "title": {
            "standoff": 15
           },
           "zerolinecolor": "white",
           "zerolinewidth": 2
          },
          "yaxis": {
           "automargin": true,
           "gridcolor": "white",
           "linecolor": "white",
           "ticks": "",
           "title": {
            "standoff": 15
           },
           "zerolinecolor": "white",
           "zerolinewidth": 2
          }
         }
        },
        "title": {
         "font": {
          "color": "#4D5663"
         }
        },
        "xaxis": {
         "gridcolor": "#E1E5ED",
         "showgrid": true,
         "tickfont": {
          "color": "#4D5663"
         },
         "title": {
          "font": {
           "color": "#4D5663"
          },
          "text": ""
         },
         "zerolinecolor": "#E1E5ED"
        },
        "yaxis": {
         "gridcolor": "#E1E5ED",
         "showgrid": true,
         "tickfont": {
          "color": "#4D5663"
         },
         "title": {
          "font": {
           "color": "#4D5663"
          },
          "text": ""
         },
         "zerolinecolor": "#E1E5ED"
        }
       }
      },
      "text/html": [
       "<div>                            <div id=\"029aaa44-8144-45ed-b27c-b6bb0a2549d2\" class=\"plotly-graph-div\" style=\"height:525px; width:100%;\"></div>            <script type=\"text/javascript\">                require([\"plotly\"], function(Plotly) {                    window.PLOTLYENV=window.PLOTLYENV || {};\n",
       "                    window.PLOTLYENV.BASE_URL='https://plot.ly';                                    if (document.getElementById(\"029aaa44-8144-45ed-b27c-b6bb0a2549d2\")) {                    Plotly.newPlot(                        \"029aaa44-8144-45ed-b27c-b6bb0a2549d2\",                        [{\"colorscale\": [[0.0, \"rgb(165,0,38)\"], [0.1, \"rgb(215,48,39)\"], [0.2, \"rgb(244,109,67)\"], [0.3, \"rgb(253,174,97)\"], [0.4, \"rgb(254,224,144)\"], [0.5, \"rgb(255,255,191)\"], [0.6, \"rgb(224,243,248)\"], [0.7, \"rgb(171,217,233)\"], [0.8, \"rgb(116,173,209)\"], [0.9, \"rgb(69,117,180)\"], [1.0, \"rgb(49,54,149)\"]], \"type\": \"surface\", \"x\": [0, 1, 2, 3, 4], \"y\": [\"x\", \"y\", \"z\"], \"z\": [[1, 2, 3, 4, 5], [10, 20, 30, 20, 10], [5, 4, 3, 2, 1]]}],                        {\"legend\": {\"bgcolor\": \"#F5F6F9\", \"font\": {\"color\": \"#4D5663\"}}, \"paper_bgcolor\": \"#F5F6F9\", \"plot_bgcolor\": \"#F5F6F9\", \"template\": {\"data\": {\"bar\": [{\"error_x\": {\"color\": \"#2a3f5f\"}, \"error_y\": {\"color\": \"#2a3f5f\"}, \"marker\": {\"line\": {\"color\": \"#E5ECF6\", \"width\": 0.5}}, \"type\": \"bar\"}], \"barpolar\": [{\"marker\": {\"line\": {\"color\": \"#E5ECF6\", \"width\": 0.5}}, \"type\": \"barpolar\"}], \"carpet\": [{\"aaxis\": {\"endlinecolor\": \"#2a3f5f\", \"gridcolor\": \"white\", \"linecolor\": \"white\", \"minorgridcolor\": \"white\", \"startlinecolor\": \"#2a3f5f\"}, \"baxis\": {\"endlinecolor\": \"#2a3f5f\", \"gridcolor\": \"white\", \"linecolor\": \"white\", \"minorgridcolor\": \"white\", \"startlinecolor\": \"#2a3f5f\"}, \"type\": \"carpet\"}], \"choropleth\": [{\"colorbar\": {\"outlinewidth\": 0, \"ticks\": \"\"}, \"type\": \"choropleth\"}], \"contour\": [{\"colorbar\": {\"outlinewidth\": 0, \"ticks\": \"\"}, \"colorscale\": [[0.0, \"#0d0887\"], [0.1111111111111111, \"#46039f\"], [0.2222222222222222, \"#7201a8\"], [0.3333333333333333, \"#9c179e\"], [0.4444444444444444, \"#bd3786\"], [0.5555555555555556, \"#d8576b\"], [0.6666666666666666, \"#ed7953\"], [0.7777777777777778, \"#fb9f3a\"], [0.8888888888888888, \"#fdca26\"], [1.0, \"#f0f921\"]], \"type\": \"contour\"}], \"contourcarpet\": [{\"colorbar\": {\"outlinewidth\": 0, \"ticks\": \"\"}, \"type\": \"contourcarpet\"}], \"heatmap\": [{\"colorbar\": {\"outlinewidth\": 0, \"ticks\": \"\"}, \"colorscale\": [[0.0, \"#0d0887\"], [0.1111111111111111, \"#46039f\"], [0.2222222222222222, \"#7201a8\"], [0.3333333333333333, \"#9c179e\"], [0.4444444444444444, \"#bd3786\"], [0.5555555555555556, \"#d8576b\"], [0.6666666666666666, \"#ed7953\"], [0.7777777777777778, \"#fb9f3a\"], [0.8888888888888888, \"#fdca26\"], [1.0, \"#f0f921\"]], \"type\": \"heatmap\"}], \"heatmapgl\": [{\"colorbar\": {\"outlinewidth\": 0, \"ticks\": \"\"}, \"colorscale\": [[0.0, \"#0d0887\"], [0.1111111111111111, \"#46039f\"], [0.2222222222222222, \"#7201a8\"], [0.3333333333333333, \"#9c179e\"], [0.4444444444444444, \"#bd3786\"], [0.5555555555555556, \"#d8576b\"], [0.6666666666666666, \"#ed7953\"], [0.7777777777777778, \"#fb9f3a\"], [0.8888888888888888, \"#fdca26\"], [1.0, \"#f0f921\"]], \"type\": \"heatmapgl\"}], \"histogram\": [{\"marker\": {\"colorbar\": {\"outlinewidth\": 0, \"ticks\": \"\"}}, \"type\": \"histogram\"}], \"histogram2d\": [{\"colorbar\": {\"outlinewidth\": 0, \"ticks\": \"\"}, \"colorscale\": [[0.0, \"#0d0887\"], [0.1111111111111111, \"#46039f\"], [0.2222222222222222, \"#7201a8\"], [0.3333333333333333, \"#9c179e\"], [0.4444444444444444, \"#bd3786\"], [0.5555555555555556, \"#d8576b\"], [0.6666666666666666, \"#ed7953\"], [0.7777777777777778, \"#fb9f3a\"], [0.8888888888888888, \"#fdca26\"], [1.0, \"#f0f921\"]], \"type\": \"histogram2d\"}], \"histogram2dcontour\": [{\"colorbar\": {\"outlinewidth\": 0, \"ticks\": \"\"}, \"colorscale\": [[0.0, \"#0d0887\"], [0.1111111111111111, \"#46039f\"], [0.2222222222222222, \"#7201a8\"], [0.3333333333333333, \"#9c179e\"], [0.4444444444444444, \"#bd3786\"], [0.5555555555555556, \"#d8576b\"], [0.6666666666666666, \"#ed7953\"], [0.7777777777777778, \"#fb9f3a\"], [0.8888888888888888, \"#fdca26\"], [1.0, \"#f0f921\"]], \"type\": \"histogram2dcontour\"}], \"mesh3d\": [{\"colorbar\": {\"outlinewidth\": 0, \"ticks\": \"\"}, \"type\": \"mesh3d\"}], \"parcoords\": [{\"line\": {\"colorbar\": {\"outlinewidth\": 0, \"ticks\": \"\"}}, \"type\": \"parcoords\"}], \"pie\": [{\"automargin\": true, \"type\": \"pie\"}], \"scatter\": [{\"marker\": {\"colorbar\": {\"outlinewidth\": 0, \"ticks\": \"\"}}, \"type\": \"scatter\"}], \"scatter3d\": [{\"line\": {\"colorbar\": {\"outlinewidth\": 0, \"ticks\": \"\"}}, \"marker\": {\"colorbar\": {\"outlinewidth\": 0, \"ticks\": \"\"}}, \"type\": \"scatter3d\"}], \"scattercarpet\": [{\"marker\": {\"colorbar\": {\"outlinewidth\": 0, \"ticks\": \"\"}}, \"type\": \"scattercarpet\"}], \"scattergeo\": [{\"marker\": {\"colorbar\": {\"outlinewidth\": 0, \"ticks\": \"\"}}, \"type\": \"scattergeo\"}], \"scattergl\": [{\"marker\": {\"colorbar\": {\"outlinewidth\": 0, \"ticks\": \"\"}}, \"type\": \"scattergl\"}], \"scattermapbox\": [{\"marker\": {\"colorbar\": {\"outlinewidth\": 0, \"ticks\": \"\"}}, \"type\": \"scattermapbox\"}], \"scatterpolar\": [{\"marker\": {\"colorbar\": {\"outlinewidth\": 0, \"ticks\": \"\"}}, \"type\": \"scatterpolar\"}], \"scatterpolargl\": [{\"marker\": {\"colorbar\": {\"outlinewidth\": 0, \"ticks\": \"\"}}, \"type\": \"scatterpolargl\"}], \"scatterternary\": [{\"marker\": {\"colorbar\": {\"outlinewidth\": 0, \"ticks\": \"\"}}, \"type\": \"scatterternary\"}], \"surface\": [{\"colorbar\": {\"outlinewidth\": 0, \"ticks\": \"\"}, \"colorscale\": [[0.0, \"#0d0887\"], [0.1111111111111111, \"#46039f\"], [0.2222222222222222, \"#7201a8\"], [0.3333333333333333, \"#9c179e\"], [0.4444444444444444, \"#bd3786\"], [0.5555555555555556, \"#d8576b\"], [0.6666666666666666, \"#ed7953\"], [0.7777777777777778, \"#fb9f3a\"], [0.8888888888888888, \"#fdca26\"], [1.0, \"#f0f921\"]], \"type\": \"surface\"}], \"table\": [{\"cells\": {\"fill\": {\"color\": \"#EBF0F8\"}, \"line\": {\"color\": \"white\"}}, \"header\": {\"fill\": {\"color\": \"#C8D4E3\"}, \"line\": {\"color\": \"white\"}}, \"type\": \"table\"}]}, \"layout\": {\"annotationdefaults\": {\"arrowcolor\": \"#2a3f5f\", \"arrowhead\": 0, \"arrowwidth\": 1}, \"autotypenumbers\": \"strict\", \"coloraxis\": {\"colorbar\": {\"outlinewidth\": 0, \"ticks\": \"\"}}, \"colorscale\": {\"diverging\": [[0, \"#8e0152\"], [0.1, \"#c51b7d\"], [0.2, \"#de77ae\"], [0.3, \"#f1b6da\"], [0.4, \"#fde0ef\"], [0.5, \"#f7f7f7\"], [0.6, \"#e6f5d0\"], [0.7, \"#b8e186\"], [0.8, \"#7fbc41\"], [0.9, \"#4d9221\"], [1, \"#276419\"]], \"sequential\": [[0.0, \"#0d0887\"], [0.1111111111111111, \"#46039f\"], [0.2222222222222222, \"#7201a8\"], [0.3333333333333333, \"#9c179e\"], [0.4444444444444444, \"#bd3786\"], [0.5555555555555556, \"#d8576b\"], [0.6666666666666666, \"#ed7953\"], [0.7777777777777778, \"#fb9f3a\"], [0.8888888888888888, \"#fdca26\"], [1.0, \"#f0f921\"]], \"sequentialminus\": [[0.0, \"#0d0887\"], [0.1111111111111111, \"#46039f\"], [0.2222222222222222, \"#7201a8\"], [0.3333333333333333, \"#9c179e\"], [0.4444444444444444, \"#bd3786\"], [0.5555555555555556, \"#d8576b\"], [0.6666666666666666, \"#ed7953\"], [0.7777777777777778, \"#fb9f3a\"], [0.8888888888888888, \"#fdca26\"], [1.0, \"#f0f921\"]]}, \"colorway\": [\"#636efa\", \"#EF553B\", \"#00cc96\", \"#ab63fa\", \"#FFA15A\", \"#19d3f3\", \"#FF6692\", \"#B6E880\", \"#FF97FF\", \"#FECB52\"], \"font\": {\"color\": \"#2a3f5f\"}, \"geo\": {\"bgcolor\": \"white\", \"lakecolor\": \"white\", \"landcolor\": \"#E5ECF6\", \"showlakes\": true, \"showland\": true, \"subunitcolor\": \"white\"}, \"hoverlabel\": {\"align\": \"left\"}, \"hovermode\": \"closest\", \"mapbox\": {\"style\": \"light\"}, \"paper_bgcolor\": \"white\", \"plot_bgcolor\": \"#E5ECF6\", \"polar\": {\"angularaxis\": {\"gridcolor\": \"white\", \"linecolor\": \"white\", \"ticks\": \"\"}, \"bgcolor\": \"#E5ECF6\", \"radialaxis\": {\"gridcolor\": \"white\", \"linecolor\": \"white\", \"ticks\": \"\"}}, \"scene\": {\"xaxis\": {\"backgroundcolor\": \"#E5ECF6\", \"gridcolor\": \"white\", \"gridwidth\": 2, \"linecolor\": \"white\", \"showbackground\": true, \"ticks\": \"\", \"zerolinecolor\": \"white\"}, \"yaxis\": {\"backgroundcolor\": \"#E5ECF6\", \"gridcolor\": \"white\", \"gridwidth\": 2, \"linecolor\": \"white\", \"showbackground\": true, \"ticks\": \"\", \"zerolinecolor\": \"white\"}, \"zaxis\": {\"backgroundcolor\": \"#E5ECF6\", \"gridcolor\": \"white\", \"gridwidth\": 2, \"linecolor\": \"white\", \"showbackground\": true, \"ticks\": \"\", \"zerolinecolor\": \"white\"}}, \"shapedefaults\": {\"line\": {\"color\": \"#2a3f5f\"}}, \"ternary\": {\"aaxis\": {\"gridcolor\": \"white\", \"linecolor\": \"white\", \"ticks\": \"\"}, \"baxis\": {\"gridcolor\": \"white\", \"linecolor\": \"white\", \"ticks\": \"\"}, \"bgcolor\": \"#E5ECF6\", \"caxis\": {\"gridcolor\": \"white\", \"linecolor\": \"white\", \"ticks\": \"\"}}, \"title\": {\"x\": 0.05}, \"xaxis\": {\"automargin\": true, \"gridcolor\": \"white\", \"linecolor\": \"white\", \"ticks\": \"\", \"title\": {\"standoff\": 15}, \"zerolinecolor\": \"white\", \"zerolinewidth\": 2}, \"yaxis\": {\"automargin\": true, \"gridcolor\": \"white\", \"linecolor\": \"white\", \"ticks\": \"\", \"title\": {\"standoff\": 15}, \"zerolinecolor\": \"white\", \"zerolinewidth\": 2}}}, \"title\": {\"font\": {\"color\": \"#4D5663\"}}, \"xaxis\": {\"gridcolor\": \"#E1E5ED\", \"showgrid\": true, \"tickfont\": {\"color\": \"#4D5663\"}, \"title\": {\"font\": {\"color\": \"#4D5663\"}, \"text\": \"\"}, \"zerolinecolor\": \"#E1E5ED\"}, \"yaxis\": {\"gridcolor\": \"#E1E5ED\", \"showgrid\": true, \"tickfont\": {\"color\": \"#4D5663\"}, \"title\": {\"font\": {\"color\": \"#4D5663\"}, \"text\": \"\"}, \"zerolinecolor\": \"#E1E5ED\"}},                        {\"showLink\": true, \"linkText\": \"Export to plot.ly\", \"plotlyServerURL\": \"https://plot.ly\", \"responsive\": true}                    ).then(function(){\n",
       "                            \n",
       "var gd = document.getElementById('029aaa44-8144-45ed-b27c-b6bb0a2549d2');\n",
       "var x = new MutationObserver(function (mutations, observer) {{\n",
       "        var display = window.getComputedStyle(gd).display;\n",
       "        if (!display || display === 'none') {{\n",
       "            console.log([gd, 'removed!']);\n",
       "            Plotly.purge(gd);\n",
       "            observer.disconnect();\n",
       "        }}\n",
       "}});\n",
       "\n",
       "// Listen for the removal of the full notebook cells\n",
       "var notebookContainer = gd.closest('#notebook-container');\n",
       "if (notebookContainer) {{\n",
       "    x.observe(notebookContainer, {childList: true});\n",
       "}}\n",
       "\n",
       "// Listen for the clearing of the current output cell\n",
       "var outputEl = gd.closest('.output');\n",
       "if (outputEl) {{\n",
       "    x.observe(outputEl, {childList: true});\n",
       "}}\n",
       "\n",
       "                        })                };                });            </script>        </div>"
      ]
     },
     "metadata": {},
     "output_type": "display_data"
    }
   ],
   "source": [
    "df3 = pd.DataFrame({'x':[1,2,3,4,5],'y':[10,20,30,20,10],'z':[5,4,3,2,1]})\n",
    "df3.iplot(kind='surface',colorscale='rdylbu')\n"
   ]
  },
  {
   "cell_type": "markdown",
   "metadata": {},
   "source": [
    "## Spread"
   ]
  },
  {
   "cell_type": "code",
   "execution_count": 16,
   "metadata": {},
   "outputs": [
    {
     "name": "stderr",
     "output_type": "stream",
     "text": [
      "C:\\Users\\vedo\\anaconda3\\lib\\site-packages\\cufflinks\\plotlytools.py:849: FutureWarning:\n",
      "\n",
      "The pandas.np module is deprecated and will be removed from pandas in a future version. Import numpy directly instead\n",
      "\n",
      "C:\\Users\\vedo\\anaconda3\\lib\\site-packages\\cufflinks\\plotlytools.py:850: FutureWarning:\n",
      "\n",
      "The pandas.np module is deprecated and will be removed from pandas in a future version. Import numpy directly instead\n",
      "\n"
     ]
    },
    {
     "data": {
      "application/vnd.plotly.v1+json": {
       "config": {
        "linkText": "Export to plot.ly",
        "plotlyServerURL": "https://plot.ly",
        "showLink": true
       },
       "data": [
        {
         "line": {
          "color": "rgba(255, 153, 51, 1.0)",
          "dash": "solid",
          "shape": "linear",
          "width": 1.3
         },
         "mode": "lines",
         "name": "A",
         "text": "",
         "type": "scatter",
         "x": [
          0,
          1,
          2,
          3,
          4,
          5,
          6,
          7,
          8,
          9,
          10,
          11,
          12,
          13,
          14,
          15,
          16,
          17,
          18,
          19,
          20,
          21,
          22,
          23,
          24,
          25,
          26,
          27,
          28,
          29,
          30,
          31,
          32,
          33,
          34,
          35,
          36,
          37,
          38,
          39,
          40,
          41,
          42,
          43,
          44,
          45,
          46,
          47,
          48,
          49,
          50,
          51,
          52,
          53,
          54,
          55,
          56,
          57,
          58,
          59,
          60,
          61,
          62,
          63,
          64,
          65,
          66,
          67,
          68,
          69,
          70,
          71,
          72,
          73,
          74,
          75,
          76,
          77,
          78,
          79,
          80,
          81,
          82,
          83,
          84,
          85,
          86,
          87,
          88,
          89,
          90,
          91,
          92,
          93,
          94,
          95,
          96,
          97,
          98,
          99
         ],
         "y": [
          1.0059849258878888,
          -0.7010283547172209,
          -0.5530126170762337,
          1.5053586782927417,
          -0.14726718874838793,
          0.9770648926030767,
          0.6582506381399114,
          1.0301364104111772,
          -0.6260545174128129,
          -0.23780547328255147,
          0.8692692347787173,
          -0.5941485868327748,
          1.3591357195353555,
          -0.06399674516066887,
          0.829491071166314,
          0.5075254902761043,
          0.39113458866456685,
          1.063590572916894,
          0.8260655068010079,
          0.05245914539600717,
          -0.29323652668514805,
          -0.8401937481829118,
          0.024392012903958628,
          -1.521808563029623,
          -1.7272984737501598,
          -1.2563625232193036,
          0.633200412942476,
          -0.06367695602209411,
          -0.9017297357282704,
          0.11698081887161703,
          1.1789543999818366,
          0.7660384597132036,
          -0.14251541251705346,
          -1.4439954490372702,
          -0.1134737009733189,
          0.3916399896467472,
          -1.6438615230459779,
          -1.575452925220763,
          0.19490135135400036,
          -0.44498886895191403,
          0.2312126079129507,
          -0.19627309617738198,
          -1.5339188969959598,
          -1.0101177305805602,
          -0.5550261122432499,
          0.5981372038864573,
          1.9910393634213503,
          0.2492201885622451,
          -0.9944304584636777,
          0.5646967420168103,
          -0.08274449653620139,
          -0.7036502030924995,
          -0.30780049682799165,
          0.37452281339802984,
          -1.7872024370426731,
          1.3150335765180852,
          -0.5022658671929559,
          -0.344075543749246,
          -2.2374361399516345,
          1.041499401164971,
          0.7817975414736285,
          1.107319698661312,
          -1.2737183030994284,
          -0.5950888503549907,
          -1.190172709089028,
          -0.8952366180461947,
          -0.9450534445999006,
          0.7107542518724876,
          -0.24820813158798022,
          0.4198423385645599,
          0.6047113262770456,
          -0.4160311294851515,
          -0.36728501047823253,
          0.3451507507628055,
          3.0630486256974994,
          -0.08746757371406043,
          0.5379769422520592,
          -0.5196889635008731,
          -0.6871870613667098,
          -0.9885145886506468,
          -0.05642607429579795,
          0.694024910793667,
          0.1117698851259172,
          0.6280284197808698,
          -0.41881620021060223,
          0.0163714417546095,
          0.6214157736302589,
          2.5611775910144434,
          -1.651426960827347,
          0.7276986756237057,
          0.0020637820745796525,
          1.0825882895513737,
          0.8522486570762773,
          0.9254765481327194,
          2.369406636690293,
          -0.1864307255187936,
          -1.2220120453149546,
          0.12374884427234126,
          1.0240876997603876,
          0.9306315414048747
         ]
        },
        {
         "line": {
          "color": "rgba(55, 128, 191, 1.0)",
          "dash": "solid",
          "shape": "linear",
          "width": 1.3
         },
         "mode": "lines",
         "name": "B",
         "text": "",
         "type": "scatter",
         "x": [
          0,
          1,
          2,
          3,
          4,
          5,
          6,
          7,
          8,
          9,
          10,
          11,
          12,
          13,
          14,
          15,
          16,
          17,
          18,
          19,
          20,
          21,
          22,
          23,
          24,
          25,
          26,
          27,
          28,
          29,
          30,
          31,
          32,
          33,
          34,
          35,
          36,
          37,
          38,
          39,
          40,
          41,
          42,
          43,
          44,
          45,
          46,
          47,
          48,
          49,
          50,
          51,
          52,
          53,
          54,
          55,
          56,
          57,
          58,
          59,
          60,
          61,
          62,
          63,
          64,
          65,
          66,
          67,
          68,
          69,
          70,
          71,
          72,
          73,
          74,
          75,
          76,
          77,
          78,
          79,
          80,
          81,
          82,
          83,
          84,
          85,
          86,
          87,
          88,
          89,
          90,
          91,
          92,
          93,
          94,
          95,
          96,
          97,
          98,
          99
         ],
         "y": [
          0.27123248257990207,
          -0.79942997399121,
          0.27772911725777966,
          0.18960229284980287,
          -0.8044425029603967,
          0.7931602887107293,
          0.09652443857989028,
          0.8655015370064665,
          1.8308095515374818,
          0.2749896402271901,
          -2.362470749558614,
          0.11318463248836325,
          1.1119060219411647,
          0.8413226249722645,
          0.264162004739382,
          -0.6226535951055381,
          -0.737187879777522,
          -0.3626954861256312,
          0.4294362143199215,
          0.41469046140977495,
          0.5680125191650225,
          -1.2090340893662848,
          -1.1517342459828552,
          0.07448158921672837,
          0.4342728711098793,
          -0.20340173641225098,
          -0.528340097965374,
          0.4026325670699657,
          -0.40849660314465924,
          -0.9428728834213882,
          -1.0889224753201423,
          0.4343412244961164,
          -0.7027380984223325,
          1.1319173613819913,
          1.6681268067655357,
          1.2858714822530204,
          1.4153351993627128,
          -0.08415221277465915,
          0.17385461825845852,
          -1.8272643020599595,
          2.2419576746860828,
          -2.3016095629002367,
          0.4881547327449486,
          1.1274204073827983,
          -1.6610304314092292,
          0.5084657836063696,
          1.1018806738410605,
          1.7331852105972836,
          -1.6921562959754037,
          0.7935734457392073,
          -0.4618448454747036,
          0.09704187385754046,
          1.6348279512783874,
          0.19093918341701024,
          0.5081161905495156,
          0.10409349820610142,
          0.5898422928262188,
          1.2059751159993455,
          -0.5116586540463366,
          2.3208666873631407,
          0.6591266073249621,
          0.011168806554076564,
          -0.24826244758228458,
          -0.2025377569889235,
          -1.214073633209104,
          -0.5942956343079454,
          0.42789903281354497,
          -0.7250345597938104,
          0.9089201785078819,
          -1.7571715280512354,
          -0.36961300780873146,
          -0.8017050054439957,
          -1.6479669486704083,
          -0.5583710349189371,
          0.18414634913941588,
          0.6033431857155406,
          -0.1260205311565872,
          1.7062195203355053,
          0.5551594111777242,
          0.45691501176084015,
          1.439617458449986,
          0.6476365584272519,
          -0.4839348534689651,
          -0.013750335017990164,
          -0.4257175480997596,
          0.6781859750888468,
          -0.25706909317655696,
          -0.5362230018794678,
          1.2984894985704358,
          -0.5492264295963026,
          -0.33213986415001917,
          1.8882234704904772,
          -0.6624309121654113,
          1.446259954425405,
          1.2473065619110835,
          -0.4161884594577917,
          0.08657820546570494,
          -1.2691170457140617,
          0.5963599115083469,
          1.5661208240920954
         ]
        },
        {
         "connectgaps": false,
         "fill": "tozeroy",
         "line": {
          "color": "green",
          "dash": "solid",
          "shape": "linear",
          "width": 0.5
         },
         "mode": "lines",
         "name": "Spread",
         "showlegend": false,
         "type": "scatter",
         "x": [
          0,
          1,
          2,
          3,
          4,
          5,
          6,
          7,
          8,
          9,
          10,
          11,
          12,
          13,
          14,
          15,
          16,
          17,
          18,
          19,
          20,
          21,
          22,
          23,
          24,
          25,
          26,
          27,
          28,
          29,
          30,
          31,
          32,
          33,
          34,
          35,
          36,
          37,
          38,
          39,
          40,
          41,
          42,
          43,
          44,
          45,
          46,
          47,
          48,
          49,
          50,
          51,
          52,
          53,
          54,
          55,
          56,
          57,
          58,
          59,
          60,
          61,
          62,
          63,
          64,
          65,
          66,
          67,
          68,
          69,
          70,
          71,
          72,
          73,
          74,
          75,
          76,
          77,
          78,
          79,
          80,
          81,
          82,
          83,
          84,
          85,
          86,
          87,
          88,
          89,
          90,
          91,
          92,
          93,
          94,
          95,
          96,
          97,
          98,
          99
         ],
         "xaxis": "x2",
         "y": [
          0.7347524433079867,
          0.09840161927398905,
          "",
          1.3157563854429388,
          0.6571753142120087,
          0.18390460389234742,
          0.5617261995600211,
          0.16463487340471072,
          "",
          "",
          3.2317399843373313,
          "",
          0.24722969759419078,
          "",
          0.565329066426932,
          1.1301790853816422,
          1.128322468442089,
          1.4262860590425253,
          0.39662929248108636,
          "",
          "",
          0.36884034118337294,
          1.1761262588868138,
          "",
          "",
          "",
          1.1615405109078498,
          "",
          "",
          1.0598537022930052,
          2.2678768753019787,
          0.3316972352170872,
          0.560222685905279,
          "",
          "",
          "",
          "",
          "",
          0.021046733095541836,
          1.3822754331080453,
          "",
          2.1053364667228545,
          "",
          "",
          1.1060043191659794,
          0.08967142028008768,
          0.8891586895802899,
          "",
          0.697725837511726,
          "",
          0.3791003489385022,
          "",
          "",
          0.1835836299810196,
          "",
          1.2109400783119837,
          "",
          "",
          "",
          "",
          0.12267093414866637,
          1.0961508921072356,
          "",
          "",
          0.02390092412007605,
          "",
          "",
          1.435788811666298,
          "",
          2.177013866615795,
          0.974324334085777,
          0.3856738759588442,
          1.2806819381921757,
          0.9035217856817426,
          2.8789022765580836,
          "",
          0.6639974734086463,
          "",
          "",
          "",
          "",
          0.04638835236641514,
          0.5957047385948823,
          0.6417787547988599,
          0.006901347889157361,
          "",
          0.8784848668068159,
          3.0974005928939112,
          "",
          1.2769251052200083,
          0.3342036462245988,
          "",
          1.5146795692416886,
          "",
          1.1221000747792096,
          0.2297577339389981,
          "",
          1.392865889986403,
          0.4277277882520407,
          ""
         ],
         "yaxis": "y2"
        },
        {
         "connectgaps": false,
         "fill": "tozeroy",
         "line": {
          "color": "red",
          "dash": "solid",
          "shape": "linear",
          "width": 0.5
         },
         "mode": "lines",
         "name": "Spread",
         "showlegend": false,
         "type": "scatter",
         "x": [
          0,
          1,
          2,
          3,
          4,
          5,
          6,
          7,
          8,
          9,
          10,
          11,
          12,
          13,
          14,
          15,
          16,
          17,
          18,
          19,
          20,
          21,
          22,
          23,
          24,
          25,
          26,
          27,
          28,
          29,
          30,
          31,
          32,
          33,
          34,
          35,
          36,
          37,
          38,
          39,
          40,
          41,
          42,
          43,
          44,
          45,
          46,
          47,
          48,
          49,
          50,
          51,
          52,
          53,
          54,
          55,
          56,
          57,
          58,
          59,
          60,
          61,
          62,
          63,
          64,
          65,
          66,
          67,
          68,
          69,
          70,
          71,
          72,
          73,
          74,
          75,
          76,
          77,
          78,
          79,
          80,
          81,
          82,
          83,
          84,
          85,
          86,
          87,
          88,
          89,
          90,
          91,
          92,
          93,
          94,
          95,
          96,
          97,
          98,
          99
         ],
         "xaxis": "x2",
         "y": [
          "",
          "",
          -0.8307417343340133,
          "",
          "",
          "",
          "",
          "",
          -2.4568640689502947,
          -0.5127951135097415,
          "",
          -0.7073332193211381,
          "",
          -0.9053193701329334,
          "",
          "",
          "",
          "",
          "",
          -0.3622313160137678,
          -0.8612490458501705,
          "",
          "",
          -1.5962901522463513,
          -2.161571344860039,
          -1.0529607868070527,
          "",
          -0.4663095230920598,
          -0.4932331325836112,
          "",
          "",
          "",
          "",
          -2.5759128104192612,
          -1.7816005077388546,
          -0.8942314926062732,
          -3.0591967224086907,
          -1.4913007124461037,
          "",
          "",
          -2.010745066773132,
          "",
          -2.0220736297409085,
          -2.1375381379633582,
          "",
          "",
          "",
          -1.4839650220350384,
          "",
          -0.228876703722397,
          "",
          -0.80069207695004,
          -1.9426284481063791,
          "",
          -2.295318627592189,
          "",
          -1.0921081600191747,
          -1.5500506597485915,
          -1.725777485905298,
          -1.2793672861981698,
          "",
          "",
          -1.0254558555171438,
          -0.3925510933660672,
          "",
          -0.3009409837382493,
          -1.3729524774134456,
          "",
          -1.157128310095862,
          "",
          "",
          "",
          "",
          "",
          "",
          -0.690810759429601,
          "",
          -2.2259084838363785,
          -1.242346472544434,
          -1.445429600411487,
          -1.496043532745784,
          "",
          "",
          "",
          "",
          -0.6618145333342373,
          "",
          "",
          -2.949916459397783,
          "",
          "",
          -0.8056351809391036,
          "",
          -0.5207834062926855,
          "",
          "",
          -1.3085902507806595,
          "",
          "",
          -0.6354892826872207
         ],
         "yaxis": "y2"
        }
       ],
       "layout": {
        "hovermode": "x",
        "legend": {
         "bgcolor": "#F5F6F9",
         "font": {
          "color": "#4D5663"
         }
        },
        "paper_bgcolor": "#F5F6F9",
        "plot_bgcolor": "#F5F6F9",
        "template": {
         "data": {
          "bar": [
           {
            "error_x": {
             "color": "#2a3f5f"
            },
            "error_y": {
             "color": "#2a3f5f"
            },
            "marker": {
             "line": {
              "color": "#E5ECF6",
              "width": 0.5
             }
            },
            "type": "bar"
           }
          ],
          "barpolar": [
           {
            "marker": {
             "line": {
              "color": "#E5ECF6",
              "width": 0.5
             }
            },
            "type": "barpolar"
           }
          ],
          "carpet": [
           {
            "aaxis": {
             "endlinecolor": "#2a3f5f",
             "gridcolor": "white",
             "linecolor": "white",
             "minorgridcolor": "white",
             "startlinecolor": "#2a3f5f"
            },
            "baxis": {
             "endlinecolor": "#2a3f5f",
             "gridcolor": "white",
             "linecolor": "white",
             "minorgridcolor": "white",
             "startlinecolor": "#2a3f5f"
            },
            "type": "carpet"
           }
          ],
          "choropleth": [
           {
            "colorbar": {
             "outlinewidth": 0,
             "ticks": ""
            },
            "type": "choropleth"
           }
          ],
          "contour": [
           {
            "colorbar": {
             "outlinewidth": 0,
             "ticks": ""
            },
            "colorscale": [
             [
              0,
              "#0d0887"
             ],
             [
              0.1111111111111111,
              "#46039f"
             ],
             [
              0.2222222222222222,
              "#7201a8"
             ],
             [
              0.3333333333333333,
              "#9c179e"
             ],
             [
              0.4444444444444444,
              "#bd3786"
             ],
             [
              0.5555555555555556,
              "#d8576b"
             ],
             [
              0.6666666666666666,
              "#ed7953"
             ],
             [
              0.7777777777777778,
              "#fb9f3a"
             ],
             [
              0.8888888888888888,
              "#fdca26"
             ],
             [
              1,
              "#f0f921"
             ]
            ],
            "type": "contour"
           }
          ],
          "contourcarpet": [
           {
            "colorbar": {
             "outlinewidth": 0,
             "ticks": ""
            },
            "type": "contourcarpet"
           }
          ],
          "heatmap": [
           {
            "colorbar": {
             "outlinewidth": 0,
             "ticks": ""
            },
            "colorscale": [
             [
              0,
              "#0d0887"
             ],
             [
              0.1111111111111111,
              "#46039f"
             ],
             [
              0.2222222222222222,
              "#7201a8"
             ],
             [
              0.3333333333333333,
              "#9c179e"
             ],
             [
              0.4444444444444444,
              "#bd3786"
             ],
             [
              0.5555555555555556,
              "#d8576b"
             ],
             [
              0.6666666666666666,
              "#ed7953"
             ],
             [
              0.7777777777777778,
              "#fb9f3a"
             ],
             [
              0.8888888888888888,
              "#fdca26"
             ],
             [
              1,
              "#f0f921"
             ]
            ],
            "type": "heatmap"
           }
          ],
          "heatmapgl": [
           {
            "colorbar": {
             "outlinewidth": 0,
             "ticks": ""
            },
            "colorscale": [
             [
              0,
              "#0d0887"
             ],
             [
              0.1111111111111111,
              "#46039f"
             ],
             [
              0.2222222222222222,
              "#7201a8"
             ],
             [
              0.3333333333333333,
              "#9c179e"
             ],
             [
              0.4444444444444444,
              "#bd3786"
             ],
             [
              0.5555555555555556,
              "#d8576b"
             ],
             [
              0.6666666666666666,
              "#ed7953"
             ],
             [
              0.7777777777777778,
              "#fb9f3a"
             ],
             [
              0.8888888888888888,
              "#fdca26"
             ],
             [
              1,
              "#f0f921"
             ]
            ],
            "type": "heatmapgl"
           }
          ],
          "histogram": [
           {
            "marker": {
             "colorbar": {
              "outlinewidth": 0,
              "ticks": ""
             }
            },
            "type": "histogram"
           }
          ],
          "histogram2d": [
           {
            "colorbar": {
             "outlinewidth": 0,
             "ticks": ""
            },
            "colorscale": [
             [
              0,
              "#0d0887"
             ],
             [
              0.1111111111111111,
              "#46039f"
             ],
             [
              0.2222222222222222,
              "#7201a8"
             ],
             [
              0.3333333333333333,
              "#9c179e"
             ],
             [
              0.4444444444444444,
              "#bd3786"
             ],
             [
              0.5555555555555556,
              "#d8576b"
             ],
             [
              0.6666666666666666,
              "#ed7953"
             ],
             [
              0.7777777777777778,
              "#fb9f3a"
             ],
             [
              0.8888888888888888,
              "#fdca26"
             ],
             [
              1,
              "#f0f921"
             ]
            ],
            "type": "histogram2d"
           }
          ],
          "histogram2dcontour": [
           {
            "colorbar": {
             "outlinewidth": 0,
             "ticks": ""
            },
            "colorscale": [
             [
              0,
              "#0d0887"
             ],
             [
              0.1111111111111111,
              "#46039f"
             ],
             [
              0.2222222222222222,
              "#7201a8"
             ],
             [
              0.3333333333333333,
              "#9c179e"
             ],
             [
              0.4444444444444444,
              "#bd3786"
             ],
             [
              0.5555555555555556,
              "#d8576b"
             ],
             [
              0.6666666666666666,
              "#ed7953"
             ],
             [
              0.7777777777777778,
              "#fb9f3a"
             ],
             [
              0.8888888888888888,
              "#fdca26"
             ],
             [
              1,
              "#f0f921"
             ]
            ],
            "type": "histogram2dcontour"
           }
          ],
          "mesh3d": [
           {
            "colorbar": {
             "outlinewidth": 0,
             "ticks": ""
            },
            "type": "mesh3d"
           }
          ],
          "parcoords": [
           {
            "line": {
             "colorbar": {
              "outlinewidth": 0,
              "ticks": ""
             }
            },
            "type": "parcoords"
           }
          ],
          "pie": [
           {
            "automargin": true,
            "type": "pie"
           }
          ],
          "scatter": [
           {
            "marker": {
             "colorbar": {
              "outlinewidth": 0,
              "ticks": ""
             }
            },
            "type": "scatter"
           }
          ],
          "scatter3d": [
           {
            "line": {
             "colorbar": {
              "outlinewidth": 0,
              "ticks": ""
             }
            },
            "marker": {
             "colorbar": {
              "outlinewidth": 0,
              "ticks": ""
             }
            },
            "type": "scatter3d"
           }
          ],
          "scattercarpet": [
           {
            "marker": {
             "colorbar": {
              "outlinewidth": 0,
              "ticks": ""
             }
            },
            "type": "scattercarpet"
           }
          ],
          "scattergeo": [
           {
            "marker": {
             "colorbar": {
              "outlinewidth": 0,
              "ticks": ""
             }
            },
            "type": "scattergeo"
           }
          ],
          "scattergl": [
           {
            "marker": {
             "colorbar": {
              "outlinewidth": 0,
              "ticks": ""
             }
            },
            "type": "scattergl"
           }
          ],
          "scattermapbox": [
           {
            "marker": {
             "colorbar": {
              "outlinewidth": 0,
              "ticks": ""
             }
            },
            "type": "scattermapbox"
           }
          ],
          "scatterpolar": [
           {
            "marker": {
             "colorbar": {
              "outlinewidth": 0,
              "ticks": ""
             }
            },
            "type": "scatterpolar"
           }
          ],
          "scatterpolargl": [
           {
            "marker": {
             "colorbar": {
              "outlinewidth": 0,
              "ticks": ""
             }
            },
            "type": "scatterpolargl"
           }
          ],
          "scatterternary": [
           {
            "marker": {
             "colorbar": {
              "outlinewidth": 0,
              "ticks": ""
             }
            },
            "type": "scatterternary"
           }
          ],
          "surface": [
           {
            "colorbar": {
             "outlinewidth": 0,
             "ticks": ""
            },
            "colorscale": [
             [
              0,
              "#0d0887"
             ],
             [
              0.1111111111111111,
              "#46039f"
             ],
             [
              0.2222222222222222,
              "#7201a8"
             ],
             [
              0.3333333333333333,
              "#9c179e"
             ],
             [
              0.4444444444444444,
              "#bd3786"
             ],
             [
              0.5555555555555556,
              "#d8576b"
             ],
             [
              0.6666666666666666,
              "#ed7953"
             ],
             [
              0.7777777777777778,
              "#fb9f3a"
             ],
             [
              0.8888888888888888,
              "#fdca26"
             ],
             [
              1,
              "#f0f921"
             ]
            ],
            "type": "surface"
           }
          ],
          "table": [
           {
            "cells": {
             "fill": {
              "color": "#EBF0F8"
             },
             "line": {
              "color": "white"
             }
            },
            "header": {
             "fill": {
              "color": "#C8D4E3"
             },
             "line": {
              "color": "white"
             }
            },
            "type": "table"
           }
          ]
         },
         "layout": {
          "annotationdefaults": {
           "arrowcolor": "#2a3f5f",
           "arrowhead": 0,
           "arrowwidth": 1
          },
          "autotypenumbers": "strict",
          "coloraxis": {
           "colorbar": {
            "outlinewidth": 0,
            "ticks": ""
           }
          },
          "colorscale": {
           "diverging": [
            [
             0,
             "#8e0152"
            ],
            [
             0.1,
             "#c51b7d"
            ],
            [
             0.2,
             "#de77ae"
            ],
            [
             0.3,
             "#f1b6da"
            ],
            [
             0.4,
             "#fde0ef"
            ],
            [
             0.5,
             "#f7f7f7"
            ],
            [
             0.6,
             "#e6f5d0"
            ],
            [
             0.7,
             "#b8e186"
            ],
            [
             0.8,
             "#7fbc41"
            ],
            [
             0.9,
             "#4d9221"
            ],
            [
             1,
             "#276419"
            ]
           ],
           "sequential": [
            [
             0,
             "#0d0887"
            ],
            [
             0.1111111111111111,
             "#46039f"
            ],
            [
             0.2222222222222222,
             "#7201a8"
            ],
            [
             0.3333333333333333,
             "#9c179e"
            ],
            [
             0.4444444444444444,
             "#bd3786"
            ],
            [
             0.5555555555555556,
             "#d8576b"
            ],
            [
             0.6666666666666666,
             "#ed7953"
            ],
            [
             0.7777777777777778,
             "#fb9f3a"
            ],
            [
             0.8888888888888888,
             "#fdca26"
            ],
            [
             1,
             "#f0f921"
            ]
           ],
           "sequentialminus": [
            [
             0,
             "#0d0887"
            ],
            [
             0.1111111111111111,
             "#46039f"
            ],
            [
             0.2222222222222222,
             "#7201a8"
            ],
            [
             0.3333333333333333,
             "#9c179e"
            ],
            [
             0.4444444444444444,
             "#bd3786"
            ],
            [
             0.5555555555555556,
             "#d8576b"
            ],
            [
             0.6666666666666666,
             "#ed7953"
            ],
            [
             0.7777777777777778,
             "#fb9f3a"
            ],
            [
             0.8888888888888888,
             "#fdca26"
            ],
            [
             1,
             "#f0f921"
            ]
           ]
          },
          "colorway": [
           "#636efa",
           "#EF553B",
           "#00cc96",
           "#ab63fa",
           "#FFA15A",
           "#19d3f3",
           "#FF6692",
           "#B6E880",
           "#FF97FF",
           "#FECB52"
          ],
          "font": {
           "color": "#2a3f5f"
          },
          "geo": {
           "bgcolor": "white",
           "lakecolor": "white",
           "landcolor": "#E5ECF6",
           "showlakes": true,
           "showland": true,
           "subunitcolor": "white"
          },
          "hoverlabel": {
           "align": "left"
          },
          "hovermode": "closest",
          "mapbox": {
           "style": "light"
          },
          "paper_bgcolor": "white",
          "plot_bgcolor": "#E5ECF6",
          "polar": {
           "angularaxis": {
            "gridcolor": "white",
            "linecolor": "white",
            "ticks": ""
           },
           "bgcolor": "#E5ECF6",
           "radialaxis": {
            "gridcolor": "white",
            "linecolor": "white",
            "ticks": ""
           }
          },
          "scene": {
           "xaxis": {
            "backgroundcolor": "#E5ECF6",
            "gridcolor": "white",
            "gridwidth": 2,
            "linecolor": "white",
            "showbackground": true,
            "ticks": "",
            "zerolinecolor": "white"
           },
           "yaxis": {
            "backgroundcolor": "#E5ECF6",
            "gridcolor": "white",
            "gridwidth": 2,
            "linecolor": "white",
            "showbackground": true,
            "ticks": "",
            "zerolinecolor": "white"
           },
           "zaxis": {
            "backgroundcolor": "#E5ECF6",
            "gridcolor": "white",
            "gridwidth": 2,
            "linecolor": "white",
            "showbackground": true,
            "ticks": "",
            "zerolinecolor": "white"
           }
          },
          "shapedefaults": {
           "line": {
            "color": "#2a3f5f"
           }
          },
          "ternary": {
           "aaxis": {
            "gridcolor": "white",
            "linecolor": "white",
            "ticks": ""
           },
           "baxis": {
            "gridcolor": "white",
            "linecolor": "white",
            "ticks": ""
           },
           "bgcolor": "#E5ECF6",
           "caxis": {
            "gridcolor": "white",
            "linecolor": "white",
            "ticks": ""
           }
          },
          "title": {
           "x": 0.05
          },
          "xaxis": {
           "automargin": true,
           "gridcolor": "white",
           "linecolor": "white",
           "ticks": "",
           "title": {
            "standoff": 15
           },
           "zerolinecolor": "white",
           "zerolinewidth": 2
          },
          "yaxis": {
           "automargin": true,
           "gridcolor": "white",
           "linecolor": "white",
           "ticks": "",
           "title": {
            "standoff": 15
           },
           "zerolinecolor": "white",
           "zerolinewidth": 2
          }
         }
        },
        "title": {
         "font": {
          "color": "#4D5663"
         }
        },
        "xaxis": {
         "gridcolor": "#E1E5ED",
         "showgrid": true,
         "tickfont": {
          "color": "#4D5663"
         },
         "title": {
          "font": {
           "color": "#4D5663"
          },
          "text": ""
         },
         "zerolinecolor": "#E1E5ED"
        },
        "xaxis2": {
         "anchor": "y2",
         "gridcolor": "#E1E5ED",
         "showgrid": true,
         "showticklabels": false,
         "tickfont": {
          "color": "#4D5663"
         },
         "title": {
          "font": {
           "color": "#4D5663"
          },
          "text": ""
         },
         "zerolinecolor": "#E1E5ED"
        },
        "yaxis": {
         "domain": [
          0.3,
          1
         ],
         "gridcolor": "#E1E5ED",
         "showgrid": true,
         "tickfont": {
          "color": "#4D5663"
         },
         "title": {
          "font": {
           "color": "#4D5663"
          },
          "text": ""
         },
         "zerolinecolor": "#E1E5ED"
        },
        "yaxis2": {
         "domain": [
          0,
          0.25
         ],
         "gridcolor": "#E1E5ED",
         "showgrid": true,
         "tickfont": {
          "color": "#4D5663"
         },
         "title": {
          "font": {
           "color": "#4D5663"
          },
          "text": "Spread"
         },
         "zerolinecolor": "#E1E5ED"
        }
       }
      },
      "text/html": [
       "<div>                            <div id=\"49ce60a2-3a6b-4b05-84fd-b8153d8b0606\" class=\"plotly-graph-div\" style=\"height:525px; width:100%;\"></div>            <script type=\"text/javascript\">                require([\"plotly\"], function(Plotly) {                    window.PLOTLYENV=window.PLOTLYENV || {};\n",
       "                    window.PLOTLYENV.BASE_URL='https://plot.ly';                                    if (document.getElementById(\"49ce60a2-3a6b-4b05-84fd-b8153d8b0606\")) {                    Plotly.newPlot(                        \"49ce60a2-3a6b-4b05-84fd-b8153d8b0606\",                        [{\"line\": {\"color\": \"rgba(255, 153, 51, 1.0)\", \"dash\": \"solid\", \"shape\": \"linear\", \"width\": 1.3}, \"mode\": \"lines\", \"name\": \"A\", \"text\": \"\", \"type\": \"scatter\", \"x\": [0, 1, 2, 3, 4, 5, 6, 7, 8, 9, 10, 11, 12, 13, 14, 15, 16, 17, 18, 19, 20, 21, 22, 23, 24, 25, 26, 27, 28, 29, 30, 31, 32, 33, 34, 35, 36, 37, 38, 39, 40, 41, 42, 43, 44, 45, 46, 47, 48, 49, 50, 51, 52, 53, 54, 55, 56, 57, 58, 59, 60, 61, 62, 63, 64, 65, 66, 67, 68, 69, 70, 71, 72, 73, 74, 75, 76, 77, 78, 79, 80, 81, 82, 83, 84, 85, 86, 87, 88, 89, 90, 91, 92, 93, 94, 95, 96, 97, 98, 99], \"y\": [1.0059849258878888, -0.7010283547172209, -0.5530126170762337, 1.5053586782927417, -0.14726718874838793, 0.9770648926030767, 0.6582506381399114, 1.0301364104111772, -0.6260545174128129, -0.23780547328255147, 0.8692692347787173, -0.5941485868327748, 1.3591357195353555, -0.06399674516066887, 0.829491071166314, 0.5075254902761043, 0.39113458866456685, 1.063590572916894, 0.8260655068010079, 0.05245914539600717, -0.29323652668514805, -0.8401937481829118, 0.024392012903958628, -1.521808563029623, -1.7272984737501598, -1.2563625232193036, 0.633200412942476, -0.06367695602209411, -0.9017297357282704, 0.11698081887161703, 1.1789543999818366, 0.7660384597132036, -0.14251541251705346, -1.4439954490372702, -0.1134737009733189, 0.3916399896467472, -1.6438615230459779, -1.575452925220763, 0.19490135135400036, -0.44498886895191403, 0.2312126079129507, -0.19627309617738198, -1.5339188969959598, -1.0101177305805602, -0.5550261122432499, 0.5981372038864573, 1.9910393634213503, 0.2492201885622451, -0.9944304584636777, 0.5646967420168103, -0.08274449653620139, -0.7036502030924995, -0.30780049682799165, 0.37452281339802984, -1.7872024370426731, 1.3150335765180852, -0.5022658671929559, -0.344075543749246, -2.2374361399516345, 1.041499401164971, 0.7817975414736285, 1.107319698661312, -1.2737183030994284, -0.5950888503549907, -1.190172709089028, -0.8952366180461947, -0.9450534445999006, 0.7107542518724876, -0.24820813158798022, 0.4198423385645599, 0.6047113262770456, -0.4160311294851515, -0.36728501047823253, 0.3451507507628055, 3.0630486256974994, -0.08746757371406043, 0.5379769422520592, -0.5196889635008731, -0.6871870613667098, -0.9885145886506468, -0.05642607429579795, 0.694024910793667, 0.1117698851259172, 0.6280284197808698, -0.41881620021060223, 0.0163714417546095, 0.6214157736302589, 2.5611775910144434, -1.651426960827347, 0.7276986756237057, 0.0020637820745796525, 1.0825882895513737, 0.8522486570762773, 0.9254765481327194, 2.369406636690293, -0.1864307255187936, -1.2220120453149546, 0.12374884427234126, 1.0240876997603876, 0.9306315414048747]}, {\"line\": {\"color\": \"rgba(55, 128, 191, 1.0)\", \"dash\": \"solid\", \"shape\": \"linear\", \"width\": 1.3}, \"mode\": \"lines\", \"name\": \"B\", \"text\": \"\", \"type\": \"scatter\", \"x\": [0, 1, 2, 3, 4, 5, 6, 7, 8, 9, 10, 11, 12, 13, 14, 15, 16, 17, 18, 19, 20, 21, 22, 23, 24, 25, 26, 27, 28, 29, 30, 31, 32, 33, 34, 35, 36, 37, 38, 39, 40, 41, 42, 43, 44, 45, 46, 47, 48, 49, 50, 51, 52, 53, 54, 55, 56, 57, 58, 59, 60, 61, 62, 63, 64, 65, 66, 67, 68, 69, 70, 71, 72, 73, 74, 75, 76, 77, 78, 79, 80, 81, 82, 83, 84, 85, 86, 87, 88, 89, 90, 91, 92, 93, 94, 95, 96, 97, 98, 99], \"y\": [0.27123248257990207, -0.79942997399121, 0.27772911725777966, 0.18960229284980287, -0.8044425029603967, 0.7931602887107293, 0.09652443857989028, 0.8655015370064665, 1.8308095515374818, 0.2749896402271901, -2.362470749558614, 0.11318463248836325, 1.1119060219411647, 0.8413226249722645, 0.264162004739382, -0.6226535951055381, -0.737187879777522, -0.3626954861256312, 0.4294362143199215, 0.41469046140977495, 0.5680125191650225, -1.2090340893662848, -1.1517342459828552, 0.07448158921672837, 0.4342728711098793, -0.20340173641225098, -0.528340097965374, 0.4026325670699657, -0.40849660314465924, -0.9428728834213882, -1.0889224753201423, 0.4343412244961164, -0.7027380984223325, 1.1319173613819913, 1.6681268067655357, 1.2858714822530204, 1.4153351993627128, -0.08415221277465915, 0.17385461825845852, -1.8272643020599595, 2.2419576746860828, -2.3016095629002367, 0.4881547327449486, 1.1274204073827983, -1.6610304314092292, 0.5084657836063696, 1.1018806738410605, 1.7331852105972836, -1.6921562959754037, 0.7935734457392073, -0.4618448454747036, 0.09704187385754046, 1.6348279512783874, 0.19093918341701024, 0.5081161905495156, 0.10409349820610142, 0.5898422928262188, 1.2059751159993455, -0.5116586540463366, 2.3208666873631407, 0.6591266073249621, 0.011168806554076564, -0.24826244758228458, -0.2025377569889235, -1.214073633209104, -0.5942956343079454, 0.42789903281354497, -0.7250345597938104, 0.9089201785078819, -1.7571715280512354, -0.36961300780873146, -0.8017050054439957, -1.6479669486704083, -0.5583710349189371, 0.18414634913941588, 0.6033431857155406, -0.1260205311565872, 1.7062195203355053, 0.5551594111777242, 0.45691501176084015, 1.439617458449986, 0.6476365584272519, -0.4839348534689651, -0.013750335017990164, -0.4257175480997596, 0.6781859750888468, -0.25706909317655696, -0.5362230018794678, 1.2984894985704358, -0.5492264295963026, -0.33213986415001917, 1.8882234704904772, -0.6624309121654113, 1.446259954425405, 1.2473065619110835, -0.4161884594577917, 0.08657820546570494, -1.2691170457140617, 0.5963599115083469, 1.5661208240920954]}, {\"connectgaps\": false, \"fill\": \"tozeroy\", \"line\": {\"color\": \"green\", \"dash\": \"solid\", \"shape\": \"linear\", \"width\": 0.5}, \"mode\": \"lines\", \"name\": \"Spread\", \"showlegend\": false, \"type\": \"scatter\", \"x\": [0, 1, 2, 3, 4, 5, 6, 7, 8, 9, 10, 11, 12, 13, 14, 15, 16, 17, 18, 19, 20, 21, 22, 23, 24, 25, 26, 27, 28, 29, 30, 31, 32, 33, 34, 35, 36, 37, 38, 39, 40, 41, 42, 43, 44, 45, 46, 47, 48, 49, 50, 51, 52, 53, 54, 55, 56, 57, 58, 59, 60, 61, 62, 63, 64, 65, 66, 67, 68, 69, 70, 71, 72, 73, 74, 75, 76, 77, 78, 79, 80, 81, 82, 83, 84, 85, 86, 87, 88, 89, 90, 91, 92, 93, 94, 95, 96, 97, 98, 99], \"xaxis\": \"x2\", \"y\": [0.7347524433079867, 0.09840161927398905, \"\", 1.3157563854429388, 0.6571753142120087, 0.18390460389234742, 0.5617261995600211, 0.16463487340471072, \"\", \"\", 3.2317399843373313, \"\", 0.24722969759419078, \"\", 0.565329066426932, 1.1301790853816422, 1.128322468442089, 1.4262860590425253, 0.39662929248108636, \"\", \"\", 0.36884034118337294, 1.1761262588868138, \"\", \"\", \"\", 1.1615405109078498, \"\", \"\", 1.0598537022930052, 2.2678768753019787, 0.3316972352170872, 0.560222685905279, \"\", \"\", \"\", \"\", \"\", 0.021046733095541836, 1.3822754331080453, \"\", 2.1053364667228545, \"\", \"\", 1.1060043191659794, 0.08967142028008768, 0.8891586895802899, \"\", 0.697725837511726, \"\", 0.3791003489385022, \"\", \"\", 0.1835836299810196, \"\", 1.2109400783119837, \"\", \"\", \"\", \"\", 0.12267093414866637, 1.0961508921072356, \"\", \"\", 0.02390092412007605, \"\", \"\", 1.435788811666298, \"\", 2.177013866615795, 0.974324334085777, 0.3856738759588442, 1.2806819381921757, 0.9035217856817426, 2.8789022765580836, \"\", 0.6639974734086463, \"\", \"\", \"\", \"\", 0.04638835236641514, 0.5957047385948823, 0.6417787547988599, 0.006901347889157361, \"\", 0.8784848668068159, 3.0974005928939112, \"\", 1.2769251052200083, 0.3342036462245988, \"\", 1.5146795692416886, \"\", 1.1221000747792096, 0.2297577339389981, \"\", 1.392865889986403, 0.4277277882520407, \"\"], \"yaxis\": \"y2\"}, {\"connectgaps\": false, \"fill\": \"tozeroy\", \"line\": {\"color\": \"red\", \"dash\": \"solid\", \"shape\": \"linear\", \"width\": 0.5}, \"mode\": \"lines\", \"name\": \"Spread\", \"showlegend\": false, \"type\": \"scatter\", \"x\": [0, 1, 2, 3, 4, 5, 6, 7, 8, 9, 10, 11, 12, 13, 14, 15, 16, 17, 18, 19, 20, 21, 22, 23, 24, 25, 26, 27, 28, 29, 30, 31, 32, 33, 34, 35, 36, 37, 38, 39, 40, 41, 42, 43, 44, 45, 46, 47, 48, 49, 50, 51, 52, 53, 54, 55, 56, 57, 58, 59, 60, 61, 62, 63, 64, 65, 66, 67, 68, 69, 70, 71, 72, 73, 74, 75, 76, 77, 78, 79, 80, 81, 82, 83, 84, 85, 86, 87, 88, 89, 90, 91, 92, 93, 94, 95, 96, 97, 98, 99], \"xaxis\": \"x2\", \"y\": [\"\", \"\", -0.8307417343340133, \"\", \"\", \"\", \"\", \"\", -2.4568640689502947, -0.5127951135097415, \"\", -0.7073332193211381, \"\", -0.9053193701329334, \"\", \"\", \"\", \"\", \"\", -0.3622313160137678, -0.8612490458501705, \"\", \"\", -1.5962901522463513, -2.161571344860039, -1.0529607868070527, \"\", -0.4663095230920598, -0.4932331325836112, \"\", \"\", \"\", \"\", -2.5759128104192612, -1.7816005077388546, -0.8942314926062732, -3.0591967224086907, -1.4913007124461037, \"\", \"\", -2.010745066773132, \"\", -2.0220736297409085, -2.1375381379633582, \"\", \"\", \"\", -1.4839650220350384, \"\", -0.228876703722397, \"\", -0.80069207695004, -1.9426284481063791, \"\", -2.295318627592189, \"\", -1.0921081600191747, -1.5500506597485915, -1.725777485905298, -1.2793672861981698, \"\", \"\", -1.0254558555171438, -0.3925510933660672, \"\", -0.3009409837382493, -1.3729524774134456, \"\", -1.157128310095862, \"\", \"\", \"\", \"\", \"\", \"\", -0.690810759429601, \"\", -2.2259084838363785, -1.242346472544434, -1.445429600411487, -1.496043532745784, \"\", \"\", \"\", \"\", -0.6618145333342373, \"\", \"\", -2.949916459397783, \"\", \"\", -0.8056351809391036, \"\", -0.5207834062926855, \"\", \"\", -1.3085902507806595, \"\", \"\", -0.6354892826872207], \"yaxis\": \"y2\"}],                        {\"hovermode\": \"x\", \"legend\": {\"bgcolor\": \"#F5F6F9\", \"font\": {\"color\": \"#4D5663\"}}, \"paper_bgcolor\": \"#F5F6F9\", \"plot_bgcolor\": \"#F5F6F9\", \"template\": {\"data\": {\"bar\": [{\"error_x\": {\"color\": \"#2a3f5f\"}, \"error_y\": {\"color\": \"#2a3f5f\"}, \"marker\": {\"line\": {\"color\": \"#E5ECF6\", \"width\": 0.5}}, \"type\": \"bar\"}], \"barpolar\": [{\"marker\": {\"line\": {\"color\": \"#E5ECF6\", \"width\": 0.5}}, \"type\": \"barpolar\"}], \"carpet\": [{\"aaxis\": {\"endlinecolor\": \"#2a3f5f\", \"gridcolor\": \"white\", \"linecolor\": \"white\", \"minorgridcolor\": \"white\", \"startlinecolor\": \"#2a3f5f\"}, \"baxis\": {\"endlinecolor\": \"#2a3f5f\", \"gridcolor\": \"white\", \"linecolor\": \"white\", \"minorgridcolor\": \"white\", \"startlinecolor\": \"#2a3f5f\"}, \"type\": \"carpet\"}], \"choropleth\": [{\"colorbar\": {\"outlinewidth\": 0, \"ticks\": \"\"}, \"type\": \"choropleth\"}], \"contour\": [{\"colorbar\": {\"outlinewidth\": 0, \"ticks\": \"\"}, \"colorscale\": [[0.0, \"#0d0887\"], [0.1111111111111111, \"#46039f\"], [0.2222222222222222, \"#7201a8\"], [0.3333333333333333, \"#9c179e\"], [0.4444444444444444, \"#bd3786\"], [0.5555555555555556, \"#d8576b\"], [0.6666666666666666, \"#ed7953\"], [0.7777777777777778, \"#fb9f3a\"], [0.8888888888888888, \"#fdca26\"], [1.0, \"#f0f921\"]], \"type\": \"contour\"}], \"contourcarpet\": [{\"colorbar\": {\"outlinewidth\": 0, \"ticks\": \"\"}, \"type\": \"contourcarpet\"}], \"heatmap\": [{\"colorbar\": {\"outlinewidth\": 0, \"ticks\": \"\"}, \"colorscale\": [[0.0, \"#0d0887\"], [0.1111111111111111, \"#46039f\"], [0.2222222222222222, \"#7201a8\"], [0.3333333333333333, \"#9c179e\"], [0.4444444444444444, \"#bd3786\"], [0.5555555555555556, \"#d8576b\"], [0.6666666666666666, \"#ed7953\"], [0.7777777777777778, \"#fb9f3a\"], [0.8888888888888888, \"#fdca26\"], [1.0, \"#f0f921\"]], \"type\": \"heatmap\"}], \"heatmapgl\": [{\"colorbar\": {\"outlinewidth\": 0, \"ticks\": \"\"}, \"colorscale\": [[0.0, \"#0d0887\"], [0.1111111111111111, \"#46039f\"], [0.2222222222222222, \"#7201a8\"], [0.3333333333333333, \"#9c179e\"], [0.4444444444444444, \"#bd3786\"], [0.5555555555555556, \"#d8576b\"], [0.6666666666666666, \"#ed7953\"], [0.7777777777777778, \"#fb9f3a\"], [0.8888888888888888, \"#fdca26\"], [1.0, \"#f0f921\"]], \"type\": \"heatmapgl\"}], \"histogram\": [{\"marker\": {\"colorbar\": {\"outlinewidth\": 0, \"ticks\": \"\"}}, \"type\": \"histogram\"}], \"histogram2d\": [{\"colorbar\": {\"outlinewidth\": 0, \"ticks\": \"\"}, \"colorscale\": [[0.0, \"#0d0887\"], [0.1111111111111111, \"#46039f\"], [0.2222222222222222, \"#7201a8\"], [0.3333333333333333, \"#9c179e\"], [0.4444444444444444, \"#bd3786\"], [0.5555555555555556, \"#d8576b\"], [0.6666666666666666, \"#ed7953\"], [0.7777777777777778, \"#fb9f3a\"], [0.8888888888888888, \"#fdca26\"], [1.0, \"#f0f921\"]], \"type\": \"histogram2d\"}], \"histogram2dcontour\": [{\"colorbar\": {\"outlinewidth\": 0, \"ticks\": \"\"}, \"colorscale\": [[0.0, \"#0d0887\"], [0.1111111111111111, \"#46039f\"], [0.2222222222222222, \"#7201a8\"], [0.3333333333333333, \"#9c179e\"], [0.4444444444444444, \"#bd3786\"], [0.5555555555555556, \"#d8576b\"], [0.6666666666666666, \"#ed7953\"], [0.7777777777777778, \"#fb9f3a\"], [0.8888888888888888, \"#fdca26\"], [1.0, \"#f0f921\"]], \"type\": \"histogram2dcontour\"}], \"mesh3d\": [{\"colorbar\": {\"outlinewidth\": 0, \"ticks\": \"\"}, \"type\": \"mesh3d\"}], \"parcoords\": [{\"line\": {\"colorbar\": {\"outlinewidth\": 0, \"ticks\": \"\"}}, \"type\": \"parcoords\"}], \"pie\": [{\"automargin\": true, \"type\": \"pie\"}], \"scatter\": [{\"marker\": {\"colorbar\": {\"outlinewidth\": 0, \"ticks\": \"\"}}, \"type\": \"scatter\"}], \"scatter3d\": [{\"line\": {\"colorbar\": {\"outlinewidth\": 0, \"ticks\": \"\"}}, \"marker\": {\"colorbar\": {\"outlinewidth\": 0, \"ticks\": \"\"}}, \"type\": \"scatter3d\"}], \"scattercarpet\": [{\"marker\": {\"colorbar\": {\"outlinewidth\": 0, \"ticks\": \"\"}}, \"type\": \"scattercarpet\"}], \"scattergeo\": [{\"marker\": {\"colorbar\": {\"outlinewidth\": 0, \"ticks\": \"\"}}, \"type\": \"scattergeo\"}], \"scattergl\": [{\"marker\": {\"colorbar\": {\"outlinewidth\": 0, \"ticks\": \"\"}}, \"type\": \"scattergl\"}], \"scattermapbox\": [{\"marker\": {\"colorbar\": {\"outlinewidth\": 0, \"ticks\": \"\"}}, \"type\": \"scattermapbox\"}], \"scatterpolar\": [{\"marker\": {\"colorbar\": {\"outlinewidth\": 0, \"ticks\": \"\"}}, \"type\": \"scatterpolar\"}], \"scatterpolargl\": [{\"marker\": {\"colorbar\": {\"outlinewidth\": 0, \"ticks\": \"\"}}, \"type\": \"scatterpolargl\"}], \"scatterternary\": [{\"marker\": {\"colorbar\": {\"outlinewidth\": 0, \"ticks\": \"\"}}, \"type\": \"scatterternary\"}], \"surface\": [{\"colorbar\": {\"outlinewidth\": 0, \"ticks\": \"\"}, \"colorscale\": [[0.0, \"#0d0887\"], [0.1111111111111111, \"#46039f\"], [0.2222222222222222, \"#7201a8\"], [0.3333333333333333, \"#9c179e\"], [0.4444444444444444, \"#bd3786\"], [0.5555555555555556, \"#d8576b\"], [0.6666666666666666, \"#ed7953\"], [0.7777777777777778, \"#fb9f3a\"], [0.8888888888888888, \"#fdca26\"], [1.0, \"#f0f921\"]], \"type\": \"surface\"}], \"table\": [{\"cells\": {\"fill\": {\"color\": \"#EBF0F8\"}, \"line\": {\"color\": \"white\"}}, \"header\": {\"fill\": {\"color\": \"#C8D4E3\"}, \"line\": {\"color\": \"white\"}}, \"type\": \"table\"}]}, \"layout\": {\"annotationdefaults\": {\"arrowcolor\": \"#2a3f5f\", \"arrowhead\": 0, \"arrowwidth\": 1}, \"autotypenumbers\": \"strict\", \"coloraxis\": {\"colorbar\": {\"outlinewidth\": 0, \"ticks\": \"\"}}, \"colorscale\": {\"diverging\": [[0, \"#8e0152\"], [0.1, \"#c51b7d\"], [0.2, \"#de77ae\"], [0.3, \"#f1b6da\"], [0.4, \"#fde0ef\"], [0.5, \"#f7f7f7\"], [0.6, \"#e6f5d0\"], [0.7, \"#b8e186\"], [0.8, \"#7fbc41\"], [0.9, \"#4d9221\"], [1, \"#276419\"]], \"sequential\": [[0.0, \"#0d0887\"], [0.1111111111111111, \"#46039f\"], [0.2222222222222222, \"#7201a8\"], [0.3333333333333333, \"#9c179e\"], [0.4444444444444444, \"#bd3786\"], [0.5555555555555556, \"#d8576b\"], [0.6666666666666666, \"#ed7953\"], [0.7777777777777778, \"#fb9f3a\"], [0.8888888888888888, \"#fdca26\"], [1.0, \"#f0f921\"]], \"sequentialminus\": [[0.0, \"#0d0887\"], [0.1111111111111111, \"#46039f\"], [0.2222222222222222, \"#7201a8\"], [0.3333333333333333, \"#9c179e\"], [0.4444444444444444, \"#bd3786\"], [0.5555555555555556, \"#d8576b\"], [0.6666666666666666, \"#ed7953\"], [0.7777777777777778, \"#fb9f3a\"], [0.8888888888888888, \"#fdca26\"], [1.0, \"#f0f921\"]]}, \"colorway\": [\"#636efa\", \"#EF553B\", \"#00cc96\", \"#ab63fa\", \"#FFA15A\", \"#19d3f3\", \"#FF6692\", \"#B6E880\", \"#FF97FF\", \"#FECB52\"], \"font\": {\"color\": \"#2a3f5f\"}, \"geo\": {\"bgcolor\": \"white\", \"lakecolor\": \"white\", \"landcolor\": \"#E5ECF6\", \"showlakes\": true, \"showland\": true, \"subunitcolor\": \"white\"}, \"hoverlabel\": {\"align\": \"left\"}, \"hovermode\": \"closest\", \"mapbox\": {\"style\": \"light\"}, \"paper_bgcolor\": \"white\", \"plot_bgcolor\": \"#E5ECF6\", \"polar\": {\"angularaxis\": {\"gridcolor\": \"white\", \"linecolor\": \"white\", \"ticks\": \"\"}, \"bgcolor\": \"#E5ECF6\", \"radialaxis\": {\"gridcolor\": \"white\", \"linecolor\": \"white\", \"ticks\": \"\"}}, \"scene\": {\"xaxis\": {\"backgroundcolor\": \"#E5ECF6\", \"gridcolor\": \"white\", \"gridwidth\": 2, \"linecolor\": \"white\", \"showbackground\": true, \"ticks\": \"\", \"zerolinecolor\": \"white\"}, \"yaxis\": {\"backgroundcolor\": \"#E5ECF6\", \"gridcolor\": \"white\", \"gridwidth\": 2, \"linecolor\": \"white\", \"showbackground\": true, \"ticks\": \"\", \"zerolinecolor\": \"white\"}, \"zaxis\": {\"backgroundcolor\": \"#E5ECF6\", \"gridcolor\": \"white\", \"gridwidth\": 2, \"linecolor\": \"white\", \"showbackground\": true, \"ticks\": \"\", \"zerolinecolor\": \"white\"}}, \"shapedefaults\": {\"line\": {\"color\": \"#2a3f5f\"}}, \"ternary\": {\"aaxis\": {\"gridcolor\": \"white\", \"linecolor\": \"white\", \"ticks\": \"\"}, \"baxis\": {\"gridcolor\": \"white\", \"linecolor\": \"white\", \"ticks\": \"\"}, \"bgcolor\": \"#E5ECF6\", \"caxis\": {\"gridcolor\": \"white\", \"linecolor\": \"white\", \"ticks\": \"\"}}, \"title\": {\"x\": 0.05}, \"xaxis\": {\"automargin\": true, \"gridcolor\": \"white\", \"linecolor\": \"white\", \"ticks\": \"\", \"title\": {\"standoff\": 15}, \"zerolinecolor\": \"white\", \"zerolinewidth\": 2}, \"yaxis\": {\"automargin\": true, \"gridcolor\": \"white\", \"linecolor\": \"white\", \"ticks\": \"\", \"title\": {\"standoff\": 15}, \"zerolinecolor\": \"white\", \"zerolinewidth\": 2}}}, \"title\": {\"font\": {\"color\": \"#4D5663\"}}, \"xaxis\": {\"gridcolor\": \"#E1E5ED\", \"showgrid\": true, \"tickfont\": {\"color\": \"#4D5663\"}, \"title\": {\"font\": {\"color\": \"#4D5663\"}, \"text\": \"\"}, \"zerolinecolor\": \"#E1E5ED\"}, \"xaxis2\": {\"anchor\": \"y2\", \"gridcolor\": \"#E1E5ED\", \"showgrid\": true, \"showticklabels\": false, \"tickfont\": {\"color\": \"#4D5663\"}, \"title\": {\"font\": {\"color\": \"#4D5663\"}, \"text\": \"\"}, \"zerolinecolor\": \"#E1E5ED\"}, \"yaxis\": {\"domain\": [0.3, 1], \"gridcolor\": \"#E1E5ED\", \"showgrid\": true, \"tickfont\": {\"color\": \"#4D5663\"}, \"title\": {\"font\": {\"color\": \"#4D5663\"}, \"text\": \"\"}, \"zerolinecolor\": \"#E1E5ED\"}, \"yaxis2\": {\"domain\": [0, 0.25], \"gridcolor\": \"#E1E5ED\", \"showgrid\": true, \"tickfont\": {\"color\": \"#4D5663\"}, \"title\": {\"font\": {\"color\": \"#4D5663\"}, \"text\": \"Spread\"}, \"zerolinecolor\": \"#E1E5ED\"}},                        {\"showLink\": true, \"linkText\": \"Export to plot.ly\", \"plotlyServerURL\": \"https://plot.ly\", \"responsive\": true}                    ).then(function(){\n",
       "                            \n",
       "var gd = document.getElementById('49ce60a2-3a6b-4b05-84fd-b8153d8b0606');\n",
       "var x = new MutationObserver(function (mutations, observer) {{\n",
       "        var display = window.getComputedStyle(gd).display;\n",
       "        if (!display || display === 'none') {{\n",
       "            console.log([gd, 'removed!']);\n",
       "            Plotly.purge(gd);\n",
       "            observer.disconnect();\n",
       "        }}\n",
       "}});\n",
       "\n",
       "// Listen for the removal of the full notebook cells\n",
       "var notebookContainer = gd.closest('#notebook-container');\n",
       "if (notebookContainer) {{\n",
       "    x.observe(notebookContainer, {childList: true});\n",
       "}}\n",
       "\n",
       "// Listen for the clearing of the current output cell\n",
       "var outputEl = gd.closest('.output');\n",
       "if (outputEl) {{\n",
       "    x.observe(outputEl, {childList: true});\n",
       "}}\n",
       "\n",
       "                        })                };                });            </script>        </div>"
      ]
     },
     "metadata": {},
     "output_type": "display_data"
    }
   ],
   "source": [
    "df[['A','B']].iplot(kind='spread')"
   ]
  },
  {
   "cell_type": "markdown",
   "metadata": {},
   "source": [
    "## histogram"
   ]
  },
  {
   "cell_type": "code",
   "execution_count": 56,
   "metadata": {},
   "outputs": [
    {
     "data": {
      "text/html": [
       "<div id=\"be69ae84-c3c4-4776-a0e8-f44c59817e90\" style=\"height: 525px; width: 100%;\" class=\"plotly-graph-div\"></div><script type=\"text/javascript\">require([\"plotly\"], function(Plotly) { window.PLOTLYENV=window.PLOTLYENV || {};window.PLOTLYENV.BASE_URL=\"https://plot.ly\";Plotly.newPlot(\"be69ae84-c3c4-4776-a0e8-f44c59817e90\", [{\"x\": [1.8787246669561561, 0.028733616663923985, -0.1587931161277573, -1.2219723462024636, 1.2531523973363488, 0.8312132082951045, 1.1740170898586173, -0.24393002059589958, -0.296966543277261, 0.7621695759158762, 0.04210347865555278, -0.7791970481917073, 0.3943032396655093, -1.0146190736152443, -0.4841710096782867, 0.5522466668361006, -2.77187556758784, -0.5181226698708166, -0.49722040792422156, -1.6534757596659548, -0.06027439377033132, 1.4769243769038323, 1.1796346669498379, -0.7816898015019265, 0.8630132212967984, 0.6590246731638996, -1.1013906677685679, -0.9446804895542242, -1.788022470413331, 0.8775002821729455, 0.3546715768521251, -0.16532125735222183, 1.8914747239632839, -1.1251772915449791, 0.8888981026894395, -0.6066117727706714, 0.8314777742724779, 0.3830457069359529, -0.937459527593053, -0.844561047334305, 1.1280232245052606, -1.640427972598561, 0.8971269652786067, 0.4848047458342485, 0.19373507090654035, -0.7387091317560727, -0.3566733282792827, -0.43158335134818315, -0.4899640124314907, 0.5488715658495908, 0.2821768987731658, -0.8832439438038343, 1.271863067044618, 0.10680856505919414, 0.8269478103679717, -0.03266751467505833, -0.34021520002722894, -0.6769186069469743, 0.7126188256918854, 1.8871150025438166, -0.06742662656190869, -1.4789736197389265, 0.346978601690099, -0.3757389938313092, 0.715285859520045, 1.5994858611908638, -0.3692558358591885, 0.13827360227735647, -0.40690530542342296, 0.636973800943974, 0.14658752987818605, -0.3949906255692418, 1.5076392623927681, -0.15486042602397807, 0.22159940179664614, -1.0878244818277978, -0.03354417910293162, 1.2258839316932069, -0.048951028800266715, -1.1089870994157809, 0.021452684803338333, 1.2548854256528554, -1.0913797662237141, -0.539059741192553, 0.6901269187662552, -1.4810451728120602, -0.8468654201203714, 0.3763927872506507, 0.8120568488462931, 0.0031767062628090745, 0.697742291538818, -0.7429703118062226, -0.842231117346612, -0.0666718362166121, 1.8829720647783421, 1.320112956074407, 0.42394324402947475, 0.466299928509142, 0.9415282138953815, -0.7707938096473991], \"orientation\": \"v\", \"name\": \"A\", \"opacity\": 0.8, \"histfunc\": \"count\", \"type\": \"histogram\", \"histnorm\": \"\", \"nbinsx\": 25, \"marker\": {\"line\": {\"width\": 1.3, \"color\": \"#D9D9D9\"}, \"color\": \"rgba(226, 74, 51, 1.0)\"}}], {\"legend\": {\"font\": {\"color\": \"#666666\"}, \"bgcolor\": \"#FFFFFF\"}, \"titlefont\": {\"color\": \"#151516\"}, \"xaxis1\": {\"titlefont\": {\"color\": \"#666666\"}, \"zerolinecolor\": \"#F6F6F6\", \"title\": \"\", \"tickfont\": {\"color\": \"#666666\"}, \"showgrid\": true, \"gridcolor\": \"#F6F6F6\"}, \"paper_bgcolor\": \"#FFFFFF\", \"barmode\": \"overlay\", \"plot_bgcolor\": \"#E5E5E5\", \"yaxis1\": {\"titlefont\": {\"color\": \"#666666\"}, \"zerolinecolor\": \"#F6F6F6\", \"title\": \"\", \"tickfont\": {\"color\": \"#666666\"}, \"showgrid\": true, \"gridcolor\": \"#F6F6F6\"}}, {\"showLink\": true, \"linkText\": \"Export to plot.ly\"})});</script>"
      ],
      "text/plain": [
       "<IPython.core.display.HTML object>"
      ]
     },
     "metadata": {},
     "output_type": "display_data"
    }
   ],
   "source": [
    "df['A'].iplot(kind='hist',bins=25)"
   ]
  },
  {
   "cell_type": "code",
   "execution_count": 60,
   "metadata": {},
   "outputs": [
    {
     "data": {
      "text/html": [
       "<div id=\"e508143e-bcba-4c40-9488-bfdc4040e078\" style=\"height: 525px; width: 100%;\" class=\"plotly-graph-div\"></div><script type=\"text/javascript\">require([\"plotly\"], function(Plotly) { window.PLOTLYENV=window.PLOTLYENV || {};window.PLOTLYENV.BASE_URL=\"https://plot.ly\";Plotly.newPlot(\"e508143e-bcba-4c40-9488-bfdc4040e078\", [{\"mode\": \"markers\", \"text\": \"\", \"y\": [0.6887194376286498, 0.1040535242504629, 0.38792642015276635, 1.3934230260395444, -0.5375976688704683, -1.1493608786796612, 0.01342890849383506, -0.47231861415738574, 0.24793169472844812, -0.6232083144122951, -1.2121596694710122, -2.4542371001007464, 0.29855785553142483, 1.2997620162676498, 0.9168047366909585, -0.41040614900130634, 1.3147531456519106, -0.12455263569370086, 0.9366143523054554, 0.23573463729990726, -0.8244746170540388, -0.32685668230128845, 1.501781503113865, 0.9830012153240587, 0.6020112305361386, 0.3688304138086671, 1.0090827131320237, -0.5811720111587422, 0.0512884505619472, -1.6917643070157176, -0.25322144257612356, -0.2937357494665306, 0.7368726362448421, 0.5763424997076779, 0.16472110066593693, -0.374254076023172, 1.1280304809680426, 0.6455371548668151, -0.18000225503004413, -0.9128911232313937, -0.5670695205365133, 0.16138491502455474, 1.2118733837294762, 0.4444506280024997, 0.6834767601409083, 1.8020727241195935, 2.4230878273709062, 0.27701889696287213, 1.4067122280705426, -0.33728919328412016, 0.5154870435338148, 0.7751019637809062, 1.400130435077449, 0.8276591566099151, 1.1268119555303864, 0.7016118169589718, 0.476169530704683, -0.5261125753709399, -1.2129692872143456, 0.6126338497954396, 1.5825905557818922, -0.8173630045970658, 0.1075602248072928, 1.2716988894407462, -0.15615948990467535, -0.2968566839654392, 1.7204934641303604, -0.869876624137026, 0.28935077735906545, -1.2052876742800458, -0.263979336251353, -0.02815365780209253, -0.04062347728476395, 0.943760296027789, -1.7797735906553165, 0.4485755919087686, 0.14778332986993048, 0.5305019463041807, 1.6359913516932165, -0.3437427119285297, 1.9109783094330681, 0.6818924480193401, -0.42214824562337705, 0.8935317581184008, 1.2587495288352297, -0.5992845246668753, 2.7851237345776405, -1.5158096238899554, 0.04177421570103183, 0.48980398157362903, 1.063643861677667, -0.8486329162129157, -1.86936339853131, 0.24761777046722996, 1.290606988097702, 0.17046338292604407, 0.14181179559597848, 0.6505415244850333, -2.5850581533594545, -0.30813091794721653], \"x\": [1.8787246669561561, 0.028733616663923985, -0.1587931161277573, -1.2219723462024636, 1.2531523973363488, 0.8312132082951045, 1.1740170898586173, -0.24393002059589958, -0.296966543277261, 0.7621695759158762, 0.04210347865555278, -0.7791970481917073, 0.3943032396655093, -1.0146190736152443, -0.4841710096782867, 0.5522466668361006, -2.77187556758784, -0.5181226698708166, -0.49722040792422156, -1.6534757596659548, -0.06027439377033132, 1.4769243769038323, 1.1796346669498379, -0.7816898015019265, 0.8630132212967984, 0.6590246731638996, -1.1013906677685679, -0.9446804895542242, -1.788022470413331, 0.8775002821729455, 0.3546715768521251, -0.16532125735222183, 1.8914747239632839, -1.1251772915449791, 0.8888981026894395, -0.6066117727706714, 0.8314777742724779, 0.3830457069359529, -0.937459527593053, -0.844561047334305, 1.1280232245052606, -1.640427972598561, 0.8971269652786067, 0.4848047458342485, 0.19373507090654035, -0.7387091317560727, -0.3566733282792827, -0.43158335134818315, -0.4899640124314907, 0.5488715658495908, 0.2821768987731658, -0.8832439438038343, 1.271863067044618, 0.10680856505919414, 0.8269478103679717, -0.03266751467505833, -0.34021520002722894, -0.6769186069469743, 0.7126188256918854, 1.8871150025438166, -0.06742662656190869, -1.4789736197389265, 0.346978601690099, -0.3757389938313092, 0.715285859520045, 1.5994858611908638, -0.3692558358591885, 0.13827360227735647, -0.40690530542342296, 0.636973800943974, 0.14658752987818605, -0.3949906255692418, 1.5076392623927681, -0.15486042602397807, 0.22159940179664614, -1.0878244818277978, -0.03354417910293162, 1.2258839316932069, -0.048951028800266715, -1.1089870994157809, 0.021452684803338333, 1.2548854256528554, -1.0913797662237141, -0.539059741192553, 0.6901269187662552, -1.4810451728120602, -0.8468654201203714, 0.3763927872506507, 0.8120568488462931, 0.0031767062628090745, 0.697742291538818, -0.7429703118062226, -0.842231117346612, -0.0666718362166121, 1.8829720647783421, 1.320112956074407, 0.42394324402947475, 0.466299928509142, 0.9415282138953815, -0.7707938096473991], \"type\": \"scatter\", \"marker\": {\"size\": [90, 70, 57, 64, 75, 45, 79, 60, 101, 50, 41, 59, 68, 84, 87, 12, 62, 71, 75, 47, 64, 96, 63, 84, 80, 61, 54, 67, 83, 52, 81, 66, 72, 68, 86, 86, 74, 46, 88, 88, 74, 51, 66, 62, 79, 60, 27, 109, 80, 90, 64, 72, 50, 112, 67, 77, 84, 56, 54, 74, 94, 88, 64, 61, 44, 87, 109, 74, 86, 77, 75, 88, 77, 90, 96, 66, 52, 75, 77, 52, 37, 69, 49, 60, 77, 71, 55, 66, 78, 32, 40, 85, 69, 80, 61, 67, 67, 67, 56, 64], \"line\": {\"width\": 1.3}, \"color\": [\"rgb(226, 74, 51)\", \"rgb(226, 74, 51)\", \"rgb(226, 74, 51)\", \"rgb(226, 74, 51)\", \"rgb(226, 74, 51)\", \"rgb(226, 74, 51)\", \"rgb(226, 74, 51)\", \"rgb(226, 74, 51)\", \"rgb(226, 74, 51)\", \"rgb(226, 74, 51)\", \"rgb(226, 74, 51)\", \"rgb(226, 74, 51)\", \"rgb(226, 74, 51)\", \"rgb(226, 74, 51)\", \"rgb(226, 74, 51)\", \"rgb(226, 74, 51)\", \"rgb(226, 74, 51)\", \"rgb(226, 74, 51)\", \"rgb(226, 74, 51)\", \"rgb(226, 74, 51)\", \"rgb(226, 74, 51)\", \"rgb(226, 74, 51)\", \"rgb(226, 74, 51)\", \"rgb(226, 74, 51)\", \"rgb(226, 74, 51)\", \"rgb(226, 74, 51)\", \"rgb(226, 74, 51)\", \"rgb(226, 74, 51)\", \"rgb(226, 74, 51)\", \"rgb(226, 74, 51)\", \"rgb(226, 74, 51)\", \"rgb(226, 74, 51)\", \"rgb(226, 74, 51)\", \"rgb(226, 74, 51)\", \"rgb(226, 74, 51)\", \"rgb(226, 74, 51)\", \"rgb(226, 74, 51)\", \"rgb(226, 74, 51)\", \"rgb(226, 74, 51)\", \"rgb(226, 74, 51)\", \"rgb(226, 74, 51)\", \"rgb(226, 74, 51)\", \"rgb(226, 74, 51)\", \"rgb(226, 74, 51)\", \"rgb(226, 74, 51)\", \"rgb(226, 74, 51)\", \"rgb(226, 74, 51)\", \"rgb(226, 74, 51)\", \"rgb(226, 74, 51)\", \"rgb(226, 74, 51)\", \"rgb(226, 74, 51)\", \"rgb(226, 74, 51)\", \"rgb(226, 74, 51)\", \"rgb(226, 74, 51)\", \"rgb(226, 74, 51)\", \"rgb(226, 74, 51)\", \"rgb(226, 74, 51)\", \"rgb(226, 74, 51)\", \"rgb(226, 74, 51)\", \"rgb(226, 74, 51)\", \"rgb(226, 74, 51)\", \"rgb(226, 74, 51)\", \"rgb(226, 74, 51)\", \"rgb(226, 74, 51)\", \"rgb(226, 74, 51)\", \"rgb(226, 74, 51)\", \"rgb(226, 74, 51)\", \"rgb(226, 74, 51)\", \"rgb(226, 74, 51)\", \"rgb(226, 74, 51)\", \"rgb(226, 74, 51)\", \"rgb(226, 74, 51)\", \"rgb(226, 74, 51)\", \"rgb(226, 74, 51)\", \"rgb(226, 74, 51)\", \"rgb(226, 74, 51)\", \"rgb(226, 74, 51)\", \"rgb(226, 74, 51)\", \"rgb(226, 74, 51)\", \"rgb(226, 74, 51)\", \"rgb(226, 74, 51)\", \"rgb(226, 74, 51)\", \"rgb(226, 74, 51)\", \"rgb(226, 74, 51)\", \"rgb(226, 74, 51)\", \"rgb(226, 74, 51)\", \"rgb(226, 74, 51)\", \"rgb(226, 74, 51)\", \"rgb(226, 74, 51)\", \"rgb(226, 74, 51)\", \"rgb(226, 74, 51)\", \"rgb(226, 74, 51)\", \"rgb(226, 74, 51)\", \"rgb(226, 74, 51)\", \"rgb(226, 74, 51)\", \"rgb(226, 74, 51)\", \"rgb(226, 74, 51)\", \"rgb(226, 74, 51)\", \"rgb(226, 74, 51)\", \"rgb(226, 74, 51)\"], \"symbol\": \"dot\"}}], {\"legend\": {\"font\": {\"color\": \"#666666\"}, \"bgcolor\": \"#FFFFFF\"}, \"titlefont\": {\"color\": \"#151516\"}, \"xaxis1\": {\"titlefont\": {\"color\": \"#666666\"}, \"zerolinecolor\": \"#F6F6F6\", \"title\": \"\", \"tickfont\": {\"color\": \"#666666\"}, \"showgrid\": true, \"gridcolor\": \"#F6F6F6\"}, \"paper_bgcolor\": \"#FFFFFF\", \"plot_bgcolor\": \"#E5E5E5\", \"yaxis1\": {\"titlefont\": {\"color\": \"#666666\"}, \"zerolinecolor\": \"#F6F6F6\", \"title\": \"\", \"tickfont\": {\"color\": \"#666666\"}, \"showgrid\": true, \"gridcolor\": \"#F6F6F6\"}}, {\"showLink\": true, \"linkText\": \"Export to plot.ly\"})});</script>"
      ],
      "text/plain": [
       "<IPython.core.display.HTML object>"
      ]
     },
     "metadata": {},
     "output_type": "display_data"
    }
   ],
   "source": [
    "df.iplot(kind='bubble',x='A',y='B',size='C')"
   ]
  },
  {
   "cell_type": "markdown",
   "metadata": {},
   "source": [
    "## scatter_matrix()\n",
    "\n",
    "Similar to sns.pairplot()"
   ]
  },
  {
   "cell_type": "code",
   "execution_count": 17,
   "metadata": {},
   "outputs": [
    {
     "data": {
      "application/vnd.plotly.v1+json": {
       "config": {
        "linkText": "Export to plot.ly",
        "plotlyServerURL": "https://plot.ly",
        "showLink": true
       },
       "data": [
        {
         "histfunc": "count",
         "histnorm": "",
         "marker": {
          "color": "rgba(255, 153, 51, 1.0)",
          "line": {
           "color": "#4D5663",
           "width": 1.3
          }
         },
         "name": "A",
         "nbinsx": 10,
         "opacity": 0.8,
         "orientation": "v",
         "type": "histogram",
         "x": [
          1.0059849258878888,
          -0.7010283547172209,
          -0.5530126170762337,
          1.5053586782927417,
          -0.14726718874838793,
          0.9770648926030767,
          0.6582506381399114,
          1.0301364104111772,
          -0.6260545174128129,
          -0.23780547328255147,
          0.8692692347787173,
          -0.5941485868327748,
          1.3591357195353555,
          -0.06399674516066887,
          0.829491071166314,
          0.5075254902761043,
          0.39113458866456685,
          1.063590572916894,
          0.8260655068010079,
          0.05245914539600717,
          -0.29323652668514805,
          -0.8401937481829118,
          0.024392012903958628,
          -1.521808563029623,
          -1.7272984737501598,
          -1.2563625232193036,
          0.633200412942476,
          -0.06367695602209411,
          -0.9017297357282704,
          0.11698081887161703,
          1.1789543999818366,
          0.7660384597132036,
          -0.14251541251705346,
          -1.4439954490372702,
          -0.1134737009733189,
          0.3916399896467472,
          -1.6438615230459779,
          -1.575452925220763,
          0.19490135135400036,
          -0.44498886895191403,
          0.2312126079129507,
          -0.19627309617738198,
          -1.5339188969959598,
          -1.0101177305805602,
          -0.5550261122432499,
          0.5981372038864573,
          1.9910393634213503,
          0.2492201885622451,
          -0.9944304584636777,
          0.5646967420168103,
          -0.08274449653620139,
          -0.7036502030924995,
          -0.30780049682799165,
          0.37452281339802984,
          -1.7872024370426731,
          1.3150335765180852,
          -0.5022658671929559,
          -0.344075543749246,
          -2.2374361399516345,
          1.041499401164971,
          0.7817975414736285,
          1.107319698661312,
          -1.2737183030994284,
          -0.5950888503549907,
          -1.190172709089028,
          -0.8952366180461947,
          -0.9450534445999006,
          0.7107542518724876,
          -0.24820813158798022,
          0.4198423385645599,
          0.6047113262770456,
          -0.4160311294851515,
          -0.36728501047823253,
          0.3451507507628055,
          3.0630486256974994,
          -0.08746757371406043,
          0.5379769422520592,
          -0.5196889635008731,
          -0.6871870613667098,
          -0.9885145886506468,
          -0.05642607429579795,
          0.694024910793667,
          0.1117698851259172,
          0.6280284197808698,
          -0.41881620021060223,
          0.0163714417546095,
          0.6214157736302589,
          2.5611775910144434,
          -1.651426960827347,
          0.7276986756237057,
          0.0020637820745796525,
          1.0825882895513737,
          0.8522486570762773,
          0.9254765481327194,
          2.369406636690293,
          -0.1864307255187936,
          -1.2220120453149546,
          0.12374884427234126,
          1.0240876997603876,
          0.9306315414048747
         ],
         "xaxis": "x",
         "yaxis": "y"
        },
        {
         "line": {
          "color": "rgba(128, 128, 128, 1.0)",
          "dash": "solid",
          "shape": "linear",
          "width": 1.3
         },
         "marker": {
          "size": 2,
          "symbol": "circle"
         },
         "mode": "markers",
         "name": "A",
         "text": "",
         "type": "scatter",
         "x": [
          0.27123248257990207,
          -0.79942997399121,
          0.27772911725777966,
          0.18960229284980287,
          -0.8044425029603967,
          0.7931602887107293,
          0.09652443857989028,
          0.8655015370064665,
          1.8308095515374818,
          0.2749896402271901,
          -2.362470749558614,
          0.11318463248836325,
          1.1119060219411647,
          0.8413226249722645,
          0.264162004739382,
          -0.6226535951055381,
          -0.737187879777522,
          -0.3626954861256312,
          0.4294362143199215,
          0.41469046140977495,
          0.5680125191650225,
          -1.2090340893662848,
          -1.1517342459828552,
          0.07448158921672837,
          0.4342728711098793,
          -0.20340173641225098,
          -0.528340097965374,
          0.4026325670699657,
          -0.40849660314465924,
          -0.9428728834213882,
          -1.0889224753201423,
          0.4343412244961164,
          -0.7027380984223325,
          1.1319173613819913,
          1.6681268067655357,
          1.2858714822530204,
          1.4153351993627128,
          -0.08415221277465915,
          0.17385461825845852,
          -1.8272643020599595,
          2.2419576746860828,
          -2.3016095629002367,
          0.4881547327449486,
          1.1274204073827983,
          -1.6610304314092292,
          0.5084657836063696,
          1.1018806738410605,
          1.7331852105972836,
          -1.6921562959754037,
          0.7935734457392073,
          -0.4618448454747036,
          0.09704187385754046,
          1.6348279512783874,
          0.19093918341701024,
          0.5081161905495156,
          0.10409349820610142,
          0.5898422928262188,
          1.2059751159993455,
          -0.5116586540463366,
          2.3208666873631407,
          0.6591266073249621,
          0.011168806554076564,
          -0.24826244758228458,
          -0.2025377569889235,
          -1.214073633209104,
          -0.5942956343079454,
          0.42789903281354497,
          -0.7250345597938104,
          0.9089201785078819,
          -1.7571715280512354,
          -0.36961300780873146,
          -0.8017050054439957,
          -1.6479669486704083,
          -0.5583710349189371,
          0.18414634913941588,
          0.6033431857155406,
          -0.1260205311565872,
          1.7062195203355053,
          0.5551594111777242,
          0.45691501176084015,
          1.439617458449986,
          0.6476365584272519,
          -0.4839348534689651,
          -0.013750335017990164,
          -0.4257175480997596,
          0.6781859750888468,
          -0.25706909317655696,
          -0.5362230018794678,
          1.2984894985704358,
          -0.5492264295963026,
          -0.33213986415001917,
          1.8882234704904772,
          -0.6624309121654113,
          1.446259954425405,
          1.2473065619110835,
          -0.4161884594577917,
          0.08657820546570494,
          -1.2691170457140617,
          0.5963599115083469,
          1.5661208240920954
         ],
         "xaxis": "x2",
         "y": [
          1.0059849258878888,
          -0.7010283547172209,
          -0.5530126170762337,
          1.5053586782927417,
          -0.14726718874838793,
          0.9770648926030767,
          0.6582506381399114,
          1.0301364104111772,
          -0.6260545174128129,
          -0.23780547328255147,
          0.8692692347787173,
          -0.5941485868327748,
          1.3591357195353555,
          -0.06399674516066887,
          0.829491071166314,
          0.5075254902761043,
          0.39113458866456685,
          1.063590572916894,
          0.8260655068010079,
          0.05245914539600717,
          -0.29323652668514805,
          -0.8401937481829118,
          0.024392012903958628,
          -1.521808563029623,
          -1.7272984737501598,
          -1.2563625232193036,
          0.633200412942476,
          -0.06367695602209411,
          -0.9017297357282704,
          0.11698081887161703,
          1.1789543999818366,
          0.7660384597132036,
          -0.14251541251705346,
          -1.4439954490372702,
          -0.1134737009733189,
          0.3916399896467472,
          -1.6438615230459779,
          -1.575452925220763,
          0.19490135135400036,
          -0.44498886895191403,
          0.2312126079129507,
          -0.19627309617738198,
          -1.5339188969959598,
          -1.0101177305805602,
          -0.5550261122432499,
          0.5981372038864573,
          1.9910393634213503,
          0.2492201885622451,
          -0.9944304584636777,
          0.5646967420168103,
          -0.08274449653620139,
          -0.7036502030924995,
          -0.30780049682799165,
          0.37452281339802984,
          -1.7872024370426731,
          1.3150335765180852,
          -0.5022658671929559,
          -0.344075543749246,
          -2.2374361399516345,
          1.041499401164971,
          0.7817975414736285,
          1.107319698661312,
          -1.2737183030994284,
          -0.5950888503549907,
          -1.190172709089028,
          -0.8952366180461947,
          -0.9450534445999006,
          0.7107542518724876,
          -0.24820813158798022,
          0.4198423385645599,
          0.6047113262770456,
          -0.4160311294851515,
          -0.36728501047823253,
          0.3451507507628055,
          3.0630486256974994,
          -0.08746757371406043,
          0.5379769422520592,
          -0.5196889635008731,
          -0.6871870613667098,
          -0.9885145886506468,
          -0.05642607429579795,
          0.694024910793667,
          0.1117698851259172,
          0.6280284197808698,
          -0.41881620021060223,
          0.0163714417546095,
          0.6214157736302589,
          2.5611775910144434,
          -1.651426960827347,
          0.7276986756237057,
          0.0020637820745796525,
          1.0825882895513737,
          0.8522486570762773,
          0.9254765481327194,
          2.369406636690293,
          -0.1864307255187936,
          -1.2220120453149546,
          0.12374884427234126,
          1.0240876997603876,
          0.9306315414048747
         ],
         "yaxis": "y2"
        },
        {
         "line": {
          "color": "rgba(128, 128, 128, 1.0)",
          "dash": "solid",
          "shape": "linear",
          "width": 1.3
         },
         "marker": {
          "size": 2,
          "symbol": "circle"
         },
         "mode": "markers",
         "name": "A",
         "text": "",
         "type": "scatter",
         "x": [
          1.0020802852169395,
          -0.5390569136608081,
          -1.1735868528978086,
          -0.19370678015108822,
          -0.8627480348176071,
          -0.07916561711684227,
          0.7890727092933453,
          1.208131982351821,
          0.5251009234628812,
          -0.15354741461965063,
          0.8475205965443758,
          0.8616925857300906,
          -1.4983455175296703,
          2.038864774512134,
          -1.384089685448887,
          -0.0199128398487301,
          -0.901535292624148,
          -1.4260708926371368,
          0.31947303727231025,
          0.6955250953666504,
          -0.14826157401941345,
          -0.27867589482986965,
          2.0559916394347963,
          -1.142218313487505,
          -0.6532889903314228,
          -0.6681667040328896,
          -0.3819589457468317,
          -1.3242792685257907,
          -0.582693172285536,
          0.8380985075058318,
          -1.5900544945919126,
          -0.817323791042536,
          -0.5770712712136894,
          1.598049493241747,
          -1.6030546917479342,
          -0.18893479142076497,
          -0.14275386670057358,
          -1.0808485786210216,
          1.7441259924784798,
          -0.5668225024663784,
          2.2483807923478487,
          -1.2380132169909308,
          0.08187177392120813,
          -1.2340558481383763,
          0.12891657023598793,
          0.16161417970845665,
          -1.2815449662266547,
          0.44255808468406754,
          -1.0208382866621604,
          0.37405706780317527,
          1.7030649229524548,
          -0.8175610347174083,
          -0.28648787422820254,
          -0.7855871653772528,
          0.4409277705447799,
          3.543351845608989,
          -1.1874349429981723,
          0.5848514099685764,
          -1.3798439328236585,
          1.0274144640710137,
          0.8306381470734858,
          0.5092013929593797,
          1.0140034129689417,
          0.6835686285842434,
          1.7952181251101156,
          0.9473422224217499,
          -0.03671829779430676,
          -0.2860039225741498,
          -0.6645535810763674,
          0.35361402690987087,
          -0.4838160786577071,
          -0.3306437100433293,
          0.7578497774109706,
          0.6171141472049061,
          1.3705691489603569,
          0.5009242912330782,
          -0.1798435960914884,
          -0.4703086828538535,
          -0.6466893155159424,
          -0.5585942489444932,
          -0.02599426496031827,
          1.2347156023274353,
          -0.34351542125379675,
          -0.5588861571003991,
          -2.1750786951966687,
          0.5479115263608578,
          -1.334641208833851,
          -0.6690430786891292,
          1.3751780594241751,
          0.26847159545018806,
          -0.1761820585181939,
          1.05314198035309,
          1.3094116617361056,
          -1.1745893269297902,
          -1.201001044670139,
          1.6329366211410532,
          -0.23414871056271985,
          0.958359103538749,
          1.6208728035608129,
          1.976957756428609
         ],
         "xaxis": "x3",
         "y": [
          1.0059849258878888,
          -0.7010283547172209,
          -0.5530126170762337,
          1.5053586782927417,
          -0.14726718874838793,
          0.9770648926030767,
          0.6582506381399114,
          1.0301364104111772,
          -0.6260545174128129,
          -0.23780547328255147,
          0.8692692347787173,
          -0.5941485868327748,
          1.3591357195353555,
          -0.06399674516066887,
          0.829491071166314,
          0.5075254902761043,
          0.39113458866456685,
          1.063590572916894,
          0.8260655068010079,
          0.05245914539600717,
          -0.29323652668514805,
          -0.8401937481829118,
          0.024392012903958628,
          -1.521808563029623,
          -1.7272984737501598,
          -1.2563625232193036,
          0.633200412942476,
          -0.06367695602209411,
          -0.9017297357282704,
          0.11698081887161703,
          1.1789543999818366,
          0.7660384597132036,
          -0.14251541251705346,
          -1.4439954490372702,
          -0.1134737009733189,
          0.3916399896467472,
          -1.6438615230459779,
          -1.575452925220763,
          0.19490135135400036,
          -0.44498886895191403,
          0.2312126079129507,
          -0.19627309617738198,
          -1.5339188969959598,
          -1.0101177305805602,
          -0.5550261122432499,
          0.5981372038864573,
          1.9910393634213503,
          0.2492201885622451,
          -0.9944304584636777,
          0.5646967420168103,
          -0.08274449653620139,
          -0.7036502030924995,
          -0.30780049682799165,
          0.37452281339802984,
          -1.7872024370426731,
          1.3150335765180852,
          -0.5022658671929559,
          -0.344075543749246,
          -2.2374361399516345,
          1.041499401164971,
          0.7817975414736285,
          1.107319698661312,
          -1.2737183030994284,
          -0.5950888503549907,
          -1.190172709089028,
          -0.8952366180461947,
          -0.9450534445999006,
          0.7107542518724876,
          -0.24820813158798022,
          0.4198423385645599,
          0.6047113262770456,
          -0.4160311294851515,
          -0.36728501047823253,
          0.3451507507628055,
          3.0630486256974994,
          -0.08746757371406043,
          0.5379769422520592,
          -0.5196889635008731,
          -0.6871870613667098,
          -0.9885145886506468,
          -0.05642607429579795,
          0.694024910793667,
          0.1117698851259172,
          0.6280284197808698,
          -0.41881620021060223,
          0.0163714417546095,
          0.6214157736302589,
          2.5611775910144434,
          -1.651426960827347,
          0.7276986756237057,
          0.0020637820745796525,
          1.0825882895513737,
          0.8522486570762773,
          0.9254765481327194,
          2.369406636690293,
          -0.1864307255187936,
          -1.2220120453149546,
          0.12374884427234126,
          1.0240876997603876,
          0.9306315414048747
         ],
         "yaxis": "y3"
        },
        {
         "line": {
          "color": "rgba(128, 128, 128, 1.0)",
          "dash": "solid",
          "shape": "linear",
          "width": 1.3
         },
         "marker": {
          "size": 2,
          "symbol": "circle"
         },
         "mode": "markers",
         "name": "A",
         "text": "",
         "type": "scatter",
         "x": [
          -1.0730237098656148,
          0.2794052342320543,
          1.2010550003526252,
          -0.8756125607759215,
          0.6973288114083869,
          -0.5175638226684373,
          -0.19100021548276025,
          -1.1261632863496405,
          0.4093467997142295,
          -1.1810452254539712,
          -1.6421097159239544,
          -0.36175609087987676,
          -0.570870365133796,
          -0.22860936246283636,
          2.4841487092545327,
          2.8668607090480163,
          2.0827019107651283,
          -1.1051879951439498,
          1.850009089308549,
          -0.9115784516092622,
          0.6554854193062295,
          0.023464263393912856,
          -1.3839777212230235,
          -0.20959889906106324,
          0.7300331971299585,
          -2.7377559487231524,
          2.0847339873067487,
          -0.4906215247853985,
          -1.4675505846766048,
          -0.23977044690699248,
          -0.2850539573504832,
          1.6788932677843182,
          -0.28954305067488045,
          -0.6582003111774273,
          0.7556677086028821,
          -1.2463215669305947,
          0.19858081252017226,
          -0.07164550809083756,
          -1.8485949588626711,
          -0.10119396429207501,
          -0.264430453219776,
          0.796674568982724,
          0.6439357673746793,
          0.5166924710532177,
          -0.36772158478393324,
          -0.789478896455601,
          -0.5510152121867143,
          -1.2576160991632663,
          1.1389336894281417,
          -2.2015249466112166,
          -1.2114788378792567,
          -1.2348064014679465,
          -2.1091970515178584,
          -0.31763178375937506,
          -0.9133573531122807,
          -0.6331311678008216,
          0.9369116422442504,
          0.9083676783872775,
          1.5710016950446708,
          0.9618189048878746,
          0.8702472012619139,
          0.16749411099852338,
          -0.19611312770862116,
          -0.041887486426224765,
          -0.17388136524387854,
          -1.1313118395056132,
          -0.2678535099561108,
          -1.1753831498470801,
          0.9380088756427204,
          -1.627900222339357,
          -0.1595193877062732,
          0.2916393711874212,
          0.06653326084873111,
          -0.10112392340973708,
          -0.6909977061948326,
          0.30822221740449457,
          -0.989269805452754,
          0.15658232583343956,
          -0.4094025742419398,
          -0.6950892772326683,
          -0.25831385337232443,
          -1.1726481945419387,
          0.6908554822616798,
          0.16147855619255203,
          2.507269356076118,
          -0.7861694165655152,
          -0.07345624254973059,
          0.9481105312495175,
          2.582822327265082,
          -0.6670838788614623,
          1.1221203026517277,
          -1.3695156966498792,
          0.8412337675522863,
          0.3070779970130713,
          -0.9395414007292571,
          -2.264013877875384,
          0.6052148453710591,
          0.7437978752182598,
          -0.7635869173453622,
          -1.4639645624109963
         ],
         "xaxis": "x4",
         "y": [
          1.0059849258878888,
          -0.7010283547172209,
          -0.5530126170762337,
          1.5053586782927417,
          -0.14726718874838793,
          0.9770648926030767,
          0.6582506381399114,
          1.0301364104111772,
          -0.6260545174128129,
          -0.23780547328255147,
          0.8692692347787173,
          -0.5941485868327748,
          1.3591357195353555,
          -0.06399674516066887,
          0.829491071166314,
          0.5075254902761043,
          0.39113458866456685,
          1.063590572916894,
          0.8260655068010079,
          0.05245914539600717,
          -0.29323652668514805,
          -0.8401937481829118,
          0.024392012903958628,
          -1.521808563029623,
          -1.7272984737501598,
          -1.2563625232193036,
          0.633200412942476,
          -0.06367695602209411,
          -0.9017297357282704,
          0.11698081887161703,
          1.1789543999818366,
          0.7660384597132036,
          -0.14251541251705346,
          -1.4439954490372702,
          -0.1134737009733189,
          0.3916399896467472,
          -1.6438615230459779,
          -1.575452925220763,
          0.19490135135400036,
          -0.44498886895191403,
          0.2312126079129507,
          -0.19627309617738198,
          -1.5339188969959598,
          -1.0101177305805602,
          -0.5550261122432499,
          0.5981372038864573,
          1.9910393634213503,
          0.2492201885622451,
          -0.9944304584636777,
          0.5646967420168103,
          -0.08274449653620139,
          -0.7036502030924995,
          -0.30780049682799165,
          0.37452281339802984,
          -1.7872024370426731,
          1.3150335765180852,
          -0.5022658671929559,
          -0.344075543749246,
          -2.2374361399516345,
          1.041499401164971,
          0.7817975414736285,
          1.107319698661312,
          -1.2737183030994284,
          -0.5950888503549907,
          -1.190172709089028,
          -0.8952366180461947,
          -0.9450534445999006,
          0.7107542518724876,
          -0.24820813158798022,
          0.4198423385645599,
          0.6047113262770456,
          -0.4160311294851515,
          -0.36728501047823253,
          0.3451507507628055,
          3.0630486256974994,
          -0.08746757371406043,
          0.5379769422520592,
          -0.5196889635008731,
          -0.6871870613667098,
          -0.9885145886506468,
          -0.05642607429579795,
          0.694024910793667,
          0.1117698851259172,
          0.6280284197808698,
          -0.41881620021060223,
          0.0163714417546095,
          0.6214157736302589,
          2.5611775910144434,
          -1.651426960827347,
          0.7276986756237057,
          0.0020637820745796525,
          1.0825882895513737,
          0.8522486570762773,
          0.9254765481327194,
          2.369406636690293,
          -0.1864307255187936,
          -1.2220120453149546,
          0.12374884427234126,
          1.0240876997603876,
          0.9306315414048747
         ],
         "yaxis": "y4"
        },
        {
         "line": {
          "color": "rgba(128, 128, 128, 1.0)",
          "dash": "solid",
          "shape": "linear",
          "width": 1.3
         },
         "marker": {
          "size": 2,
          "symbol": "circle"
         },
         "mode": "markers",
         "name": "B",
         "text": "",
         "type": "scatter",
         "x": [
          1.0059849258878888,
          -0.7010283547172209,
          -0.5530126170762337,
          1.5053586782927417,
          -0.14726718874838793,
          0.9770648926030767,
          0.6582506381399114,
          1.0301364104111772,
          -0.6260545174128129,
          -0.23780547328255147,
          0.8692692347787173,
          -0.5941485868327748,
          1.3591357195353555,
          -0.06399674516066887,
          0.829491071166314,
          0.5075254902761043,
          0.39113458866456685,
          1.063590572916894,
          0.8260655068010079,
          0.05245914539600717,
          -0.29323652668514805,
          -0.8401937481829118,
          0.024392012903958628,
          -1.521808563029623,
          -1.7272984737501598,
          -1.2563625232193036,
          0.633200412942476,
          -0.06367695602209411,
          -0.9017297357282704,
          0.11698081887161703,
          1.1789543999818366,
          0.7660384597132036,
          -0.14251541251705346,
          -1.4439954490372702,
          -0.1134737009733189,
          0.3916399896467472,
          -1.6438615230459779,
          -1.575452925220763,
          0.19490135135400036,
          -0.44498886895191403,
          0.2312126079129507,
          -0.19627309617738198,
          -1.5339188969959598,
          -1.0101177305805602,
          -0.5550261122432499,
          0.5981372038864573,
          1.9910393634213503,
          0.2492201885622451,
          -0.9944304584636777,
          0.5646967420168103,
          -0.08274449653620139,
          -0.7036502030924995,
          -0.30780049682799165,
          0.37452281339802984,
          -1.7872024370426731,
          1.3150335765180852,
          -0.5022658671929559,
          -0.344075543749246,
          -2.2374361399516345,
          1.041499401164971,
          0.7817975414736285,
          1.107319698661312,
          -1.2737183030994284,
          -0.5950888503549907,
          -1.190172709089028,
          -0.8952366180461947,
          -0.9450534445999006,
          0.7107542518724876,
          -0.24820813158798022,
          0.4198423385645599,
          0.6047113262770456,
          -0.4160311294851515,
          -0.36728501047823253,
          0.3451507507628055,
          3.0630486256974994,
          -0.08746757371406043,
          0.5379769422520592,
          -0.5196889635008731,
          -0.6871870613667098,
          -0.9885145886506468,
          -0.05642607429579795,
          0.694024910793667,
          0.1117698851259172,
          0.6280284197808698,
          -0.41881620021060223,
          0.0163714417546095,
          0.6214157736302589,
          2.5611775910144434,
          -1.651426960827347,
          0.7276986756237057,
          0.0020637820745796525,
          1.0825882895513737,
          0.8522486570762773,
          0.9254765481327194,
          2.369406636690293,
          -0.1864307255187936,
          -1.2220120453149546,
          0.12374884427234126,
          1.0240876997603876,
          0.9306315414048747
         ],
         "xaxis": "x5",
         "y": [
          0.27123248257990207,
          -0.79942997399121,
          0.27772911725777966,
          0.18960229284980287,
          -0.8044425029603967,
          0.7931602887107293,
          0.09652443857989028,
          0.8655015370064665,
          1.8308095515374818,
          0.2749896402271901,
          -2.362470749558614,
          0.11318463248836325,
          1.1119060219411647,
          0.8413226249722645,
          0.264162004739382,
          -0.6226535951055381,
          -0.737187879777522,
          -0.3626954861256312,
          0.4294362143199215,
          0.41469046140977495,
          0.5680125191650225,
          -1.2090340893662848,
          -1.1517342459828552,
          0.07448158921672837,
          0.4342728711098793,
          -0.20340173641225098,
          -0.528340097965374,
          0.4026325670699657,
          -0.40849660314465924,
          -0.9428728834213882,
          -1.0889224753201423,
          0.4343412244961164,
          -0.7027380984223325,
          1.1319173613819913,
          1.6681268067655357,
          1.2858714822530204,
          1.4153351993627128,
          -0.08415221277465915,
          0.17385461825845852,
          -1.8272643020599595,
          2.2419576746860828,
          -2.3016095629002367,
          0.4881547327449486,
          1.1274204073827983,
          -1.6610304314092292,
          0.5084657836063696,
          1.1018806738410605,
          1.7331852105972836,
          -1.6921562959754037,
          0.7935734457392073,
          -0.4618448454747036,
          0.09704187385754046,
          1.6348279512783874,
          0.19093918341701024,
          0.5081161905495156,
          0.10409349820610142,
          0.5898422928262188,
          1.2059751159993455,
          -0.5116586540463366,
          2.3208666873631407,
          0.6591266073249621,
          0.011168806554076564,
          -0.24826244758228458,
          -0.2025377569889235,
          -1.214073633209104,
          -0.5942956343079454,
          0.42789903281354497,
          -0.7250345597938104,
          0.9089201785078819,
          -1.7571715280512354,
          -0.36961300780873146,
          -0.8017050054439957,
          -1.6479669486704083,
          -0.5583710349189371,
          0.18414634913941588,
          0.6033431857155406,
          -0.1260205311565872,
          1.7062195203355053,
          0.5551594111777242,
          0.45691501176084015,
          1.439617458449986,
          0.6476365584272519,
          -0.4839348534689651,
          -0.013750335017990164,
          -0.4257175480997596,
          0.6781859750888468,
          -0.25706909317655696,
          -0.5362230018794678,
          1.2984894985704358,
          -0.5492264295963026,
          -0.33213986415001917,
          1.8882234704904772,
          -0.6624309121654113,
          1.446259954425405,
          1.2473065619110835,
          -0.4161884594577917,
          0.08657820546570494,
          -1.2691170457140617,
          0.5963599115083469,
          1.5661208240920954
         ],
         "yaxis": "y5"
        },
        {
         "histfunc": "count",
         "histnorm": "",
         "marker": {
          "color": "rgba(55, 128, 191, 1.0)",
          "line": {
           "color": "#4D5663",
           "width": 1.3
          }
         },
         "name": "B",
         "nbinsx": 10,
         "opacity": 0.8,
         "orientation": "v",
         "type": "histogram",
         "x": [
          0.27123248257990207,
          -0.79942997399121,
          0.27772911725777966,
          0.18960229284980287,
          -0.8044425029603967,
          0.7931602887107293,
          0.09652443857989028,
          0.8655015370064665,
          1.8308095515374818,
          0.2749896402271901,
          -2.362470749558614,
          0.11318463248836325,
          1.1119060219411647,
          0.8413226249722645,
          0.264162004739382,
          -0.6226535951055381,
          -0.737187879777522,
          -0.3626954861256312,
          0.4294362143199215,
          0.41469046140977495,
          0.5680125191650225,
          -1.2090340893662848,
          -1.1517342459828552,
          0.07448158921672837,
          0.4342728711098793,
          -0.20340173641225098,
          -0.528340097965374,
          0.4026325670699657,
          -0.40849660314465924,
          -0.9428728834213882,
          -1.0889224753201423,
          0.4343412244961164,
          -0.7027380984223325,
          1.1319173613819913,
          1.6681268067655357,
          1.2858714822530204,
          1.4153351993627128,
          -0.08415221277465915,
          0.17385461825845852,
          -1.8272643020599595,
          2.2419576746860828,
          -2.3016095629002367,
          0.4881547327449486,
          1.1274204073827983,
          -1.6610304314092292,
          0.5084657836063696,
          1.1018806738410605,
          1.7331852105972836,
          -1.6921562959754037,
          0.7935734457392073,
          -0.4618448454747036,
          0.09704187385754046,
          1.6348279512783874,
          0.19093918341701024,
          0.5081161905495156,
          0.10409349820610142,
          0.5898422928262188,
          1.2059751159993455,
          -0.5116586540463366,
          2.3208666873631407,
          0.6591266073249621,
          0.011168806554076564,
          -0.24826244758228458,
          -0.2025377569889235,
          -1.214073633209104,
          -0.5942956343079454,
          0.42789903281354497,
          -0.7250345597938104,
          0.9089201785078819,
          -1.7571715280512354,
          -0.36961300780873146,
          -0.8017050054439957,
          -1.6479669486704083,
          -0.5583710349189371,
          0.18414634913941588,
          0.6033431857155406,
          -0.1260205311565872,
          1.7062195203355053,
          0.5551594111777242,
          0.45691501176084015,
          1.439617458449986,
          0.6476365584272519,
          -0.4839348534689651,
          -0.013750335017990164,
          -0.4257175480997596,
          0.6781859750888468,
          -0.25706909317655696,
          -0.5362230018794678,
          1.2984894985704358,
          -0.5492264295963026,
          -0.33213986415001917,
          1.8882234704904772,
          -0.6624309121654113,
          1.446259954425405,
          1.2473065619110835,
          -0.4161884594577917,
          0.08657820546570494,
          -1.2691170457140617,
          0.5963599115083469,
          1.5661208240920954
         ],
         "xaxis": "x6",
         "yaxis": "y6"
        },
        {
         "line": {
          "color": "rgba(128, 128, 128, 1.0)",
          "dash": "solid",
          "shape": "linear",
          "width": 1.3
         },
         "marker": {
          "size": 2,
          "symbol": "circle"
         },
         "mode": "markers",
         "name": "B",
         "text": "",
         "type": "scatter",
         "x": [
          1.0020802852169395,
          -0.5390569136608081,
          -1.1735868528978086,
          -0.19370678015108822,
          -0.8627480348176071,
          -0.07916561711684227,
          0.7890727092933453,
          1.208131982351821,
          0.5251009234628812,
          -0.15354741461965063,
          0.8475205965443758,
          0.8616925857300906,
          -1.4983455175296703,
          2.038864774512134,
          -1.384089685448887,
          -0.0199128398487301,
          -0.901535292624148,
          -1.4260708926371368,
          0.31947303727231025,
          0.6955250953666504,
          -0.14826157401941345,
          -0.27867589482986965,
          2.0559916394347963,
          -1.142218313487505,
          -0.6532889903314228,
          -0.6681667040328896,
          -0.3819589457468317,
          -1.3242792685257907,
          -0.582693172285536,
          0.8380985075058318,
          -1.5900544945919126,
          -0.817323791042536,
          -0.5770712712136894,
          1.598049493241747,
          -1.6030546917479342,
          -0.18893479142076497,
          -0.14275386670057358,
          -1.0808485786210216,
          1.7441259924784798,
          -0.5668225024663784,
          2.2483807923478487,
          -1.2380132169909308,
          0.08187177392120813,
          -1.2340558481383763,
          0.12891657023598793,
          0.16161417970845665,
          -1.2815449662266547,
          0.44255808468406754,
          -1.0208382866621604,
          0.37405706780317527,
          1.7030649229524548,
          -0.8175610347174083,
          -0.28648787422820254,
          -0.7855871653772528,
          0.4409277705447799,
          3.543351845608989,
          -1.1874349429981723,
          0.5848514099685764,
          -1.3798439328236585,
          1.0274144640710137,
          0.8306381470734858,
          0.5092013929593797,
          1.0140034129689417,
          0.6835686285842434,
          1.7952181251101156,
          0.9473422224217499,
          -0.03671829779430676,
          -0.2860039225741498,
          -0.6645535810763674,
          0.35361402690987087,
          -0.4838160786577071,
          -0.3306437100433293,
          0.7578497774109706,
          0.6171141472049061,
          1.3705691489603569,
          0.5009242912330782,
          -0.1798435960914884,
          -0.4703086828538535,
          -0.6466893155159424,
          -0.5585942489444932,
          -0.02599426496031827,
          1.2347156023274353,
          -0.34351542125379675,
          -0.5588861571003991,
          -2.1750786951966687,
          0.5479115263608578,
          -1.334641208833851,
          -0.6690430786891292,
          1.3751780594241751,
          0.26847159545018806,
          -0.1761820585181939,
          1.05314198035309,
          1.3094116617361056,
          -1.1745893269297902,
          -1.201001044670139,
          1.6329366211410532,
          -0.23414871056271985,
          0.958359103538749,
          1.6208728035608129,
          1.976957756428609
         ],
         "xaxis": "x7",
         "y": [
          0.27123248257990207,
          -0.79942997399121,
          0.27772911725777966,
          0.18960229284980287,
          -0.8044425029603967,
          0.7931602887107293,
          0.09652443857989028,
          0.8655015370064665,
          1.8308095515374818,
          0.2749896402271901,
          -2.362470749558614,
          0.11318463248836325,
          1.1119060219411647,
          0.8413226249722645,
          0.264162004739382,
          -0.6226535951055381,
          -0.737187879777522,
          -0.3626954861256312,
          0.4294362143199215,
          0.41469046140977495,
          0.5680125191650225,
          -1.2090340893662848,
          -1.1517342459828552,
          0.07448158921672837,
          0.4342728711098793,
          -0.20340173641225098,
          -0.528340097965374,
          0.4026325670699657,
          -0.40849660314465924,
          -0.9428728834213882,
          -1.0889224753201423,
          0.4343412244961164,
          -0.7027380984223325,
          1.1319173613819913,
          1.6681268067655357,
          1.2858714822530204,
          1.4153351993627128,
          -0.08415221277465915,
          0.17385461825845852,
          -1.8272643020599595,
          2.2419576746860828,
          -2.3016095629002367,
          0.4881547327449486,
          1.1274204073827983,
          -1.6610304314092292,
          0.5084657836063696,
          1.1018806738410605,
          1.7331852105972836,
          -1.6921562959754037,
          0.7935734457392073,
          -0.4618448454747036,
          0.09704187385754046,
          1.6348279512783874,
          0.19093918341701024,
          0.5081161905495156,
          0.10409349820610142,
          0.5898422928262188,
          1.2059751159993455,
          -0.5116586540463366,
          2.3208666873631407,
          0.6591266073249621,
          0.011168806554076564,
          -0.24826244758228458,
          -0.2025377569889235,
          -1.214073633209104,
          -0.5942956343079454,
          0.42789903281354497,
          -0.7250345597938104,
          0.9089201785078819,
          -1.7571715280512354,
          -0.36961300780873146,
          -0.8017050054439957,
          -1.6479669486704083,
          -0.5583710349189371,
          0.18414634913941588,
          0.6033431857155406,
          -0.1260205311565872,
          1.7062195203355053,
          0.5551594111777242,
          0.45691501176084015,
          1.439617458449986,
          0.6476365584272519,
          -0.4839348534689651,
          -0.013750335017990164,
          -0.4257175480997596,
          0.6781859750888468,
          -0.25706909317655696,
          -0.5362230018794678,
          1.2984894985704358,
          -0.5492264295963026,
          -0.33213986415001917,
          1.8882234704904772,
          -0.6624309121654113,
          1.446259954425405,
          1.2473065619110835,
          -0.4161884594577917,
          0.08657820546570494,
          -1.2691170457140617,
          0.5963599115083469,
          1.5661208240920954
         ],
         "yaxis": "y7"
        },
        {
         "line": {
          "color": "rgba(128, 128, 128, 1.0)",
          "dash": "solid",
          "shape": "linear",
          "width": 1.3
         },
         "marker": {
          "size": 2,
          "symbol": "circle"
         },
         "mode": "markers",
         "name": "B",
         "text": "",
         "type": "scatter",
         "x": [
          -1.0730237098656148,
          0.2794052342320543,
          1.2010550003526252,
          -0.8756125607759215,
          0.6973288114083869,
          -0.5175638226684373,
          -0.19100021548276025,
          -1.1261632863496405,
          0.4093467997142295,
          -1.1810452254539712,
          -1.6421097159239544,
          -0.36175609087987676,
          -0.570870365133796,
          -0.22860936246283636,
          2.4841487092545327,
          2.8668607090480163,
          2.0827019107651283,
          -1.1051879951439498,
          1.850009089308549,
          -0.9115784516092622,
          0.6554854193062295,
          0.023464263393912856,
          -1.3839777212230235,
          -0.20959889906106324,
          0.7300331971299585,
          -2.7377559487231524,
          2.0847339873067487,
          -0.4906215247853985,
          -1.4675505846766048,
          -0.23977044690699248,
          -0.2850539573504832,
          1.6788932677843182,
          -0.28954305067488045,
          -0.6582003111774273,
          0.7556677086028821,
          -1.2463215669305947,
          0.19858081252017226,
          -0.07164550809083756,
          -1.8485949588626711,
          -0.10119396429207501,
          -0.264430453219776,
          0.796674568982724,
          0.6439357673746793,
          0.5166924710532177,
          -0.36772158478393324,
          -0.789478896455601,
          -0.5510152121867143,
          -1.2576160991632663,
          1.1389336894281417,
          -2.2015249466112166,
          -1.2114788378792567,
          -1.2348064014679465,
          -2.1091970515178584,
          -0.31763178375937506,
          -0.9133573531122807,
          -0.6331311678008216,
          0.9369116422442504,
          0.9083676783872775,
          1.5710016950446708,
          0.9618189048878746,
          0.8702472012619139,
          0.16749411099852338,
          -0.19611312770862116,
          -0.041887486426224765,
          -0.17388136524387854,
          -1.1313118395056132,
          -0.2678535099561108,
          -1.1753831498470801,
          0.9380088756427204,
          -1.627900222339357,
          -0.1595193877062732,
          0.2916393711874212,
          0.06653326084873111,
          -0.10112392340973708,
          -0.6909977061948326,
          0.30822221740449457,
          -0.989269805452754,
          0.15658232583343956,
          -0.4094025742419398,
          -0.6950892772326683,
          -0.25831385337232443,
          -1.1726481945419387,
          0.6908554822616798,
          0.16147855619255203,
          2.507269356076118,
          -0.7861694165655152,
          -0.07345624254973059,
          0.9481105312495175,
          2.582822327265082,
          -0.6670838788614623,
          1.1221203026517277,
          -1.3695156966498792,
          0.8412337675522863,
          0.3070779970130713,
          -0.9395414007292571,
          -2.264013877875384,
          0.6052148453710591,
          0.7437978752182598,
          -0.7635869173453622,
          -1.4639645624109963
         ],
         "xaxis": "x8",
         "y": [
          0.27123248257990207,
          -0.79942997399121,
          0.27772911725777966,
          0.18960229284980287,
          -0.8044425029603967,
          0.7931602887107293,
          0.09652443857989028,
          0.8655015370064665,
          1.8308095515374818,
          0.2749896402271901,
          -2.362470749558614,
          0.11318463248836325,
          1.1119060219411647,
          0.8413226249722645,
          0.264162004739382,
          -0.6226535951055381,
          -0.737187879777522,
          -0.3626954861256312,
          0.4294362143199215,
          0.41469046140977495,
          0.5680125191650225,
          -1.2090340893662848,
          -1.1517342459828552,
          0.07448158921672837,
          0.4342728711098793,
          -0.20340173641225098,
          -0.528340097965374,
          0.4026325670699657,
          -0.40849660314465924,
          -0.9428728834213882,
          -1.0889224753201423,
          0.4343412244961164,
          -0.7027380984223325,
          1.1319173613819913,
          1.6681268067655357,
          1.2858714822530204,
          1.4153351993627128,
          -0.08415221277465915,
          0.17385461825845852,
          -1.8272643020599595,
          2.2419576746860828,
          -2.3016095629002367,
          0.4881547327449486,
          1.1274204073827983,
          -1.6610304314092292,
          0.5084657836063696,
          1.1018806738410605,
          1.7331852105972836,
          -1.6921562959754037,
          0.7935734457392073,
          -0.4618448454747036,
          0.09704187385754046,
          1.6348279512783874,
          0.19093918341701024,
          0.5081161905495156,
          0.10409349820610142,
          0.5898422928262188,
          1.2059751159993455,
          -0.5116586540463366,
          2.3208666873631407,
          0.6591266073249621,
          0.011168806554076564,
          -0.24826244758228458,
          -0.2025377569889235,
          -1.214073633209104,
          -0.5942956343079454,
          0.42789903281354497,
          -0.7250345597938104,
          0.9089201785078819,
          -1.7571715280512354,
          -0.36961300780873146,
          -0.8017050054439957,
          -1.6479669486704083,
          -0.5583710349189371,
          0.18414634913941588,
          0.6033431857155406,
          -0.1260205311565872,
          1.7062195203355053,
          0.5551594111777242,
          0.45691501176084015,
          1.439617458449986,
          0.6476365584272519,
          -0.4839348534689651,
          -0.013750335017990164,
          -0.4257175480997596,
          0.6781859750888468,
          -0.25706909317655696,
          -0.5362230018794678,
          1.2984894985704358,
          -0.5492264295963026,
          -0.33213986415001917,
          1.8882234704904772,
          -0.6624309121654113,
          1.446259954425405,
          1.2473065619110835,
          -0.4161884594577917,
          0.08657820546570494,
          -1.2691170457140617,
          0.5963599115083469,
          1.5661208240920954
         ],
         "yaxis": "y8"
        },
        {
         "line": {
          "color": "rgba(128, 128, 128, 1.0)",
          "dash": "solid",
          "shape": "linear",
          "width": 1.3
         },
         "marker": {
          "size": 2,
          "symbol": "circle"
         },
         "mode": "markers",
         "name": "C",
         "text": "",
         "type": "scatter",
         "x": [
          1.0059849258878888,
          -0.7010283547172209,
          -0.5530126170762337,
          1.5053586782927417,
          -0.14726718874838793,
          0.9770648926030767,
          0.6582506381399114,
          1.0301364104111772,
          -0.6260545174128129,
          -0.23780547328255147,
          0.8692692347787173,
          -0.5941485868327748,
          1.3591357195353555,
          -0.06399674516066887,
          0.829491071166314,
          0.5075254902761043,
          0.39113458866456685,
          1.063590572916894,
          0.8260655068010079,
          0.05245914539600717,
          -0.29323652668514805,
          -0.8401937481829118,
          0.024392012903958628,
          -1.521808563029623,
          -1.7272984737501598,
          -1.2563625232193036,
          0.633200412942476,
          -0.06367695602209411,
          -0.9017297357282704,
          0.11698081887161703,
          1.1789543999818366,
          0.7660384597132036,
          -0.14251541251705346,
          -1.4439954490372702,
          -0.1134737009733189,
          0.3916399896467472,
          -1.6438615230459779,
          -1.575452925220763,
          0.19490135135400036,
          -0.44498886895191403,
          0.2312126079129507,
          -0.19627309617738198,
          -1.5339188969959598,
          -1.0101177305805602,
          -0.5550261122432499,
          0.5981372038864573,
          1.9910393634213503,
          0.2492201885622451,
          -0.9944304584636777,
          0.5646967420168103,
          -0.08274449653620139,
          -0.7036502030924995,
          -0.30780049682799165,
          0.37452281339802984,
          -1.7872024370426731,
          1.3150335765180852,
          -0.5022658671929559,
          -0.344075543749246,
          -2.2374361399516345,
          1.041499401164971,
          0.7817975414736285,
          1.107319698661312,
          -1.2737183030994284,
          -0.5950888503549907,
          -1.190172709089028,
          -0.8952366180461947,
          -0.9450534445999006,
          0.7107542518724876,
          -0.24820813158798022,
          0.4198423385645599,
          0.6047113262770456,
          -0.4160311294851515,
          -0.36728501047823253,
          0.3451507507628055,
          3.0630486256974994,
          -0.08746757371406043,
          0.5379769422520592,
          -0.5196889635008731,
          -0.6871870613667098,
          -0.9885145886506468,
          -0.05642607429579795,
          0.694024910793667,
          0.1117698851259172,
          0.6280284197808698,
          -0.41881620021060223,
          0.0163714417546095,
          0.6214157736302589,
          2.5611775910144434,
          -1.651426960827347,
          0.7276986756237057,
          0.0020637820745796525,
          1.0825882895513737,
          0.8522486570762773,
          0.9254765481327194,
          2.369406636690293,
          -0.1864307255187936,
          -1.2220120453149546,
          0.12374884427234126,
          1.0240876997603876,
          0.9306315414048747
         ],
         "xaxis": "x9",
         "y": [
          1.0020802852169395,
          -0.5390569136608081,
          -1.1735868528978086,
          -0.19370678015108822,
          -0.8627480348176071,
          -0.07916561711684227,
          0.7890727092933453,
          1.208131982351821,
          0.5251009234628812,
          -0.15354741461965063,
          0.8475205965443758,
          0.8616925857300906,
          -1.4983455175296703,
          2.038864774512134,
          -1.384089685448887,
          -0.0199128398487301,
          -0.901535292624148,
          -1.4260708926371368,
          0.31947303727231025,
          0.6955250953666504,
          -0.14826157401941345,
          -0.27867589482986965,
          2.0559916394347963,
          -1.142218313487505,
          -0.6532889903314228,
          -0.6681667040328896,
          -0.3819589457468317,
          -1.3242792685257907,
          -0.582693172285536,
          0.8380985075058318,
          -1.5900544945919126,
          -0.817323791042536,
          -0.5770712712136894,
          1.598049493241747,
          -1.6030546917479342,
          -0.18893479142076497,
          -0.14275386670057358,
          -1.0808485786210216,
          1.7441259924784798,
          -0.5668225024663784,
          2.2483807923478487,
          -1.2380132169909308,
          0.08187177392120813,
          -1.2340558481383763,
          0.12891657023598793,
          0.16161417970845665,
          -1.2815449662266547,
          0.44255808468406754,
          -1.0208382866621604,
          0.37405706780317527,
          1.7030649229524548,
          -0.8175610347174083,
          -0.28648787422820254,
          -0.7855871653772528,
          0.4409277705447799,
          3.543351845608989,
          -1.1874349429981723,
          0.5848514099685764,
          -1.3798439328236585,
          1.0274144640710137,
          0.8306381470734858,
          0.5092013929593797,
          1.0140034129689417,
          0.6835686285842434,
          1.7952181251101156,
          0.9473422224217499,
          -0.03671829779430676,
          -0.2860039225741498,
          -0.6645535810763674,
          0.35361402690987087,
          -0.4838160786577071,
          -0.3306437100433293,
          0.7578497774109706,
          0.6171141472049061,
          1.3705691489603569,
          0.5009242912330782,
          -0.1798435960914884,
          -0.4703086828538535,
          -0.6466893155159424,
          -0.5585942489444932,
          -0.02599426496031827,
          1.2347156023274353,
          -0.34351542125379675,
          -0.5588861571003991,
          -2.1750786951966687,
          0.5479115263608578,
          -1.334641208833851,
          -0.6690430786891292,
          1.3751780594241751,
          0.26847159545018806,
          -0.1761820585181939,
          1.05314198035309,
          1.3094116617361056,
          -1.1745893269297902,
          -1.201001044670139,
          1.6329366211410532,
          -0.23414871056271985,
          0.958359103538749,
          1.6208728035608129,
          1.976957756428609
         ],
         "yaxis": "y9"
        },
        {
         "line": {
          "color": "rgba(128, 128, 128, 1.0)",
          "dash": "solid",
          "shape": "linear",
          "width": 1.3
         },
         "marker": {
          "size": 2,
          "symbol": "circle"
         },
         "mode": "markers",
         "name": "C",
         "text": "",
         "type": "scatter",
         "x": [
          0.27123248257990207,
          -0.79942997399121,
          0.27772911725777966,
          0.18960229284980287,
          -0.8044425029603967,
          0.7931602887107293,
          0.09652443857989028,
          0.8655015370064665,
          1.8308095515374818,
          0.2749896402271901,
          -2.362470749558614,
          0.11318463248836325,
          1.1119060219411647,
          0.8413226249722645,
          0.264162004739382,
          -0.6226535951055381,
          -0.737187879777522,
          -0.3626954861256312,
          0.4294362143199215,
          0.41469046140977495,
          0.5680125191650225,
          -1.2090340893662848,
          -1.1517342459828552,
          0.07448158921672837,
          0.4342728711098793,
          -0.20340173641225098,
          -0.528340097965374,
          0.4026325670699657,
          -0.40849660314465924,
          -0.9428728834213882,
          -1.0889224753201423,
          0.4343412244961164,
          -0.7027380984223325,
          1.1319173613819913,
          1.6681268067655357,
          1.2858714822530204,
          1.4153351993627128,
          -0.08415221277465915,
          0.17385461825845852,
          -1.8272643020599595,
          2.2419576746860828,
          -2.3016095629002367,
          0.4881547327449486,
          1.1274204073827983,
          -1.6610304314092292,
          0.5084657836063696,
          1.1018806738410605,
          1.7331852105972836,
          -1.6921562959754037,
          0.7935734457392073,
          -0.4618448454747036,
          0.09704187385754046,
          1.6348279512783874,
          0.19093918341701024,
          0.5081161905495156,
          0.10409349820610142,
          0.5898422928262188,
          1.2059751159993455,
          -0.5116586540463366,
          2.3208666873631407,
          0.6591266073249621,
          0.011168806554076564,
          -0.24826244758228458,
          -0.2025377569889235,
          -1.214073633209104,
          -0.5942956343079454,
          0.42789903281354497,
          -0.7250345597938104,
          0.9089201785078819,
          -1.7571715280512354,
          -0.36961300780873146,
          -0.8017050054439957,
          -1.6479669486704083,
          -0.5583710349189371,
          0.18414634913941588,
          0.6033431857155406,
          -0.1260205311565872,
          1.7062195203355053,
          0.5551594111777242,
          0.45691501176084015,
          1.439617458449986,
          0.6476365584272519,
          -0.4839348534689651,
          -0.013750335017990164,
          -0.4257175480997596,
          0.6781859750888468,
          -0.25706909317655696,
          -0.5362230018794678,
          1.2984894985704358,
          -0.5492264295963026,
          -0.33213986415001917,
          1.8882234704904772,
          -0.6624309121654113,
          1.446259954425405,
          1.2473065619110835,
          -0.4161884594577917,
          0.08657820546570494,
          -1.2691170457140617,
          0.5963599115083469,
          1.5661208240920954
         ],
         "xaxis": "x10",
         "y": [
          1.0020802852169395,
          -0.5390569136608081,
          -1.1735868528978086,
          -0.19370678015108822,
          -0.8627480348176071,
          -0.07916561711684227,
          0.7890727092933453,
          1.208131982351821,
          0.5251009234628812,
          -0.15354741461965063,
          0.8475205965443758,
          0.8616925857300906,
          -1.4983455175296703,
          2.038864774512134,
          -1.384089685448887,
          -0.0199128398487301,
          -0.901535292624148,
          -1.4260708926371368,
          0.31947303727231025,
          0.6955250953666504,
          -0.14826157401941345,
          -0.27867589482986965,
          2.0559916394347963,
          -1.142218313487505,
          -0.6532889903314228,
          -0.6681667040328896,
          -0.3819589457468317,
          -1.3242792685257907,
          -0.582693172285536,
          0.8380985075058318,
          -1.5900544945919126,
          -0.817323791042536,
          -0.5770712712136894,
          1.598049493241747,
          -1.6030546917479342,
          -0.18893479142076497,
          -0.14275386670057358,
          -1.0808485786210216,
          1.7441259924784798,
          -0.5668225024663784,
          2.2483807923478487,
          -1.2380132169909308,
          0.08187177392120813,
          -1.2340558481383763,
          0.12891657023598793,
          0.16161417970845665,
          -1.2815449662266547,
          0.44255808468406754,
          -1.0208382866621604,
          0.37405706780317527,
          1.7030649229524548,
          -0.8175610347174083,
          -0.28648787422820254,
          -0.7855871653772528,
          0.4409277705447799,
          3.543351845608989,
          -1.1874349429981723,
          0.5848514099685764,
          -1.3798439328236585,
          1.0274144640710137,
          0.8306381470734858,
          0.5092013929593797,
          1.0140034129689417,
          0.6835686285842434,
          1.7952181251101156,
          0.9473422224217499,
          -0.03671829779430676,
          -0.2860039225741498,
          -0.6645535810763674,
          0.35361402690987087,
          -0.4838160786577071,
          -0.3306437100433293,
          0.7578497774109706,
          0.6171141472049061,
          1.3705691489603569,
          0.5009242912330782,
          -0.1798435960914884,
          -0.4703086828538535,
          -0.6466893155159424,
          -0.5585942489444932,
          -0.02599426496031827,
          1.2347156023274353,
          -0.34351542125379675,
          -0.5588861571003991,
          -2.1750786951966687,
          0.5479115263608578,
          -1.334641208833851,
          -0.6690430786891292,
          1.3751780594241751,
          0.26847159545018806,
          -0.1761820585181939,
          1.05314198035309,
          1.3094116617361056,
          -1.1745893269297902,
          -1.201001044670139,
          1.6329366211410532,
          -0.23414871056271985,
          0.958359103538749,
          1.6208728035608129,
          1.976957756428609
         ],
         "yaxis": "y10"
        },
        {
         "histfunc": "count",
         "histnorm": "",
         "marker": {
          "color": "rgba(50, 171, 96, 1.0)",
          "line": {
           "color": "#4D5663",
           "width": 1.3
          }
         },
         "name": "C",
         "nbinsx": 10,
         "opacity": 0.8,
         "orientation": "v",
         "type": "histogram",
         "x": [
          1.0020802852169395,
          -0.5390569136608081,
          -1.1735868528978086,
          -0.19370678015108822,
          -0.8627480348176071,
          -0.07916561711684227,
          0.7890727092933453,
          1.208131982351821,
          0.5251009234628812,
          -0.15354741461965063,
          0.8475205965443758,
          0.8616925857300906,
          -1.4983455175296703,
          2.038864774512134,
          -1.384089685448887,
          -0.0199128398487301,
          -0.901535292624148,
          -1.4260708926371368,
          0.31947303727231025,
          0.6955250953666504,
          -0.14826157401941345,
          -0.27867589482986965,
          2.0559916394347963,
          -1.142218313487505,
          -0.6532889903314228,
          -0.6681667040328896,
          -0.3819589457468317,
          -1.3242792685257907,
          -0.582693172285536,
          0.8380985075058318,
          -1.5900544945919126,
          -0.817323791042536,
          -0.5770712712136894,
          1.598049493241747,
          -1.6030546917479342,
          -0.18893479142076497,
          -0.14275386670057358,
          -1.0808485786210216,
          1.7441259924784798,
          -0.5668225024663784,
          2.2483807923478487,
          -1.2380132169909308,
          0.08187177392120813,
          -1.2340558481383763,
          0.12891657023598793,
          0.16161417970845665,
          -1.2815449662266547,
          0.44255808468406754,
          -1.0208382866621604,
          0.37405706780317527,
          1.7030649229524548,
          -0.8175610347174083,
          -0.28648787422820254,
          -0.7855871653772528,
          0.4409277705447799,
          3.543351845608989,
          -1.1874349429981723,
          0.5848514099685764,
          -1.3798439328236585,
          1.0274144640710137,
          0.8306381470734858,
          0.5092013929593797,
          1.0140034129689417,
          0.6835686285842434,
          1.7952181251101156,
          0.9473422224217499,
          -0.03671829779430676,
          -0.2860039225741498,
          -0.6645535810763674,
          0.35361402690987087,
          -0.4838160786577071,
          -0.3306437100433293,
          0.7578497774109706,
          0.6171141472049061,
          1.3705691489603569,
          0.5009242912330782,
          -0.1798435960914884,
          -0.4703086828538535,
          -0.6466893155159424,
          -0.5585942489444932,
          -0.02599426496031827,
          1.2347156023274353,
          -0.34351542125379675,
          -0.5588861571003991,
          -2.1750786951966687,
          0.5479115263608578,
          -1.334641208833851,
          -0.6690430786891292,
          1.3751780594241751,
          0.26847159545018806,
          -0.1761820585181939,
          1.05314198035309,
          1.3094116617361056,
          -1.1745893269297902,
          -1.201001044670139,
          1.6329366211410532,
          -0.23414871056271985,
          0.958359103538749,
          1.6208728035608129,
          1.976957756428609
         ],
         "xaxis": "x11",
         "yaxis": "y11"
        },
        {
         "line": {
          "color": "rgba(128, 128, 128, 1.0)",
          "dash": "solid",
          "shape": "linear",
          "width": 1.3
         },
         "marker": {
          "size": 2,
          "symbol": "circle"
         },
         "mode": "markers",
         "name": "C",
         "text": "",
         "type": "scatter",
         "x": [
          -1.0730237098656148,
          0.2794052342320543,
          1.2010550003526252,
          -0.8756125607759215,
          0.6973288114083869,
          -0.5175638226684373,
          -0.19100021548276025,
          -1.1261632863496405,
          0.4093467997142295,
          -1.1810452254539712,
          -1.6421097159239544,
          -0.36175609087987676,
          -0.570870365133796,
          -0.22860936246283636,
          2.4841487092545327,
          2.8668607090480163,
          2.0827019107651283,
          -1.1051879951439498,
          1.850009089308549,
          -0.9115784516092622,
          0.6554854193062295,
          0.023464263393912856,
          -1.3839777212230235,
          -0.20959889906106324,
          0.7300331971299585,
          -2.7377559487231524,
          2.0847339873067487,
          -0.4906215247853985,
          -1.4675505846766048,
          -0.23977044690699248,
          -0.2850539573504832,
          1.6788932677843182,
          -0.28954305067488045,
          -0.6582003111774273,
          0.7556677086028821,
          -1.2463215669305947,
          0.19858081252017226,
          -0.07164550809083756,
          -1.8485949588626711,
          -0.10119396429207501,
          -0.264430453219776,
          0.796674568982724,
          0.6439357673746793,
          0.5166924710532177,
          -0.36772158478393324,
          -0.789478896455601,
          -0.5510152121867143,
          -1.2576160991632663,
          1.1389336894281417,
          -2.2015249466112166,
          -1.2114788378792567,
          -1.2348064014679465,
          -2.1091970515178584,
          -0.31763178375937506,
          -0.9133573531122807,
          -0.6331311678008216,
          0.9369116422442504,
          0.9083676783872775,
          1.5710016950446708,
          0.9618189048878746,
          0.8702472012619139,
          0.16749411099852338,
          -0.19611312770862116,
          -0.041887486426224765,
          -0.17388136524387854,
          -1.1313118395056132,
          -0.2678535099561108,
          -1.1753831498470801,
          0.9380088756427204,
          -1.627900222339357,
          -0.1595193877062732,
          0.2916393711874212,
          0.06653326084873111,
          -0.10112392340973708,
          -0.6909977061948326,
          0.30822221740449457,
          -0.989269805452754,
          0.15658232583343956,
          -0.4094025742419398,
          -0.6950892772326683,
          -0.25831385337232443,
          -1.1726481945419387,
          0.6908554822616798,
          0.16147855619255203,
          2.507269356076118,
          -0.7861694165655152,
          -0.07345624254973059,
          0.9481105312495175,
          2.582822327265082,
          -0.6670838788614623,
          1.1221203026517277,
          -1.3695156966498792,
          0.8412337675522863,
          0.3070779970130713,
          -0.9395414007292571,
          -2.264013877875384,
          0.6052148453710591,
          0.7437978752182598,
          -0.7635869173453622,
          -1.4639645624109963
         ],
         "xaxis": "x12",
         "y": [
          1.0020802852169395,
          -0.5390569136608081,
          -1.1735868528978086,
          -0.19370678015108822,
          -0.8627480348176071,
          -0.07916561711684227,
          0.7890727092933453,
          1.208131982351821,
          0.5251009234628812,
          -0.15354741461965063,
          0.8475205965443758,
          0.8616925857300906,
          -1.4983455175296703,
          2.038864774512134,
          -1.384089685448887,
          -0.0199128398487301,
          -0.901535292624148,
          -1.4260708926371368,
          0.31947303727231025,
          0.6955250953666504,
          -0.14826157401941345,
          -0.27867589482986965,
          2.0559916394347963,
          -1.142218313487505,
          -0.6532889903314228,
          -0.6681667040328896,
          -0.3819589457468317,
          -1.3242792685257907,
          -0.582693172285536,
          0.8380985075058318,
          -1.5900544945919126,
          -0.817323791042536,
          -0.5770712712136894,
          1.598049493241747,
          -1.6030546917479342,
          -0.18893479142076497,
          -0.14275386670057358,
          -1.0808485786210216,
          1.7441259924784798,
          -0.5668225024663784,
          2.2483807923478487,
          -1.2380132169909308,
          0.08187177392120813,
          -1.2340558481383763,
          0.12891657023598793,
          0.16161417970845665,
          -1.2815449662266547,
          0.44255808468406754,
          -1.0208382866621604,
          0.37405706780317527,
          1.7030649229524548,
          -0.8175610347174083,
          -0.28648787422820254,
          -0.7855871653772528,
          0.4409277705447799,
          3.543351845608989,
          -1.1874349429981723,
          0.5848514099685764,
          -1.3798439328236585,
          1.0274144640710137,
          0.8306381470734858,
          0.5092013929593797,
          1.0140034129689417,
          0.6835686285842434,
          1.7952181251101156,
          0.9473422224217499,
          -0.03671829779430676,
          -0.2860039225741498,
          -0.6645535810763674,
          0.35361402690987087,
          -0.4838160786577071,
          -0.3306437100433293,
          0.7578497774109706,
          0.6171141472049061,
          1.3705691489603569,
          0.5009242912330782,
          -0.1798435960914884,
          -0.4703086828538535,
          -0.6466893155159424,
          -0.5585942489444932,
          -0.02599426496031827,
          1.2347156023274353,
          -0.34351542125379675,
          -0.5588861571003991,
          -2.1750786951966687,
          0.5479115263608578,
          -1.334641208833851,
          -0.6690430786891292,
          1.3751780594241751,
          0.26847159545018806,
          -0.1761820585181939,
          1.05314198035309,
          1.3094116617361056,
          -1.1745893269297902,
          -1.201001044670139,
          1.6329366211410532,
          -0.23414871056271985,
          0.958359103538749,
          1.6208728035608129,
          1.976957756428609
         ],
         "yaxis": "y12"
        },
        {
         "line": {
          "color": "rgba(128, 128, 128, 1.0)",
          "dash": "solid",
          "shape": "linear",
          "width": 1.3
         },
         "marker": {
          "size": 2,
          "symbol": "circle"
         },
         "mode": "markers",
         "name": "D",
         "text": "",
         "type": "scatter",
         "x": [
          1.0059849258878888,
          -0.7010283547172209,
          -0.5530126170762337,
          1.5053586782927417,
          -0.14726718874838793,
          0.9770648926030767,
          0.6582506381399114,
          1.0301364104111772,
          -0.6260545174128129,
          -0.23780547328255147,
          0.8692692347787173,
          -0.5941485868327748,
          1.3591357195353555,
          -0.06399674516066887,
          0.829491071166314,
          0.5075254902761043,
          0.39113458866456685,
          1.063590572916894,
          0.8260655068010079,
          0.05245914539600717,
          -0.29323652668514805,
          -0.8401937481829118,
          0.024392012903958628,
          -1.521808563029623,
          -1.7272984737501598,
          -1.2563625232193036,
          0.633200412942476,
          -0.06367695602209411,
          -0.9017297357282704,
          0.11698081887161703,
          1.1789543999818366,
          0.7660384597132036,
          -0.14251541251705346,
          -1.4439954490372702,
          -0.1134737009733189,
          0.3916399896467472,
          -1.6438615230459779,
          -1.575452925220763,
          0.19490135135400036,
          -0.44498886895191403,
          0.2312126079129507,
          -0.19627309617738198,
          -1.5339188969959598,
          -1.0101177305805602,
          -0.5550261122432499,
          0.5981372038864573,
          1.9910393634213503,
          0.2492201885622451,
          -0.9944304584636777,
          0.5646967420168103,
          -0.08274449653620139,
          -0.7036502030924995,
          -0.30780049682799165,
          0.37452281339802984,
          -1.7872024370426731,
          1.3150335765180852,
          -0.5022658671929559,
          -0.344075543749246,
          -2.2374361399516345,
          1.041499401164971,
          0.7817975414736285,
          1.107319698661312,
          -1.2737183030994284,
          -0.5950888503549907,
          -1.190172709089028,
          -0.8952366180461947,
          -0.9450534445999006,
          0.7107542518724876,
          -0.24820813158798022,
          0.4198423385645599,
          0.6047113262770456,
          -0.4160311294851515,
          -0.36728501047823253,
          0.3451507507628055,
          3.0630486256974994,
          -0.08746757371406043,
          0.5379769422520592,
          -0.5196889635008731,
          -0.6871870613667098,
          -0.9885145886506468,
          -0.05642607429579795,
          0.694024910793667,
          0.1117698851259172,
          0.6280284197808698,
          -0.41881620021060223,
          0.0163714417546095,
          0.6214157736302589,
          2.5611775910144434,
          -1.651426960827347,
          0.7276986756237057,
          0.0020637820745796525,
          1.0825882895513737,
          0.8522486570762773,
          0.9254765481327194,
          2.369406636690293,
          -0.1864307255187936,
          -1.2220120453149546,
          0.12374884427234126,
          1.0240876997603876,
          0.9306315414048747
         ],
         "xaxis": "x13",
         "y": [
          -1.0730237098656148,
          0.2794052342320543,
          1.2010550003526252,
          -0.8756125607759215,
          0.6973288114083869,
          -0.5175638226684373,
          -0.19100021548276025,
          -1.1261632863496405,
          0.4093467997142295,
          -1.1810452254539712,
          -1.6421097159239544,
          -0.36175609087987676,
          -0.570870365133796,
          -0.22860936246283636,
          2.4841487092545327,
          2.8668607090480163,
          2.0827019107651283,
          -1.1051879951439498,
          1.850009089308549,
          -0.9115784516092622,
          0.6554854193062295,
          0.023464263393912856,
          -1.3839777212230235,
          -0.20959889906106324,
          0.7300331971299585,
          -2.7377559487231524,
          2.0847339873067487,
          -0.4906215247853985,
          -1.4675505846766048,
          -0.23977044690699248,
          -0.2850539573504832,
          1.6788932677843182,
          -0.28954305067488045,
          -0.6582003111774273,
          0.7556677086028821,
          -1.2463215669305947,
          0.19858081252017226,
          -0.07164550809083756,
          -1.8485949588626711,
          -0.10119396429207501,
          -0.264430453219776,
          0.796674568982724,
          0.6439357673746793,
          0.5166924710532177,
          -0.36772158478393324,
          -0.789478896455601,
          -0.5510152121867143,
          -1.2576160991632663,
          1.1389336894281417,
          -2.2015249466112166,
          -1.2114788378792567,
          -1.2348064014679465,
          -2.1091970515178584,
          -0.31763178375937506,
          -0.9133573531122807,
          -0.6331311678008216,
          0.9369116422442504,
          0.9083676783872775,
          1.5710016950446708,
          0.9618189048878746,
          0.8702472012619139,
          0.16749411099852338,
          -0.19611312770862116,
          -0.041887486426224765,
          -0.17388136524387854,
          -1.1313118395056132,
          -0.2678535099561108,
          -1.1753831498470801,
          0.9380088756427204,
          -1.627900222339357,
          -0.1595193877062732,
          0.2916393711874212,
          0.06653326084873111,
          -0.10112392340973708,
          -0.6909977061948326,
          0.30822221740449457,
          -0.989269805452754,
          0.15658232583343956,
          -0.4094025742419398,
          -0.6950892772326683,
          -0.25831385337232443,
          -1.1726481945419387,
          0.6908554822616798,
          0.16147855619255203,
          2.507269356076118,
          -0.7861694165655152,
          -0.07345624254973059,
          0.9481105312495175,
          2.582822327265082,
          -0.6670838788614623,
          1.1221203026517277,
          -1.3695156966498792,
          0.8412337675522863,
          0.3070779970130713,
          -0.9395414007292571,
          -2.264013877875384,
          0.6052148453710591,
          0.7437978752182598,
          -0.7635869173453622,
          -1.4639645624109963
         ],
         "yaxis": "y13"
        },
        {
         "line": {
          "color": "rgba(128, 128, 128, 1.0)",
          "dash": "solid",
          "shape": "linear",
          "width": 1.3
         },
         "marker": {
          "size": 2,
          "symbol": "circle"
         },
         "mode": "markers",
         "name": "D",
         "text": "",
         "type": "scatter",
         "x": [
          0.27123248257990207,
          -0.79942997399121,
          0.27772911725777966,
          0.18960229284980287,
          -0.8044425029603967,
          0.7931602887107293,
          0.09652443857989028,
          0.8655015370064665,
          1.8308095515374818,
          0.2749896402271901,
          -2.362470749558614,
          0.11318463248836325,
          1.1119060219411647,
          0.8413226249722645,
          0.264162004739382,
          -0.6226535951055381,
          -0.737187879777522,
          -0.3626954861256312,
          0.4294362143199215,
          0.41469046140977495,
          0.5680125191650225,
          -1.2090340893662848,
          -1.1517342459828552,
          0.07448158921672837,
          0.4342728711098793,
          -0.20340173641225098,
          -0.528340097965374,
          0.4026325670699657,
          -0.40849660314465924,
          -0.9428728834213882,
          -1.0889224753201423,
          0.4343412244961164,
          -0.7027380984223325,
          1.1319173613819913,
          1.6681268067655357,
          1.2858714822530204,
          1.4153351993627128,
          -0.08415221277465915,
          0.17385461825845852,
          -1.8272643020599595,
          2.2419576746860828,
          -2.3016095629002367,
          0.4881547327449486,
          1.1274204073827983,
          -1.6610304314092292,
          0.5084657836063696,
          1.1018806738410605,
          1.7331852105972836,
          -1.6921562959754037,
          0.7935734457392073,
          -0.4618448454747036,
          0.09704187385754046,
          1.6348279512783874,
          0.19093918341701024,
          0.5081161905495156,
          0.10409349820610142,
          0.5898422928262188,
          1.2059751159993455,
          -0.5116586540463366,
          2.3208666873631407,
          0.6591266073249621,
          0.011168806554076564,
          -0.24826244758228458,
          -0.2025377569889235,
          -1.214073633209104,
          -0.5942956343079454,
          0.42789903281354497,
          -0.7250345597938104,
          0.9089201785078819,
          -1.7571715280512354,
          -0.36961300780873146,
          -0.8017050054439957,
          -1.6479669486704083,
          -0.5583710349189371,
          0.18414634913941588,
          0.6033431857155406,
          -0.1260205311565872,
          1.7062195203355053,
          0.5551594111777242,
          0.45691501176084015,
          1.439617458449986,
          0.6476365584272519,
          -0.4839348534689651,
          -0.013750335017990164,
          -0.4257175480997596,
          0.6781859750888468,
          -0.25706909317655696,
          -0.5362230018794678,
          1.2984894985704358,
          -0.5492264295963026,
          -0.33213986415001917,
          1.8882234704904772,
          -0.6624309121654113,
          1.446259954425405,
          1.2473065619110835,
          -0.4161884594577917,
          0.08657820546570494,
          -1.2691170457140617,
          0.5963599115083469,
          1.5661208240920954
         ],
         "xaxis": "x14",
         "y": [
          -1.0730237098656148,
          0.2794052342320543,
          1.2010550003526252,
          -0.8756125607759215,
          0.6973288114083869,
          -0.5175638226684373,
          -0.19100021548276025,
          -1.1261632863496405,
          0.4093467997142295,
          -1.1810452254539712,
          -1.6421097159239544,
          -0.36175609087987676,
          -0.570870365133796,
          -0.22860936246283636,
          2.4841487092545327,
          2.8668607090480163,
          2.0827019107651283,
          -1.1051879951439498,
          1.850009089308549,
          -0.9115784516092622,
          0.6554854193062295,
          0.023464263393912856,
          -1.3839777212230235,
          -0.20959889906106324,
          0.7300331971299585,
          -2.7377559487231524,
          2.0847339873067487,
          -0.4906215247853985,
          -1.4675505846766048,
          -0.23977044690699248,
          -0.2850539573504832,
          1.6788932677843182,
          -0.28954305067488045,
          -0.6582003111774273,
          0.7556677086028821,
          -1.2463215669305947,
          0.19858081252017226,
          -0.07164550809083756,
          -1.8485949588626711,
          -0.10119396429207501,
          -0.264430453219776,
          0.796674568982724,
          0.6439357673746793,
          0.5166924710532177,
          -0.36772158478393324,
          -0.789478896455601,
          -0.5510152121867143,
          -1.2576160991632663,
          1.1389336894281417,
          -2.2015249466112166,
          -1.2114788378792567,
          -1.2348064014679465,
          -2.1091970515178584,
          -0.31763178375937506,
          -0.9133573531122807,
          -0.6331311678008216,
          0.9369116422442504,
          0.9083676783872775,
          1.5710016950446708,
          0.9618189048878746,
          0.8702472012619139,
          0.16749411099852338,
          -0.19611312770862116,
          -0.041887486426224765,
          -0.17388136524387854,
          -1.1313118395056132,
          -0.2678535099561108,
          -1.1753831498470801,
          0.9380088756427204,
          -1.627900222339357,
          -0.1595193877062732,
          0.2916393711874212,
          0.06653326084873111,
          -0.10112392340973708,
          -0.6909977061948326,
          0.30822221740449457,
          -0.989269805452754,
          0.15658232583343956,
          -0.4094025742419398,
          -0.6950892772326683,
          -0.25831385337232443,
          -1.1726481945419387,
          0.6908554822616798,
          0.16147855619255203,
          2.507269356076118,
          -0.7861694165655152,
          -0.07345624254973059,
          0.9481105312495175,
          2.582822327265082,
          -0.6670838788614623,
          1.1221203026517277,
          -1.3695156966498792,
          0.8412337675522863,
          0.3070779970130713,
          -0.9395414007292571,
          -2.264013877875384,
          0.6052148453710591,
          0.7437978752182598,
          -0.7635869173453622,
          -1.4639645624109963
         ],
         "yaxis": "y14"
        },
        {
         "line": {
          "color": "rgba(128, 128, 128, 1.0)",
          "dash": "solid",
          "shape": "linear",
          "width": 1.3
         },
         "marker": {
          "size": 2,
          "symbol": "circle"
         },
         "mode": "markers",
         "name": "D",
         "text": "",
         "type": "scatter",
         "x": [
          1.0020802852169395,
          -0.5390569136608081,
          -1.1735868528978086,
          -0.19370678015108822,
          -0.8627480348176071,
          -0.07916561711684227,
          0.7890727092933453,
          1.208131982351821,
          0.5251009234628812,
          -0.15354741461965063,
          0.8475205965443758,
          0.8616925857300906,
          -1.4983455175296703,
          2.038864774512134,
          -1.384089685448887,
          -0.0199128398487301,
          -0.901535292624148,
          -1.4260708926371368,
          0.31947303727231025,
          0.6955250953666504,
          -0.14826157401941345,
          -0.27867589482986965,
          2.0559916394347963,
          -1.142218313487505,
          -0.6532889903314228,
          -0.6681667040328896,
          -0.3819589457468317,
          -1.3242792685257907,
          -0.582693172285536,
          0.8380985075058318,
          -1.5900544945919126,
          -0.817323791042536,
          -0.5770712712136894,
          1.598049493241747,
          -1.6030546917479342,
          -0.18893479142076497,
          -0.14275386670057358,
          -1.0808485786210216,
          1.7441259924784798,
          -0.5668225024663784,
          2.2483807923478487,
          -1.2380132169909308,
          0.08187177392120813,
          -1.2340558481383763,
          0.12891657023598793,
          0.16161417970845665,
          -1.2815449662266547,
          0.44255808468406754,
          -1.0208382866621604,
          0.37405706780317527,
          1.7030649229524548,
          -0.8175610347174083,
          -0.28648787422820254,
          -0.7855871653772528,
          0.4409277705447799,
          3.543351845608989,
          -1.1874349429981723,
          0.5848514099685764,
          -1.3798439328236585,
          1.0274144640710137,
          0.8306381470734858,
          0.5092013929593797,
          1.0140034129689417,
          0.6835686285842434,
          1.7952181251101156,
          0.9473422224217499,
          -0.03671829779430676,
          -0.2860039225741498,
          -0.6645535810763674,
          0.35361402690987087,
          -0.4838160786577071,
          -0.3306437100433293,
          0.7578497774109706,
          0.6171141472049061,
          1.3705691489603569,
          0.5009242912330782,
          -0.1798435960914884,
          -0.4703086828538535,
          -0.6466893155159424,
          -0.5585942489444932,
          -0.02599426496031827,
          1.2347156023274353,
          -0.34351542125379675,
          -0.5588861571003991,
          -2.1750786951966687,
          0.5479115263608578,
          -1.334641208833851,
          -0.6690430786891292,
          1.3751780594241751,
          0.26847159545018806,
          -0.1761820585181939,
          1.05314198035309,
          1.3094116617361056,
          -1.1745893269297902,
          -1.201001044670139,
          1.6329366211410532,
          -0.23414871056271985,
          0.958359103538749,
          1.6208728035608129,
          1.976957756428609
         ],
         "xaxis": "x15",
         "y": [
          -1.0730237098656148,
          0.2794052342320543,
          1.2010550003526252,
          -0.8756125607759215,
          0.6973288114083869,
          -0.5175638226684373,
          -0.19100021548276025,
          -1.1261632863496405,
          0.4093467997142295,
          -1.1810452254539712,
          -1.6421097159239544,
          -0.36175609087987676,
          -0.570870365133796,
          -0.22860936246283636,
          2.4841487092545327,
          2.8668607090480163,
          2.0827019107651283,
          -1.1051879951439498,
          1.850009089308549,
          -0.9115784516092622,
          0.6554854193062295,
          0.023464263393912856,
          -1.3839777212230235,
          -0.20959889906106324,
          0.7300331971299585,
          -2.7377559487231524,
          2.0847339873067487,
          -0.4906215247853985,
          -1.4675505846766048,
          -0.23977044690699248,
          -0.2850539573504832,
          1.6788932677843182,
          -0.28954305067488045,
          -0.6582003111774273,
          0.7556677086028821,
          -1.2463215669305947,
          0.19858081252017226,
          -0.07164550809083756,
          -1.8485949588626711,
          -0.10119396429207501,
          -0.264430453219776,
          0.796674568982724,
          0.6439357673746793,
          0.5166924710532177,
          -0.36772158478393324,
          -0.789478896455601,
          -0.5510152121867143,
          -1.2576160991632663,
          1.1389336894281417,
          -2.2015249466112166,
          -1.2114788378792567,
          -1.2348064014679465,
          -2.1091970515178584,
          -0.31763178375937506,
          -0.9133573531122807,
          -0.6331311678008216,
          0.9369116422442504,
          0.9083676783872775,
          1.5710016950446708,
          0.9618189048878746,
          0.8702472012619139,
          0.16749411099852338,
          -0.19611312770862116,
          -0.041887486426224765,
          -0.17388136524387854,
          -1.1313118395056132,
          -0.2678535099561108,
          -1.1753831498470801,
          0.9380088756427204,
          -1.627900222339357,
          -0.1595193877062732,
          0.2916393711874212,
          0.06653326084873111,
          -0.10112392340973708,
          -0.6909977061948326,
          0.30822221740449457,
          -0.989269805452754,
          0.15658232583343956,
          -0.4094025742419398,
          -0.6950892772326683,
          -0.25831385337232443,
          -1.1726481945419387,
          0.6908554822616798,
          0.16147855619255203,
          2.507269356076118,
          -0.7861694165655152,
          -0.07345624254973059,
          0.9481105312495175,
          2.582822327265082,
          -0.6670838788614623,
          1.1221203026517277,
          -1.3695156966498792,
          0.8412337675522863,
          0.3070779970130713,
          -0.9395414007292571,
          -2.264013877875384,
          0.6052148453710591,
          0.7437978752182598,
          -0.7635869173453622,
          -1.4639645624109963
         ],
         "yaxis": "y15"
        },
        {
         "histfunc": "count",
         "histnorm": "",
         "marker": {
          "color": "rgba(128, 0, 128, 1.0)",
          "line": {
           "color": "#4D5663",
           "width": 1.3
          }
         },
         "name": "D",
         "nbinsx": 10,
         "opacity": 0.8,
         "orientation": "v",
         "type": "histogram",
         "x": [
          -1.0730237098656148,
          0.2794052342320543,
          1.2010550003526252,
          -0.8756125607759215,
          0.6973288114083869,
          -0.5175638226684373,
          -0.19100021548276025,
          -1.1261632863496405,
          0.4093467997142295,
          -1.1810452254539712,
          -1.6421097159239544,
          -0.36175609087987676,
          -0.570870365133796,
          -0.22860936246283636,
          2.4841487092545327,
          2.8668607090480163,
          2.0827019107651283,
          -1.1051879951439498,
          1.850009089308549,
          -0.9115784516092622,
          0.6554854193062295,
          0.023464263393912856,
          -1.3839777212230235,
          -0.20959889906106324,
          0.7300331971299585,
          -2.7377559487231524,
          2.0847339873067487,
          -0.4906215247853985,
          -1.4675505846766048,
          -0.23977044690699248,
          -0.2850539573504832,
          1.6788932677843182,
          -0.28954305067488045,
          -0.6582003111774273,
          0.7556677086028821,
          -1.2463215669305947,
          0.19858081252017226,
          -0.07164550809083756,
          -1.8485949588626711,
          -0.10119396429207501,
          -0.264430453219776,
          0.796674568982724,
          0.6439357673746793,
          0.5166924710532177,
          -0.36772158478393324,
          -0.789478896455601,
          -0.5510152121867143,
          -1.2576160991632663,
          1.1389336894281417,
          -2.2015249466112166,
          -1.2114788378792567,
          -1.2348064014679465,
          -2.1091970515178584,
          -0.31763178375937506,
          -0.9133573531122807,
          -0.6331311678008216,
          0.9369116422442504,
          0.9083676783872775,
          1.5710016950446708,
          0.9618189048878746,
          0.8702472012619139,
          0.16749411099852338,
          -0.19611312770862116,
          -0.041887486426224765,
          -0.17388136524387854,
          -1.1313118395056132,
          -0.2678535099561108,
          -1.1753831498470801,
          0.9380088756427204,
          -1.627900222339357,
          -0.1595193877062732,
          0.2916393711874212,
          0.06653326084873111,
          -0.10112392340973708,
          -0.6909977061948326,
          0.30822221740449457,
          -0.989269805452754,
          0.15658232583343956,
          -0.4094025742419398,
          -0.6950892772326683,
          -0.25831385337232443,
          -1.1726481945419387,
          0.6908554822616798,
          0.16147855619255203,
          2.507269356076118,
          -0.7861694165655152,
          -0.07345624254973059,
          0.9481105312495175,
          2.582822327265082,
          -0.6670838788614623,
          1.1221203026517277,
          -1.3695156966498792,
          0.8412337675522863,
          0.3070779970130713,
          -0.9395414007292571,
          -2.264013877875384,
          0.6052148453710591,
          0.7437978752182598,
          -0.7635869173453622,
          -1.4639645624109963
         ],
         "xaxis": "x16",
         "yaxis": "y16"
        }
       ],
       "layout": {
        "bargap": 0.02,
        "legend": {
         "bgcolor": "#F5F6F9",
         "font": {
          "color": "#4D5663"
         }
        },
        "paper_bgcolor": "#F5F6F9",
        "plot_bgcolor": "#F5F6F9",
        "showlegend": false,
        "template": {
         "data": {
          "bar": [
           {
            "error_x": {
             "color": "#2a3f5f"
            },
            "error_y": {
             "color": "#2a3f5f"
            },
            "marker": {
             "line": {
              "color": "#E5ECF6",
              "width": 0.5
             }
            },
            "type": "bar"
           }
          ],
          "barpolar": [
           {
            "marker": {
             "line": {
              "color": "#E5ECF6",
              "width": 0.5
             }
            },
            "type": "barpolar"
           }
          ],
          "carpet": [
           {
            "aaxis": {
             "endlinecolor": "#2a3f5f",
             "gridcolor": "white",
             "linecolor": "white",
             "minorgridcolor": "white",
             "startlinecolor": "#2a3f5f"
            },
            "baxis": {
             "endlinecolor": "#2a3f5f",
             "gridcolor": "white",
             "linecolor": "white",
             "minorgridcolor": "white",
             "startlinecolor": "#2a3f5f"
            },
            "type": "carpet"
           }
          ],
          "choropleth": [
           {
            "colorbar": {
             "outlinewidth": 0,
             "ticks": ""
            },
            "type": "choropleth"
           }
          ],
          "contour": [
           {
            "colorbar": {
             "outlinewidth": 0,
             "ticks": ""
            },
            "colorscale": [
             [
              0,
              "#0d0887"
             ],
             [
              0.1111111111111111,
              "#46039f"
             ],
             [
              0.2222222222222222,
              "#7201a8"
             ],
             [
              0.3333333333333333,
              "#9c179e"
             ],
             [
              0.4444444444444444,
              "#bd3786"
             ],
             [
              0.5555555555555556,
              "#d8576b"
             ],
             [
              0.6666666666666666,
              "#ed7953"
             ],
             [
              0.7777777777777778,
              "#fb9f3a"
             ],
             [
              0.8888888888888888,
              "#fdca26"
             ],
             [
              1,
              "#f0f921"
             ]
            ],
            "type": "contour"
           }
          ],
          "contourcarpet": [
           {
            "colorbar": {
             "outlinewidth": 0,
             "ticks": ""
            },
            "type": "contourcarpet"
           }
          ],
          "heatmap": [
           {
            "colorbar": {
             "outlinewidth": 0,
             "ticks": ""
            },
            "colorscale": [
             [
              0,
              "#0d0887"
             ],
             [
              0.1111111111111111,
              "#46039f"
             ],
             [
              0.2222222222222222,
              "#7201a8"
             ],
             [
              0.3333333333333333,
              "#9c179e"
             ],
             [
              0.4444444444444444,
              "#bd3786"
             ],
             [
              0.5555555555555556,
              "#d8576b"
             ],
             [
              0.6666666666666666,
              "#ed7953"
             ],
             [
              0.7777777777777778,
              "#fb9f3a"
             ],
             [
              0.8888888888888888,
              "#fdca26"
             ],
             [
              1,
              "#f0f921"
             ]
            ],
            "type": "heatmap"
           }
          ],
          "heatmapgl": [
           {
            "colorbar": {
             "outlinewidth": 0,
             "ticks": ""
            },
            "colorscale": [
             [
              0,
              "#0d0887"
             ],
             [
              0.1111111111111111,
              "#46039f"
             ],
             [
              0.2222222222222222,
              "#7201a8"
             ],
             [
              0.3333333333333333,
              "#9c179e"
             ],
             [
              0.4444444444444444,
              "#bd3786"
             ],
             [
              0.5555555555555556,
              "#d8576b"
             ],
             [
              0.6666666666666666,
              "#ed7953"
             ],
             [
              0.7777777777777778,
              "#fb9f3a"
             ],
             [
              0.8888888888888888,
              "#fdca26"
             ],
             [
              1,
              "#f0f921"
             ]
            ],
            "type": "heatmapgl"
           }
          ],
          "histogram": [
           {
            "marker": {
             "colorbar": {
              "outlinewidth": 0,
              "ticks": ""
             }
            },
            "type": "histogram"
           }
          ],
          "histogram2d": [
           {
            "colorbar": {
             "outlinewidth": 0,
             "ticks": ""
            },
            "colorscale": [
             [
              0,
              "#0d0887"
             ],
             [
              0.1111111111111111,
              "#46039f"
             ],
             [
              0.2222222222222222,
              "#7201a8"
             ],
             [
              0.3333333333333333,
              "#9c179e"
             ],
             [
              0.4444444444444444,
              "#bd3786"
             ],
             [
              0.5555555555555556,
              "#d8576b"
             ],
             [
              0.6666666666666666,
              "#ed7953"
             ],
             [
              0.7777777777777778,
              "#fb9f3a"
             ],
             [
              0.8888888888888888,
              "#fdca26"
             ],
             [
              1,
              "#f0f921"
             ]
            ],
            "type": "histogram2d"
           }
          ],
          "histogram2dcontour": [
           {
            "colorbar": {
             "outlinewidth": 0,
             "ticks": ""
            },
            "colorscale": [
             [
              0,
              "#0d0887"
             ],
             [
              0.1111111111111111,
              "#46039f"
             ],
             [
              0.2222222222222222,
              "#7201a8"
             ],
             [
              0.3333333333333333,
              "#9c179e"
             ],
             [
              0.4444444444444444,
              "#bd3786"
             ],
             [
              0.5555555555555556,
              "#d8576b"
             ],
             [
              0.6666666666666666,
              "#ed7953"
             ],
             [
              0.7777777777777778,
              "#fb9f3a"
             ],
             [
              0.8888888888888888,
              "#fdca26"
             ],
             [
              1,
              "#f0f921"
             ]
            ],
            "type": "histogram2dcontour"
           }
          ],
          "mesh3d": [
           {
            "colorbar": {
             "outlinewidth": 0,
             "ticks": ""
            },
            "type": "mesh3d"
           }
          ],
          "parcoords": [
           {
            "line": {
             "colorbar": {
              "outlinewidth": 0,
              "ticks": ""
             }
            },
            "type": "parcoords"
           }
          ],
          "pie": [
           {
            "automargin": true,
            "type": "pie"
           }
          ],
          "scatter": [
           {
            "marker": {
             "colorbar": {
              "outlinewidth": 0,
              "ticks": ""
             }
            },
            "type": "scatter"
           }
          ],
          "scatter3d": [
           {
            "line": {
             "colorbar": {
              "outlinewidth": 0,
              "ticks": ""
             }
            },
            "marker": {
             "colorbar": {
              "outlinewidth": 0,
              "ticks": ""
             }
            },
            "type": "scatter3d"
           }
          ],
          "scattercarpet": [
           {
            "marker": {
             "colorbar": {
              "outlinewidth": 0,
              "ticks": ""
             }
            },
            "type": "scattercarpet"
           }
          ],
          "scattergeo": [
           {
            "marker": {
             "colorbar": {
              "outlinewidth": 0,
              "ticks": ""
             }
            },
            "type": "scattergeo"
           }
          ],
          "scattergl": [
           {
            "marker": {
             "colorbar": {
              "outlinewidth": 0,
              "ticks": ""
             }
            },
            "type": "scattergl"
           }
          ],
          "scattermapbox": [
           {
            "marker": {
             "colorbar": {
              "outlinewidth": 0,
              "ticks": ""
             }
            },
            "type": "scattermapbox"
           }
          ],
          "scatterpolar": [
           {
            "marker": {
             "colorbar": {
              "outlinewidth": 0,
              "ticks": ""
             }
            },
            "type": "scatterpolar"
           }
          ],
          "scatterpolargl": [
           {
            "marker": {
             "colorbar": {
              "outlinewidth": 0,
              "ticks": ""
             }
            },
            "type": "scatterpolargl"
           }
          ],
          "scatterternary": [
           {
            "marker": {
             "colorbar": {
              "outlinewidth": 0,
              "ticks": ""
             }
            },
            "type": "scatterternary"
           }
          ],
          "surface": [
           {
            "colorbar": {
             "outlinewidth": 0,
             "ticks": ""
            },
            "colorscale": [
             [
              0,
              "#0d0887"
             ],
             [
              0.1111111111111111,
              "#46039f"
             ],
             [
              0.2222222222222222,
              "#7201a8"
             ],
             [
              0.3333333333333333,
              "#9c179e"
             ],
             [
              0.4444444444444444,
              "#bd3786"
             ],
             [
              0.5555555555555556,
              "#d8576b"
             ],
             [
              0.6666666666666666,
              "#ed7953"
             ],
             [
              0.7777777777777778,
              "#fb9f3a"
             ],
             [
              0.8888888888888888,
              "#fdca26"
             ],
             [
              1,
              "#f0f921"
             ]
            ],
            "type": "surface"
           }
          ],
          "table": [
           {
            "cells": {
             "fill": {
              "color": "#EBF0F8"
             },
             "line": {
              "color": "white"
             }
            },
            "header": {
             "fill": {
              "color": "#C8D4E3"
             },
             "line": {
              "color": "white"
             }
            },
            "type": "table"
           }
          ]
         },
         "layout": {
          "annotationdefaults": {
           "arrowcolor": "#2a3f5f",
           "arrowhead": 0,
           "arrowwidth": 1
          },
          "autotypenumbers": "strict",
          "coloraxis": {
           "colorbar": {
            "outlinewidth": 0,
            "ticks": ""
           }
          },
          "colorscale": {
           "diverging": [
            [
             0,
             "#8e0152"
            ],
            [
             0.1,
             "#c51b7d"
            ],
            [
             0.2,
             "#de77ae"
            ],
            [
             0.3,
             "#f1b6da"
            ],
            [
             0.4,
             "#fde0ef"
            ],
            [
             0.5,
             "#f7f7f7"
            ],
            [
             0.6,
             "#e6f5d0"
            ],
            [
             0.7,
             "#b8e186"
            ],
            [
             0.8,
             "#7fbc41"
            ],
            [
             0.9,
             "#4d9221"
            ],
            [
             1,
             "#276419"
            ]
           ],
           "sequential": [
            [
             0,
             "#0d0887"
            ],
            [
             0.1111111111111111,
             "#46039f"
            ],
            [
             0.2222222222222222,
             "#7201a8"
            ],
            [
             0.3333333333333333,
             "#9c179e"
            ],
            [
             0.4444444444444444,
             "#bd3786"
            ],
            [
             0.5555555555555556,
             "#d8576b"
            ],
            [
             0.6666666666666666,
             "#ed7953"
            ],
            [
             0.7777777777777778,
             "#fb9f3a"
            ],
            [
             0.8888888888888888,
             "#fdca26"
            ],
            [
             1,
             "#f0f921"
            ]
           ],
           "sequentialminus": [
            [
             0,
             "#0d0887"
            ],
            [
             0.1111111111111111,
             "#46039f"
            ],
            [
             0.2222222222222222,
             "#7201a8"
            ],
            [
             0.3333333333333333,
             "#9c179e"
            ],
            [
             0.4444444444444444,
             "#bd3786"
            ],
            [
             0.5555555555555556,
             "#d8576b"
            ],
            [
             0.6666666666666666,
             "#ed7953"
            ],
            [
             0.7777777777777778,
             "#fb9f3a"
            ],
            [
             0.8888888888888888,
             "#fdca26"
            ],
            [
             1,
             "#f0f921"
            ]
           ]
          },
          "colorway": [
           "#636efa",
           "#EF553B",
           "#00cc96",
           "#ab63fa",
           "#FFA15A",
           "#19d3f3",
           "#FF6692",
           "#B6E880",
           "#FF97FF",
           "#FECB52"
          ],
          "font": {
           "color": "#2a3f5f"
          },
          "geo": {
           "bgcolor": "white",
           "lakecolor": "white",
           "landcolor": "#E5ECF6",
           "showlakes": true,
           "showland": true,
           "subunitcolor": "white"
          },
          "hoverlabel": {
           "align": "left"
          },
          "hovermode": "closest",
          "mapbox": {
           "style": "light"
          },
          "paper_bgcolor": "white",
          "plot_bgcolor": "#E5ECF6",
          "polar": {
           "angularaxis": {
            "gridcolor": "white",
            "linecolor": "white",
            "ticks": ""
           },
           "bgcolor": "#E5ECF6",
           "radialaxis": {
            "gridcolor": "white",
            "linecolor": "white",
            "ticks": ""
           }
          },
          "scene": {
           "xaxis": {
            "backgroundcolor": "#E5ECF6",
            "gridcolor": "white",
            "gridwidth": 2,
            "linecolor": "white",
            "showbackground": true,
            "ticks": "",
            "zerolinecolor": "white"
           },
           "yaxis": {
            "backgroundcolor": "#E5ECF6",
            "gridcolor": "white",
            "gridwidth": 2,
            "linecolor": "white",
            "showbackground": true,
            "ticks": "",
            "zerolinecolor": "white"
           },
           "zaxis": {
            "backgroundcolor": "#E5ECF6",
            "gridcolor": "white",
            "gridwidth": 2,
            "linecolor": "white",
            "showbackground": true,
            "ticks": "",
            "zerolinecolor": "white"
           }
          },
          "shapedefaults": {
           "line": {
            "color": "#2a3f5f"
           }
          },
          "ternary": {
           "aaxis": {
            "gridcolor": "white",
            "linecolor": "white",
            "ticks": ""
           },
           "baxis": {
            "gridcolor": "white",
            "linecolor": "white",
            "ticks": ""
           },
           "bgcolor": "#E5ECF6",
           "caxis": {
            "gridcolor": "white",
            "linecolor": "white",
            "ticks": ""
           }
          },
          "title": {
           "x": 0.05
          },
          "xaxis": {
           "automargin": true,
           "gridcolor": "white",
           "linecolor": "white",
           "ticks": "",
           "title": {
            "standoff": 15
           },
           "zerolinecolor": "white",
           "zerolinewidth": 2
          },
          "yaxis": {
           "automargin": true,
           "gridcolor": "white",
           "linecolor": "white",
           "ticks": "",
           "title": {
            "standoff": 15
           },
           "zerolinecolor": "white",
           "zerolinewidth": 2
          }
         }
        },
        "title": {
         "font": {
          "color": "#4D5663"
         }
        },
        "xaxis": {
         "anchor": "y",
         "domain": [
          0,
          0.2125
         ],
         "gridcolor": "#E1E5ED",
         "showgrid": false,
         "tickfont": {
          "color": "#4D5663"
         },
         "title": {
          "font": {
           "color": "#4D5663"
          },
          "text": ""
         },
         "zerolinecolor": "#E1E5ED"
        },
        "xaxis10": {
         "anchor": "y10",
         "domain": [
          0.2625,
          0.475
         ],
         "gridcolor": "#E1E5ED",
         "showgrid": false,
         "tickfont": {
          "color": "#4D5663"
         },
         "title": {
          "font": {
           "color": "#4D5663"
          },
          "text": ""
         },
         "zerolinecolor": "#E1E5ED"
        },
        "xaxis11": {
         "anchor": "y11",
         "domain": [
          0.525,
          0.7375
         ],
         "gridcolor": "#E1E5ED",
         "showgrid": false,
         "tickfont": {
          "color": "#4D5663"
         },
         "title": {
          "font": {
           "color": "#4D5663"
          },
          "text": ""
         },
         "zerolinecolor": "#E1E5ED"
        },
        "xaxis12": {
         "anchor": "y12",
         "domain": [
          0.7875,
          1
         ],
         "gridcolor": "#E1E5ED",
         "showgrid": false,
         "tickfont": {
          "color": "#4D5663"
         },
         "title": {
          "font": {
           "color": "#4D5663"
          },
          "text": ""
         },
         "zerolinecolor": "#E1E5ED"
        },
        "xaxis13": {
         "anchor": "y13",
         "domain": [
          0,
          0.2125
         ],
         "gridcolor": "#E1E5ED",
         "showgrid": false,
         "tickfont": {
          "color": "#4D5663"
         },
         "title": {
          "font": {
           "color": "#4D5663"
          },
          "text": ""
         },
         "zerolinecolor": "#E1E5ED"
        },
        "xaxis14": {
         "anchor": "y14",
         "domain": [
          0.2625,
          0.475
         ],
         "gridcolor": "#E1E5ED",
         "showgrid": false,
         "tickfont": {
          "color": "#4D5663"
         },
         "title": {
          "font": {
           "color": "#4D5663"
          },
          "text": ""
         },
         "zerolinecolor": "#E1E5ED"
        },
        "xaxis15": {
         "anchor": "y15",
         "domain": [
          0.525,
          0.7375
         ],
         "gridcolor": "#E1E5ED",
         "showgrid": false,
         "tickfont": {
          "color": "#4D5663"
         },
         "title": {
          "font": {
           "color": "#4D5663"
          },
          "text": ""
         },
         "zerolinecolor": "#E1E5ED"
        },
        "xaxis16": {
         "anchor": "y16",
         "domain": [
          0.7875,
          1
         ],
         "gridcolor": "#E1E5ED",
         "showgrid": false,
         "tickfont": {
          "color": "#4D5663"
         },
         "title": {
          "font": {
           "color": "#4D5663"
          },
          "text": ""
         },
         "zerolinecolor": "#E1E5ED"
        },
        "xaxis2": {
         "anchor": "y2",
         "domain": [
          0.2625,
          0.475
         ],
         "gridcolor": "#E1E5ED",
         "showgrid": false,
         "tickfont": {
          "color": "#4D5663"
         },
         "title": {
          "font": {
           "color": "#4D5663"
          },
          "text": ""
         },
         "zerolinecolor": "#E1E5ED"
        },
        "xaxis3": {
         "anchor": "y3",
         "domain": [
          0.525,
          0.7375
         ],
         "gridcolor": "#E1E5ED",
         "showgrid": false,
         "tickfont": {
          "color": "#4D5663"
         },
         "title": {
          "font": {
           "color": "#4D5663"
          },
          "text": ""
         },
         "zerolinecolor": "#E1E5ED"
        },
        "xaxis4": {
         "anchor": "y4",
         "domain": [
          0.7875,
          1
         ],
         "gridcolor": "#E1E5ED",
         "showgrid": false,
         "tickfont": {
          "color": "#4D5663"
         },
         "title": {
          "font": {
           "color": "#4D5663"
          },
          "text": ""
         },
         "zerolinecolor": "#E1E5ED"
        },
        "xaxis5": {
         "anchor": "y5",
         "domain": [
          0,
          0.2125
         ],
         "gridcolor": "#E1E5ED",
         "showgrid": false,
         "tickfont": {
          "color": "#4D5663"
         },
         "title": {
          "font": {
           "color": "#4D5663"
          },
          "text": ""
         },
         "zerolinecolor": "#E1E5ED"
        },
        "xaxis6": {
         "anchor": "y6",
         "domain": [
          0.2625,
          0.475
         ],
         "gridcolor": "#E1E5ED",
         "showgrid": false,
         "tickfont": {
          "color": "#4D5663"
         },
         "title": {
          "font": {
           "color": "#4D5663"
          },
          "text": ""
         },
         "zerolinecolor": "#E1E5ED"
        },
        "xaxis7": {
         "anchor": "y7",
         "domain": [
          0.525,
          0.7375
         ],
         "gridcolor": "#E1E5ED",
         "showgrid": false,
         "tickfont": {
          "color": "#4D5663"
         },
         "title": {
          "font": {
           "color": "#4D5663"
          },
          "text": ""
         },
         "zerolinecolor": "#E1E5ED"
        },
        "xaxis8": {
         "anchor": "y8",
         "domain": [
          0.7875,
          1
         ],
         "gridcolor": "#E1E5ED",
         "showgrid": false,
         "tickfont": {
          "color": "#4D5663"
         },
         "title": {
          "font": {
           "color": "#4D5663"
          },
          "text": ""
         },
         "zerolinecolor": "#E1E5ED"
        },
        "xaxis9": {
         "anchor": "y9",
         "domain": [
          0,
          0.2125
         ],
         "gridcolor": "#E1E5ED",
         "showgrid": false,
         "tickfont": {
          "color": "#4D5663"
         },
         "title": {
          "font": {
           "color": "#4D5663"
          },
          "text": ""
         },
         "zerolinecolor": "#E1E5ED"
        },
        "yaxis": {
         "anchor": "x",
         "domain": [
          0.8025,
          1
         ],
         "gridcolor": "#E1E5ED",
         "showgrid": false,
         "tickfont": {
          "color": "#4D5663"
         },
         "title": {
          "font": {
           "color": "#4D5663"
          },
          "text": ""
         },
         "zerolinecolor": "#E1E5ED"
        },
        "yaxis10": {
         "anchor": "x10",
         "domain": [
          0.2675,
          0.465
         ],
         "gridcolor": "#E1E5ED",
         "showgrid": false,
         "tickfont": {
          "color": "#4D5663"
         },
         "title": {
          "font": {
           "color": "#4D5663"
          },
          "text": ""
         },
         "zerolinecolor": "#E1E5ED"
        },
        "yaxis11": {
         "anchor": "x11",
         "domain": [
          0.2675,
          0.465
         ],
         "gridcolor": "#E1E5ED",
         "showgrid": false,
         "tickfont": {
          "color": "#4D5663"
         },
         "title": {
          "font": {
           "color": "#4D5663"
          },
          "text": ""
         },
         "zerolinecolor": "#E1E5ED"
        },
        "yaxis12": {
         "anchor": "x12",
         "domain": [
          0.2675,
          0.465
         ],
         "gridcolor": "#E1E5ED",
         "showgrid": false,
         "tickfont": {
          "color": "#4D5663"
         },
         "title": {
          "font": {
           "color": "#4D5663"
          },
          "text": ""
         },
         "zerolinecolor": "#E1E5ED"
        },
        "yaxis13": {
         "anchor": "x13",
         "domain": [
          0,
          0.1975
         ],
         "gridcolor": "#E1E5ED",
         "showgrid": false,
         "tickfont": {
          "color": "#4D5663"
         },
         "title": {
          "font": {
           "color": "#4D5663"
          },
          "text": ""
         },
         "zerolinecolor": "#E1E5ED"
        },
        "yaxis14": {
         "anchor": "x14",
         "domain": [
          0,
          0.1975
         ],
         "gridcolor": "#E1E5ED",
         "showgrid": false,
         "tickfont": {
          "color": "#4D5663"
         },
         "title": {
          "font": {
           "color": "#4D5663"
          },
          "text": ""
         },
         "zerolinecolor": "#E1E5ED"
        },
        "yaxis15": {
         "anchor": "x15",
         "domain": [
          0,
          0.1975
         ],
         "gridcolor": "#E1E5ED",
         "showgrid": false,
         "tickfont": {
          "color": "#4D5663"
         },
         "title": {
          "font": {
           "color": "#4D5663"
          },
          "text": ""
         },
         "zerolinecolor": "#E1E5ED"
        },
        "yaxis16": {
         "anchor": "x16",
         "domain": [
          0,
          0.1975
         ],
         "gridcolor": "#E1E5ED",
         "showgrid": false,
         "tickfont": {
          "color": "#4D5663"
         },
         "title": {
          "font": {
           "color": "#4D5663"
          },
          "text": ""
         },
         "zerolinecolor": "#E1E5ED"
        },
        "yaxis2": {
         "anchor": "x2",
         "domain": [
          0.8025,
          1
         ],
         "gridcolor": "#E1E5ED",
         "showgrid": false,
         "tickfont": {
          "color": "#4D5663"
         },
         "title": {
          "font": {
           "color": "#4D5663"
          },
          "text": ""
         },
         "zerolinecolor": "#E1E5ED"
        },
        "yaxis3": {
         "anchor": "x3",
         "domain": [
          0.8025,
          1
         ],
         "gridcolor": "#E1E5ED",
         "showgrid": false,
         "tickfont": {
          "color": "#4D5663"
         },
         "title": {
          "font": {
           "color": "#4D5663"
          },
          "text": ""
         },
         "zerolinecolor": "#E1E5ED"
        },
        "yaxis4": {
         "anchor": "x4",
         "domain": [
          0.8025,
          1
         ],
         "gridcolor": "#E1E5ED",
         "showgrid": false,
         "tickfont": {
          "color": "#4D5663"
         },
         "title": {
          "font": {
           "color": "#4D5663"
          },
          "text": ""
         },
         "zerolinecolor": "#E1E5ED"
        },
        "yaxis5": {
         "anchor": "x5",
         "domain": [
          0.535,
          0.7325
         ],
         "gridcolor": "#E1E5ED",
         "showgrid": false,
         "tickfont": {
          "color": "#4D5663"
         },
         "title": {
          "font": {
           "color": "#4D5663"
          },
          "text": ""
         },
         "zerolinecolor": "#E1E5ED"
        },
        "yaxis6": {
         "anchor": "x6",
         "domain": [
          0.535,
          0.7325
         ],
         "gridcolor": "#E1E5ED",
         "showgrid": false,
         "tickfont": {
          "color": "#4D5663"
         },
         "title": {
          "font": {
           "color": "#4D5663"
          },
          "text": ""
         },
         "zerolinecolor": "#E1E5ED"
        },
        "yaxis7": {
         "anchor": "x7",
         "domain": [
          0.535,
          0.7325
         ],
         "gridcolor": "#E1E5ED",
         "showgrid": false,
         "tickfont": {
          "color": "#4D5663"
         },
         "title": {
          "font": {
           "color": "#4D5663"
          },
          "text": ""
         },
         "zerolinecolor": "#E1E5ED"
        },
        "yaxis8": {
         "anchor": "x8",
         "domain": [
          0.535,
          0.7325
         ],
         "gridcolor": "#E1E5ED",
         "showgrid": false,
         "tickfont": {
          "color": "#4D5663"
         },
         "title": {
          "font": {
           "color": "#4D5663"
          },
          "text": ""
         },
         "zerolinecolor": "#E1E5ED"
        },
        "yaxis9": {
         "anchor": "x9",
         "domain": [
          0.2675,
          0.465
         ],
         "gridcolor": "#E1E5ED",
         "showgrid": false,
         "tickfont": {
          "color": "#4D5663"
         },
         "title": {
          "font": {
           "color": "#4D5663"
          },
          "text": ""
         },
         "zerolinecolor": "#E1E5ED"
        }
       }
      },
      "text/html": [
       "<div>                            <div id=\"326bc7d8-4c13-4862-b596-b067bb0f9647\" class=\"plotly-graph-div\" style=\"height:525px; width:100%;\"></div>            <script type=\"text/javascript\">                require([\"plotly\"], function(Plotly) {                    window.PLOTLYENV=window.PLOTLYENV || {};\n",
       "                    window.PLOTLYENV.BASE_URL='https://plot.ly';                                    if (document.getElementById(\"326bc7d8-4c13-4862-b596-b067bb0f9647\")) {                    Plotly.newPlot(                        \"326bc7d8-4c13-4862-b596-b067bb0f9647\",                        [{\"histfunc\": \"count\", \"histnorm\": \"\", \"marker\": {\"color\": \"rgba(255, 153, 51, 1.0)\", \"line\": {\"color\": \"#4D5663\", \"width\": 1.3}}, \"name\": \"A\", \"nbinsx\": 10, \"opacity\": 0.8, \"orientation\": \"v\", \"type\": \"histogram\", \"x\": [1.0059849258878888, -0.7010283547172209, -0.5530126170762337, 1.5053586782927417, -0.14726718874838793, 0.9770648926030767, 0.6582506381399114, 1.0301364104111772, -0.6260545174128129, -0.23780547328255147, 0.8692692347787173, -0.5941485868327748, 1.3591357195353555, -0.06399674516066887, 0.829491071166314, 0.5075254902761043, 0.39113458866456685, 1.063590572916894, 0.8260655068010079, 0.05245914539600717, -0.29323652668514805, -0.8401937481829118, 0.024392012903958628, -1.521808563029623, -1.7272984737501598, -1.2563625232193036, 0.633200412942476, -0.06367695602209411, -0.9017297357282704, 0.11698081887161703, 1.1789543999818366, 0.7660384597132036, -0.14251541251705346, -1.4439954490372702, -0.1134737009733189, 0.3916399896467472, -1.6438615230459779, -1.575452925220763, 0.19490135135400036, -0.44498886895191403, 0.2312126079129507, -0.19627309617738198, -1.5339188969959598, -1.0101177305805602, -0.5550261122432499, 0.5981372038864573, 1.9910393634213503, 0.2492201885622451, -0.9944304584636777, 0.5646967420168103, -0.08274449653620139, -0.7036502030924995, -0.30780049682799165, 0.37452281339802984, -1.7872024370426731, 1.3150335765180852, -0.5022658671929559, -0.344075543749246, -2.2374361399516345, 1.041499401164971, 0.7817975414736285, 1.107319698661312, -1.2737183030994284, -0.5950888503549907, -1.190172709089028, -0.8952366180461947, -0.9450534445999006, 0.7107542518724876, -0.24820813158798022, 0.4198423385645599, 0.6047113262770456, -0.4160311294851515, -0.36728501047823253, 0.3451507507628055, 3.0630486256974994, -0.08746757371406043, 0.5379769422520592, -0.5196889635008731, -0.6871870613667098, -0.9885145886506468, -0.05642607429579795, 0.694024910793667, 0.1117698851259172, 0.6280284197808698, -0.41881620021060223, 0.0163714417546095, 0.6214157736302589, 2.5611775910144434, -1.651426960827347, 0.7276986756237057, 0.0020637820745796525, 1.0825882895513737, 0.8522486570762773, 0.9254765481327194, 2.369406636690293, -0.1864307255187936, -1.2220120453149546, 0.12374884427234126, 1.0240876997603876, 0.9306315414048747], \"xaxis\": \"x\", \"yaxis\": \"y\"}, {\"line\": {\"color\": \"rgba(128, 128, 128, 1.0)\", \"dash\": \"solid\", \"shape\": \"linear\", \"width\": 1.3}, \"marker\": {\"size\": 2, \"symbol\": \"circle\"}, \"mode\": \"markers\", \"name\": \"A\", \"text\": \"\", \"type\": \"scatter\", \"x\": [0.27123248257990207, -0.79942997399121, 0.27772911725777966, 0.18960229284980287, -0.8044425029603967, 0.7931602887107293, 0.09652443857989028, 0.8655015370064665, 1.8308095515374818, 0.2749896402271901, -2.362470749558614, 0.11318463248836325, 1.1119060219411647, 0.8413226249722645, 0.264162004739382, -0.6226535951055381, -0.737187879777522, -0.3626954861256312, 0.4294362143199215, 0.41469046140977495, 0.5680125191650225, -1.2090340893662848, -1.1517342459828552, 0.07448158921672837, 0.4342728711098793, -0.20340173641225098, -0.528340097965374, 0.4026325670699657, -0.40849660314465924, -0.9428728834213882, -1.0889224753201423, 0.4343412244961164, -0.7027380984223325, 1.1319173613819913, 1.6681268067655357, 1.2858714822530204, 1.4153351993627128, -0.08415221277465915, 0.17385461825845852, -1.8272643020599595, 2.2419576746860828, -2.3016095629002367, 0.4881547327449486, 1.1274204073827983, -1.6610304314092292, 0.5084657836063696, 1.1018806738410605, 1.7331852105972836, -1.6921562959754037, 0.7935734457392073, -0.4618448454747036, 0.09704187385754046, 1.6348279512783874, 0.19093918341701024, 0.5081161905495156, 0.10409349820610142, 0.5898422928262188, 1.2059751159993455, -0.5116586540463366, 2.3208666873631407, 0.6591266073249621, 0.011168806554076564, -0.24826244758228458, -0.2025377569889235, -1.214073633209104, -0.5942956343079454, 0.42789903281354497, -0.7250345597938104, 0.9089201785078819, -1.7571715280512354, -0.36961300780873146, -0.8017050054439957, -1.6479669486704083, -0.5583710349189371, 0.18414634913941588, 0.6033431857155406, -0.1260205311565872, 1.7062195203355053, 0.5551594111777242, 0.45691501176084015, 1.439617458449986, 0.6476365584272519, -0.4839348534689651, -0.013750335017990164, -0.4257175480997596, 0.6781859750888468, -0.25706909317655696, -0.5362230018794678, 1.2984894985704358, -0.5492264295963026, -0.33213986415001917, 1.8882234704904772, -0.6624309121654113, 1.446259954425405, 1.2473065619110835, -0.4161884594577917, 0.08657820546570494, -1.2691170457140617, 0.5963599115083469, 1.5661208240920954], \"xaxis\": \"x2\", \"y\": [1.0059849258878888, -0.7010283547172209, -0.5530126170762337, 1.5053586782927417, -0.14726718874838793, 0.9770648926030767, 0.6582506381399114, 1.0301364104111772, -0.6260545174128129, -0.23780547328255147, 0.8692692347787173, -0.5941485868327748, 1.3591357195353555, -0.06399674516066887, 0.829491071166314, 0.5075254902761043, 0.39113458866456685, 1.063590572916894, 0.8260655068010079, 0.05245914539600717, -0.29323652668514805, -0.8401937481829118, 0.024392012903958628, -1.521808563029623, -1.7272984737501598, -1.2563625232193036, 0.633200412942476, -0.06367695602209411, -0.9017297357282704, 0.11698081887161703, 1.1789543999818366, 0.7660384597132036, -0.14251541251705346, -1.4439954490372702, -0.1134737009733189, 0.3916399896467472, -1.6438615230459779, -1.575452925220763, 0.19490135135400036, -0.44498886895191403, 0.2312126079129507, -0.19627309617738198, -1.5339188969959598, -1.0101177305805602, -0.5550261122432499, 0.5981372038864573, 1.9910393634213503, 0.2492201885622451, -0.9944304584636777, 0.5646967420168103, -0.08274449653620139, -0.7036502030924995, -0.30780049682799165, 0.37452281339802984, -1.7872024370426731, 1.3150335765180852, -0.5022658671929559, -0.344075543749246, -2.2374361399516345, 1.041499401164971, 0.7817975414736285, 1.107319698661312, -1.2737183030994284, -0.5950888503549907, -1.190172709089028, -0.8952366180461947, -0.9450534445999006, 0.7107542518724876, -0.24820813158798022, 0.4198423385645599, 0.6047113262770456, -0.4160311294851515, -0.36728501047823253, 0.3451507507628055, 3.0630486256974994, -0.08746757371406043, 0.5379769422520592, -0.5196889635008731, -0.6871870613667098, -0.9885145886506468, -0.05642607429579795, 0.694024910793667, 0.1117698851259172, 0.6280284197808698, -0.41881620021060223, 0.0163714417546095, 0.6214157736302589, 2.5611775910144434, -1.651426960827347, 0.7276986756237057, 0.0020637820745796525, 1.0825882895513737, 0.8522486570762773, 0.9254765481327194, 2.369406636690293, -0.1864307255187936, -1.2220120453149546, 0.12374884427234126, 1.0240876997603876, 0.9306315414048747], \"yaxis\": \"y2\"}, {\"line\": {\"color\": \"rgba(128, 128, 128, 1.0)\", \"dash\": \"solid\", \"shape\": \"linear\", \"width\": 1.3}, \"marker\": {\"size\": 2, \"symbol\": \"circle\"}, \"mode\": \"markers\", \"name\": \"A\", \"text\": \"\", \"type\": \"scatter\", \"x\": [1.0020802852169395, -0.5390569136608081, -1.1735868528978086, -0.19370678015108822, -0.8627480348176071, -0.07916561711684227, 0.7890727092933453, 1.208131982351821, 0.5251009234628812, -0.15354741461965063, 0.8475205965443758, 0.8616925857300906, -1.4983455175296703, 2.038864774512134, -1.384089685448887, -0.0199128398487301, -0.901535292624148, -1.4260708926371368, 0.31947303727231025, 0.6955250953666504, -0.14826157401941345, -0.27867589482986965, 2.0559916394347963, -1.142218313487505, -0.6532889903314228, -0.6681667040328896, -0.3819589457468317, -1.3242792685257907, -0.582693172285536, 0.8380985075058318, -1.5900544945919126, -0.817323791042536, -0.5770712712136894, 1.598049493241747, -1.6030546917479342, -0.18893479142076497, -0.14275386670057358, -1.0808485786210216, 1.7441259924784798, -0.5668225024663784, 2.2483807923478487, -1.2380132169909308, 0.08187177392120813, -1.2340558481383763, 0.12891657023598793, 0.16161417970845665, -1.2815449662266547, 0.44255808468406754, -1.0208382866621604, 0.37405706780317527, 1.7030649229524548, -0.8175610347174083, -0.28648787422820254, -0.7855871653772528, 0.4409277705447799, 3.543351845608989, -1.1874349429981723, 0.5848514099685764, -1.3798439328236585, 1.0274144640710137, 0.8306381470734858, 0.5092013929593797, 1.0140034129689417, 0.6835686285842434, 1.7952181251101156, 0.9473422224217499, -0.03671829779430676, -0.2860039225741498, -0.6645535810763674, 0.35361402690987087, -0.4838160786577071, -0.3306437100433293, 0.7578497774109706, 0.6171141472049061, 1.3705691489603569, 0.5009242912330782, -0.1798435960914884, -0.4703086828538535, -0.6466893155159424, -0.5585942489444932, -0.02599426496031827, 1.2347156023274353, -0.34351542125379675, -0.5588861571003991, -2.1750786951966687, 0.5479115263608578, -1.334641208833851, -0.6690430786891292, 1.3751780594241751, 0.26847159545018806, -0.1761820585181939, 1.05314198035309, 1.3094116617361056, -1.1745893269297902, -1.201001044670139, 1.6329366211410532, -0.23414871056271985, 0.958359103538749, 1.6208728035608129, 1.976957756428609], \"xaxis\": \"x3\", \"y\": [1.0059849258878888, -0.7010283547172209, -0.5530126170762337, 1.5053586782927417, -0.14726718874838793, 0.9770648926030767, 0.6582506381399114, 1.0301364104111772, -0.6260545174128129, -0.23780547328255147, 0.8692692347787173, -0.5941485868327748, 1.3591357195353555, -0.06399674516066887, 0.829491071166314, 0.5075254902761043, 0.39113458866456685, 1.063590572916894, 0.8260655068010079, 0.05245914539600717, -0.29323652668514805, -0.8401937481829118, 0.024392012903958628, -1.521808563029623, -1.7272984737501598, -1.2563625232193036, 0.633200412942476, -0.06367695602209411, -0.9017297357282704, 0.11698081887161703, 1.1789543999818366, 0.7660384597132036, -0.14251541251705346, -1.4439954490372702, -0.1134737009733189, 0.3916399896467472, -1.6438615230459779, -1.575452925220763, 0.19490135135400036, -0.44498886895191403, 0.2312126079129507, -0.19627309617738198, -1.5339188969959598, -1.0101177305805602, -0.5550261122432499, 0.5981372038864573, 1.9910393634213503, 0.2492201885622451, -0.9944304584636777, 0.5646967420168103, -0.08274449653620139, -0.7036502030924995, -0.30780049682799165, 0.37452281339802984, -1.7872024370426731, 1.3150335765180852, -0.5022658671929559, -0.344075543749246, -2.2374361399516345, 1.041499401164971, 0.7817975414736285, 1.107319698661312, -1.2737183030994284, -0.5950888503549907, -1.190172709089028, -0.8952366180461947, -0.9450534445999006, 0.7107542518724876, -0.24820813158798022, 0.4198423385645599, 0.6047113262770456, -0.4160311294851515, -0.36728501047823253, 0.3451507507628055, 3.0630486256974994, -0.08746757371406043, 0.5379769422520592, -0.5196889635008731, -0.6871870613667098, -0.9885145886506468, -0.05642607429579795, 0.694024910793667, 0.1117698851259172, 0.6280284197808698, -0.41881620021060223, 0.0163714417546095, 0.6214157736302589, 2.5611775910144434, -1.651426960827347, 0.7276986756237057, 0.0020637820745796525, 1.0825882895513737, 0.8522486570762773, 0.9254765481327194, 2.369406636690293, -0.1864307255187936, -1.2220120453149546, 0.12374884427234126, 1.0240876997603876, 0.9306315414048747], \"yaxis\": \"y3\"}, {\"line\": {\"color\": \"rgba(128, 128, 128, 1.0)\", \"dash\": \"solid\", \"shape\": \"linear\", \"width\": 1.3}, \"marker\": {\"size\": 2, \"symbol\": \"circle\"}, \"mode\": \"markers\", \"name\": \"A\", \"text\": \"\", \"type\": \"scatter\", \"x\": [-1.0730237098656148, 0.2794052342320543, 1.2010550003526252, -0.8756125607759215, 0.6973288114083869, -0.5175638226684373, -0.19100021548276025, -1.1261632863496405, 0.4093467997142295, -1.1810452254539712, -1.6421097159239544, -0.36175609087987676, -0.570870365133796, -0.22860936246283636, 2.4841487092545327, 2.8668607090480163, 2.0827019107651283, -1.1051879951439498, 1.850009089308549, -0.9115784516092622, 0.6554854193062295, 0.023464263393912856, -1.3839777212230235, -0.20959889906106324, 0.7300331971299585, -2.7377559487231524, 2.0847339873067487, -0.4906215247853985, -1.4675505846766048, -0.23977044690699248, -0.2850539573504832, 1.6788932677843182, -0.28954305067488045, -0.6582003111774273, 0.7556677086028821, -1.2463215669305947, 0.19858081252017226, -0.07164550809083756, -1.8485949588626711, -0.10119396429207501, -0.264430453219776, 0.796674568982724, 0.6439357673746793, 0.5166924710532177, -0.36772158478393324, -0.789478896455601, -0.5510152121867143, -1.2576160991632663, 1.1389336894281417, -2.2015249466112166, -1.2114788378792567, -1.2348064014679465, -2.1091970515178584, -0.31763178375937506, -0.9133573531122807, -0.6331311678008216, 0.9369116422442504, 0.9083676783872775, 1.5710016950446708, 0.9618189048878746, 0.8702472012619139, 0.16749411099852338, -0.19611312770862116, -0.041887486426224765, -0.17388136524387854, -1.1313118395056132, -0.2678535099561108, -1.1753831498470801, 0.9380088756427204, -1.627900222339357, -0.1595193877062732, 0.2916393711874212, 0.06653326084873111, -0.10112392340973708, -0.6909977061948326, 0.30822221740449457, -0.989269805452754, 0.15658232583343956, -0.4094025742419398, -0.6950892772326683, -0.25831385337232443, -1.1726481945419387, 0.6908554822616798, 0.16147855619255203, 2.507269356076118, -0.7861694165655152, -0.07345624254973059, 0.9481105312495175, 2.582822327265082, -0.6670838788614623, 1.1221203026517277, -1.3695156966498792, 0.8412337675522863, 0.3070779970130713, -0.9395414007292571, -2.264013877875384, 0.6052148453710591, 0.7437978752182598, -0.7635869173453622, -1.4639645624109963], \"xaxis\": \"x4\", \"y\": [1.0059849258878888, -0.7010283547172209, -0.5530126170762337, 1.5053586782927417, -0.14726718874838793, 0.9770648926030767, 0.6582506381399114, 1.0301364104111772, -0.6260545174128129, -0.23780547328255147, 0.8692692347787173, -0.5941485868327748, 1.3591357195353555, -0.06399674516066887, 0.829491071166314, 0.5075254902761043, 0.39113458866456685, 1.063590572916894, 0.8260655068010079, 0.05245914539600717, -0.29323652668514805, -0.8401937481829118, 0.024392012903958628, -1.521808563029623, -1.7272984737501598, -1.2563625232193036, 0.633200412942476, -0.06367695602209411, -0.9017297357282704, 0.11698081887161703, 1.1789543999818366, 0.7660384597132036, -0.14251541251705346, -1.4439954490372702, -0.1134737009733189, 0.3916399896467472, -1.6438615230459779, -1.575452925220763, 0.19490135135400036, -0.44498886895191403, 0.2312126079129507, -0.19627309617738198, -1.5339188969959598, -1.0101177305805602, -0.5550261122432499, 0.5981372038864573, 1.9910393634213503, 0.2492201885622451, -0.9944304584636777, 0.5646967420168103, -0.08274449653620139, -0.7036502030924995, -0.30780049682799165, 0.37452281339802984, -1.7872024370426731, 1.3150335765180852, -0.5022658671929559, -0.344075543749246, -2.2374361399516345, 1.041499401164971, 0.7817975414736285, 1.107319698661312, -1.2737183030994284, -0.5950888503549907, -1.190172709089028, -0.8952366180461947, -0.9450534445999006, 0.7107542518724876, -0.24820813158798022, 0.4198423385645599, 0.6047113262770456, -0.4160311294851515, -0.36728501047823253, 0.3451507507628055, 3.0630486256974994, -0.08746757371406043, 0.5379769422520592, -0.5196889635008731, -0.6871870613667098, -0.9885145886506468, -0.05642607429579795, 0.694024910793667, 0.1117698851259172, 0.6280284197808698, -0.41881620021060223, 0.0163714417546095, 0.6214157736302589, 2.5611775910144434, -1.651426960827347, 0.7276986756237057, 0.0020637820745796525, 1.0825882895513737, 0.8522486570762773, 0.9254765481327194, 2.369406636690293, -0.1864307255187936, -1.2220120453149546, 0.12374884427234126, 1.0240876997603876, 0.9306315414048747], \"yaxis\": \"y4\"}, {\"line\": {\"color\": \"rgba(128, 128, 128, 1.0)\", \"dash\": \"solid\", \"shape\": \"linear\", \"width\": 1.3}, \"marker\": {\"size\": 2, \"symbol\": \"circle\"}, \"mode\": \"markers\", \"name\": \"B\", \"text\": \"\", \"type\": \"scatter\", \"x\": [1.0059849258878888, -0.7010283547172209, -0.5530126170762337, 1.5053586782927417, -0.14726718874838793, 0.9770648926030767, 0.6582506381399114, 1.0301364104111772, -0.6260545174128129, -0.23780547328255147, 0.8692692347787173, -0.5941485868327748, 1.3591357195353555, -0.06399674516066887, 0.829491071166314, 0.5075254902761043, 0.39113458866456685, 1.063590572916894, 0.8260655068010079, 0.05245914539600717, -0.29323652668514805, -0.8401937481829118, 0.024392012903958628, -1.521808563029623, -1.7272984737501598, -1.2563625232193036, 0.633200412942476, -0.06367695602209411, -0.9017297357282704, 0.11698081887161703, 1.1789543999818366, 0.7660384597132036, -0.14251541251705346, -1.4439954490372702, -0.1134737009733189, 0.3916399896467472, -1.6438615230459779, -1.575452925220763, 0.19490135135400036, -0.44498886895191403, 0.2312126079129507, -0.19627309617738198, -1.5339188969959598, -1.0101177305805602, -0.5550261122432499, 0.5981372038864573, 1.9910393634213503, 0.2492201885622451, -0.9944304584636777, 0.5646967420168103, -0.08274449653620139, -0.7036502030924995, -0.30780049682799165, 0.37452281339802984, -1.7872024370426731, 1.3150335765180852, -0.5022658671929559, -0.344075543749246, -2.2374361399516345, 1.041499401164971, 0.7817975414736285, 1.107319698661312, -1.2737183030994284, -0.5950888503549907, -1.190172709089028, -0.8952366180461947, -0.9450534445999006, 0.7107542518724876, -0.24820813158798022, 0.4198423385645599, 0.6047113262770456, -0.4160311294851515, -0.36728501047823253, 0.3451507507628055, 3.0630486256974994, -0.08746757371406043, 0.5379769422520592, -0.5196889635008731, -0.6871870613667098, -0.9885145886506468, -0.05642607429579795, 0.694024910793667, 0.1117698851259172, 0.6280284197808698, -0.41881620021060223, 0.0163714417546095, 0.6214157736302589, 2.5611775910144434, -1.651426960827347, 0.7276986756237057, 0.0020637820745796525, 1.0825882895513737, 0.8522486570762773, 0.9254765481327194, 2.369406636690293, -0.1864307255187936, -1.2220120453149546, 0.12374884427234126, 1.0240876997603876, 0.9306315414048747], \"xaxis\": \"x5\", \"y\": [0.27123248257990207, -0.79942997399121, 0.27772911725777966, 0.18960229284980287, -0.8044425029603967, 0.7931602887107293, 0.09652443857989028, 0.8655015370064665, 1.8308095515374818, 0.2749896402271901, -2.362470749558614, 0.11318463248836325, 1.1119060219411647, 0.8413226249722645, 0.264162004739382, -0.6226535951055381, -0.737187879777522, -0.3626954861256312, 0.4294362143199215, 0.41469046140977495, 0.5680125191650225, -1.2090340893662848, -1.1517342459828552, 0.07448158921672837, 0.4342728711098793, -0.20340173641225098, -0.528340097965374, 0.4026325670699657, -0.40849660314465924, -0.9428728834213882, -1.0889224753201423, 0.4343412244961164, -0.7027380984223325, 1.1319173613819913, 1.6681268067655357, 1.2858714822530204, 1.4153351993627128, -0.08415221277465915, 0.17385461825845852, -1.8272643020599595, 2.2419576746860828, -2.3016095629002367, 0.4881547327449486, 1.1274204073827983, -1.6610304314092292, 0.5084657836063696, 1.1018806738410605, 1.7331852105972836, -1.6921562959754037, 0.7935734457392073, -0.4618448454747036, 0.09704187385754046, 1.6348279512783874, 0.19093918341701024, 0.5081161905495156, 0.10409349820610142, 0.5898422928262188, 1.2059751159993455, -0.5116586540463366, 2.3208666873631407, 0.6591266073249621, 0.011168806554076564, -0.24826244758228458, -0.2025377569889235, -1.214073633209104, -0.5942956343079454, 0.42789903281354497, -0.7250345597938104, 0.9089201785078819, -1.7571715280512354, -0.36961300780873146, -0.8017050054439957, -1.6479669486704083, -0.5583710349189371, 0.18414634913941588, 0.6033431857155406, -0.1260205311565872, 1.7062195203355053, 0.5551594111777242, 0.45691501176084015, 1.439617458449986, 0.6476365584272519, -0.4839348534689651, -0.013750335017990164, -0.4257175480997596, 0.6781859750888468, -0.25706909317655696, -0.5362230018794678, 1.2984894985704358, -0.5492264295963026, -0.33213986415001917, 1.8882234704904772, -0.6624309121654113, 1.446259954425405, 1.2473065619110835, -0.4161884594577917, 0.08657820546570494, -1.2691170457140617, 0.5963599115083469, 1.5661208240920954], \"yaxis\": \"y5\"}, {\"histfunc\": \"count\", \"histnorm\": \"\", \"marker\": {\"color\": \"rgba(55, 128, 191, 1.0)\", \"line\": {\"color\": \"#4D5663\", \"width\": 1.3}}, \"name\": \"B\", \"nbinsx\": 10, \"opacity\": 0.8, \"orientation\": \"v\", \"type\": \"histogram\", \"x\": [0.27123248257990207, -0.79942997399121, 0.27772911725777966, 0.18960229284980287, -0.8044425029603967, 0.7931602887107293, 0.09652443857989028, 0.8655015370064665, 1.8308095515374818, 0.2749896402271901, -2.362470749558614, 0.11318463248836325, 1.1119060219411647, 0.8413226249722645, 0.264162004739382, -0.6226535951055381, -0.737187879777522, -0.3626954861256312, 0.4294362143199215, 0.41469046140977495, 0.5680125191650225, -1.2090340893662848, -1.1517342459828552, 0.07448158921672837, 0.4342728711098793, -0.20340173641225098, -0.528340097965374, 0.4026325670699657, -0.40849660314465924, -0.9428728834213882, -1.0889224753201423, 0.4343412244961164, -0.7027380984223325, 1.1319173613819913, 1.6681268067655357, 1.2858714822530204, 1.4153351993627128, -0.08415221277465915, 0.17385461825845852, -1.8272643020599595, 2.2419576746860828, -2.3016095629002367, 0.4881547327449486, 1.1274204073827983, -1.6610304314092292, 0.5084657836063696, 1.1018806738410605, 1.7331852105972836, -1.6921562959754037, 0.7935734457392073, -0.4618448454747036, 0.09704187385754046, 1.6348279512783874, 0.19093918341701024, 0.5081161905495156, 0.10409349820610142, 0.5898422928262188, 1.2059751159993455, -0.5116586540463366, 2.3208666873631407, 0.6591266073249621, 0.011168806554076564, -0.24826244758228458, -0.2025377569889235, -1.214073633209104, -0.5942956343079454, 0.42789903281354497, -0.7250345597938104, 0.9089201785078819, -1.7571715280512354, -0.36961300780873146, -0.8017050054439957, -1.6479669486704083, -0.5583710349189371, 0.18414634913941588, 0.6033431857155406, -0.1260205311565872, 1.7062195203355053, 0.5551594111777242, 0.45691501176084015, 1.439617458449986, 0.6476365584272519, -0.4839348534689651, -0.013750335017990164, -0.4257175480997596, 0.6781859750888468, -0.25706909317655696, -0.5362230018794678, 1.2984894985704358, -0.5492264295963026, -0.33213986415001917, 1.8882234704904772, -0.6624309121654113, 1.446259954425405, 1.2473065619110835, -0.4161884594577917, 0.08657820546570494, -1.2691170457140617, 0.5963599115083469, 1.5661208240920954], \"xaxis\": \"x6\", \"yaxis\": \"y6\"}, {\"line\": {\"color\": \"rgba(128, 128, 128, 1.0)\", \"dash\": \"solid\", \"shape\": \"linear\", \"width\": 1.3}, \"marker\": {\"size\": 2, \"symbol\": \"circle\"}, \"mode\": \"markers\", \"name\": \"B\", \"text\": \"\", \"type\": \"scatter\", \"x\": [1.0020802852169395, -0.5390569136608081, -1.1735868528978086, -0.19370678015108822, -0.8627480348176071, -0.07916561711684227, 0.7890727092933453, 1.208131982351821, 0.5251009234628812, -0.15354741461965063, 0.8475205965443758, 0.8616925857300906, -1.4983455175296703, 2.038864774512134, -1.384089685448887, -0.0199128398487301, -0.901535292624148, -1.4260708926371368, 0.31947303727231025, 0.6955250953666504, -0.14826157401941345, -0.27867589482986965, 2.0559916394347963, -1.142218313487505, -0.6532889903314228, -0.6681667040328896, -0.3819589457468317, -1.3242792685257907, -0.582693172285536, 0.8380985075058318, -1.5900544945919126, -0.817323791042536, -0.5770712712136894, 1.598049493241747, -1.6030546917479342, -0.18893479142076497, -0.14275386670057358, -1.0808485786210216, 1.7441259924784798, -0.5668225024663784, 2.2483807923478487, -1.2380132169909308, 0.08187177392120813, -1.2340558481383763, 0.12891657023598793, 0.16161417970845665, -1.2815449662266547, 0.44255808468406754, -1.0208382866621604, 0.37405706780317527, 1.7030649229524548, -0.8175610347174083, -0.28648787422820254, -0.7855871653772528, 0.4409277705447799, 3.543351845608989, -1.1874349429981723, 0.5848514099685764, -1.3798439328236585, 1.0274144640710137, 0.8306381470734858, 0.5092013929593797, 1.0140034129689417, 0.6835686285842434, 1.7952181251101156, 0.9473422224217499, -0.03671829779430676, -0.2860039225741498, -0.6645535810763674, 0.35361402690987087, -0.4838160786577071, -0.3306437100433293, 0.7578497774109706, 0.6171141472049061, 1.3705691489603569, 0.5009242912330782, -0.1798435960914884, -0.4703086828538535, -0.6466893155159424, -0.5585942489444932, -0.02599426496031827, 1.2347156023274353, -0.34351542125379675, -0.5588861571003991, -2.1750786951966687, 0.5479115263608578, -1.334641208833851, -0.6690430786891292, 1.3751780594241751, 0.26847159545018806, -0.1761820585181939, 1.05314198035309, 1.3094116617361056, -1.1745893269297902, -1.201001044670139, 1.6329366211410532, -0.23414871056271985, 0.958359103538749, 1.6208728035608129, 1.976957756428609], \"xaxis\": \"x7\", \"y\": [0.27123248257990207, -0.79942997399121, 0.27772911725777966, 0.18960229284980287, -0.8044425029603967, 0.7931602887107293, 0.09652443857989028, 0.8655015370064665, 1.8308095515374818, 0.2749896402271901, -2.362470749558614, 0.11318463248836325, 1.1119060219411647, 0.8413226249722645, 0.264162004739382, -0.6226535951055381, -0.737187879777522, -0.3626954861256312, 0.4294362143199215, 0.41469046140977495, 0.5680125191650225, -1.2090340893662848, -1.1517342459828552, 0.07448158921672837, 0.4342728711098793, -0.20340173641225098, -0.528340097965374, 0.4026325670699657, -0.40849660314465924, -0.9428728834213882, -1.0889224753201423, 0.4343412244961164, -0.7027380984223325, 1.1319173613819913, 1.6681268067655357, 1.2858714822530204, 1.4153351993627128, -0.08415221277465915, 0.17385461825845852, -1.8272643020599595, 2.2419576746860828, -2.3016095629002367, 0.4881547327449486, 1.1274204073827983, -1.6610304314092292, 0.5084657836063696, 1.1018806738410605, 1.7331852105972836, -1.6921562959754037, 0.7935734457392073, -0.4618448454747036, 0.09704187385754046, 1.6348279512783874, 0.19093918341701024, 0.5081161905495156, 0.10409349820610142, 0.5898422928262188, 1.2059751159993455, -0.5116586540463366, 2.3208666873631407, 0.6591266073249621, 0.011168806554076564, -0.24826244758228458, -0.2025377569889235, -1.214073633209104, -0.5942956343079454, 0.42789903281354497, -0.7250345597938104, 0.9089201785078819, -1.7571715280512354, -0.36961300780873146, -0.8017050054439957, -1.6479669486704083, -0.5583710349189371, 0.18414634913941588, 0.6033431857155406, -0.1260205311565872, 1.7062195203355053, 0.5551594111777242, 0.45691501176084015, 1.439617458449986, 0.6476365584272519, -0.4839348534689651, -0.013750335017990164, -0.4257175480997596, 0.6781859750888468, -0.25706909317655696, -0.5362230018794678, 1.2984894985704358, -0.5492264295963026, -0.33213986415001917, 1.8882234704904772, -0.6624309121654113, 1.446259954425405, 1.2473065619110835, -0.4161884594577917, 0.08657820546570494, -1.2691170457140617, 0.5963599115083469, 1.5661208240920954], \"yaxis\": \"y7\"}, {\"line\": {\"color\": \"rgba(128, 128, 128, 1.0)\", \"dash\": \"solid\", \"shape\": \"linear\", \"width\": 1.3}, \"marker\": {\"size\": 2, \"symbol\": \"circle\"}, \"mode\": \"markers\", \"name\": \"B\", \"text\": \"\", \"type\": \"scatter\", \"x\": [-1.0730237098656148, 0.2794052342320543, 1.2010550003526252, -0.8756125607759215, 0.6973288114083869, -0.5175638226684373, -0.19100021548276025, -1.1261632863496405, 0.4093467997142295, -1.1810452254539712, -1.6421097159239544, -0.36175609087987676, -0.570870365133796, -0.22860936246283636, 2.4841487092545327, 2.8668607090480163, 2.0827019107651283, -1.1051879951439498, 1.850009089308549, -0.9115784516092622, 0.6554854193062295, 0.023464263393912856, -1.3839777212230235, -0.20959889906106324, 0.7300331971299585, -2.7377559487231524, 2.0847339873067487, -0.4906215247853985, -1.4675505846766048, -0.23977044690699248, -0.2850539573504832, 1.6788932677843182, -0.28954305067488045, -0.6582003111774273, 0.7556677086028821, -1.2463215669305947, 0.19858081252017226, -0.07164550809083756, -1.8485949588626711, -0.10119396429207501, -0.264430453219776, 0.796674568982724, 0.6439357673746793, 0.5166924710532177, -0.36772158478393324, -0.789478896455601, -0.5510152121867143, -1.2576160991632663, 1.1389336894281417, -2.2015249466112166, -1.2114788378792567, -1.2348064014679465, -2.1091970515178584, -0.31763178375937506, -0.9133573531122807, -0.6331311678008216, 0.9369116422442504, 0.9083676783872775, 1.5710016950446708, 0.9618189048878746, 0.8702472012619139, 0.16749411099852338, -0.19611312770862116, -0.041887486426224765, -0.17388136524387854, -1.1313118395056132, -0.2678535099561108, -1.1753831498470801, 0.9380088756427204, -1.627900222339357, -0.1595193877062732, 0.2916393711874212, 0.06653326084873111, -0.10112392340973708, -0.6909977061948326, 0.30822221740449457, -0.989269805452754, 0.15658232583343956, -0.4094025742419398, -0.6950892772326683, -0.25831385337232443, -1.1726481945419387, 0.6908554822616798, 0.16147855619255203, 2.507269356076118, -0.7861694165655152, -0.07345624254973059, 0.9481105312495175, 2.582822327265082, -0.6670838788614623, 1.1221203026517277, -1.3695156966498792, 0.8412337675522863, 0.3070779970130713, -0.9395414007292571, -2.264013877875384, 0.6052148453710591, 0.7437978752182598, -0.7635869173453622, -1.4639645624109963], \"xaxis\": \"x8\", \"y\": [0.27123248257990207, -0.79942997399121, 0.27772911725777966, 0.18960229284980287, -0.8044425029603967, 0.7931602887107293, 0.09652443857989028, 0.8655015370064665, 1.8308095515374818, 0.2749896402271901, -2.362470749558614, 0.11318463248836325, 1.1119060219411647, 0.8413226249722645, 0.264162004739382, -0.6226535951055381, -0.737187879777522, -0.3626954861256312, 0.4294362143199215, 0.41469046140977495, 0.5680125191650225, -1.2090340893662848, -1.1517342459828552, 0.07448158921672837, 0.4342728711098793, -0.20340173641225098, -0.528340097965374, 0.4026325670699657, -0.40849660314465924, -0.9428728834213882, -1.0889224753201423, 0.4343412244961164, -0.7027380984223325, 1.1319173613819913, 1.6681268067655357, 1.2858714822530204, 1.4153351993627128, -0.08415221277465915, 0.17385461825845852, -1.8272643020599595, 2.2419576746860828, -2.3016095629002367, 0.4881547327449486, 1.1274204073827983, -1.6610304314092292, 0.5084657836063696, 1.1018806738410605, 1.7331852105972836, -1.6921562959754037, 0.7935734457392073, -0.4618448454747036, 0.09704187385754046, 1.6348279512783874, 0.19093918341701024, 0.5081161905495156, 0.10409349820610142, 0.5898422928262188, 1.2059751159993455, -0.5116586540463366, 2.3208666873631407, 0.6591266073249621, 0.011168806554076564, -0.24826244758228458, -0.2025377569889235, -1.214073633209104, -0.5942956343079454, 0.42789903281354497, -0.7250345597938104, 0.9089201785078819, -1.7571715280512354, -0.36961300780873146, -0.8017050054439957, -1.6479669486704083, -0.5583710349189371, 0.18414634913941588, 0.6033431857155406, -0.1260205311565872, 1.7062195203355053, 0.5551594111777242, 0.45691501176084015, 1.439617458449986, 0.6476365584272519, -0.4839348534689651, -0.013750335017990164, -0.4257175480997596, 0.6781859750888468, -0.25706909317655696, -0.5362230018794678, 1.2984894985704358, -0.5492264295963026, -0.33213986415001917, 1.8882234704904772, -0.6624309121654113, 1.446259954425405, 1.2473065619110835, -0.4161884594577917, 0.08657820546570494, -1.2691170457140617, 0.5963599115083469, 1.5661208240920954], \"yaxis\": \"y8\"}, {\"line\": {\"color\": \"rgba(128, 128, 128, 1.0)\", \"dash\": \"solid\", \"shape\": \"linear\", \"width\": 1.3}, \"marker\": {\"size\": 2, \"symbol\": \"circle\"}, \"mode\": \"markers\", \"name\": \"C\", \"text\": \"\", \"type\": \"scatter\", \"x\": [1.0059849258878888, -0.7010283547172209, -0.5530126170762337, 1.5053586782927417, -0.14726718874838793, 0.9770648926030767, 0.6582506381399114, 1.0301364104111772, -0.6260545174128129, -0.23780547328255147, 0.8692692347787173, -0.5941485868327748, 1.3591357195353555, -0.06399674516066887, 0.829491071166314, 0.5075254902761043, 0.39113458866456685, 1.063590572916894, 0.8260655068010079, 0.05245914539600717, -0.29323652668514805, -0.8401937481829118, 0.024392012903958628, -1.521808563029623, -1.7272984737501598, -1.2563625232193036, 0.633200412942476, -0.06367695602209411, -0.9017297357282704, 0.11698081887161703, 1.1789543999818366, 0.7660384597132036, -0.14251541251705346, -1.4439954490372702, -0.1134737009733189, 0.3916399896467472, -1.6438615230459779, -1.575452925220763, 0.19490135135400036, -0.44498886895191403, 0.2312126079129507, -0.19627309617738198, -1.5339188969959598, -1.0101177305805602, -0.5550261122432499, 0.5981372038864573, 1.9910393634213503, 0.2492201885622451, -0.9944304584636777, 0.5646967420168103, -0.08274449653620139, -0.7036502030924995, -0.30780049682799165, 0.37452281339802984, -1.7872024370426731, 1.3150335765180852, -0.5022658671929559, -0.344075543749246, -2.2374361399516345, 1.041499401164971, 0.7817975414736285, 1.107319698661312, -1.2737183030994284, -0.5950888503549907, -1.190172709089028, -0.8952366180461947, -0.9450534445999006, 0.7107542518724876, -0.24820813158798022, 0.4198423385645599, 0.6047113262770456, -0.4160311294851515, -0.36728501047823253, 0.3451507507628055, 3.0630486256974994, -0.08746757371406043, 0.5379769422520592, -0.5196889635008731, -0.6871870613667098, -0.9885145886506468, -0.05642607429579795, 0.694024910793667, 0.1117698851259172, 0.6280284197808698, -0.41881620021060223, 0.0163714417546095, 0.6214157736302589, 2.5611775910144434, -1.651426960827347, 0.7276986756237057, 0.0020637820745796525, 1.0825882895513737, 0.8522486570762773, 0.9254765481327194, 2.369406636690293, -0.1864307255187936, -1.2220120453149546, 0.12374884427234126, 1.0240876997603876, 0.9306315414048747], \"xaxis\": \"x9\", \"y\": [1.0020802852169395, -0.5390569136608081, -1.1735868528978086, -0.19370678015108822, -0.8627480348176071, -0.07916561711684227, 0.7890727092933453, 1.208131982351821, 0.5251009234628812, -0.15354741461965063, 0.8475205965443758, 0.8616925857300906, -1.4983455175296703, 2.038864774512134, -1.384089685448887, -0.0199128398487301, -0.901535292624148, -1.4260708926371368, 0.31947303727231025, 0.6955250953666504, -0.14826157401941345, -0.27867589482986965, 2.0559916394347963, -1.142218313487505, -0.6532889903314228, -0.6681667040328896, -0.3819589457468317, -1.3242792685257907, -0.582693172285536, 0.8380985075058318, -1.5900544945919126, -0.817323791042536, -0.5770712712136894, 1.598049493241747, -1.6030546917479342, -0.18893479142076497, -0.14275386670057358, -1.0808485786210216, 1.7441259924784798, -0.5668225024663784, 2.2483807923478487, -1.2380132169909308, 0.08187177392120813, -1.2340558481383763, 0.12891657023598793, 0.16161417970845665, -1.2815449662266547, 0.44255808468406754, -1.0208382866621604, 0.37405706780317527, 1.7030649229524548, -0.8175610347174083, -0.28648787422820254, -0.7855871653772528, 0.4409277705447799, 3.543351845608989, -1.1874349429981723, 0.5848514099685764, -1.3798439328236585, 1.0274144640710137, 0.8306381470734858, 0.5092013929593797, 1.0140034129689417, 0.6835686285842434, 1.7952181251101156, 0.9473422224217499, -0.03671829779430676, -0.2860039225741498, -0.6645535810763674, 0.35361402690987087, -0.4838160786577071, -0.3306437100433293, 0.7578497774109706, 0.6171141472049061, 1.3705691489603569, 0.5009242912330782, -0.1798435960914884, -0.4703086828538535, -0.6466893155159424, -0.5585942489444932, -0.02599426496031827, 1.2347156023274353, -0.34351542125379675, -0.5588861571003991, -2.1750786951966687, 0.5479115263608578, -1.334641208833851, -0.6690430786891292, 1.3751780594241751, 0.26847159545018806, -0.1761820585181939, 1.05314198035309, 1.3094116617361056, -1.1745893269297902, -1.201001044670139, 1.6329366211410532, -0.23414871056271985, 0.958359103538749, 1.6208728035608129, 1.976957756428609], \"yaxis\": \"y9\"}, {\"line\": {\"color\": \"rgba(128, 128, 128, 1.0)\", \"dash\": \"solid\", \"shape\": \"linear\", \"width\": 1.3}, \"marker\": {\"size\": 2, \"symbol\": \"circle\"}, \"mode\": \"markers\", \"name\": \"C\", \"text\": \"\", \"type\": \"scatter\", \"x\": [0.27123248257990207, -0.79942997399121, 0.27772911725777966, 0.18960229284980287, -0.8044425029603967, 0.7931602887107293, 0.09652443857989028, 0.8655015370064665, 1.8308095515374818, 0.2749896402271901, -2.362470749558614, 0.11318463248836325, 1.1119060219411647, 0.8413226249722645, 0.264162004739382, -0.6226535951055381, -0.737187879777522, -0.3626954861256312, 0.4294362143199215, 0.41469046140977495, 0.5680125191650225, -1.2090340893662848, -1.1517342459828552, 0.07448158921672837, 0.4342728711098793, -0.20340173641225098, -0.528340097965374, 0.4026325670699657, -0.40849660314465924, -0.9428728834213882, -1.0889224753201423, 0.4343412244961164, -0.7027380984223325, 1.1319173613819913, 1.6681268067655357, 1.2858714822530204, 1.4153351993627128, -0.08415221277465915, 0.17385461825845852, -1.8272643020599595, 2.2419576746860828, -2.3016095629002367, 0.4881547327449486, 1.1274204073827983, -1.6610304314092292, 0.5084657836063696, 1.1018806738410605, 1.7331852105972836, -1.6921562959754037, 0.7935734457392073, -0.4618448454747036, 0.09704187385754046, 1.6348279512783874, 0.19093918341701024, 0.5081161905495156, 0.10409349820610142, 0.5898422928262188, 1.2059751159993455, -0.5116586540463366, 2.3208666873631407, 0.6591266073249621, 0.011168806554076564, -0.24826244758228458, -0.2025377569889235, -1.214073633209104, -0.5942956343079454, 0.42789903281354497, -0.7250345597938104, 0.9089201785078819, -1.7571715280512354, -0.36961300780873146, -0.8017050054439957, -1.6479669486704083, -0.5583710349189371, 0.18414634913941588, 0.6033431857155406, -0.1260205311565872, 1.7062195203355053, 0.5551594111777242, 0.45691501176084015, 1.439617458449986, 0.6476365584272519, -0.4839348534689651, -0.013750335017990164, -0.4257175480997596, 0.6781859750888468, -0.25706909317655696, -0.5362230018794678, 1.2984894985704358, -0.5492264295963026, -0.33213986415001917, 1.8882234704904772, -0.6624309121654113, 1.446259954425405, 1.2473065619110835, -0.4161884594577917, 0.08657820546570494, -1.2691170457140617, 0.5963599115083469, 1.5661208240920954], \"xaxis\": \"x10\", \"y\": [1.0020802852169395, -0.5390569136608081, -1.1735868528978086, -0.19370678015108822, -0.8627480348176071, -0.07916561711684227, 0.7890727092933453, 1.208131982351821, 0.5251009234628812, -0.15354741461965063, 0.8475205965443758, 0.8616925857300906, -1.4983455175296703, 2.038864774512134, -1.384089685448887, -0.0199128398487301, -0.901535292624148, -1.4260708926371368, 0.31947303727231025, 0.6955250953666504, -0.14826157401941345, -0.27867589482986965, 2.0559916394347963, -1.142218313487505, -0.6532889903314228, -0.6681667040328896, -0.3819589457468317, -1.3242792685257907, -0.582693172285536, 0.8380985075058318, -1.5900544945919126, -0.817323791042536, -0.5770712712136894, 1.598049493241747, -1.6030546917479342, -0.18893479142076497, -0.14275386670057358, -1.0808485786210216, 1.7441259924784798, -0.5668225024663784, 2.2483807923478487, -1.2380132169909308, 0.08187177392120813, -1.2340558481383763, 0.12891657023598793, 0.16161417970845665, -1.2815449662266547, 0.44255808468406754, -1.0208382866621604, 0.37405706780317527, 1.7030649229524548, -0.8175610347174083, -0.28648787422820254, -0.7855871653772528, 0.4409277705447799, 3.543351845608989, -1.1874349429981723, 0.5848514099685764, -1.3798439328236585, 1.0274144640710137, 0.8306381470734858, 0.5092013929593797, 1.0140034129689417, 0.6835686285842434, 1.7952181251101156, 0.9473422224217499, -0.03671829779430676, -0.2860039225741498, -0.6645535810763674, 0.35361402690987087, -0.4838160786577071, -0.3306437100433293, 0.7578497774109706, 0.6171141472049061, 1.3705691489603569, 0.5009242912330782, -0.1798435960914884, -0.4703086828538535, -0.6466893155159424, -0.5585942489444932, -0.02599426496031827, 1.2347156023274353, -0.34351542125379675, -0.5588861571003991, -2.1750786951966687, 0.5479115263608578, -1.334641208833851, -0.6690430786891292, 1.3751780594241751, 0.26847159545018806, -0.1761820585181939, 1.05314198035309, 1.3094116617361056, -1.1745893269297902, -1.201001044670139, 1.6329366211410532, -0.23414871056271985, 0.958359103538749, 1.6208728035608129, 1.976957756428609], \"yaxis\": \"y10\"}, {\"histfunc\": \"count\", \"histnorm\": \"\", \"marker\": {\"color\": \"rgba(50, 171, 96, 1.0)\", \"line\": {\"color\": \"#4D5663\", \"width\": 1.3}}, \"name\": \"C\", \"nbinsx\": 10, \"opacity\": 0.8, \"orientation\": \"v\", \"type\": \"histogram\", \"x\": [1.0020802852169395, -0.5390569136608081, -1.1735868528978086, -0.19370678015108822, -0.8627480348176071, -0.07916561711684227, 0.7890727092933453, 1.208131982351821, 0.5251009234628812, -0.15354741461965063, 0.8475205965443758, 0.8616925857300906, -1.4983455175296703, 2.038864774512134, -1.384089685448887, -0.0199128398487301, -0.901535292624148, -1.4260708926371368, 0.31947303727231025, 0.6955250953666504, -0.14826157401941345, -0.27867589482986965, 2.0559916394347963, -1.142218313487505, -0.6532889903314228, -0.6681667040328896, -0.3819589457468317, -1.3242792685257907, -0.582693172285536, 0.8380985075058318, -1.5900544945919126, -0.817323791042536, -0.5770712712136894, 1.598049493241747, -1.6030546917479342, -0.18893479142076497, -0.14275386670057358, -1.0808485786210216, 1.7441259924784798, -0.5668225024663784, 2.2483807923478487, -1.2380132169909308, 0.08187177392120813, -1.2340558481383763, 0.12891657023598793, 0.16161417970845665, -1.2815449662266547, 0.44255808468406754, -1.0208382866621604, 0.37405706780317527, 1.7030649229524548, -0.8175610347174083, -0.28648787422820254, -0.7855871653772528, 0.4409277705447799, 3.543351845608989, -1.1874349429981723, 0.5848514099685764, -1.3798439328236585, 1.0274144640710137, 0.8306381470734858, 0.5092013929593797, 1.0140034129689417, 0.6835686285842434, 1.7952181251101156, 0.9473422224217499, -0.03671829779430676, -0.2860039225741498, -0.6645535810763674, 0.35361402690987087, -0.4838160786577071, -0.3306437100433293, 0.7578497774109706, 0.6171141472049061, 1.3705691489603569, 0.5009242912330782, -0.1798435960914884, -0.4703086828538535, -0.6466893155159424, -0.5585942489444932, -0.02599426496031827, 1.2347156023274353, -0.34351542125379675, -0.5588861571003991, -2.1750786951966687, 0.5479115263608578, -1.334641208833851, -0.6690430786891292, 1.3751780594241751, 0.26847159545018806, -0.1761820585181939, 1.05314198035309, 1.3094116617361056, -1.1745893269297902, -1.201001044670139, 1.6329366211410532, -0.23414871056271985, 0.958359103538749, 1.6208728035608129, 1.976957756428609], \"xaxis\": \"x11\", \"yaxis\": \"y11\"}, {\"line\": {\"color\": \"rgba(128, 128, 128, 1.0)\", \"dash\": \"solid\", \"shape\": \"linear\", \"width\": 1.3}, \"marker\": {\"size\": 2, \"symbol\": \"circle\"}, \"mode\": \"markers\", \"name\": \"C\", \"text\": \"\", \"type\": \"scatter\", \"x\": [-1.0730237098656148, 0.2794052342320543, 1.2010550003526252, -0.8756125607759215, 0.6973288114083869, -0.5175638226684373, -0.19100021548276025, -1.1261632863496405, 0.4093467997142295, -1.1810452254539712, -1.6421097159239544, -0.36175609087987676, -0.570870365133796, -0.22860936246283636, 2.4841487092545327, 2.8668607090480163, 2.0827019107651283, -1.1051879951439498, 1.850009089308549, -0.9115784516092622, 0.6554854193062295, 0.023464263393912856, -1.3839777212230235, -0.20959889906106324, 0.7300331971299585, -2.7377559487231524, 2.0847339873067487, -0.4906215247853985, -1.4675505846766048, -0.23977044690699248, -0.2850539573504832, 1.6788932677843182, -0.28954305067488045, -0.6582003111774273, 0.7556677086028821, -1.2463215669305947, 0.19858081252017226, -0.07164550809083756, -1.8485949588626711, -0.10119396429207501, -0.264430453219776, 0.796674568982724, 0.6439357673746793, 0.5166924710532177, -0.36772158478393324, -0.789478896455601, -0.5510152121867143, -1.2576160991632663, 1.1389336894281417, -2.2015249466112166, -1.2114788378792567, -1.2348064014679465, -2.1091970515178584, -0.31763178375937506, -0.9133573531122807, -0.6331311678008216, 0.9369116422442504, 0.9083676783872775, 1.5710016950446708, 0.9618189048878746, 0.8702472012619139, 0.16749411099852338, -0.19611312770862116, -0.041887486426224765, -0.17388136524387854, -1.1313118395056132, -0.2678535099561108, -1.1753831498470801, 0.9380088756427204, -1.627900222339357, -0.1595193877062732, 0.2916393711874212, 0.06653326084873111, -0.10112392340973708, -0.6909977061948326, 0.30822221740449457, -0.989269805452754, 0.15658232583343956, -0.4094025742419398, -0.6950892772326683, -0.25831385337232443, -1.1726481945419387, 0.6908554822616798, 0.16147855619255203, 2.507269356076118, -0.7861694165655152, -0.07345624254973059, 0.9481105312495175, 2.582822327265082, -0.6670838788614623, 1.1221203026517277, -1.3695156966498792, 0.8412337675522863, 0.3070779970130713, -0.9395414007292571, -2.264013877875384, 0.6052148453710591, 0.7437978752182598, -0.7635869173453622, -1.4639645624109963], \"xaxis\": \"x12\", \"y\": [1.0020802852169395, -0.5390569136608081, -1.1735868528978086, -0.19370678015108822, -0.8627480348176071, -0.07916561711684227, 0.7890727092933453, 1.208131982351821, 0.5251009234628812, -0.15354741461965063, 0.8475205965443758, 0.8616925857300906, -1.4983455175296703, 2.038864774512134, -1.384089685448887, -0.0199128398487301, -0.901535292624148, -1.4260708926371368, 0.31947303727231025, 0.6955250953666504, -0.14826157401941345, -0.27867589482986965, 2.0559916394347963, -1.142218313487505, -0.6532889903314228, -0.6681667040328896, -0.3819589457468317, -1.3242792685257907, -0.582693172285536, 0.8380985075058318, -1.5900544945919126, -0.817323791042536, -0.5770712712136894, 1.598049493241747, -1.6030546917479342, -0.18893479142076497, -0.14275386670057358, -1.0808485786210216, 1.7441259924784798, -0.5668225024663784, 2.2483807923478487, -1.2380132169909308, 0.08187177392120813, -1.2340558481383763, 0.12891657023598793, 0.16161417970845665, -1.2815449662266547, 0.44255808468406754, -1.0208382866621604, 0.37405706780317527, 1.7030649229524548, -0.8175610347174083, -0.28648787422820254, -0.7855871653772528, 0.4409277705447799, 3.543351845608989, -1.1874349429981723, 0.5848514099685764, -1.3798439328236585, 1.0274144640710137, 0.8306381470734858, 0.5092013929593797, 1.0140034129689417, 0.6835686285842434, 1.7952181251101156, 0.9473422224217499, -0.03671829779430676, -0.2860039225741498, -0.6645535810763674, 0.35361402690987087, -0.4838160786577071, -0.3306437100433293, 0.7578497774109706, 0.6171141472049061, 1.3705691489603569, 0.5009242912330782, -0.1798435960914884, -0.4703086828538535, -0.6466893155159424, -0.5585942489444932, -0.02599426496031827, 1.2347156023274353, -0.34351542125379675, -0.5588861571003991, -2.1750786951966687, 0.5479115263608578, -1.334641208833851, -0.6690430786891292, 1.3751780594241751, 0.26847159545018806, -0.1761820585181939, 1.05314198035309, 1.3094116617361056, -1.1745893269297902, -1.201001044670139, 1.6329366211410532, -0.23414871056271985, 0.958359103538749, 1.6208728035608129, 1.976957756428609], \"yaxis\": \"y12\"}, {\"line\": {\"color\": \"rgba(128, 128, 128, 1.0)\", \"dash\": \"solid\", \"shape\": \"linear\", \"width\": 1.3}, \"marker\": {\"size\": 2, \"symbol\": \"circle\"}, \"mode\": \"markers\", \"name\": \"D\", \"text\": \"\", \"type\": \"scatter\", \"x\": [1.0059849258878888, -0.7010283547172209, -0.5530126170762337, 1.5053586782927417, -0.14726718874838793, 0.9770648926030767, 0.6582506381399114, 1.0301364104111772, -0.6260545174128129, -0.23780547328255147, 0.8692692347787173, -0.5941485868327748, 1.3591357195353555, -0.06399674516066887, 0.829491071166314, 0.5075254902761043, 0.39113458866456685, 1.063590572916894, 0.8260655068010079, 0.05245914539600717, -0.29323652668514805, -0.8401937481829118, 0.024392012903958628, -1.521808563029623, -1.7272984737501598, -1.2563625232193036, 0.633200412942476, -0.06367695602209411, -0.9017297357282704, 0.11698081887161703, 1.1789543999818366, 0.7660384597132036, -0.14251541251705346, -1.4439954490372702, -0.1134737009733189, 0.3916399896467472, -1.6438615230459779, -1.575452925220763, 0.19490135135400036, -0.44498886895191403, 0.2312126079129507, -0.19627309617738198, -1.5339188969959598, -1.0101177305805602, -0.5550261122432499, 0.5981372038864573, 1.9910393634213503, 0.2492201885622451, -0.9944304584636777, 0.5646967420168103, -0.08274449653620139, -0.7036502030924995, -0.30780049682799165, 0.37452281339802984, -1.7872024370426731, 1.3150335765180852, -0.5022658671929559, -0.344075543749246, -2.2374361399516345, 1.041499401164971, 0.7817975414736285, 1.107319698661312, -1.2737183030994284, -0.5950888503549907, -1.190172709089028, -0.8952366180461947, -0.9450534445999006, 0.7107542518724876, -0.24820813158798022, 0.4198423385645599, 0.6047113262770456, -0.4160311294851515, -0.36728501047823253, 0.3451507507628055, 3.0630486256974994, -0.08746757371406043, 0.5379769422520592, -0.5196889635008731, -0.6871870613667098, -0.9885145886506468, -0.05642607429579795, 0.694024910793667, 0.1117698851259172, 0.6280284197808698, -0.41881620021060223, 0.0163714417546095, 0.6214157736302589, 2.5611775910144434, -1.651426960827347, 0.7276986756237057, 0.0020637820745796525, 1.0825882895513737, 0.8522486570762773, 0.9254765481327194, 2.369406636690293, -0.1864307255187936, -1.2220120453149546, 0.12374884427234126, 1.0240876997603876, 0.9306315414048747], \"xaxis\": \"x13\", \"y\": [-1.0730237098656148, 0.2794052342320543, 1.2010550003526252, -0.8756125607759215, 0.6973288114083869, -0.5175638226684373, -0.19100021548276025, -1.1261632863496405, 0.4093467997142295, -1.1810452254539712, -1.6421097159239544, -0.36175609087987676, -0.570870365133796, -0.22860936246283636, 2.4841487092545327, 2.8668607090480163, 2.0827019107651283, -1.1051879951439498, 1.850009089308549, -0.9115784516092622, 0.6554854193062295, 0.023464263393912856, -1.3839777212230235, -0.20959889906106324, 0.7300331971299585, -2.7377559487231524, 2.0847339873067487, -0.4906215247853985, -1.4675505846766048, -0.23977044690699248, -0.2850539573504832, 1.6788932677843182, -0.28954305067488045, -0.6582003111774273, 0.7556677086028821, -1.2463215669305947, 0.19858081252017226, -0.07164550809083756, -1.8485949588626711, -0.10119396429207501, -0.264430453219776, 0.796674568982724, 0.6439357673746793, 0.5166924710532177, -0.36772158478393324, -0.789478896455601, -0.5510152121867143, -1.2576160991632663, 1.1389336894281417, -2.2015249466112166, -1.2114788378792567, -1.2348064014679465, -2.1091970515178584, -0.31763178375937506, -0.9133573531122807, -0.6331311678008216, 0.9369116422442504, 0.9083676783872775, 1.5710016950446708, 0.9618189048878746, 0.8702472012619139, 0.16749411099852338, -0.19611312770862116, -0.041887486426224765, -0.17388136524387854, -1.1313118395056132, -0.2678535099561108, -1.1753831498470801, 0.9380088756427204, -1.627900222339357, -0.1595193877062732, 0.2916393711874212, 0.06653326084873111, -0.10112392340973708, -0.6909977061948326, 0.30822221740449457, -0.989269805452754, 0.15658232583343956, -0.4094025742419398, -0.6950892772326683, -0.25831385337232443, -1.1726481945419387, 0.6908554822616798, 0.16147855619255203, 2.507269356076118, -0.7861694165655152, -0.07345624254973059, 0.9481105312495175, 2.582822327265082, -0.6670838788614623, 1.1221203026517277, -1.3695156966498792, 0.8412337675522863, 0.3070779970130713, -0.9395414007292571, -2.264013877875384, 0.6052148453710591, 0.7437978752182598, -0.7635869173453622, -1.4639645624109963], \"yaxis\": \"y13\"}, {\"line\": {\"color\": \"rgba(128, 128, 128, 1.0)\", \"dash\": \"solid\", \"shape\": \"linear\", \"width\": 1.3}, \"marker\": {\"size\": 2, \"symbol\": \"circle\"}, \"mode\": \"markers\", \"name\": \"D\", \"text\": \"\", \"type\": \"scatter\", \"x\": [0.27123248257990207, -0.79942997399121, 0.27772911725777966, 0.18960229284980287, -0.8044425029603967, 0.7931602887107293, 0.09652443857989028, 0.8655015370064665, 1.8308095515374818, 0.2749896402271901, -2.362470749558614, 0.11318463248836325, 1.1119060219411647, 0.8413226249722645, 0.264162004739382, -0.6226535951055381, -0.737187879777522, -0.3626954861256312, 0.4294362143199215, 0.41469046140977495, 0.5680125191650225, -1.2090340893662848, -1.1517342459828552, 0.07448158921672837, 0.4342728711098793, -0.20340173641225098, -0.528340097965374, 0.4026325670699657, -0.40849660314465924, -0.9428728834213882, -1.0889224753201423, 0.4343412244961164, -0.7027380984223325, 1.1319173613819913, 1.6681268067655357, 1.2858714822530204, 1.4153351993627128, -0.08415221277465915, 0.17385461825845852, -1.8272643020599595, 2.2419576746860828, -2.3016095629002367, 0.4881547327449486, 1.1274204073827983, -1.6610304314092292, 0.5084657836063696, 1.1018806738410605, 1.7331852105972836, -1.6921562959754037, 0.7935734457392073, -0.4618448454747036, 0.09704187385754046, 1.6348279512783874, 0.19093918341701024, 0.5081161905495156, 0.10409349820610142, 0.5898422928262188, 1.2059751159993455, -0.5116586540463366, 2.3208666873631407, 0.6591266073249621, 0.011168806554076564, -0.24826244758228458, -0.2025377569889235, -1.214073633209104, -0.5942956343079454, 0.42789903281354497, -0.7250345597938104, 0.9089201785078819, -1.7571715280512354, -0.36961300780873146, -0.8017050054439957, -1.6479669486704083, -0.5583710349189371, 0.18414634913941588, 0.6033431857155406, -0.1260205311565872, 1.7062195203355053, 0.5551594111777242, 0.45691501176084015, 1.439617458449986, 0.6476365584272519, -0.4839348534689651, -0.013750335017990164, -0.4257175480997596, 0.6781859750888468, -0.25706909317655696, -0.5362230018794678, 1.2984894985704358, -0.5492264295963026, -0.33213986415001917, 1.8882234704904772, -0.6624309121654113, 1.446259954425405, 1.2473065619110835, -0.4161884594577917, 0.08657820546570494, -1.2691170457140617, 0.5963599115083469, 1.5661208240920954], \"xaxis\": \"x14\", \"y\": [-1.0730237098656148, 0.2794052342320543, 1.2010550003526252, -0.8756125607759215, 0.6973288114083869, -0.5175638226684373, -0.19100021548276025, -1.1261632863496405, 0.4093467997142295, -1.1810452254539712, -1.6421097159239544, -0.36175609087987676, -0.570870365133796, -0.22860936246283636, 2.4841487092545327, 2.8668607090480163, 2.0827019107651283, -1.1051879951439498, 1.850009089308549, -0.9115784516092622, 0.6554854193062295, 0.023464263393912856, -1.3839777212230235, -0.20959889906106324, 0.7300331971299585, -2.7377559487231524, 2.0847339873067487, -0.4906215247853985, -1.4675505846766048, -0.23977044690699248, -0.2850539573504832, 1.6788932677843182, -0.28954305067488045, -0.6582003111774273, 0.7556677086028821, -1.2463215669305947, 0.19858081252017226, -0.07164550809083756, -1.8485949588626711, -0.10119396429207501, -0.264430453219776, 0.796674568982724, 0.6439357673746793, 0.5166924710532177, -0.36772158478393324, -0.789478896455601, -0.5510152121867143, -1.2576160991632663, 1.1389336894281417, -2.2015249466112166, -1.2114788378792567, -1.2348064014679465, -2.1091970515178584, -0.31763178375937506, -0.9133573531122807, -0.6331311678008216, 0.9369116422442504, 0.9083676783872775, 1.5710016950446708, 0.9618189048878746, 0.8702472012619139, 0.16749411099852338, -0.19611312770862116, -0.041887486426224765, -0.17388136524387854, -1.1313118395056132, -0.2678535099561108, -1.1753831498470801, 0.9380088756427204, -1.627900222339357, -0.1595193877062732, 0.2916393711874212, 0.06653326084873111, -0.10112392340973708, -0.6909977061948326, 0.30822221740449457, -0.989269805452754, 0.15658232583343956, -0.4094025742419398, -0.6950892772326683, -0.25831385337232443, -1.1726481945419387, 0.6908554822616798, 0.16147855619255203, 2.507269356076118, -0.7861694165655152, -0.07345624254973059, 0.9481105312495175, 2.582822327265082, -0.6670838788614623, 1.1221203026517277, -1.3695156966498792, 0.8412337675522863, 0.3070779970130713, -0.9395414007292571, -2.264013877875384, 0.6052148453710591, 0.7437978752182598, -0.7635869173453622, -1.4639645624109963], \"yaxis\": \"y14\"}, {\"line\": {\"color\": \"rgba(128, 128, 128, 1.0)\", \"dash\": \"solid\", \"shape\": \"linear\", \"width\": 1.3}, \"marker\": {\"size\": 2, \"symbol\": \"circle\"}, \"mode\": \"markers\", \"name\": \"D\", \"text\": \"\", \"type\": \"scatter\", \"x\": [1.0020802852169395, -0.5390569136608081, -1.1735868528978086, -0.19370678015108822, -0.8627480348176071, -0.07916561711684227, 0.7890727092933453, 1.208131982351821, 0.5251009234628812, -0.15354741461965063, 0.8475205965443758, 0.8616925857300906, -1.4983455175296703, 2.038864774512134, -1.384089685448887, -0.0199128398487301, -0.901535292624148, -1.4260708926371368, 0.31947303727231025, 0.6955250953666504, -0.14826157401941345, -0.27867589482986965, 2.0559916394347963, -1.142218313487505, -0.6532889903314228, -0.6681667040328896, -0.3819589457468317, -1.3242792685257907, -0.582693172285536, 0.8380985075058318, -1.5900544945919126, -0.817323791042536, -0.5770712712136894, 1.598049493241747, -1.6030546917479342, -0.18893479142076497, -0.14275386670057358, -1.0808485786210216, 1.7441259924784798, -0.5668225024663784, 2.2483807923478487, -1.2380132169909308, 0.08187177392120813, -1.2340558481383763, 0.12891657023598793, 0.16161417970845665, -1.2815449662266547, 0.44255808468406754, -1.0208382866621604, 0.37405706780317527, 1.7030649229524548, -0.8175610347174083, -0.28648787422820254, -0.7855871653772528, 0.4409277705447799, 3.543351845608989, -1.1874349429981723, 0.5848514099685764, -1.3798439328236585, 1.0274144640710137, 0.8306381470734858, 0.5092013929593797, 1.0140034129689417, 0.6835686285842434, 1.7952181251101156, 0.9473422224217499, -0.03671829779430676, -0.2860039225741498, -0.6645535810763674, 0.35361402690987087, -0.4838160786577071, -0.3306437100433293, 0.7578497774109706, 0.6171141472049061, 1.3705691489603569, 0.5009242912330782, -0.1798435960914884, -0.4703086828538535, -0.6466893155159424, -0.5585942489444932, -0.02599426496031827, 1.2347156023274353, -0.34351542125379675, -0.5588861571003991, -2.1750786951966687, 0.5479115263608578, -1.334641208833851, -0.6690430786891292, 1.3751780594241751, 0.26847159545018806, -0.1761820585181939, 1.05314198035309, 1.3094116617361056, -1.1745893269297902, -1.201001044670139, 1.6329366211410532, -0.23414871056271985, 0.958359103538749, 1.6208728035608129, 1.976957756428609], \"xaxis\": \"x15\", \"y\": [-1.0730237098656148, 0.2794052342320543, 1.2010550003526252, -0.8756125607759215, 0.6973288114083869, -0.5175638226684373, -0.19100021548276025, -1.1261632863496405, 0.4093467997142295, -1.1810452254539712, -1.6421097159239544, -0.36175609087987676, -0.570870365133796, -0.22860936246283636, 2.4841487092545327, 2.8668607090480163, 2.0827019107651283, -1.1051879951439498, 1.850009089308549, -0.9115784516092622, 0.6554854193062295, 0.023464263393912856, -1.3839777212230235, -0.20959889906106324, 0.7300331971299585, -2.7377559487231524, 2.0847339873067487, -0.4906215247853985, -1.4675505846766048, -0.23977044690699248, -0.2850539573504832, 1.6788932677843182, -0.28954305067488045, -0.6582003111774273, 0.7556677086028821, -1.2463215669305947, 0.19858081252017226, -0.07164550809083756, -1.8485949588626711, -0.10119396429207501, -0.264430453219776, 0.796674568982724, 0.6439357673746793, 0.5166924710532177, -0.36772158478393324, -0.789478896455601, -0.5510152121867143, -1.2576160991632663, 1.1389336894281417, -2.2015249466112166, -1.2114788378792567, -1.2348064014679465, -2.1091970515178584, -0.31763178375937506, -0.9133573531122807, -0.6331311678008216, 0.9369116422442504, 0.9083676783872775, 1.5710016950446708, 0.9618189048878746, 0.8702472012619139, 0.16749411099852338, -0.19611312770862116, -0.041887486426224765, -0.17388136524387854, -1.1313118395056132, -0.2678535099561108, -1.1753831498470801, 0.9380088756427204, -1.627900222339357, -0.1595193877062732, 0.2916393711874212, 0.06653326084873111, -0.10112392340973708, -0.6909977061948326, 0.30822221740449457, -0.989269805452754, 0.15658232583343956, -0.4094025742419398, -0.6950892772326683, -0.25831385337232443, -1.1726481945419387, 0.6908554822616798, 0.16147855619255203, 2.507269356076118, -0.7861694165655152, -0.07345624254973059, 0.9481105312495175, 2.582822327265082, -0.6670838788614623, 1.1221203026517277, -1.3695156966498792, 0.8412337675522863, 0.3070779970130713, -0.9395414007292571, -2.264013877875384, 0.6052148453710591, 0.7437978752182598, -0.7635869173453622, -1.4639645624109963], \"yaxis\": \"y15\"}, {\"histfunc\": \"count\", \"histnorm\": \"\", \"marker\": {\"color\": \"rgba(128, 0, 128, 1.0)\", \"line\": {\"color\": \"#4D5663\", \"width\": 1.3}}, \"name\": \"D\", \"nbinsx\": 10, \"opacity\": 0.8, \"orientation\": \"v\", \"type\": \"histogram\", \"x\": [-1.0730237098656148, 0.2794052342320543, 1.2010550003526252, -0.8756125607759215, 0.6973288114083869, -0.5175638226684373, -0.19100021548276025, -1.1261632863496405, 0.4093467997142295, -1.1810452254539712, -1.6421097159239544, -0.36175609087987676, -0.570870365133796, -0.22860936246283636, 2.4841487092545327, 2.8668607090480163, 2.0827019107651283, -1.1051879951439498, 1.850009089308549, -0.9115784516092622, 0.6554854193062295, 0.023464263393912856, -1.3839777212230235, -0.20959889906106324, 0.7300331971299585, -2.7377559487231524, 2.0847339873067487, -0.4906215247853985, -1.4675505846766048, -0.23977044690699248, -0.2850539573504832, 1.6788932677843182, -0.28954305067488045, -0.6582003111774273, 0.7556677086028821, -1.2463215669305947, 0.19858081252017226, -0.07164550809083756, -1.8485949588626711, -0.10119396429207501, -0.264430453219776, 0.796674568982724, 0.6439357673746793, 0.5166924710532177, -0.36772158478393324, -0.789478896455601, -0.5510152121867143, -1.2576160991632663, 1.1389336894281417, -2.2015249466112166, -1.2114788378792567, -1.2348064014679465, -2.1091970515178584, -0.31763178375937506, -0.9133573531122807, -0.6331311678008216, 0.9369116422442504, 0.9083676783872775, 1.5710016950446708, 0.9618189048878746, 0.8702472012619139, 0.16749411099852338, -0.19611312770862116, -0.041887486426224765, -0.17388136524387854, -1.1313118395056132, -0.2678535099561108, -1.1753831498470801, 0.9380088756427204, -1.627900222339357, -0.1595193877062732, 0.2916393711874212, 0.06653326084873111, -0.10112392340973708, -0.6909977061948326, 0.30822221740449457, -0.989269805452754, 0.15658232583343956, -0.4094025742419398, -0.6950892772326683, -0.25831385337232443, -1.1726481945419387, 0.6908554822616798, 0.16147855619255203, 2.507269356076118, -0.7861694165655152, -0.07345624254973059, 0.9481105312495175, 2.582822327265082, -0.6670838788614623, 1.1221203026517277, -1.3695156966498792, 0.8412337675522863, 0.3070779970130713, -0.9395414007292571, -2.264013877875384, 0.6052148453710591, 0.7437978752182598, -0.7635869173453622, -1.4639645624109963], \"xaxis\": \"x16\", \"yaxis\": \"y16\"}],                        {\"bargap\": 0.02, \"legend\": {\"bgcolor\": \"#F5F6F9\", \"font\": {\"color\": \"#4D5663\"}}, \"paper_bgcolor\": \"#F5F6F9\", \"plot_bgcolor\": \"#F5F6F9\", \"showlegend\": false, \"template\": {\"data\": {\"bar\": [{\"error_x\": {\"color\": \"#2a3f5f\"}, \"error_y\": {\"color\": \"#2a3f5f\"}, \"marker\": {\"line\": {\"color\": \"#E5ECF6\", \"width\": 0.5}}, \"type\": \"bar\"}], \"barpolar\": [{\"marker\": {\"line\": {\"color\": \"#E5ECF6\", \"width\": 0.5}}, \"type\": \"barpolar\"}], \"carpet\": [{\"aaxis\": {\"endlinecolor\": \"#2a3f5f\", \"gridcolor\": \"white\", \"linecolor\": \"white\", \"minorgridcolor\": \"white\", \"startlinecolor\": \"#2a3f5f\"}, \"baxis\": {\"endlinecolor\": \"#2a3f5f\", \"gridcolor\": \"white\", \"linecolor\": \"white\", \"minorgridcolor\": \"white\", \"startlinecolor\": \"#2a3f5f\"}, \"type\": \"carpet\"}], \"choropleth\": [{\"colorbar\": {\"outlinewidth\": 0, \"ticks\": \"\"}, \"type\": \"choropleth\"}], \"contour\": [{\"colorbar\": {\"outlinewidth\": 0, \"ticks\": \"\"}, \"colorscale\": [[0.0, \"#0d0887\"], [0.1111111111111111, \"#46039f\"], [0.2222222222222222, \"#7201a8\"], [0.3333333333333333, \"#9c179e\"], [0.4444444444444444, \"#bd3786\"], [0.5555555555555556, \"#d8576b\"], [0.6666666666666666, \"#ed7953\"], [0.7777777777777778, \"#fb9f3a\"], [0.8888888888888888, \"#fdca26\"], [1.0, \"#f0f921\"]], \"type\": \"contour\"}], \"contourcarpet\": [{\"colorbar\": {\"outlinewidth\": 0, \"ticks\": \"\"}, \"type\": \"contourcarpet\"}], \"heatmap\": [{\"colorbar\": {\"outlinewidth\": 0, \"ticks\": \"\"}, \"colorscale\": [[0.0, \"#0d0887\"], [0.1111111111111111, \"#46039f\"], [0.2222222222222222, \"#7201a8\"], [0.3333333333333333, \"#9c179e\"], [0.4444444444444444, \"#bd3786\"], [0.5555555555555556, \"#d8576b\"], [0.6666666666666666, \"#ed7953\"], [0.7777777777777778, \"#fb9f3a\"], [0.8888888888888888, \"#fdca26\"], [1.0, \"#f0f921\"]], \"type\": \"heatmap\"}], \"heatmapgl\": [{\"colorbar\": {\"outlinewidth\": 0, \"ticks\": \"\"}, \"colorscale\": [[0.0, \"#0d0887\"], [0.1111111111111111, \"#46039f\"], [0.2222222222222222, \"#7201a8\"], [0.3333333333333333, \"#9c179e\"], [0.4444444444444444, \"#bd3786\"], [0.5555555555555556, \"#d8576b\"], [0.6666666666666666, \"#ed7953\"], [0.7777777777777778, \"#fb9f3a\"], [0.8888888888888888, \"#fdca26\"], [1.0, \"#f0f921\"]], \"type\": \"heatmapgl\"}], \"histogram\": [{\"marker\": {\"colorbar\": {\"outlinewidth\": 0, \"ticks\": \"\"}}, \"type\": \"histogram\"}], \"histogram2d\": [{\"colorbar\": {\"outlinewidth\": 0, \"ticks\": \"\"}, \"colorscale\": [[0.0, \"#0d0887\"], [0.1111111111111111, \"#46039f\"], [0.2222222222222222, \"#7201a8\"], [0.3333333333333333, \"#9c179e\"], [0.4444444444444444, \"#bd3786\"], [0.5555555555555556, \"#d8576b\"], [0.6666666666666666, \"#ed7953\"], [0.7777777777777778, \"#fb9f3a\"], [0.8888888888888888, \"#fdca26\"], [1.0, \"#f0f921\"]], \"type\": \"histogram2d\"}], \"histogram2dcontour\": [{\"colorbar\": {\"outlinewidth\": 0, \"ticks\": \"\"}, \"colorscale\": [[0.0, \"#0d0887\"], [0.1111111111111111, \"#46039f\"], [0.2222222222222222, \"#7201a8\"], [0.3333333333333333, \"#9c179e\"], [0.4444444444444444, \"#bd3786\"], [0.5555555555555556, \"#d8576b\"], [0.6666666666666666, \"#ed7953\"], [0.7777777777777778, \"#fb9f3a\"], [0.8888888888888888, \"#fdca26\"], [1.0, \"#f0f921\"]], \"type\": \"histogram2dcontour\"}], \"mesh3d\": [{\"colorbar\": {\"outlinewidth\": 0, \"ticks\": \"\"}, \"type\": \"mesh3d\"}], \"parcoords\": [{\"line\": {\"colorbar\": {\"outlinewidth\": 0, \"ticks\": \"\"}}, \"type\": \"parcoords\"}], \"pie\": [{\"automargin\": true, \"type\": \"pie\"}], \"scatter\": [{\"marker\": {\"colorbar\": {\"outlinewidth\": 0, \"ticks\": \"\"}}, \"type\": \"scatter\"}], \"scatter3d\": [{\"line\": {\"colorbar\": {\"outlinewidth\": 0, \"ticks\": \"\"}}, \"marker\": {\"colorbar\": {\"outlinewidth\": 0, \"ticks\": \"\"}}, \"type\": \"scatter3d\"}], \"scattercarpet\": [{\"marker\": {\"colorbar\": {\"outlinewidth\": 0, \"ticks\": \"\"}}, \"type\": \"scattercarpet\"}], \"scattergeo\": [{\"marker\": {\"colorbar\": {\"outlinewidth\": 0, \"ticks\": \"\"}}, \"type\": \"scattergeo\"}], \"scattergl\": [{\"marker\": {\"colorbar\": {\"outlinewidth\": 0, \"ticks\": \"\"}}, \"type\": \"scattergl\"}], \"scattermapbox\": [{\"marker\": {\"colorbar\": {\"outlinewidth\": 0, \"ticks\": \"\"}}, \"type\": \"scattermapbox\"}], \"scatterpolar\": [{\"marker\": {\"colorbar\": {\"outlinewidth\": 0, \"ticks\": \"\"}}, \"type\": \"scatterpolar\"}], \"scatterpolargl\": [{\"marker\": {\"colorbar\": {\"outlinewidth\": 0, \"ticks\": \"\"}}, \"type\": \"scatterpolargl\"}], \"scatterternary\": [{\"marker\": {\"colorbar\": {\"outlinewidth\": 0, \"ticks\": \"\"}}, \"type\": \"scatterternary\"}], \"surface\": [{\"colorbar\": {\"outlinewidth\": 0, \"ticks\": \"\"}, \"colorscale\": [[0.0, \"#0d0887\"], [0.1111111111111111, \"#46039f\"], [0.2222222222222222, \"#7201a8\"], [0.3333333333333333, \"#9c179e\"], [0.4444444444444444, \"#bd3786\"], [0.5555555555555556, \"#d8576b\"], [0.6666666666666666, \"#ed7953\"], [0.7777777777777778, \"#fb9f3a\"], [0.8888888888888888, \"#fdca26\"], [1.0, \"#f0f921\"]], \"type\": \"surface\"}], \"table\": [{\"cells\": {\"fill\": {\"color\": \"#EBF0F8\"}, \"line\": {\"color\": \"white\"}}, \"header\": {\"fill\": {\"color\": \"#C8D4E3\"}, \"line\": {\"color\": \"white\"}}, \"type\": \"table\"}]}, \"layout\": {\"annotationdefaults\": {\"arrowcolor\": \"#2a3f5f\", \"arrowhead\": 0, \"arrowwidth\": 1}, \"autotypenumbers\": \"strict\", \"coloraxis\": {\"colorbar\": {\"outlinewidth\": 0, \"ticks\": \"\"}}, \"colorscale\": {\"diverging\": [[0, \"#8e0152\"], [0.1, \"#c51b7d\"], [0.2, \"#de77ae\"], [0.3, \"#f1b6da\"], [0.4, \"#fde0ef\"], [0.5, \"#f7f7f7\"], [0.6, \"#e6f5d0\"], [0.7, \"#b8e186\"], [0.8, \"#7fbc41\"], [0.9, \"#4d9221\"], [1, \"#276419\"]], \"sequential\": [[0.0, \"#0d0887\"], [0.1111111111111111, \"#46039f\"], [0.2222222222222222, \"#7201a8\"], [0.3333333333333333, \"#9c179e\"], [0.4444444444444444, \"#bd3786\"], [0.5555555555555556, \"#d8576b\"], [0.6666666666666666, \"#ed7953\"], [0.7777777777777778, \"#fb9f3a\"], [0.8888888888888888, \"#fdca26\"], [1.0, \"#f0f921\"]], \"sequentialminus\": [[0.0, \"#0d0887\"], [0.1111111111111111, \"#46039f\"], [0.2222222222222222, \"#7201a8\"], [0.3333333333333333, \"#9c179e\"], [0.4444444444444444, \"#bd3786\"], [0.5555555555555556, \"#d8576b\"], [0.6666666666666666, \"#ed7953\"], [0.7777777777777778, \"#fb9f3a\"], [0.8888888888888888, \"#fdca26\"], [1.0, \"#f0f921\"]]}, \"colorway\": [\"#636efa\", \"#EF553B\", \"#00cc96\", \"#ab63fa\", \"#FFA15A\", \"#19d3f3\", \"#FF6692\", \"#B6E880\", \"#FF97FF\", \"#FECB52\"], \"font\": {\"color\": \"#2a3f5f\"}, \"geo\": {\"bgcolor\": \"white\", \"lakecolor\": \"white\", \"landcolor\": \"#E5ECF6\", \"showlakes\": true, \"showland\": true, \"subunitcolor\": \"white\"}, \"hoverlabel\": {\"align\": \"left\"}, \"hovermode\": \"closest\", \"mapbox\": {\"style\": \"light\"}, \"paper_bgcolor\": \"white\", \"plot_bgcolor\": \"#E5ECF6\", \"polar\": {\"angularaxis\": {\"gridcolor\": \"white\", \"linecolor\": \"white\", \"ticks\": \"\"}, \"bgcolor\": \"#E5ECF6\", \"radialaxis\": {\"gridcolor\": \"white\", \"linecolor\": \"white\", \"ticks\": \"\"}}, \"scene\": {\"xaxis\": {\"backgroundcolor\": \"#E5ECF6\", \"gridcolor\": \"white\", \"gridwidth\": 2, \"linecolor\": \"white\", \"showbackground\": true, \"ticks\": \"\", \"zerolinecolor\": \"white\"}, \"yaxis\": {\"backgroundcolor\": \"#E5ECF6\", \"gridcolor\": \"white\", \"gridwidth\": 2, \"linecolor\": \"white\", \"showbackground\": true, \"ticks\": \"\", \"zerolinecolor\": \"white\"}, \"zaxis\": {\"backgroundcolor\": \"#E5ECF6\", \"gridcolor\": \"white\", \"gridwidth\": 2, \"linecolor\": \"white\", \"showbackground\": true, \"ticks\": \"\", \"zerolinecolor\": \"white\"}}, \"shapedefaults\": {\"line\": {\"color\": \"#2a3f5f\"}}, \"ternary\": {\"aaxis\": {\"gridcolor\": \"white\", \"linecolor\": \"white\", \"ticks\": \"\"}, \"baxis\": {\"gridcolor\": \"white\", \"linecolor\": \"white\", \"ticks\": \"\"}, \"bgcolor\": \"#E5ECF6\", \"caxis\": {\"gridcolor\": \"white\", \"linecolor\": \"white\", \"ticks\": \"\"}}, \"title\": {\"x\": 0.05}, \"xaxis\": {\"automargin\": true, \"gridcolor\": \"white\", \"linecolor\": \"white\", \"ticks\": \"\", \"title\": {\"standoff\": 15}, \"zerolinecolor\": \"white\", \"zerolinewidth\": 2}, \"yaxis\": {\"automargin\": true, \"gridcolor\": \"white\", \"linecolor\": \"white\", \"ticks\": \"\", \"title\": {\"standoff\": 15}, \"zerolinecolor\": \"white\", \"zerolinewidth\": 2}}}, \"title\": {\"font\": {\"color\": \"#4D5663\"}}, \"xaxis\": {\"anchor\": \"y\", \"domain\": [0.0, 0.2125], \"gridcolor\": \"#E1E5ED\", \"showgrid\": false, \"tickfont\": {\"color\": \"#4D5663\"}, \"title\": {\"font\": {\"color\": \"#4D5663\"}, \"text\": \"\"}, \"zerolinecolor\": \"#E1E5ED\"}, \"xaxis10\": {\"anchor\": \"y10\", \"domain\": [0.2625, 0.475], \"gridcolor\": \"#E1E5ED\", \"showgrid\": false, \"tickfont\": {\"color\": \"#4D5663\"}, \"title\": {\"font\": {\"color\": \"#4D5663\"}, \"text\": \"\"}, \"zerolinecolor\": \"#E1E5ED\"}, \"xaxis11\": {\"anchor\": \"y11\", \"domain\": [0.525, 0.7375], \"gridcolor\": \"#E1E5ED\", \"showgrid\": false, \"tickfont\": {\"color\": \"#4D5663\"}, \"title\": {\"font\": {\"color\": \"#4D5663\"}, \"text\": \"\"}, \"zerolinecolor\": \"#E1E5ED\"}, \"xaxis12\": {\"anchor\": \"y12\", \"domain\": [0.7875, 1.0], \"gridcolor\": \"#E1E5ED\", \"showgrid\": false, \"tickfont\": {\"color\": \"#4D5663\"}, \"title\": {\"font\": {\"color\": \"#4D5663\"}, \"text\": \"\"}, \"zerolinecolor\": \"#E1E5ED\"}, \"xaxis13\": {\"anchor\": \"y13\", \"domain\": [0.0, 0.2125], \"gridcolor\": \"#E1E5ED\", \"showgrid\": false, \"tickfont\": {\"color\": \"#4D5663\"}, \"title\": {\"font\": {\"color\": \"#4D5663\"}, \"text\": \"\"}, \"zerolinecolor\": \"#E1E5ED\"}, \"xaxis14\": {\"anchor\": \"y14\", \"domain\": [0.2625, 0.475], \"gridcolor\": \"#E1E5ED\", \"showgrid\": false, \"tickfont\": {\"color\": \"#4D5663\"}, \"title\": {\"font\": {\"color\": \"#4D5663\"}, \"text\": \"\"}, \"zerolinecolor\": \"#E1E5ED\"}, \"xaxis15\": {\"anchor\": \"y15\", \"domain\": [0.525, 0.7375], \"gridcolor\": \"#E1E5ED\", \"showgrid\": false, \"tickfont\": {\"color\": \"#4D5663\"}, \"title\": {\"font\": {\"color\": \"#4D5663\"}, \"text\": \"\"}, \"zerolinecolor\": \"#E1E5ED\"}, \"xaxis16\": {\"anchor\": \"y16\", \"domain\": [0.7875, 1.0], \"gridcolor\": \"#E1E5ED\", \"showgrid\": false, \"tickfont\": {\"color\": \"#4D5663\"}, \"title\": {\"font\": {\"color\": \"#4D5663\"}, \"text\": \"\"}, \"zerolinecolor\": \"#E1E5ED\"}, \"xaxis2\": {\"anchor\": \"y2\", \"domain\": [0.2625, 0.475], \"gridcolor\": \"#E1E5ED\", \"showgrid\": false, \"tickfont\": {\"color\": \"#4D5663\"}, \"title\": {\"font\": {\"color\": \"#4D5663\"}, \"text\": \"\"}, \"zerolinecolor\": \"#E1E5ED\"}, \"xaxis3\": {\"anchor\": \"y3\", \"domain\": [0.525, 0.7375], \"gridcolor\": \"#E1E5ED\", \"showgrid\": false, \"tickfont\": {\"color\": \"#4D5663\"}, \"title\": {\"font\": {\"color\": \"#4D5663\"}, \"text\": \"\"}, \"zerolinecolor\": \"#E1E5ED\"}, \"xaxis4\": {\"anchor\": \"y4\", \"domain\": [0.7875, 1.0], \"gridcolor\": \"#E1E5ED\", \"showgrid\": false, \"tickfont\": {\"color\": \"#4D5663\"}, \"title\": {\"font\": {\"color\": \"#4D5663\"}, \"text\": \"\"}, \"zerolinecolor\": \"#E1E5ED\"}, \"xaxis5\": {\"anchor\": \"y5\", \"domain\": [0.0, 0.2125], \"gridcolor\": \"#E1E5ED\", \"showgrid\": false, \"tickfont\": {\"color\": \"#4D5663\"}, \"title\": {\"font\": {\"color\": \"#4D5663\"}, \"text\": \"\"}, \"zerolinecolor\": \"#E1E5ED\"}, \"xaxis6\": {\"anchor\": \"y6\", \"domain\": [0.2625, 0.475], \"gridcolor\": \"#E1E5ED\", \"showgrid\": false, \"tickfont\": {\"color\": \"#4D5663\"}, \"title\": {\"font\": {\"color\": \"#4D5663\"}, \"text\": \"\"}, \"zerolinecolor\": \"#E1E5ED\"}, \"xaxis7\": {\"anchor\": \"y7\", \"domain\": [0.525, 0.7375], \"gridcolor\": \"#E1E5ED\", \"showgrid\": false, \"tickfont\": {\"color\": \"#4D5663\"}, \"title\": {\"font\": {\"color\": \"#4D5663\"}, \"text\": \"\"}, \"zerolinecolor\": \"#E1E5ED\"}, \"xaxis8\": {\"anchor\": \"y8\", \"domain\": [0.7875, 1.0], \"gridcolor\": \"#E1E5ED\", \"showgrid\": false, \"tickfont\": {\"color\": \"#4D5663\"}, \"title\": {\"font\": {\"color\": \"#4D5663\"}, \"text\": \"\"}, \"zerolinecolor\": \"#E1E5ED\"}, \"xaxis9\": {\"anchor\": \"y9\", \"domain\": [0.0, 0.2125], \"gridcolor\": \"#E1E5ED\", \"showgrid\": false, \"tickfont\": {\"color\": \"#4D5663\"}, \"title\": {\"font\": {\"color\": \"#4D5663\"}, \"text\": \"\"}, \"zerolinecolor\": \"#E1E5ED\"}, \"yaxis\": {\"anchor\": \"x\", \"domain\": [0.8025, 1.0], \"gridcolor\": \"#E1E5ED\", \"showgrid\": false, \"tickfont\": {\"color\": \"#4D5663\"}, \"title\": {\"font\": {\"color\": \"#4D5663\"}, \"text\": \"\"}, \"zerolinecolor\": \"#E1E5ED\"}, \"yaxis10\": {\"anchor\": \"x10\", \"domain\": [0.2675, 0.465], \"gridcolor\": \"#E1E5ED\", \"showgrid\": false, \"tickfont\": {\"color\": \"#4D5663\"}, \"title\": {\"font\": {\"color\": \"#4D5663\"}, \"text\": \"\"}, \"zerolinecolor\": \"#E1E5ED\"}, \"yaxis11\": {\"anchor\": \"x11\", \"domain\": [0.2675, 0.465], \"gridcolor\": \"#E1E5ED\", \"showgrid\": false, \"tickfont\": {\"color\": \"#4D5663\"}, \"title\": {\"font\": {\"color\": \"#4D5663\"}, \"text\": \"\"}, \"zerolinecolor\": \"#E1E5ED\"}, \"yaxis12\": {\"anchor\": \"x12\", \"domain\": [0.2675, 0.465], \"gridcolor\": \"#E1E5ED\", \"showgrid\": false, \"tickfont\": {\"color\": \"#4D5663\"}, \"title\": {\"font\": {\"color\": \"#4D5663\"}, \"text\": \"\"}, \"zerolinecolor\": \"#E1E5ED\"}, \"yaxis13\": {\"anchor\": \"x13\", \"domain\": [0.0, 0.1975], \"gridcolor\": \"#E1E5ED\", \"showgrid\": false, \"tickfont\": {\"color\": \"#4D5663\"}, \"title\": {\"font\": {\"color\": \"#4D5663\"}, \"text\": \"\"}, \"zerolinecolor\": \"#E1E5ED\"}, \"yaxis14\": {\"anchor\": \"x14\", \"domain\": [0.0, 0.1975], \"gridcolor\": \"#E1E5ED\", \"showgrid\": false, \"tickfont\": {\"color\": \"#4D5663\"}, \"title\": {\"font\": {\"color\": \"#4D5663\"}, \"text\": \"\"}, \"zerolinecolor\": \"#E1E5ED\"}, \"yaxis15\": {\"anchor\": \"x15\", \"domain\": [0.0, 0.1975], \"gridcolor\": \"#E1E5ED\", \"showgrid\": false, \"tickfont\": {\"color\": \"#4D5663\"}, \"title\": {\"font\": {\"color\": \"#4D5663\"}, \"text\": \"\"}, \"zerolinecolor\": \"#E1E5ED\"}, \"yaxis16\": {\"anchor\": \"x16\", \"domain\": [0.0, 0.1975], \"gridcolor\": \"#E1E5ED\", \"showgrid\": false, \"tickfont\": {\"color\": \"#4D5663\"}, \"title\": {\"font\": {\"color\": \"#4D5663\"}, \"text\": \"\"}, \"zerolinecolor\": \"#E1E5ED\"}, \"yaxis2\": {\"anchor\": \"x2\", \"domain\": [0.8025, 1.0], \"gridcolor\": \"#E1E5ED\", \"showgrid\": false, \"tickfont\": {\"color\": \"#4D5663\"}, \"title\": {\"font\": {\"color\": \"#4D5663\"}, \"text\": \"\"}, \"zerolinecolor\": \"#E1E5ED\"}, \"yaxis3\": {\"anchor\": \"x3\", \"domain\": [0.8025, 1.0], \"gridcolor\": \"#E1E5ED\", \"showgrid\": false, \"tickfont\": {\"color\": \"#4D5663\"}, \"title\": {\"font\": {\"color\": \"#4D5663\"}, \"text\": \"\"}, \"zerolinecolor\": \"#E1E5ED\"}, \"yaxis4\": {\"anchor\": \"x4\", \"domain\": [0.8025, 1.0], \"gridcolor\": \"#E1E5ED\", \"showgrid\": false, \"tickfont\": {\"color\": \"#4D5663\"}, \"title\": {\"font\": {\"color\": \"#4D5663\"}, \"text\": \"\"}, \"zerolinecolor\": \"#E1E5ED\"}, \"yaxis5\": {\"anchor\": \"x5\", \"domain\": [0.535, 0.7325], \"gridcolor\": \"#E1E5ED\", \"showgrid\": false, \"tickfont\": {\"color\": \"#4D5663\"}, \"title\": {\"font\": {\"color\": \"#4D5663\"}, \"text\": \"\"}, \"zerolinecolor\": \"#E1E5ED\"}, \"yaxis6\": {\"anchor\": \"x6\", \"domain\": [0.535, 0.7325], \"gridcolor\": \"#E1E5ED\", \"showgrid\": false, \"tickfont\": {\"color\": \"#4D5663\"}, \"title\": {\"font\": {\"color\": \"#4D5663\"}, \"text\": \"\"}, \"zerolinecolor\": \"#E1E5ED\"}, \"yaxis7\": {\"anchor\": \"x7\", \"domain\": [0.535, 0.7325], \"gridcolor\": \"#E1E5ED\", \"showgrid\": false, \"tickfont\": {\"color\": \"#4D5663\"}, \"title\": {\"font\": {\"color\": \"#4D5663\"}, \"text\": \"\"}, \"zerolinecolor\": \"#E1E5ED\"}, \"yaxis8\": {\"anchor\": \"x8\", \"domain\": [0.535, 0.7325], \"gridcolor\": \"#E1E5ED\", \"showgrid\": false, \"tickfont\": {\"color\": \"#4D5663\"}, \"title\": {\"font\": {\"color\": \"#4D5663\"}, \"text\": \"\"}, \"zerolinecolor\": \"#E1E5ED\"}, \"yaxis9\": {\"anchor\": \"x9\", \"domain\": [0.2675, 0.465], \"gridcolor\": \"#E1E5ED\", \"showgrid\": false, \"tickfont\": {\"color\": \"#4D5663\"}, \"title\": {\"font\": {\"color\": \"#4D5663\"}, \"text\": \"\"}, \"zerolinecolor\": \"#E1E5ED\"}},                        {\"showLink\": true, \"linkText\": \"Export to plot.ly\", \"plotlyServerURL\": \"https://plot.ly\", \"responsive\": true}                    ).then(function(){\n",
       "                            \n",
       "var gd = document.getElementById('326bc7d8-4c13-4862-b596-b067bb0f9647');\n",
       "var x = new MutationObserver(function (mutations, observer) {{\n",
       "        var display = window.getComputedStyle(gd).display;\n",
       "        if (!display || display === 'none') {{\n",
       "            console.log([gd, 'removed!']);\n",
       "            Plotly.purge(gd);\n",
       "            observer.disconnect();\n",
       "        }}\n",
       "}});\n",
       "\n",
       "// Listen for the removal of the full notebook cells\n",
       "var notebookContainer = gd.closest('#notebook-container');\n",
       "if (notebookContainer) {{\n",
       "    x.observe(notebookContainer, {childList: true});\n",
       "}}\n",
       "\n",
       "// Listen for the clearing of the current output cell\n",
       "var outputEl = gd.closest('.output');\n",
       "if (outputEl) {{\n",
       "    x.observe(outputEl, {childList: true});\n",
       "}}\n",
       "\n",
       "                        })                };                });            </script>        </div>"
      ]
     },
     "metadata": {},
     "output_type": "display_data"
    }
   ],
   "source": [
    "df.scatter_matrix()"
   ]
  },
  {
   "cell_type": "markdown",
   "metadata": {
    "collapsed": true
   },
   "source": [
    "# Great Job!"
   ]
  },
  {
   "cell_type": "code",
   "execution_count": null,
   "metadata": {},
   "outputs": [],
   "source": []
  }
 ],
 "metadata": {
  "kernelspec": {
   "display_name": "Python 3",
   "language": "python",
   "name": "python3"
  },
  "language_info": {
   "codemirror_mode": {
    "name": "ipython",
    "version": 3
   },
   "file_extension": ".py",
   "mimetype": "text/x-python",
   "name": "python",
   "nbconvert_exporter": "python",
   "pygments_lexer": "ipython3",
   "version": "3.8.3"
  }
 },
 "nbformat": 4,
 "nbformat_minor": 1
}
