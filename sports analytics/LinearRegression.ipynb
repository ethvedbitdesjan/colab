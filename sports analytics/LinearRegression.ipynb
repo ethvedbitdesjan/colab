{
 "cells": [
  {
   "cell_type": "markdown",
   "metadata": {
    "colab_type": "text",
    "id": "TztVrWfzS9r9"
   },
   "source": [
    "<center>\n",
    "    <h3>UTSPAN 2019-2020 Tutorial 1</h3>\n",
    "    <h3>Source: MIE465 Analytics in Action</h3>\n",
    "    <hr>\n",
    "    <h1>Linear Regression</h1>\n",
    "</center>\n"
   ]
  },
  {
   "cell_type": "markdown",
   "metadata": {
    "colab_type": "text",
    "id": "ugAkaDf3S9r-"
   },
   "source": [
    "# Introduction\n",
    "Linear regression is one of the simplest and most widely used prediction methods. It is used to model the relationship between a dependent variable, called the \\emph{target variable} and one or more independent variables, called the \\emph{feature variables}. For a given data point, let $y$ represent the target variable and $x_1,x_2,\\dots,x_K$ represent $K$ feature variables. Our goal is to determine the best values for the regression coefficients, $\\beta_0,\\beta_1,\\dots,\\beta_K$, such that our predicted target values,\n",
    "\n",
    "$$\\hat{y} = \\beta_0 + \\beta_1x_1 + \\beta_2x_2 + \\dots + \\beta_Kx_K,$$\n",
    "\n",
    "are as close as possible to the true target values, $y$. \n",
    "\n",
    "We define the error (i.e., residual) for a given observation to be $(\\hat{y} -y)$. Then we choose our regression coefficients to minimize the mean squared error (MSE) between the true target values and the predicted target values across all data points. For example, suppose we observe $n$ data points of the form $(y_i,x_{i1},x_{i2},\\dots,x_{iK}), \\;i=1,\\dots,n$. We can minimize the mean squared error (MSE) as follows:\n",
    "\n",
    "$$\n",
    "\\begin{aligned}\n",
    "\\min_{\\beta_0,\\beta_1,\\dots,\\beta_K} \\quad  & \\frac{1}{n}\\sum_{i=1}^n \\left( \\beta_0 + \\beta_1x_{i1} + \\beta_2x_{i2} + \\dots + \\beta_Kx_{iK} - y_i \\right)^2.     \\quad\\quad\\quad (1)\n",
    "\\end{aligned}\n",
    "$$\n",
    "\n",
    "We denote the regression coefficients that minimize (1) by $\\hat{\\beta}_0,\\hat{\\beta}_1,\\dots,\\hat{\\beta}_K$. \n",
    "\n",
    "The application of linear regression typically falls into one of two categories based on the end goal:\n",
    "\n",
    " 1. __Prediction accuracy:__ predict the target value for future feature variables. As a result, we want to obtain the best prediction accuracy and fewer assumptions can be made at the cost of regression coefficient interpretation.\n",
    "\n",
    " 2. __Information extraction:__ extract some information about how the target variables are associated with the feature variables. Care is needed with respect to model assumptions when seeking to extract information from the regression coefficients, such as statistical significance.\n",
    "\n",
    "Further information on model assumptions is provided in Appendix A.\n",
    "\n"
   ]
  },
  {
   "cell_type": "markdown",
   "metadata": {
    "colab_type": "text",
    "id": "ZwpTSGTsS9r_"
   },
   "source": [
    "## Feature Selection\n",
    "To select features, we identify the relevent variables (i.e., features) required to predict the target. The first step is to remove highly correlated features that appear to represent the same underlying relationship. For applications with small feature sets and/or where the modeller has some domain specific knowledge, a manual approach for feature selection is appropriate.  The final feature set can be chosen by:\n",
    "\n",
    " 1. __Exhaustive search:__ compare the model performance for all possible feature combinations and select the best. This is often only possible for small feature sets due to computational complexity.\n",
    " \n",
    " 2. __Expert opinion:__ the modeller or an expert in the field manually choose the features to include. Feature choices can be based off previous literature, hypothesized relationships, or intuition.\n",
    "\n",
    "Note that stepwise regression, a commonly used approach for feature selection which incrementally adds or removes features, should not be used because it can significantly bias the regression coefficients and corresponding statistical tests. See [Whittingham et al.](https://pdfs.semanticscholar.org/e30b/7638a67814f8bb7ca8507b1150dbbf8f4a7c.pdf)  and  [Mundry and Nunn](https://www.ncbi.nlm.nih.gov/pubmed/19049440) for more information."
   ]
  },
  {
   "cell_type": "markdown",
   "metadata": {
    "colab_type": "text",
    "id": "jRsyu6QNS9r_"
   },
   "source": [
    "### Regularization\n",
    "For applications with large feature sets or cases where the modeler has no domain specific knowledge, _regularization_ can be used as an automated approach to prevent overfitting. Overfitting occurs when the model identifies relationships that are unique to the training set and do not generalize for the larger population. See Appendix B for more information. \n",
    "\n",
    "In regularized regression, we add an additional term, $\\lambda\\sum_{k=1}^K |\\beta_k|^p$, to the objective of (1), where $p$ is a number that denotes the type of regularization (e.g., 1-norm or 2-norm) and $\\lambda$ is a user chosen parameter. The $\\lambda$ parameter controls the degree of regularization and can be chosen through a cross-validation procedure. Intuitively, you can think of regularization as penalizing non-zero regression coefficients, where different types of regularization impose different types of penalties. Regularization is useful because it limits the size of the coefficients, preventing over-fitting to the training data. There are two common types of regularization:\n",
    "\n",
    " 1. __L1-regularization ($p=1$):__ Also called _lasso_ regression. Lasso regression is frequently used for feature selection because it implicitly produces a sparse solution, i.e., only a small portion of the regression coefficients will be non-zero. Using L1-regularization, we can rewrite (1) as\n",
    "     $$                 \n",
    "    \\begin{aligned} \n",
    "        \\min_{\\beta_0,\\beta_1,\\dots,\\beta_K} \\quad  & \\frac{1}{n}\\sum_{i=1}^n \\left( \\beta_0 + \\beta_1x_{i1} + \\beta_2x_{i2} + \\dots + \\beta_Kx_{iK} - y_i \\right)^2 +\\lambda\\sum_{k=1}^K |\\beta_k|.\n",
    "    \\end{aligned}\n",
    "    $$\n",
    "               \n",
    " 2.  __L2-regularization ($p=2$):__ Also called _ridge_ regression. Ridge regression is frequently used to account for highly correlated feature sets because it produces a unique solution.  Using L2-regularization, we can rewrite (1) as\n",
    "        $$\n",
    "        \\begin{aligned}\n",
    "            \\min_{\\beta_0,\\beta_1,\\dots,\\beta_K} \\quad  & \\frac{1}{n}\\sum_{i=1}^n \\left( \\beta_0 + \\beta_1x_{i1} + \\beta_2x_{i2} + \\dots + \\beta_Kx_{iK} - y_i \\right)^2 + \\lambda\\sum_{k=1}^K |\\beta_k|^2.\n",
    "        \\end{aligned}\n",
    "        $$\n",
    "Both methods reduce coefficient size and prevent over-fitting. By comparison, L2-regularization is more computationally efficient than L1-regularization, however, L2-regularization does not produce sparse solutions and therefore cannot be used for feature selection. _Elastic Net_ is an another regularization techique that is a linear combination of LASSO and ridge regression. \n",
    "\n"
   ]
  },
  {
   "cell_type": "markdown",
   "metadata": {
    "colab_type": "text",
    "id": "cdrarCzpS9sA"
   },
   "source": [
    "# Application\n",
    "In this lab, we will apply linear regression to data from the National Basketball League (NBA). Our goal will be to predict the total number of wins for each team using basic team statistics as feature variables. Our data includes team data from all NBA seasons between 1980 and 2016 except for the two lockout seasons (1999 and 2012). For a brief introduction to basketball, please watch the first 90 seconds of the following video:\n",
    "\n",
    "<a href=\"https://www.youtube.com/watch?v=wYjp2zoqQrs\n",
    "\" target=\"\"><img src=\"http://img.youtube.com/vi/wYjp2zoqQrs/0.jpg\" \n",
    "alt=\"\" width=\"240\" height=\"180\" border=\"10\" /></a>\n",
    "\n",
    "The remainder of the document includes most of the code required to complete the lab. There are code sections that require completion that are clearly marked. The following text includes hints to the functions that you will need to use to complete the code along with printouts of the output you should obtain. Note that in ```python``` ```help(<function name>)``` returns the help documentation for a given function. Type _q_ to leave the help menu.\n",
    "\n",
    "First, import the essential tools."
   ]
  },
  {
   "cell_type": "code",
   "execution_count": 1,
   "metadata": {
    "colab": {},
    "colab_type": "code",
    "id": "dP1N-PZTS9sB"
   },
   "outputs": [],
   "source": [
    "import matplotlib\n",
    "import matplotlib.pyplot as plt\n",
    "import numpy as np\n",
    "import pandas as pd\n"
   ]
  },
  {
   "cell_type": "markdown",
   "metadata": {
    "colab_type": "text",
    "id": "47NUiw_aS9sE"
   },
   "source": [
    "## Loading and exploring the data\n",
    "Load the dataset and store it in a variable ```df```, which represents the dataframe."
   ]
  },
  {
   "cell_type": "code",
   "execution_count": 2,
   "metadata": {
    "colab": {
     "base_uri": "https://localhost:8080/",
     "height": 195
    },
    "colab_type": "code",
    "executionInfo": {
     "elapsed": 1239,
     "status": "ok",
     "timestamp": 1573686576940,
     "user": {
      "displayName": "Jamal Chu",
      "photoUrl": "",
      "userId": "00597837583331067421"
     },
     "user_tz": 300
    },
    "id": "Fx7QzVuzS9sG",
    "outputId": "341a1f40-0a5b-4d9c-f075-afddfa1610a0"
   },
   "outputs": [
    {
     "data": {
      "text/html": [
       "<div>\n",
       "<style scoped>\n",
       "    .dataframe tbody tr th:only-of-type {\n",
       "        vertical-align: middle;\n",
       "    }\n",
       "\n",
       "    .dataframe tbody tr th {\n",
       "        vertical-align: top;\n",
       "    }\n",
       "\n",
       "    .dataframe thead th {\n",
       "        text-align: right;\n",
       "    }\n",
       "</style>\n",
       "<table border=\"1\" class=\"dataframe\">\n",
       "  <thead>\n",
       "    <tr style=\"text-align: right;\">\n",
       "      <th></th>\n",
       "      <th>SeasonEnd</th>\n",
       "      <th>Team</th>\n",
       "      <th>W</th>\n",
       "      <th>PTS</th>\n",
       "      <th>oppPTS</th>\n",
       "      <th>FG</th>\n",
       "      <th>FGA</th>\n",
       "      <th>2P</th>\n",
       "      <th>2PA</th>\n",
       "      <th>3P</th>\n",
       "      <th>3PA</th>\n",
       "      <th>FT</th>\n",
       "      <th>FTA</th>\n",
       "      <th>ORB</th>\n",
       "      <th>DRB</th>\n",
       "      <th>AST</th>\n",
       "      <th>STL</th>\n",
       "      <th>BLK</th>\n",
       "      <th>TOV</th>\n",
       "    </tr>\n",
       "  </thead>\n",
       "  <tbody>\n",
       "    <tr>\n",
       "      <th>0</th>\n",
       "      <td>2014</td>\n",
       "      <td>Philadelphia 76ers</td>\n",
       "      <td>19</td>\n",
       "      <td>8155</td>\n",
       "      <td>9012</td>\n",
       "      <td>3108</td>\n",
       "      <td>7150</td>\n",
       "      <td>2531</td>\n",
       "      <td>5303</td>\n",
       "      <td>577</td>\n",
       "      <td>1847</td>\n",
       "      <td>1362</td>\n",
       "      <td>1918</td>\n",
       "      <td>949</td>\n",
       "      <td>2556</td>\n",
       "      <td>1791</td>\n",
       "      <td>765</td>\n",
       "      <td>330</td>\n",
       "      <td>1384</td>\n",
       "    </tr>\n",
       "    <tr>\n",
       "      <th>1</th>\n",
       "      <td>2004</td>\n",
       "      <td>Detroit Pistons</td>\n",
       "      <td>54</td>\n",
       "      <td>7388</td>\n",
       "      <td>6909</td>\n",
       "      <td>2747</td>\n",
       "      <td>6314</td>\n",
       "      <td>2414</td>\n",
       "      <td>5346</td>\n",
       "      <td>333</td>\n",
       "      <td>968</td>\n",
       "      <td>1561</td>\n",
       "      <td>2074</td>\n",
       "      <td>1014</td>\n",
       "      <td>2492</td>\n",
       "      <td>1702</td>\n",
       "      <td>659</td>\n",
       "      <td>570</td>\n",
       "      <td>1241</td>\n",
       "    </tr>\n",
       "    <tr>\n",
       "      <th>2</th>\n",
       "      <td>2004</td>\n",
       "      <td>San Antonio Spurs</td>\n",
       "      <td>57</td>\n",
       "      <td>7501</td>\n",
       "      <td>6909</td>\n",
       "      <td>2842</td>\n",
       "      <td>6434</td>\n",
       "      <td>2434</td>\n",
       "      <td>5294</td>\n",
       "      <td>408</td>\n",
       "      <td>1140</td>\n",
       "      <td>1409</td>\n",
       "      <td>2069</td>\n",
       "      <td>1029</td>\n",
       "      <td>2669</td>\n",
       "      <td>1676</td>\n",
       "      <td>661</td>\n",
       "      <td>537</td>\n",
       "      <td>1203</td>\n",
       "    </tr>\n",
       "    <tr>\n",
       "      <th>3</th>\n",
       "      <td>2004</td>\n",
       "      <td>Indiana Pacers</td>\n",
       "      <td>61</td>\n",
       "      <td>7493</td>\n",
       "      <td>7021</td>\n",
       "      <td>2753</td>\n",
       "      <td>6322</td>\n",
       "      <td>2304</td>\n",
       "      <td>5041</td>\n",
       "      <td>449</td>\n",
       "      <td>1281</td>\n",
       "      <td>1538</td>\n",
       "      <td>2014</td>\n",
       "      <td>965</td>\n",
       "      <td>2452</td>\n",
       "      <td>1774</td>\n",
       "      <td>726</td>\n",
       "      <td>411</td>\n",
       "      <td>1182</td>\n",
       "    </tr>\n",
       "    <tr>\n",
       "      <th>4</th>\n",
       "      <td>1997</td>\n",
       "      <td>Cleveland Cavaliers</td>\n",
       "      <td>42</td>\n",
       "      <td>7173</td>\n",
       "      <td>7022</td>\n",
       "      <td>2704</td>\n",
       "      <td>5972</td>\n",
       "      <td>2221</td>\n",
       "      <td>4688</td>\n",
       "      <td>483</td>\n",
       "      <td>1284</td>\n",
       "      <td>1282</td>\n",
       "      <td>1773</td>\n",
       "      <td>909</td>\n",
       "      <td>2159</td>\n",
       "      <td>1714</td>\n",
       "      <td>655</td>\n",
       "      <td>315</td>\n",
       "      <td>1188</td>\n",
       "    </tr>\n",
       "  </tbody>\n",
       "</table>\n",
       "</div>"
      ],
      "text/plain": [
       "   SeasonEnd                 Team   W   PTS  oppPTS    FG   FGA    2P   2PA  \\\n",
       "0       2014   Philadelphia 76ers  19  8155    9012  3108  7150  2531  5303   \n",
       "1       2004      Detroit Pistons  54  7388    6909  2747  6314  2414  5346   \n",
       "2       2004    San Antonio Spurs  57  7501    6909  2842  6434  2434  5294   \n",
       "3       2004       Indiana Pacers  61  7493    7021  2753  6322  2304  5041   \n",
       "4       1997  Cleveland Cavaliers  42  7173    7022  2704  5972  2221  4688   \n",
       "\n",
       "    3P   3PA    FT   FTA   ORB   DRB   AST  STL  BLK   TOV  \n",
       "0  577  1847  1362  1918   949  2556  1791  765  330  1384  \n",
       "1  333   968  1561  2074  1014  2492  1702  659  570  1241  \n",
       "2  408  1140  1409  2069  1029  2669  1676  661  537  1203  \n",
       "3  449  1281  1538  2014   965  2452  1774  726  411  1182  \n",
       "4  483  1284  1282  1773   909  2159  1714  655  315  1188  "
      ]
     },
     "execution_count": 2,
     "metadata": {},
     "output_type": "execute_result"
    }
   ],
   "source": [
    "df = pd.read_csv('NBA_data.csv')\n",
    "df.head() # prints the first 5 rows of the dataframe "
   ]
  },
  {
   "cell_type": "code",
   "execution_count": 3,
   "metadata": {
    "colab": {
     "base_uri": "https://localhost:8080/",
     "height": 34
    },
    "colab_type": "code",
    "executionInfo": {
     "elapsed": 611,
     "status": "ok",
     "timestamp": 1573686856589,
     "user": {
      "displayName": "Jamal Chu",
      "photoUrl": "",
      "userId": "00597837583331067421"
     },
     "user_tz": 300
    },
    "id": "UP_n-qPFVBFb",
    "outputId": "b8a7df02-def0-439c-ba63-11d44cc6ac3e"
   },
   "outputs": [
    {
     "name": "stdout",
     "output_type": "stream",
     "text": [
      "The data is from 1980 to 2016 and contains a total of 35 seasons\n"
     ]
    }
   ],
   "source": [
    "firstseason = df['SeasonEnd'].min()\n",
    "lastseason = df['SeasonEnd'].max()\n",
    "numberofseasons= len(set(df['SeasonEnd'])) #set(column) converts the column into a set of distinct values. len(x) returns the length of x (how many elements in x)\n",
    "\n",
    "print(f\"The data is from {firstseason} to {lastseason} and contains a total of {numberofseasons} seasons\")"
   ]
  },
  {
   "cell_type": "markdown",
   "metadata": {
    "colab_type": "text",
    "id": "3NH_2WfKV7Bi"
   },
   "source": [
    "There were 37 years between 1980 and 2016 (inclusive) but only 35 seasons of data. What are the missing two seasons?"
   ]
  },
  {
   "cell_type": "code",
   "execution_count": 4,
   "metadata": {
    "colab": {
     "base_uri": "https://localhost:8080/",
     "height": 50
    },
    "colab_type": "code",
    "executionInfo": {
     "elapsed": 628,
     "status": "ok",
     "timestamp": 1573687038134,
     "user": {
      "displayName": "Jamal Chu",
      "photoUrl": "",
      "userId": "00597837583331067421"
     },
     "user_tz": 300
    },
    "id": "Rgrk_2sPVy8k",
    "outputId": "c2fd5183-ba94-43eb-92b3-a7e82bc3f8e1"
   },
   "outputs": [
    {
     "name": "stdout",
     "output_type": "stream",
     "text": [
      "1999\n",
      "2012\n"
     ]
    }
   ],
   "source": [
    "for i in range(1980,2017):#range is inclusive on the startpoint and exclusive on the endpoint\n",
    "  if  (df['SeasonEnd']==i).sum() == 0: #if the amount of elements in df['SeasonEnd'] that equal year i are 0 then print year i\n",
    "      print(i)"
   ]
  },
  {
   "cell_type": "markdown",
   "metadata": {
    "colab_type": "text",
    "id": "3TNswo5fXrkW"
   },
   "source": [
    "The shortened lockout seasons of 1999 and 2012 have been removed."
   ]
  },
  {
   "cell_type": "markdown",
   "metadata": {
    "colab_type": "text",
    "id": "bl-778RNS9sK"
   },
   "source": [
    "The table below contains the data dictionary.\n",
    "\n",
    "\n",
    "|Feature         |Definition                               |\n",
    "|:--------------:|:----------------------------------------|\n",
    "|SeasonEnd       |Year of season end                       |\n",
    "|Team            |Full team name                           |    \n",
    "|W               |Number of wins                           |\n",
    "|PTS             |Total points scored                      |  \n",
    "|oppPTS          |Total points scored by opponents         |\n",
    "|FG              |Field goals made (2P + 3P)               |\n",
    "|FGA             |Field goals attempted                    |\n",
    "|x2P             |2-point field goals made                 |\n",
    "|x2PA            |2-point field goals attempted            |\n",
    "|x3P             |3-point field goals made                 |\n",
    "|x3PA            |3-point field goals attempted            |\n",
    "|FT              |Free throws made                         |\n",
    "|FTA             |Free throws attempted                    |\n",
    "|ORB             |Offensive rebounds                       |\n",
    "|DRB             |Defensive rebounds                       | \n",
    "|AST             |Assists                                  |\n",
    "|STL             |Steals                                   |\n",
    "|BLK             |Blocks                                   |\n",
    "|TOV             |Turnovers                                |\n",
    "\n",
    "\n",
    "\n",
    "\n",
    "Before the model fitting process, it is important to conduct some exploratory analysis to familiarize ourselves with the data. One quick way to visualize the data is with a histogram, which you can do as follows: "
   ]
  },
  {
   "cell_type": "code",
   "execution_count": 5,
   "metadata": {
    "colab": {
     "base_uri": "https://localhost:8080/",
     "height": 282
    },
    "colab_type": "code",
    "executionInfo": {
     "elapsed": 624,
     "status": "ok",
     "timestamp": 1573687312483,
     "user": {
      "displayName": "Jamal Chu",
      "photoUrl": "",
      "userId": "00597837583331067421"
     },
     "user_tz": 300
    },
    "id": "t1qMmZcmS9sL",
    "outputId": "4897ddcf-e587-4eb0-9b46-54f4f8b7bac1"
   },
   "outputs": [
    {
     "data": {
      "image/png": "[encoded data removed]",
      "text/plain": [
       "<Figure size 432x288 with 1 Axes>"
      ]
     },
     "metadata": {
      "needs_background": "light"
     },
     "output_type": "display_data"
    }
   ],
   "source": [
    "numBins = 20\n",
    "plt.figure()\n",
    "df['W'].plot(kind='hist',bins=numBins)\n",
    "plt.xlabel('Wins')\n",
    "plt.ylabel(\"Frequency\")\n",
    "plt.show()\n"
   ]
  },
  {
   "cell_type": "markdown",
   "metadata": {
    "colab_type": "text",
    "id": "-p31kVulS9sN"
   },
   "source": [
    "Use the dataframe ```df``` to answer the following questions: "
   ]
  },
  {
   "cell_type": "code",
   "execution_count": 6,
   "metadata": {
    "colab": {
     "base_uri": "https://localhost:8080/",
     "height": 34
    },
    "colab_type": "code",
    "executionInfo": {
     "elapsed": 583,
     "status": "ok",
     "timestamp": 1573687502738,
     "user": {
      "displayName": "Jamal Chu",
      "photoUrl": "",
      "userId": "00597837583331067421"
     },
     "user_tz": 300
    },
    "id": "K0ZOL4dmE4mc",
    "outputId": "fe6c8c20-874d-45b9-9784-45c3ef083152"
   },
   "outputs": [
    {
     "data": {
      "text/plain": [
       "0"
      ]
     },
     "execution_count": 6,
     "metadata": {},
     "output_type": "execute_result"
    }
   ],
   "source": [
    "df.isnull().values.sum()"
   ]
  },
  {
   "cell_type": "markdown",
   "metadata": {
    "colab_type": "text",
    "id": "-5_vF-9jS9sN"
   },
   "source": [
    " 1. Does the dataset contain missing values? How many are missing in total? (Hint: Use the ```isnull().values``` method on the ```df``` dataframe.)"
   ]
  },
  {
   "cell_type": "code",
   "execution_count": 11,
   "metadata": {
    "colab": {
     "base_uri": "https://localhost:8080/",
     "height": 34
    },
    "colab_type": "code",
    "executionInfo": {
     "elapsed": 708,
     "status": "ok",
     "timestamp": 1573687408940,
     "user": {
      "displayName": "Jamal Chu",
      "photoUrl": "",
      "userId": "00597837583331067421"
     },
     "user_tz": 300
    },
    "id": "OuXxihh_S9sO",
    "outputId": "0457ead6-21e1-4802-e93c-16ea7e2346d2"
   },
   "outputs": [
    {
     "name": "stdout",
     "output_type": "stream",
     "text": [
      "There are      SeasonEnd   Team      W    PTS  oppPTS     FG    FGA     2P    2PA  \\\n",
      "0        False  False  False  False   False  False  False  False  False   \n",
      "1        False  False  False  False   False  False  False  False  False   \n",
      "2        False  False  False  False   False  False  False  False  False   \n",
      "3        False  False  False  False   False  False  False  False  False   \n",
      "4        False  False  False  False   False  False  False  False  False   \n",
      "..         ...    ...    ...    ...     ...    ...    ...    ...    ...   \n",
      "950      False  False  False  False   False  False  False  False  False   \n",
      "951      False  False  False  False   False  False  False  False  False   \n",
      "952      False  False  False  False   False  False  False  False  False   \n",
      "953      False  False  False  False   False  False  False  False  False   \n",
      "954      False  False  False  False   False  False  False  False  False   \n",
      "\n",
      "        3P    3PA     FT    FTA    ORB    DRB    AST    STL    BLK    TOV  \n",
      "0    False  False  False  False  False  False  False  False  False  False  \n",
      "1    False  False  False  False  False  False  False  False  False  False  \n",
      "2    False  False  False  False  False  False  False  False  False  False  \n",
      "3    False  False  False  False  False  False  False  False  False  False  \n",
      "4    False  False  False  False  False  False  False  False  False  False  \n",
      "..     ...    ...    ...    ...    ...    ...    ...    ...    ...    ...  \n",
      "950  False  False  False  False  False  False  False  False  False  False  \n",
      "951  False  False  False  False  False  False  False  False  False  False  \n",
      "952  False  False  False  False  False  False  False  False  False  False  \n",
      "953  False  False  False  False  False  False  False  False  False  False  \n",
      "954  False  False  False  False  False  False  False  False  False  False  \n",
      "\n",
      "[955 rows x 19 columns] total missing entries\n"
     ]
    }
   ],
   "source": [
    "# Write the code here. Create the variables totalMissing, \n",
    "# and print it to the terminal\n",
    "\n",
    "# -------------------\n",
    "\n",
    "\n",
    "# -------------------\n",
    "totalMissing = df.isnull()\n",
    "\n",
    "print('There are {} total missing entries'.format(totalMissing))\n"
   ]
  },
  {
   "cell_type": "markdown",
   "metadata": {
    "colab_type": "text",
    "id": "ren9vNt9S9sQ"
   },
   "source": [
    " 2. What is the average number of wins? "
   ]
  },
  {
   "cell_type": "code",
   "execution_count": 28,
   "metadata": {
    "colab": {
     "base_uri": "https://localhost:8080/",
     "height": 34
    },
    "colab_type": "code",
    "executionInfo": {
     "elapsed": 638,
     "status": "ok",
     "timestamp": 1573687537249,
     "user": {
      "displayName": "Jamal Chu",
      "photoUrl": "",
      "userId": "00597837583331067421"
     },
     "user_tz": 300
    },
    "id": "hzO8RHWLS9sR",
    "outputId": "06432338-a41a-4169-ae32-caa5bed1854c"
   },
   "outputs": [
    {
     "name": "stdout",
     "output_type": "stream",
     "text": [
      "The average number of wins is 40.998952879581154\n"
     ]
    }
   ],
   "source": [
    "# Write the code here. Create the variables meanWins, \n",
    "# and print it to the terminal\n",
    "\n",
    "# Code between the dashed lines\n",
    "# -------------------\n",
    "\n",
    "\n",
    "# -------------------\n",
    "\n",
    "print('The average number of wins is {}'.format(meanWins))"
   ]
  },
  {
   "cell_type": "markdown",
   "metadata": {
    "colab_type": "text",
    "id": "obcIUbfiS9sT"
   },
   "source": [
    " 3. Each team is scheduled to play 82 games, so you should expect the average number of wins to be 41. Have any games ever been canceled? If so, how many were canceled, and in it what seasons? Keep in mind that teams have always played 82 games a season, but the number of teams increased between 1980 and 2016."
   ]
  },
  {
   "cell_type": "code",
   "execution_count": 7,
   "metadata": {
    "colab": {
     "base_uri": "https://localhost:8080/",
     "height": 34
    },
    "colab_type": "code",
    "executionInfo": {
     "elapsed": 559,
     "status": "ok",
     "timestamp": 1573687892389,
     "user": {
      "displayName": "Jamal Chu",
      "photoUrl": "",
      "userId": "00597837583331067421"
     },
     "user_tz": 300
    },
    "id": "gljBBnRHS9sU",
    "outputId": "95815e25-1b1f-4c06-d0d4-39c68b9757b2"
   },
   "outputs": [
    {
     "name": "stdout",
     "output_type": "stream",
     "text": [
      "1 game was canceled in the 2013 season.\n"
     ]
    }
   ],
   "source": [
    "# Write the code here. For each season create the variables gamesPlayed, \n",
    "# totalTeams, and canceledGames. Then if a game is canceled, print \n",
    "# the season and canceledGames to the terminal \n",
    "\n",
    "seasonSet = set(df['SeasonEnd'])\n",
    "for season in seasonSet:\n",
    "    \n",
    "    gamesPlayed = df['W'][df['SeasonEnd']==season].sum()\n",
    "\n",
    "    # -------------------\n",
    "\n",
    "\n",
    "    # -------------------\n",
    "    if canceledGames == 1:\n",
    "        print('1 game was canceled in the {} season.'.format(season))\n",
    "    elif canceledGames > 1:\n",
    "        print('{} games were  canceled in the {} season.'.format(canceledGames, season))\n",
    "\n",
    "# A. This is a neat result. We were able to track down why the data didn't fit our expectations."
   ]
  },
  {
   "cell_type": "markdown",
   "metadata": {
    "colab_type": "text",
    "id": "vrnc3TZSS9sY"
   },
   "source": [
    "4. Create a new feature in ```df``` defined as the difference between PTS and oppPTS. Call it ```diffPTS```."
   ]
  },
  {
   "cell_type": "code",
   "execution_count": 36,
   "metadata": {
    "colab": {
     "base_uri": "https://localhost:8080/",
     "height": 195
    },
    "colab_type": "code",
    "executionInfo": {
     "elapsed": 667,
     "status": "ok",
     "timestamp": 1573688008902,
     "user": {
      "displayName": "Jamal Chu",
      "photoUrl": "",
      "userId": "00597837583331067421"
     },
     "user_tz": 300
    },
    "id": "SiYFAAPmS9sY",
    "outputId": "4916a1d9-89ea-4ebf-f45b-af3496a1a315"
   },
   "outputs": [
    {
     "data": {
      "text/html": [
       "<div>\n",
       "<style scoped>\n",
       "    .dataframe tbody tr th:only-of-type {\n",
       "        vertical-align: middle;\n",
       "    }\n",
       "\n",
       "    .dataframe tbody tr th {\n",
       "        vertical-align: top;\n",
       "    }\n",
       "\n",
       "    .dataframe thead th {\n",
       "        text-align: right;\n",
       "    }\n",
       "</style>\n",
       "<table border=\"1\" class=\"dataframe\">\n",
       "  <thead>\n",
       "    <tr style=\"text-align: right;\">\n",
       "      <th></th>\n",
       "      <th>SeasonEnd</th>\n",
       "      <th>Team</th>\n",
       "      <th>W</th>\n",
       "      <th>PTS</th>\n",
       "      <th>oppPTS</th>\n",
       "      <th>FG</th>\n",
       "      <th>FGA</th>\n",
       "      <th>2P</th>\n",
       "      <th>2PA</th>\n",
       "      <th>3P</th>\n",
       "      <th>3PA</th>\n",
       "      <th>FT</th>\n",
       "      <th>FTA</th>\n",
       "      <th>ORB</th>\n",
       "      <th>DRB</th>\n",
       "      <th>AST</th>\n",
       "      <th>STL</th>\n",
       "      <th>BLK</th>\n",
       "      <th>TOV</th>\n",
       "      <th>diffPTS</th>\n",
       "    </tr>\n",
       "  </thead>\n",
       "  <tbody>\n",
       "    <tr>\n",
       "      <th>0</th>\n",
       "      <td>2014</td>\n",
       "      <td>Philadelphia 76ers</td>\n",
       "      <td>19</td>\n",
       "      <td>8155</td>\n",
       "      <td>9012</td>\n",
       "      <td>3108</td>\n",
       "      <td>7150</td>\n",
       "      <td>2531</td>\n",
       "      <td>5303</td>\n",
       "      <td>577</td>\n",
       "      <td>1847</td>\n",
       "      <td>1362</td>\n",
       "      <td>1918</td>\n",
       "      <td>949</td>\n",
       "      <td>2556</td>\n",
       "      <td>1791</td>\n",
       "      <td>765</td>\n",
       "      <td>330</td>\n",
       "      <td>1384</td>\n",
       "      <td>-857</td>\n",
       "    </tr>\n",
       "    <tr>\n",
       "      <th>1</th>\n",
       "      <td>2004</td>\n",
       "      <td>Detroit Pistons</td>\n",
       "      <td>54</td>\n",
       "      <td>7388</td>\n",
       "      <td>6909</td>\n",
       "      <td>2747</td>\n",
       "      <td>6314</td>\n",
       "      <td>2414</td>\n",
       "      <td>5346</td>\n",
       "      <td>333</td>\n",
       "      <td>968</td>\n",
       "      <td>1561</td>\n",
       "      <td>2074</td>\n",
       "      <td>1014</td>\n",
       "      <td>2492</td>\n",
       "      <td>1702</td>\n",
       "      <td>659</td>\n",
       "      <td>570</td>\n",
       "      <td>1241</td>\n",
       "      <td>479</td>\n",
       "    </tr>\n",
       "    <tr>\n",
       "      <th>2</th>\n",
       "      <td>2004</td>\n",
       "      <td>San Antonio Spurs</td>\n",
       "      <td>57</td>\n",
       "      <td>7501</td>\n",
       "      <td>6909</td>\n",
       "      <td>2842</td>\n",
       "      <td>6434</td>\n",
       "      <td>2434</td>\n",
       "      <td>5294</td>\n",
       "      <td>408</td>\n",
       "      <td>1140</td>\n",
       "      <td>1409</td>\n",
       "      <td>2069</td>\n",
       "      <td>1029</td>\n",
       "      <td>2669</td>\n",
       "      <td>1676</td>\n",
       "      <td>661</td>\n",
       "      <td>537</td>\n",
       "      <td>1203</td>\n",
       "      <td>592</td>\n",
       "    </tr>\n",
       "    <tr>\n",
       "      <th>3</th>\n",
       "      <td>2004</td>\n",
       "      <td>Indiana Pacers</td>\n",
       "      <td>61</td>\n",
       "      <td>7493</td>\n",
       "      <td>7021</td>\n",
       "      <td>2753</td>\n",
       "      <td>6322</td>\n",
       "      <td>2304</td>\n",
       "      <td>5041</td>\n",
       "      <td>449</td>\n",
       "      <td>1281</td>\n",
       "      <td>1538</td>\n",
       "      <td>2014</td>\n",
       "      <td>965</td>\n",
       "      <td>2452</td>\n",
       "      <td>1774</td>\n",
       "      <td>726</td>\n",
       "      <td>411</td>\n",
       "      <td>1182</td>\n",
       "      <td>472</td>\n",
       "    </tr>\n",
       "    <tr>\n",
       "      <th>4</th>\n",
       "      <td>1997</td>\n",
       "      <td>Cleveland Cavaliers</td>\n",
       "      <td>42</td>\n",
       "      <td>7173</td>\n",
       "      <td>7022</td>\n",
       "      <td>2704</td>\n",
       "      <td>5972</td>\n",
       "      <td>2221</td>\n",
       "      <td>4688</td>\n",
       "      <td>483</td>\n",
       "      <td>1284</td>\n",
       "      <td>1282</td>\n",
       "      <td>1773</td>\n",
       "      <td>909</td>\n",
       "      <td>2159</td>\n",
       "      <td>1714</td>\n",
       "      <td>655</td>\n",
       "      <td>315</td>\n",
       "      <td>1188</td>\n",
       "      <td>151</td>\n",
       "    </tr>\n",
       "  </tbody>\n",
       "</table>\n",
       "</div>"
      ],
      "text/plain": [
       "   SeasonEnd                 Team   W   PTS  ...  STL  BLK   TOV  diffPTS\n",
       "0       2014   Philadelphia 76ers  19  8155  ...  765  330  1384     -857\n",
       "1       2004      Detroit Pistons  54  7388  ...  659  570  1241      479\n",
       "2       2004    San Antonio Spurs  57  7501  ...  661  537  1203      592\n",
       "3       2004       Indiana Pacers  61  7493  ...  726  411  1182      472\n",
       "4       1997  Cleveland Cavaliers  42  7173  ...  655  315  1188      151\n",
       "\n",
       "[5 rows x 20 columns]"
      ]
     },
     "execution_count": 36,
     "metadata": {
      "tags": []
     },
     "output_type": "execute_result"
    }
   ],
   "source": [
    "# Write the code here. Add a column titled 'diffsPTS' to df with\n",
    "# the appropriate values  \n",
    "\n",
    "# -------------------\n",
    "\n",
    "\n",
    "# -------------------\n",
    "\n",
    "df.head()"
   ]
  },
  {
   "cell_type": "markdown",
   "metadata": {
    "colab_type": "text",
    "id": "5o-m4CwsS9sb"
   },
   "source": [
    "5. Create a scatter plot of wins vs ```diffPTS```. Use the ```plot.scatter``` method on ```df``` . What do you see? Don't forget to label your axes. You can get help with this method by running ```help(pd.DataFrame({}).plot.scatter)``` in your terminal or a code block. Your plot should look like this: \n",
    "\n",
    "![title](img/scatterTest.png)\n"
   ]
  },
  {
   "cell_type": "code",
   "execution_count": 37,
   "metadata": {
    "colab": {
     "base_uri": "https://localhost:8080/",
     "height": 279
    },
    "colab_type": "code",
    "executionInfo": {
     "elapsed": 1620,
     "status": "ok",
     "timestamp": 1573688657455,
     "user": {
      "displayName": "Jamal Chu",
      "photoUrl": "",
      "userId": "00597837583331067421"
     },
     "user_tz": 300
    },
    "id": "r3ry_8mgS9sb",
    "outputId": "7a6961a8-d18c-46c1-b3c4-84b5c992575d"
   },
   "outputs": [
    {
     "data": {
      "image/png": "[encoded data removed]",
      "text/plain": [
       "<Figure size 432x288 with 1 Axes>"
      ]
     },
     "metadata": {
      "tags": []
     },
     "output_type": "display_data"
    }
   ],
   "source": [
    "# Write the code here. Comment on what you see.\n",
    "\n",
    "\n",
    "# -------------------\n",
    "\n",
    "    \n",
    "    \n",
    "    \n",
    "    \n",
    "    \n",
    "    \n",
    "\n",
    "# -------------------\n",
    "\n"
   ]
  },
  {
   "cell_type": "markdown",
   "metadata": {
    "colab_type": "text",
    "id": "NjGsP3iQS9sd"
   },
   "source": [
    " 6. Use the ```corr()``` method on df to determine the correlation coefficient between each feature and wins. Which feature is most (positively) correlated? Most (negatively) correlated? Most uncorrelated?"
   ]
  },
  {
   "cell_type": "code",
   "execution_count": 8,
   "metadata": {
    "colab": {
     "base_uri": "https://localhost:8080/",
     "height": 50
    },
    "colab_type": "code",
    "executionInfo": {
     "elapsed": 647,
     "status": "ok",
     "timestamp": 1573689187776,
     "user": {
      "displayName": "Jamal Chu",
      "photoUrl": "",
      "userId": "00597837583331067421"
     },
     "user_tz": 300
    },
    "id": "He_Qj74gS9se",
    "outputId": "78197f2f-fd45-4caa-c191-331e96455263"
   },
   "outputs": [
    {
     "name": "stdout",
     "output_type": "stream",
     "text": [
      "DRB had the highest positive correlation with wins and oppPTS had the highest negative correlation.\n",
      "STL had the smallest correlation with wins\n"
     ]
    }
   ],
   "source": [
    "# Write the code here. Generate a vector of correlation coefficents between each feature,\n",
    "# and the number of wins. Then print the names of the features with the highest and the lowest \n",
    "# correlation. \n",
    "\n",
    "# Make sure you drop features used to identify datapoints (e.g., team name and season end)\n",
    "dfNoLabels = df.drop(columns=['Team','SeasonEnd'], axis=1)\n",
    "\n",
    "\n",
    "\n",
    "# -------------------\n",
    "\n",
    "\n",
    "\n",
    "# -------------------\n",
    "\n",
    "print('{} had the highest positive correlation with wins and {} had the highest negative correlation.'.format(maxCorrFeat, maxNegCorrFeat))\n",
    "print('{} had the smallest correlation with wins'.format(smallestCorrFeat))"
   ]
  },
  {
   "cell_type": "markdown",
   "metadata": {
    "colab_type": "text",
    "id": "6StnMSI2S9sg"
   },
   "source": [
    "## Simple linear regression\n",
    "\n",
    "In this section, we will fit a simple linear regression model, i.e., a model with a single feature. The model will use ```diffPTS``` as the only feature to predict the number of wins. We will first approach the problem from an information extraction perspective. See Appendix A for a careful examination of the model assumptions with residual plots. Second, we will take a prediction accuracy approach and train a model using ten-fold cross validation. See Appendix B for more information on cross validation and partitioning the data into training and testing sets.\n",
    "\n",
    "### Part I: Information extraction\n",
    "\n",
    "We must first partition our data into training and testing sets. The training set will include all NBA seasons prior to 2011 and the testing set will include the most recent five seasons. The training set will be used to train our model and the accuracy will be determined on the held out test set. We can partition the data as follows:"
   ]
  },
  {
   "cell_type": "code",
   "execution_count": 0,
   "metadata": {
    "colab": {},
    "colab_type": "code",
    "id": "lHjU_0qcS9sh"
   },
   "outputs": [],
   "source": [
    "dfTrain = df[df.SeasonEnd<2011]\n",
    "dfTest = df[df.SeasonEnd>=2011]"
   ]
  },
  {
   "cell_type": "markdown",
   "metadata": {
    "colab_type": "text",
    "id": "1m-ABjVwS9sj"
   },
   "source": [
    "We can check how many datapoints are in our training and testing set. In general, the training set has more datapoints than the testing set."
   ]
  },
  {
   "cell_type": "code",
   "execution_count": 49,
   "metadata": {
    "colab": {
     "base_uri": "https://localhost:8080/",
     "height": 34
    },
    "colab_type": "code",
    "executionInfo": {
     "elapsed": 1857,
     "status": "ok",
     "timestamp": 1573689318475,
     "user": {
      "displayName": "Jamal Chu",
      "photoUrl": "",
      "userId": "00597837583331067421"
     },
     "user_tz": 300
    },
    "id": "p8Yv9iMaS9sj",
    "outputId": "61135715-5f90-4f23-db1a-6c8ce99b21ea"
   },
   "outputs": [
    {
     "name": "stdout",
     "output_type": "stream",
     "text": [
      "There are 805 rows in the training set and 150 rows in the testing set\n"
     ]
    }
   ],
   "source": [
    "print('There are {} rows in the training set and {} rows in the testing set'.format(dfTrain.shape[0], dfTest.shape[0]))"
   ]
  },
  {
   "cell_type": "markdown",
   "metadata": {
    "colab_type": "text",
    "id": "xLfjzRnKS9sm"
   },
   "source": [
    "Now, use the ```LinearRegression```  function imported in the following code block. Fit the linear regression model using wins as the target and ```diffPTS``` as the feature. Store the model as ```mdlSimple```. Use the ```score``` method to calculated the R^2 value of the model, and use the approriate numpy functions to calculate the mean squared error.\n"
   ]
  },
  {
   "cell_type": "code",
   "execution_count": 50,
   "metadata": {
    "colab": {
     "base_uri": "https://localhost:8080/",
     "height": 34
    },
    "colab_type": "code",
    "executionInfo": {
     "elapsed": 1631,
     "status": "ok",
     "timestamp": 1573689571031,
     "user": {
      "displayName": "Jamal Chu",
      "photoUrl": "",
      "userId": "00597837583331067421"
     },
     "user_tz": 300
    },
    "id": "KEUUOEAdS9sn",
    "outputId": "0fa93049-6dc5-4e70-a89d-323350778f3c"
   },
   "outputs": [
    {
     "name": "stdout",
     "output_type": "stream",
     "text": [
      "The RSquared value is 0.9422309310936211 and the MSE is 9.354139868085305.\n"
     ]
    }
   ],
   "source": [
    "from sklearn.linear_model import LinearRegression\n",
    "# Parition training data\n",
    "xTrain = dfTrain[['diffPTS']]\n",
    "yTrain = dfTrain['W']\n",
    "\n",
    "# Train model\n",
    "mdlSimple = LinearRegression()\n",
    "mdlSimple.fit(xTrain, yTrain)\n",
    "\n",
    "# Predict the target with the training data\n",
    "trainPred = mdlSimple.predict(xTrain)\n",
    "\n",
    "# Evaluate model on target feature in training set\n",
    "# Use the score method to calculate R^2\n",
    "RSquared = mdlSimple.score(xTrain,yTrain) \n",
    "\n",
    "# Use the numpy functions method to calculate mse\n",
    "error = trainPred - yTrain\n",
    "mse = np.mean((error)**2)\n",
    "\n",
    "print('The RSquared value is {} and the MSE is {}.'.format(RSquared,mse))"
   ]
  },
  {
   "cell_type": "markdown",
   "metadata": {
    "colab_type": "text",
    "id": "thR_xfnxS9ss"
   },
   "source": [
    "In some cases, it is best to write a function to evaluate metrics. For example, in linear regression we often need to know the $p$-value of the coefficent, which are calculated with several steps that are outlined [here](https://stattrek.com/regression/slope-test.aspx). Since these steps are always the same we should write a function to return the p-values for a generic model ```mdl```, set of ```xValues```, and set of ```yValues```. We can write the function as follows:"
   ]
  },
  {
   "cell_type": "code",
   "execution_count": 53,
   "metadata": {
    "colab": {
     "base_uri": "https://localhost:8080/",
     "height": 67
    },
    "colab_type": "code",
    "executionInfo": {
     "elapsed": 608,
     "status": "ok",
     "timestamp": 1573689794394,
     "user": {
      "displayName": "Jamal Chu",
      "photoUrl": "",
      "userId": "00597837583331067421"
     },
     "user_tz": 300
    },
    "id": "tRiy6aqUS9st",
    "outputId": "26e7bd76-7d98-4a09-cf25-f9ca7d01a10c"
   },
   "outputs": [
    {
     "name": "stdout",
     "output_type": "stream",
     "text": [
      "The p-values for coefficent:\n",
      "\tIntercept is 0.0\n",
      "\tdiffPTS is 0.0\n"
     ]
    }
   ],
   "source": [
    "from scipy import stats\n",
    "from sklearn import metrics\n",
    "from sklearn.metrics import mean_squared_error as mse_fun\n",
    "\n",
    "def p_value_calc(mdl, xValues, yValues,printValues = 1):\n",
    "    # The following function calculated the p values of each coeffcient \n",
    "    # from a trained model. \n",
    "    \n",
    "    # get model parameters and prediction\n",
    "    yPred = mdl.predict(xValues)\n",
    "    params = np.append(mdl.intercept_,mdl.coef_)\n",
    "    \n",
    "    # Calculate the MSE using built in function\n",
    "    MSE = mse_fun(y_pred=yPred,y_true=yValues)\n",
    "    \n",
    "    # Clear features (xValues) and join it to vector of ones (i.e., y-intercept feature)\n",
    "    xValues = xValues.reset_index(drop=True)\n",
    "    interceptOnes = pd.DataFrame({\"Intercept\":np.ones(len(xValues))})\n",
    "    newX = interceptOnes.join(xValues)\n",
    "   \n",
    "    # Calculate variance and standard deviation of the regression coefficents\n",
    "    var_b = MSE*(np.linalg.inv(np.dot(newX.T,newX)).diagonal())\n",
    "    sd_b = np.sqrt(var_b)\n",
    "    \n",
    "    # Calculate p values using the t-test\n",
    "    tScores = params / sd_b\n",
    "    degreesOfFreedom = len(xValues)-2\n",
    "    pValues =[2*(1-stats.t.cdf(np.abs(tScore),degreesOfFreedom)) for tScore in tScores]\n",
    "    \n",
    "    # Print out the p values\n",
    "    if printValues:\n",
    "        print('The p-values for coefficent:')\n",
    "        for idx, featName in enumerate(newX.columns):\n",
    "            pVal = pValues[idx] \n",
    "            print('\\t{} is {}'.format(featName,pVal))\n",
    "        return\n",
    "    # Alternatively, return p values as a dataframe with indicies that correspond to feature names\n",
    "    else:\n",
    "        pValues = pd.DataFrame({\"pValue\" : pValues},index=newX.columns)\n",
    "        return pValues\n",
    "\n",
    "# We can now use this funciton to evaluate pValues in any code blocks\n",
    "# after this one. An example is:\n",
    "p_value_calc(mdlSimple, xTrain, yTrain,printValues=1)"
   ]
  },
  {
   "cell_type": "markdown",
   "metadata": {
    "colab_type": "text",
    "id": "LrohGR20S9sv"
   },
   "source": [
    "Since we will also peridocially evaluate the MSE and the R$^2$ value of the models throught this lab, it is a good idea to write the evaluation as a function. "
   ]
  },
  {
   "cell_type": "code",
   "execution_count": 54,
   "metadata": {
    "colab": {
     "base_uri": "https://localhost:8080/",
     "height": 50
    },
    "colab_type": "code",
    "executionInfo": {
     "elapsed": 701,
     "status": "ok",
     "timestamp": 1573689972364,
     "user": {
      "displayName": "Jamal Chu",
      "photoUrl": "",
      "userId": "00597837583331067421"
     },
     "user_tz": 300
    },
    "id": "ymZi0UsjS9sw",
    "outputId": "3abf3ac6-2123-42cc-ed71-976db6e23d0d"
   },
   "outputs": [
    {
     "name": "stdout",
     "output_type": "stream",
     "text": [
      "The RSquared value is 0.9422309310936211 \n",
      "The MSE is 9.354139868085305 \n"
     ]
    }
   ],
   "source": [
    "# Complete this function\n",
    "\n",
    "def model_eval(mdl, xValues, yValues, printValues = 1):\n",
    "    # This function will print out the R^2 and MSE to the terminal, or\n",
    "    # return the MSE and R^2 values\n",
    "   \n",
    "    # -------------------\n",
    "    \n",
    "\n",
    "    # -------------------\n",
    "\n",
    "    if printValues:\n",
    "        print('The RSquared value is {} '.format(RSquared))\n",
    "        print('The MSE is {} '.format(mse))\n",
    "        return\n",
    "    # Alternatively, return R^2 and MSE\n",
    "    else:\n",
    "        return RSquared, mse\n",
    "\n",
    "\n",
    "\n",
    "\n",
    "\n",
    "\n",
    "\n",
    "\n",
    "\n",
    "\n",
    "\n",
    "    \n",
    "    # -------------------\n",
    "\n",
    "# As a sample, the below function should print of the MSE and RSquared value.\n",
    "model_eval(mdlSimple, xTrain, yTrain, printValues = 1)"
   ]
  },
  {
   "cell_type": "markdown",
   "metadata": {
    "colab_type": "text",
    "id": "8oUqrq4wS9sx"
   },
   "source": [
    "Use the ```model_eval``` function that you just completed to obtain the prediction accuracy and $R^2$ on the testing set:"
   ]
  },
  {
   "cell_type": "code",
   "execution_count": 55,
   "metadata": {
    "colab": {
     "base_uri": "https://localhost:8080/",
     "height": 50
    },
    "colab_type": "code",
    "executionInfo": {
     "elapsed": 593,
     "status": "ok",
     "timestamp": 1573690024894,
     "user": {
      "displayName": "Jamal Chu",
      "photoUrl": "",
      "userId": "00597837583331067421"
     },
     "user_tz": 300
    },
    "id": "HMc8bUgZS9sy",
    "outputId": "c6ff2d2d-362d-4a64-dba6-30474151bdcb"
   },
   "outputs": [
    {
     "name": "stdout",
     "output_type": "stream",
     "text": [
      "The RSquared value is 0.9479304789786938 \n",
      "The MSE is 8.81536759470621 \n"
     ]
    }
   ],
   "source": [
    "# Partition testing data\n",
    "xTest = dfTest[['diffPTS']]\n",
    "yTest = dfTest.W\n",
    "\n",
    "# Predict target features for held out test set\n",
    "model_eval(mdlSimple, xTest, yTest, printValues = 1)\n"
   ]
  },
  {
   "cell_type": "markdown",
   "metadata": {
    "colab_type": "text",
    "id": "bYLXbM6WS9s3"
   },
   "source": [
    "Remember that the accuracy of our interpretations depend on whether or not the model assumptions are satisfied. Appendix A provides instructions and code for checking each model assumption. Answer the following questions:"
   ]
  },
  {
   "cell_type": "markdown",
   "metadata": {
    "colab_type": "text",
    "id": "C7gnAbOhS9s5"
   },
   "source": [
    " 1. Which regression coefficients are statistically significant at $p < 0.05$? What are their values?"
   ]
  },
  {
   "cell_type": "code",
   "execution_count": 0,
   "metadata": {
    "colab": {
     "base_uri": "https://localhost:8080/",
     "height": 102
    },
    "colab_type": "code",
    "executionInfo": {
     "elapsed": 305,
     "status": "ok",
     "timestamp": 1572199822223,
     "user": {
      "displayName": "Jamal Chu",
      "photoUrl": "",
      "userId": "00597837583331067421"
     },
     "user_tz": 240
    },
    "id": "cBSH71L9S9s5",
    "outputId": "4b6cb977-c18c-4dd2-8e1b-2c99c9be5f6c"
   },
   "outputs": [
    {
     "name": "stdout",
     "output_type": "stream",
     "text": [
      "The p-values for coefficent:\n",
      "\tIntercept is 0.0\n",
      "\tdiffPTS is 0.0\n",
      "diffPTS coefficient is 0.03256772791728775\n",
      "Intercept is 41.0\n"
     ]
    }
   ],
   "source": [
    "p_value_calc(mdlSimple, xTrain, yTrain,printValues=1)\n",
    "print(\"diffPTS coefficient is {}\".format(mdlSimple.coef_[0]))\n",
    "print(\"Intercept is {}\".format(mdlSimple.intercept_))"
   ]
  },
  {
   "cell_type": "markdown",
   "metadata": {
    "colab_type": "text",
    "id": "-oTy56wfS9s8"
   },
   "source": [
    "Intercept and point differential: p=0\n"
   ]
  },
  {
   "cell_type": "markdown",
   "metadata": {
    "colab_type": "text",
    "id": "d36LrMmOS9s8"
   },
   "source": [
    " 2. By how much does a team need to increase their point differential to produce an additional win?"
   ]
  },
  {
   "cell_type": "code",
   "execution_count": 0,
   "metadata": {
    "colab": {
     "base_uri": "https://localhost:8080/",
     "height": 34
    },
    "colab_type": "code",
    "executionInfo": {
     "elapsed": 293,
     "status": "ok",
     "timestamp": 1572199914879,
     "user": {
      "displayName": "Jamal Chu",
      "photoUrl": "",
      "userId": "00597837583331067421"
     },
     "user_tz": 240
    },
    "id": "1f7ZsdyBS9s9",
    "outputId": "46a726ec-12d8-467b-8338-2268cac7f530"
   },
   "outputs": [
    {
     "name": "stdout",
     "output_type": "stream",
     "text": [
      "A team needs to increase their point differential by 31.0 points\n"
     ]
    }
   ],
   "source": [
    "# Write the code here. Comment on what you see.\n",
    "# -------------------\n",
    "\n",
    "\n",
    "# -------------------\n",
    "print('A team needs to increase their point differential by {} points'.format(pointdiff))\n",
    "\n",
    "\n"
   ]
  },
  {
   "cell_type": "markdown",
   "metadata": {
    "colab_type": "text",
    "id": "YKZzLiOuS9s_"
   },
   "source": [
    " 3. Suppose you manage the Toronto Raptors and your point differential from last year was 480. Assuming you will have a similar point differential this year, how many games do you expect to win?"
   ]
  },
  {
   "cell_type": "code",
   "execution_count": 10,
   "metadata": {
    "colab": {
     "base_uri": "https://localhost:8080/",
     "height": 51
    },
    "colab_type": "code",
    "collapsed": true,
    "executionInfo": {
     "elapsed": 337,
     "status": "ok",
     "timestamp": 1572199984331,
     "user": {
      "displayName": "Jamal Chu",
      "photoUrl": "",
      "userId": "00597837583331067421"
     },
     "user_tz": 240
    },
    "id": "MYJDfX3YS9tA",
    "outputId": "68b69661-b9c8-41a2-ddcf-697666be21f6"
   },
   "outputs": [
    {
     "ename": "NameError",
     "evalue": "name 'method' is not defined",
     "output_type": "error",
     "traceback": [
      "\u001b[1;31m---------------------------------------------------------------------------\u001b[0m",
      "\u001b[1;31mNameError\u001b[0m                                 Traceback (most recent call last)",
      "\u001b[1;32m<ipython-input-10-8ae6b64cfc83>\u001b[0m in \u001b[0;36m<module>\u001b[1;34m\u001b[0m\n\u001b[0;32m      5\u001b[0m \u001b[1;31m# -------------------\u001b[0m\u001b[1;33m\u001b[0m\u001b[1;33m\u001b[0m\u001b[1;33m\u001b[0m\u001b[0m\n\u001b[0;32m      6\u001b[0m \u001b[1;33m\u001b[0m\u001b[0m\n\u001b[1;32m----> 7\u001b[1;33m \u001b[0mprint\u001b[0m\u001b[1;33m(\u001b[0m\u001b[1;34m\"Using the predict method, we expect the Toronto Raptors will win {} games.\"\u001b[0m\u001b[1;33m.\u001b[0m\u001b[0mformat\u001b[0m\u001b[1;33m(\u001b[0m\u001b[0mnp\u001b[0m\u001b[1;33m.\u001b[0m\u001b[0mround\u001b[0m\u001b[1;33m(\u001b[0m\u001b[0mmethod\u001b[0m\u001b[1;33m[\u001b[0m\u001b[1;36m0\u001b[0m\u001b[1;33m]\u001b[0m\u001b[1;33m)\u001b[0m\u001b[1;33m)\u001b[0m\u001b[1;33m)\u001b[0m\u001b[1;33m\u001b[0m\u001b[1;33m\u001b[0m\u001b[0m\n\u001b[0m\u001b[0;32m      8\u001b[0m \u001b[0mprint\u001b[0m\u001b[1;33m(\u001b[0m\u001b[1;34m\"Using the coefficents and intercept, we expect the Toronto Raptors will win {} games.\"\u001b[0m\u001b[1;33m.\u001b[0m\u001b[0mformat\u001b[0m\u001b[1;33m(\u001b[0m\u001b[0mnp\u001b[0m\u001b[1;33m.\u001b[0m\u001b[0mround\u001b[0m\u001b[1;33m(\u001b[0m\u001b[0mmanual\u001b[0m\u001b[1;33m[\u001b[0m\u001b[1;36m0\u001b[0m\u001b[1;33m]\u001b[0m\u001b[1;33m)\u001b[0m\u001b[1;33m)\u001b[0m\u001b[1;33m)\u001b[0m\u001b[1;33m\u001b[0m\u001b[1;33m\u001b[0m\u001b[0m\n\u001b[0;32m      9\u001b[0m \u001b[1;33m\u001b[0m\u001b[0m\n",
      "\u001b[1;31mNameError\u001b[0m: name 'method' is not defined"
     ]
    }
   ],
   "source": [
    "# Write the code here. Comment on what you see.\n",
    "# -------------------\n",
    "\n",
    "\n",
    "# -------------------\n",
    "\n",
    "print(\"Using the predict method, we expect the Toronto Raptors will win {} games.\".format(np.round(method[0])))\n",
    "print(\"Using the coefficents and intercept, we expect the Toronto Raptors will win {} games.\".format(np.round(manual[0])))\n",
    "\n",
    "\n",
    "\n"
   ]
  },
  {
   "cell_type": "markdown",
   "metadata": {
    "colab_type": "text",
    "id": "I45qRTDgS9tC"
   },
   "source": [
    "### Prediction accuracy\n",
    "To assess the prediction accuracy of our model, it is imperative that we test the model on observations that were not used to train the model. One way to do this is to partition the data into training and testing sets like we did above. However, a more rigorous approach is to use 10-fold cross validation. 10-fold cross validation partitions the data into ten equally sized sets. One of the sets is then used as a _testing set_ while the other nine are used as a _training set_. This process is repeated ten times (i.e., until each of the 10 sets has served as the _testing set_). More information can be found in Appendix B. Cross validation can be initialized as follows:"
   ]
  },
  {
   "cell_type": "code",
   "execution_count": 0,
   "metadata": {
    "colab": {},
    "colab_type": "code",
    "id": "sMuE2vaYS9tD"
   },
   "outputs": [],
   "source": [
    "from sklearn.model_selection import KFold\n",
    "\n",
    "# Get all x features and their corresponding y_hat targets for all data points\n",
    "xAll = np.array(df[['diffPTS']])\n",
    "yAll = np.array(df.W)\n",
    "\n",
    "# KFold function will split the data\n",
    "# setting the random_state to an integer ensures the same splits are made every time\n",
    "kf = KFold(n_splits = 10,random_state=2,shuffle=True)"
   ]
  },
  {
   "cell_type": "markdown",
   "metadata": {
    "colab_type": "text",
    "id": "3XyyjGVuS9tE"
   },
   "source": [
    "In general, random seeds or random states should be set in your code, so that any related results can be replicated. The command \\texttt{disp(c)} displays summary information about the cross validation instance. The following code block can be used to run a 10-fold cross validation. However, you must first insert the ```LinearRegression``` function and the ```predict``` method as you did above."
   ]
  },
  {
   "cell_type": "code",
   "execution_count": 0,
   "metadata": {
    "colab": {},
    "colab_type": "code",
    "id": "cPlwfeLwS9tF"
   },
   "outputs": [],
   "source": [
    "# Complete this code block\n",
    "# Initialize KFold lists\n",
    "RSquared = [0] * 10 \n",
    "MSE = [0] * 10\n",
    "\n",
    "\n",
    "for idx, [train_index, test_index] in enumerate(kf.split(xAll)):\n",
    "    # Parition data for each loop \n",
    "    xTrain = xAll[train_index]\n",
    "    yTrain = yAll[train_index]\n",
    "    xTest = xAll[test_index]\n",
    "    yTest = yAll[test_index]\n",
    "    # Train model\n",
    "    mdlSimple = LinearRegression()\n",
    "    mdlSimple.fit(xTrain,yTrain)\n",
    "\n",
    "    # Write the code here.\n",
    "    # Compute the MSE and R-Squared value for each fold\n",
    "    \n",
    "    # -------------------\n",
    "    \n",
    "\n",
    "    \n",
    "    \n",
    "    # -------------------"
   ]
  },
  {
   "cell_type": "markdown",
   "metadata": {
    "colab_type": "text",
    "id": "AiivQtJNS9tI"
   },
   "source": [
    "The R$^2$ and mean squared error values for each fold are stored in RSquared and MSE, respectively. Complete the following excercises:"
   ]
  },
  {
   "cell_type": "markdown",
   "metadata": {
    "colab_type": "text",
    "id": "d8luEvUMS9tJ"
   },
   "source": [
    " 1. How many observations are in each test set?"
   ]
  },
  {
   "cell_type": "code",
   "execution_count": 0,
   "metadata": {
    "colab": {
     "base_uri": "https://localhost:8080/",
     "height": 187
    },
    "colab_type": "code",
    "executionInfo": {
     "elapsed": 283,
     "status": "ok",
     "timestamp": 1572200016276,
     "user": {
      "displayName": "Jamal Chu",
      "photoUrl": "",
      "userId": "00597837583331067421"
     },
     "user_tz": 240
    },
    "id": "sxhH1MwAS9tJ",
    "outputId": "a5cdaad0-d720-4e8e-89f1-f6eb5cc77f04"
   },
   "outputs": [
    {
     "name": "stdout",
     "output_type": "stream",
     "text": [
      "In fold 0 there are 96 observations.\n",
      "In fold 1 there are 96 observations.\n",
      "In fold 2 there are 96 observations.\n",
      "In fold 3 there are 96 observations.\n",
      "In fold 4 there are 96 observations.\n",
      "In fold 5 there are 95 observations.\n",
      "In fold 6 there are 95 observations.\n",
      "In fold 7 there are 95 observations.\n",
      "In fold 8 there are 95 observations.\n",
      "In fold 9 there are 95 observations.\n"
     ]
    }
   ],
   "source": [
    "# Write the code here. Print out the number of observations \n",
    "# from each fold of the cross validation to the terminal. \n",
    "\n",
    "# -------------------\n",
    "\n",
    "\n",
    "    \n",
    "# -------------------\n"
   ]
  },
  {
   "cell_type": "markdown",
   "metadata": {
    "colab_type": "text",
    "id": "itId2Q_LS9tM"
   },
   "source": [
    " 2. What is the average mean squared error across the 10 folds? What is the average R$^2$ value?\n"
   ]
  },
  {
   "cell_type": "code",
   "execution_count": 0,
   "metadata": {
    "colab": {
     "base_uri": "https://localhost:8080/",
     "height": 68
    },
    "colab_type": "code",
    "executionInfo": {
     "elapsed": 249,
     "status": "ok",
     "timestamp": 1572200027136,
     "user": {
      "displayName": "Jamal Chu",
      "photoUrl": "",
      "userId": "00597837583331067421"
     },
     "user_tz": 240
    },
    "id": "MVLNaQi0S9tN",
    "outputId": "ec7a074e-3f3b-4e3e-8a5d-07b152efde36"
   },
   "outputs": [
    {
     "name": "stdout",
     "output_type": "stream",
     "text": [
      "Across the ten folds:\n",
      " the average MSE is 9.298011112298877\n",
      " the average R-squared is 0.9412487874517783.\n"
     ]
    }
   ],
   "source": [
    "# Write the code here. Print out the avgMSE and avgRSquared value. \n",
    "\n",
    "# -------------------\n",
    "\n",
    "\n",
    "\n",
    "\n",
    "\n",
    "# -------------------\n",
    "\n",
    "print('Across the ten folds:\\n the average MSE is {}\\n the average R-squared is {}.'.format(avgMSE,avgRSquared))"
   ]
  },
  {
   "cell_type": "markdown",
   "metadata": {
    "colab_type": "text",
    "id": "iIkzB_o9S9tZ"
   },
   "source": [
    " 3. Create a figure with two boxplots that display the distribution of mean squared error and r-squared values. Use the function ```plt.boxplot```."
   ]
  },
  {
   "cell_type": "code",
   "execution_count": 0,
   "metadata": {
    "colab": {
     "base_uri": "https://localhost:8080/",
     "height": 336
    },
    "colab_type": "code",
    "executionInfo": {
     "elapsed": 629,
     "status": "ok",
     "timestamp": 1572200049430,
     "user": {
      "displayName": "Jamal Chu",
      "photoUrl": "",
      "userId": "00597837583331067421"
     },
     "user_tz": 240
    },
    "id": "whNHHrVTS9ta",
    "outputId": "6dd4091e-8c8b-4d18-be6c-b801c841b9eb"
   },
   "outputs": [
    {
     "data": {
      "image/png": "[encoded data removed]",
      "text/plain": [
       "<Figure size 720x360 with 2 Axes>"
      ]
     },
     "metadata": {
      "tags": []
     },
     "output_type": "display_data"
    }
   ],
   "source": [
    "# Complete the code block \n",
    "\n",
    "plt.figure(figsize=(10,5))\n",
    "matplotlib.pyplot.subplots_adjust(wspace = 0.5)\n",
    "\n",
    "# First box plot here\n",
    "ax=plt.subplot(121)\n",
    "\n",
    "# Write the code here.  \n",
    "# -------------------\n",
    "\n",
    "\n",
    "\n",
    "\n",
    "\n",
    "\n",
    "\n",
    "# -------------------\n",
    "\n",
    "# Second box plot here\n",
    "ax=plt.subplot(122)\n",
    "# Write the code here.  \n",
    "# -------------------\n",
    "\n",
    "\n",
    "\n",
    "\n",
    "# -------------------\n",
    "plt.show()"
   ]
  },
  {
   "cell_type": "markdown",
   "metadata": {
    "colab_type": "text",
    "id": "bds0S9c3S9tf"
   },
   "source": [
    "## Multiple linear regression\n",
    "In the previous section, we predicted the number of wins using point differential. We were computed ```diffPTS``` a priori because of previous work and domain specific knowledge. However, in many applications, you may not have this level of initial understanding. In this section, we will remove the ```diffPTS``` variable and use multiple linear regression (i.e., multiple features) to show that it is possible to achieve nearly the same level of prediction accuracy without any prior knowledge. Before we begin, remove ```diffPTS``` from ```df``` using the following code:"
   ]
  },
  {
   "cell_type": "code",
   "execution_count": 0,
   "metadata": {
    "colab": {
     "base_uri": "https://localhost:8080/",
     "height": 204
    },
    "colab_type": "code",
    "executionInfo": {
     "elapsed": 337,
     "status": "ok",
     "timestamp": 1572200058401,
     "user": {
      "displayName": "Jamal Chu",
      "photoUrl": "",
      "userId": "00597837583331067421"
     },
     "user_tz": 240
    },
    "id": "wnhwHbleS9tf",
    "outputId": "8087e45f-9591-4053-a10a-2f15f69c6fcc"
   },
   "outputs": [
    {
     "data": {
      "text/html": [
       "<div>\n",
       "<style scoped>\n",
       "    .dataframe tbody tr th:only-of-type {\n",
       "        vertical-align: middle;\n",
       "    }\n",
       "\n",
       "    .dataframe tbody tr th {\n",
       "        vertical-align: top;\n",
       "    }\n",
       "\n",
       "    .dataframe thead th {\n",
       "        text-align: right;\n",
       "    }\n",
       "</style>\n",
       "<table border=\"1\" class=\"dataframe\">\n",
       "  <thead>\n",
       "    <tr style=\"text-align: right;\">\n",
       "      <th></th>\n",
       "      <th>SeasonEnd</th>\n",
       "      <th>Team</th>\n",
       "      <th>W</th>\n",
       "      <th>PTS</th>\n",
       "      <th>oppPTS</th>\n",
       "      <th>FG</th>\n",
       "      <th>FGA</th>\n",
       "      <th>2P</th>\n",
       "      <th>2PA</th>\n",
       "      <th>3P</th>\n",
       "      <th>3PA</th>\n",
       "      <th>FT</th>\n",
       "      <th>FTA</th>\n",
       "      <th>ORB</th>\n",
       "      <th>DRB</th>\n",
       "      <th>AST</th>\n",
       "      <th>STL</th>\n",
       "      <th>BLK</th>\n",
       "      <th>TOV</th>\n",
       "    </tr>\n",
       "  </thead>\n",
       "  <tbody>\n",
       "    <tr>\n",
       "      <th>0</th>\n",
       "      <td>2014</td>\n",
       "      <td>Philadelphia 76ers</td>\n",
       "      <td>19</td>\n",
       "      <td>8155</td>\n",
       "      <td>9012</td>\n",
       "      <td>3108</td>\n",
       "      <td>7150</td>\n",
       "      <td>2531</td>\n",
       "      <td>5303</td>\n",
       "      <td>577</td>\n",
       "      <td>1847</td>\n",
       "      <td>1362</td>\n",
       "      <td>1918</td>\n",
       "      <td>949</td>\n",
       "      <td>2556</td>\n",
       "      <td>1791</td>\n",
       "      <td>765</td>\n",
       "      <td>330</td>\n",
       "      <td>1384</td>\n",
       "    </tr>\n",
       "    <tr>\n",
       "      <th>1</th>\n",
       "      <td>2004</td>\n",
       "      <td>Detroit Pistons</td>\n",
       "      <td>54</td>\n",
       "      <td>7388</td>\n",
       "      <td>6909</td>\n",
       "      <td>2747</td>\n",
       "      <td>6314</td>\n",
       "      <td>2414</td>\n",
       "      <td>5346</td>\n",
       "      <td>333</td>\n",
       "      <td>968</td>\n",
       "      <td>1561</td>\n",
       "      <td>2074</td>\n",
       "      <td>1014</td>\n",
       "      <td>2492</td>\n",
       "      <td>1702</td>\n",
       "      <td>659</td>\n",
       "      <td>570</td>\n",
       "      <td>1241</td>\n",
       "    </tr>\n",
       "    <tr>\n",
       "      <th>2</th>\n",
       "      <td>2004</td>\n",
       "      <td>San Antonio Spurs</td>\n",
       "      <td>57</td>\n",
       "      <td>7501</td>\n",
       "      <td>6909</td>\n",
       "      <td>2842</td>\n",
       "      <td>6434</td>\n",
       "      <td>2434</td>\n",
       "      <td>5294</td>\n",
       "      <td>408</td>\n",
       "      <td>1140</td>\n",
       "      <td>1409</td>\n",
       "      <td>2069</td>\n",
       "      <td>1029</td>\n",
       "      <td>2669</td>\n",
       "      <td>1676</td>\n",
       "      <td>661</td>\n",
       "      <td>537</td>\n",
       "      <td>1203</td>\n",
       "    </tr>\n",
       "    <tr>\n",
       "      <th>3</th>\n",
       "      <td>2004</td>\n",
       "      <td>Indiana Pacers</td>\n",
       "      <td>61</td>\n",
       "      <td>7493</td>\n",
       "      <td>7021</td>\n",
       "      <td>2753</td>\n",
       "      <td>6322</td>\n",
       "      <td>2304</td>\n",
       "      <td>5041</td>\n",
       "      <td>449</td>\n",
       "      <td>1281</td>\n",
       "      <td>1538</td>\n",
       "      <td>2014</td>\n",
       "      <td>965</td>\n",
       "      <td>2452</td>\n",
       "      <td>1774</td>\n",
       "      <td>726</td>\n",
       "      <td>411</td>\n",
       "      <td>1182</td>\n",
       "    </tr>\n",
       "    <tr>\n",
       "      <th>4</th>\n",
       "      <td>1997</td>\n",
       "      <td>Cleveland Cavaliers</td>\n",
       "      <td>42</td>\n",
       "      <td>7173</td>\n",
       "      <td>7022</td>\n",
       "      <td>2704</td>\n",
       "      <td>5972</td>\n",
       "      <td>2221</td>\n",
       "      <td>4688</td>\n",
       "      <td>483</td>\n",
       "      <td>1284</td>\n",
       "      <td>1282</td>\n",
       "      <td>1773</td>\n",
       "      <td>909</td>\n",
       "      <td>2159</td>\n",
       "      <td>1714</td>\n",
       "      <td>655</td>\n",
       "      <td>315</td>\n",
       "      <td>1188</td>\n",
       "    </tr>\n",
       "  </tbody>\n",
       "</table>\n",
       "</div>"
      ],
      "text/plain": [
       "   SeasonEnd                 Team   W   PTS  oppPTS  ...   DRB   AST  STL  BLK   TOV\n",
       "0       2014   Philadelphia 76ers  19  8155    9012  ...  2556  1791  765  330  1384\n",
       "1       2004      Detroit Pistons  54  7388    6909  ...  2492  1702  659  570  1241\n",
       "2       2004    San Antonio Spurs  57  7501    6909  ...  2669  1676  661  537  1203\n",
       "3       2004       Indiana Pacers  61  7493    7021  ...  2452  1774  726  411  1182\n",
       "4       1997  Cleveland Cavaliers  42  7173    7022  ...  2159  1714  655  315  1188\n",
       "\n",
       "[5 rows x 19 columns]"
      ]
     },
     "execution_count": 72,
     "metadata": {
      "tags": []
     },
     "output_type": "execute_result"
    }
   ],
   "source": [
    "\n",
    "df = df.drop(labels=['diffPTS'], axis=1)\n",
    "df.head()"
   ]
  },
  {
   "cell_type": "markdown",
   "metadata": {
    "colab_type": "text",
    "id": "g7p315cwS9th"
   },
   "source": [
    "### Part I: Manual feature selection\n",
    "With no prior knowledge of the problem or domain, our first attempt may be to simply fit a model to all of the data. First, we must partition the data into training and testing sets:"
   ]
  },
  {
   "cell_type": "code",
   "execution_count": 0,
   "metadata": {
    "colab": {},
    "colab_type": "code",
    "id": "VqA7s5YZS9ti"
   },
   "outputs": [],
   "source": [
    "dfTrain = df[df.SeasonEnd<2011]\n",
    "dfTest = df[df.SeasonEnd>=2011]"
   ]
  },
  {
   "cell_type": "markdown",
   "metadata": {
    "colab_type": "text",
    "id": "aqdOPL_US9tk"
   },
   "source": [
    "Use the ```LinearRegression``` function to fit a linear regression model, and predict the wins using all 17 features (we omit Team and Season End because those are labels for the data) for both the train and test sets. Store the model output as ```mdlAll``` and calculate the MSE and R$^2$ value of both the train and test sets."
   ]
  },
  {
   "cell_type": "code",
   "execution_count": 0,
   "metadata": {
    "colab": {
     "base_uri": "https://localhost:8080/",
     "height": 459
    },
    "colab_type": "code",
    "executionInfo": {
     "elapsed": 350,
     "status": "ok",
     "timestamp": 1572200570918,
     "user": {
      "displayName": "Jamal Chu",
      "photoUrl": "",
      "userId": "00597837583331067421"
     },
     "user_tz": 240
    },
    "id": "CxfH2XneS9tl",
    "outputId": "2390c183-dbb1-4128-df8b-eb50d0b296e7"
   },
   "outputs": [
    {
     "name": "stdout",
     "output_type": "stream",
     "text": [
      "Training set evaluation:\n",
      "The RSquared value is 0.9436652993971302 \n",
      "The MSE is 9.12188267600359 \n",
      "The p-values for coefficent:\n",
      "\tIntercept is 0.0\n",
      "\tPTS is 0.9999931568007923\n",
      "\toppPTS is 0.0\n",
      "\tFG is nan\n",
      "\tFGA is nan\n",
      "\t2P is nan\n",
      "\t2PA is nan\n",
      "\t3P is 0.9999996656399348\n",
      "\t3PA is nan\n",
      "\tFT is 0.999998484317657\n",
      "\tFTA is 0.6812971650122084\n",
      "\tORB is 0.24711667662586634\n",
      "\tDRB is 0.03523857013423681\n",
      "\tAST is 0.2748029070851721\n",
      "\tSTL is 0.5330872148947641\n",
      "\tBLK is 0.010902832754961844\n",
      "\tTOV is 0.17006308503813905\n",
      "\n",
      "Testing set evaluation:\n",
      "The RSquared value is 0.9041400553119117 \n",
      "The MSE is 16.22908437525138 \n"
     ]
    },
    {
     "name": "stderr",
     "output_type": "stream",
     "text": [
      "/usr/local/lib/python3.6/dist-packages/ipykernel_launcher.py:23: RuntimeWarning: invalid value encountered in sqrt\n"
     ]
    }
   ],
   "source": [
    "# Complete this code block. \n",
    "\n",
    "# Parition training data\n",
    "xTrain = dfTrain.drop(labels=['W','Team','SeasonEnd'], axis=1)\n",
    "yTrain = dfTrain.W\n",
    "\n",
    "# Train model\n",
    "mdlMultiNaive = LinearRegression()\n",
    "mdlMultiNaive.fit(xTrain, yTrain)\n",
    "\n",
    "# Evaluate model on target feature in training set\n",
    "print('Training set evaluation:')\n",
    "\n",
    "# Write the code here.  \n",
    "# -------------------\n",
    "\n",
    "\n",
    "\n",
    "# -------------------\n",
    "\n",
    "\n",
    "# Evaluate model on target feature in training set\n",
    "print('\\nTesting set evaluation:')\n",
    "\n",
    "# Write the code here.  \n",
    "# -------------------\n",
    "\n",
    "\n",
    "\n",
    "\n",
    "# -------------------"
   ]
  },
  {
   "cell_type": "markdown",
   "metadata": {
    "colab_type": "text",
    "id": "PIYqqZ-SS9tp"
   },
   "source": [
    "Answer the follow questions:"
   ]
  },
  {
   "cell_type": "markdown",
   "metadata": {
    "colab_type": "text",
    "id": "GWZXfZpRS9ts"
   },
   "source": [
    " 1. Did you receive a warning message?"
   ]
  },
  {
   "cell_type": "markdown",
   "metadata": {
    "colab_type": "text",
    "id": "oFCfijlzS9tt"
   },
   "source": []
  },
  {
   "cell_type": "markdown",
   "metadata": {
    "colab_type": "text",
    "id": "C4jL2gXyS9tt"
   },
   "source": [
    " 2. Compare the difference between MSE of the train and test target predictions. What happened?"
   ]
  },
  {
   "cell_type": "markdown",
   "metadata": {
    "colab_type": "text",
    "id": "EDTjkVMBS9tv"
   },
   "source": []
  },
  {
   "cell_type": "markdown",
   "metadata": {
    "colab_type": "text",
    "id": "v34HqzsMS9tv"
   },
   "source": [
    "Highly correlated features can cause problems for predictive models. To remedy this issue, we must identify which features have a correlation coefficient that is greater than $0.85$ or less than $-0.85$ (i.e., highly correlated). We should try to remove the fewest number of features possible. We can use the following code to identify and remove the highly correlated features"
   ]
  },
  {
   "cell_type": "code",
   "execution_count": 0,
   "metadata": {
    "colab": {
     "base_uri": "https://localhost:8080/",
     "height": 102
    },
    "colab_type": "code",
    "executionInfo": {
     "elapsed": 318,
     "status": "ok",
     "timestamp": 1572200574383,
     "user": {
      "displayName": "Jamal Chu",
      "photoUrl": "",
      "userId": "00597837583331067421"
     },
     "user_tz": 240
    },
    "id": "FTCY-mL7S9tw",
    "outputId": "6d4092b9-dfc5-4918-85ff-cdf0ede58112"
   },
   "outputs": [
    {
     "name": "stdout",
     "output_type": "stream",
     "text": [
      "removed 2PA\n",
      "removed FG\n",
      "removed 2P\n",
      "removed 3P\n",
      "removed FT\n"
     ]
    }
   ],
   "source": [
    "# Create a new dataframe to \"Trim\" away correlated features\n",
    "xTrainTrim = xTrain[:] # [:] gets the values of the pointer rather than the address\n",
    "xTestTrim =xTest[:]\n",
    "corrCoeffVector = xTrainTrim.corr()\n",
    "highCorrFeats = (corrCoeffVector.abs()>=0.85).sum()\n",
    "# Loop through the maximum number of correlated features in dfXTrainTrim\n",
    "# >1 because each feature is highly correlated with itself\n",
    "while highCorrFeats.max() > 1:\n",
    "    highestCorrFeat = highCorrFeats.idxmax()\n",
    "    xTrainTrim = xTrainTrim.drop(labels=[highestCorrFeat], axis=1)\n",
    "    xTestTrim = xTestTrim.drop(labels=[highestCorrFeat], axis=1)\n",
    "    print('removed {}'.format(highestCorrFeat))\n",
    "    corrCoeffVector = xTrainTrim.corr()\n",
    "    highCorrFeats = (corrCoeffVector.abs()>=0.85).sum()"
   ]
  },
  {
   "cell_type": "markdown",
   "metadata": {
    "colab_type": "text",
    "id": "m1YZLyZSS9ty"
   },
   "source": [
    "Now, use the ```Linear Regression``` function to fit a model to all remaining features and display summary information for the training and test splits."
   ]
  },
  {
   "cell_type": "code",
   "execution_count": 0,
   "metadata": {
    "colab": {
     "base_uri": "https://localhost:8080/",
     "height": 357
    },
    "colab_type": "code",
    "executionInfo": {
     "elapsed": 338,
     "status": "ok",
     "timestamp": 1572200583636,
     "user": {
      "displayName": "Jamal Chu",
      "photoUrl": "",
      "userId": "00597837583331067421"
     },
     "user_tz": 240
    },
    "id": "CRDdwfCMS9ty",
    "outputId": "e4956250-b9a2-45fa-d3bc-a266d2a44cf7"
   },
   "outputs": [
    {
     "name": "stdout",
     "output_type": "stream",
     "text": [
      "Training set evaluation:\n",
      "The RSquared value is 0.9435574738334954 \n",
      "The MSE is 9.139342112734841 \n",
      "The p-values for coefficent:\n",
      "\tIntercept is 0.0\n",
      "\tPTS is 0.0\n",
      "\toppPTS is 0.0\n",
      "\tFGA is 0.1110944972016854\n",
      "\t3PA is 0.9371858210975361\n",
      "\tFTA is 0.31967066098368035\n",
      "\tORB is 0.18943449991030636\n",
      "\tDRB is 0.02152835211327564\n",
      "\tAST is 0.22773916287758889\n",
      "\tSTL is 0.4062868155435506\n",
      "\tBLK is 0.01022128065541672\n",
      "\tTOV is 0.15045667757720516\n",
      "\n",
      "Testing set evaluation:\n",
      "The RSquared value is 0.8971093069899835 \n",
      "The MSE is 17.419389753676082 \n"
     ]
    }
   ],
   "source": [
    "# Complete this code block. \n",
    "\n",
    "# Train model\n",
    "mdlMulti = LinearRegression()\n",
    "mdlMulti.fit(xTrainTrim, yTrain)\n",
    "\n",
    "\n",
    "\n",
    "# Evaluate model on target feature in training set\n",
    "print('Training set evaluation:')\n",
    "\n",
    "# Write the code here.  \n",
    "# -------------------\n",
    "\n",
    "\n",
    "\n",
    "# -------------------\n",
    "\n",
    "\n",
    "# Evaluate model on target feature in testing set\n",
    "print('\\nTesting set evaluation:')\n",
    "\n",
    "# Write the code here.  \n",
    "# -------------------\n",
    "\n",
    "\n",
    "\n",
    "\n",
    "# -------------------\n"
   ]
  },
  {
   "cell_type": "markdown",
   "metadata": {
    "colab_type": "text",
    "id": "XFu9mCayS9t1"
   },
   "source": [
    "Answer the following questions:"
   ]
  },
  {
   "cell_type": "markdown",
   "metadata": {
    "colab_type": "text",
    "id": "OC-yYtmvS9t3"
   },
   "source": [
    " 1. Which variables are statistically significant at $p<0.05$?"
   ]
  },
  {
   "cell_type": "code",
   "execution_count": 0,
   "metadata": {
    "colab": {
     "base_uri": "https://localhost:8080/",
     "height": 102
    },
    "colab_type": "code",
    "executionInfo": {
     "elapsed": 339,
     "status": "ok",
     "timestamp": 1572200308607,
     "user": {
      "displayName": "Jamal Chu",
      "photoUrl": "",
      "userId": "00597837583331067421"
     },
     "user_tz": 240
    },
    "id": "T_Ky6uO1S9t4",
    "outputId": "bca599ef-9a2f-45f0-aab1-b8af9bf1b5e7"
   },
   "outputs": [
    {
     "name": "stdout",
     "output_type": "stream",
     "text": [
      "Intercept 0.0\n",
      "PTS 0.0\n",
      "oppPTS 0.0\n",
      "DRB 0.02152835211327564\n",
      "BLK 0.01022128065541672\n"
     ]
    }
   ],
   "source": [
    "# Write the code here. \n",
    "# -------------------\n",
    "\n",
    "\n",
    "\n",
    "\n",
    "# -------------------"
   ]
  },
  {
   "cell_type": "markdown",
   "metadata": {
    "colab_type": "text",
    "id": "XtlOCyAAS9t_"
   },
   "source": [
    " 2. What are the values of the regression coefficients? How would you interpret these values (e.g., how many ```PTS``` are needed to produce one more win)? With this interpreation, are any coefficent-feature pairs that are suprising? \n"
   ]
  },
  {
   "cell_type": "code",
   "execution_count": 0,
   "metadata": {
    "colab": {},
    "colab_type": "code",
    "id": "-1hGw4wGS9t_",
    "outputId": "d694d011-4f02-4fb1-e718-ca55db095cc0"
   },
   "outputs": [
    {
     "name": "stdout",
     "output_type": "stream",
     "text": [
      "PTS          31.243363\n",
      "oppPTS      -32.242549\n",
      "FGA        -506.017542\n",
      "3PA      -31927.329944\n",
      "FTA       -1051.762307\n",
      "ORB         440.284632\n",
      "DRB         308.722225\n",
      "AST         922.577591\n",
      "STL         625.244169\n",
      "BLK         268.712409\n",
      "TOV        -514.300948\n",
      "dtype: float64\n"
     ]
    }
   ],
   "source": [
    "# Write the code here. Comment on what you see.\n",
    "# -------------------\n",
    "\n",
    "\n",
    "\n",
    "\n",
    "# -------------------\n"
   ]
  },
  {
   "cell_type": "markdown",
   "metadata": {
    "colab_type": "text",
    "id": "cH1ql7nhS9uB"
   },
   "source": [
    " 3. What is the R$^2$? What is the mean squared error? How do the test and training set results compare? How do these results compare to the simple linear regression?"
   ]
  },
  {
   "cell_type": "code",
   "execution_count": 0,
   "metadata": {
    "colab": {
     "base_uri": "https://localhost:8080/",
     "height": 85
    },
    "colab_type": "code",
    "executionInfo": {
     "elapsed": 252,
     "status": "ok",
     "timestamp": 1572200596501,
     "user": {
      "displayName": "Jamal Chu",
      "photoUrl": "",
      "userId": "00597837583331067421"
     },
     "user_tz": 240
    },
    "id": "0Qx5Ojk4S9uB",
    "outputId": "b3a6c4f0-5da8-4b96-ba7d-d369fc595eb0"
   },
   "outputs": [
    {
     "name": "stdout",
     "output_type": "stream",
     "text": [
      "The RSquared value is 0.8971093069899835 \n",
      "The MSE is 17.419389753676082 \n",
      "The RSquared value is 0.9435574738334954 \n",
      "The MSE is 9.139342112734841 \n"
     ]
    }
   ],
   "source": [
    "# Write the code here. Comment on what you see.\n",
    "\n",
    "# -------------------\n",
    "\n",
    "\n",
    "\n",
    "\n",
    "# -------------------\n"
   ]
  },
  {
   "cell_type": "markdown",
   "metadata": {
    "colab_type": "text",
    "id": "gaCKFb9rS9uD"
   },
   "source": [
    "### Part II: Lasso regularization\n",
    "Lasso regularization is one of the most widely used methods in regression and machine learning. In this section, we will use the lasso as an automated method for feature selection. First, we train a lasso model using 10-fold cross validation to estimate the mean squared error. Earlier in this lab we made the ten folds for our cross validation using the functions from ```sklearn.model_selection.KFold```, however, many functions in sklearn have a cross validation method (e.g., ```LassoCV```).\n",
    "\n"
   ]
  },
  {
   "cell_type": "code",
   "execution_count": 0,
   "metadata": {
    "colab": {
     "base_uri": "https://localhost:8080/",
     "height": 85
    },
    "colab_type": "code",
    "executionInfo": {
     "elapsed": 419,
     "status": "ok",
     "timestamp": 1572200659694,
     "user": {
      "displayName": "Jamal Chu",
      "photoUrl": "",
      "userId": "00597837583331067421"
     },
     "user_tz": 240
    },
    "id": "sP8EIGbDS9uD",
    "outputId": "41b3d135-3ebf-49f7-dace-d206d3cff66c"
   },
   "outputs": [
    {
     "data": {
      "text/plain": [
       "LassoCV(alphas=None, copy_X=True, cv=10, eps=0.01, fit_intercept=True,\n",
       "        max_iter=1000, n_alphas=100, n_jobs=None, normalize=False,\n",
       "        positive=False, precompute='auto', random_state=2, selection='cyclic',\n",
       "        tol=0.0001, verbose=False)"
      ]
     },
     "execution_count": 103,
     "metadata": {
      "tags": []
     },
     "output_type": "execute_result"
    }
   ],
   "source": [
    "# Fit a LASSO model and use 10-fold CV to estimate MSE\n",
    "from sklearn.linear_model import LassoCV\n",
    "\n",
    "mdlLasso = LassoCV(eps = 0.01, n_alphas=100, cv=10, random_state=2)\n",
    "mdlLasso.fit(xTrainTrim, yTrain)"
   ]
  },
  {
   "cell_type": "markdown",
   "metadata": {
    "colab_type": "text",
    "id": "yFvQkKxwS9uF"
   },
   "source": [
    "Note that sklearn refers to $\\lambda$ as _alpha_. Answer the following questions:"
   ]
  },
  {
   "cell_type": "markdown",
   "metadata": {
    "colab_type": "text",
    "id": "rRyCXdwVS9uF"
   },
   "source": [
    "1. What is the optimal $\\lambda$?"
   ]
  },
  {
   "cell_type": "code",
   "execution_count": 0,
   "metadata": {
    "colab": {
     "base_uri": "https://localhost:8080/",
     "height": 34
    },
    "colab_type": "code",
    "executionInfo": {
     "elapsed": 317,
     "status": "ok",
     "timestamp": 1572200661285,
     "user": {
      "displayName": "Jamal Chu",
      "photoUrl": "",
      "userId": "00597837583331067421"
     },
     "user_tz": 240
    },
    "id": "Y8QcZY1nS9uG",
    "outputId": "5d91e673-12ed-4be8-9e3e-6d55ae82f090"
   },
   "outputs": [
    {
     "name": "stdout",
     "output_type": "stream",
     "text": [
      "24.441155279503114\n"
     ]
    }
   ],
   "source": [
    "# Write the code here.\n",
    "# -------------------\n",
    "\n",
    "\n",
    "\n",
    "# -------------------\n"
   ]
  },
  {
   "cell_type": "markdown",
   "metadata": {
    "colab_type": "text",
    "id": "nu8hJs3QS9uJ"
   },
   "source": [
    "2. Which features were chosen? What are the regression coefficients for those features? How do these coefficents compare with the multiple linear regression above?"
   ]
  },
  {
   "cell_type": "code",
   "execution_count": 0,
   "metadata": {
    "colab": {
     "base_uri": "https://localhost:8080/",
     "height": 221
    },
    "colab_type": "code",
    "executionInfo": {
     "elapsed": 326,
     "status": "ok",
     "timestamp": 1572200662213,
     "user": {
      "displayName": "Jamal Chu",
      "photoUrl": "",
      "userId": "00597837583331067421"
     },
     "user_tz": 240
    },
    "id": "okUzSR3US9uK",
    "outputId": "94a9c122-aecb-4eef-b633-c52affb7201e"
   },
   "outputs": [
    {
     "name": "stdout",
     "output_type": "stream",
     "text": [
      "PTS       0.031980\n",
      "oppPTS   -0.032015\n",
      "FGA      -0.000000\n",
      "3PA       0.000000\n",
      "FTA       0.000000\n",
      "ORB      -0.000000\n",
      "DRB       0.001230\n",
      "AST       0.000120\n",
      "STL      -0.000000\n",
      "BLK       0.000203\n",
      "TOV      -0.000000\n",
      "dtype: float64\n"
     ]
    }
   ],
   "source": [
    "# Write the code here. Comment on what you see.\n",
    "# -------------------\n",
    "\n",
    "\n",
    "\n",
    "\n",
    "\n",
    "# -------------------\n"
   ]
  },
  {
   "cell_type": "markdown",
   "metadata": {
    "colab_type": "text",
    "id": "i50fE2NUS9uO"
   },
   "source": [
    "3. Which variables are statistically significant at $p<0.05$? Based on the results from the simple linear regression (i.e., with only ```diffPTS```) is the suprising?"
   ]
  },
  {
   "cell_type": "code",
   "execution_count": 0,
   "metadata": {
    "colab": {
     "base_uri": "https://localhost:8080/",
     "height": 238
    },
    "colab_type": "code",
    "executionInfo": {
     "elapsed": 322,
     "status": "ok",
     "timestamp": 1572200663397,
     "user": {
      "displayName": "Jamal Chu",
      "photoUrl": "",
      "userId": "00597837583331067421"
     },
     "user_tz": 240
    },
    "id": "4eruCN4QS9uP",
    "outputId": "80ad27f7-14e6-4ec9-f4d9-1e99fd816f66"
   },
   "outputs": [
    {
     "name": "stdout",
     "output_type": "stream",
     "text": [
      "The p-values for coefficent:\n",
      "\tIntercept is 0.0\n",
      "\tPTS is 0.0\n",
      "\toppPTS is 0.0\n",
      "\tFGA is 1.0\n",
      "\t3PA is 1.0\n",
      "\tFTA is 1.0\n",
      "\tORB is 1.0\n",
      "\tDRB is 0.38614575502407966\n",
      "\tAST is 0.8944720616326487\n",
      "\tSTL is 1.0\n",
      "\tBLK is 0.8891773668766727\n",
      "\tTOV is 1.0\n"
     ]
    }
   ],
   "source": [
    "# Write the code here. Comment on what you see.\n",
    "# -------------------\n",
    "\n",
    "\n",
    "\n",
    "\n",
    "\n",
    "# -------------------"
   ]
  },
  {
   "cell_type": "markdown",
   "metadata": {
    "colab_type": "text",
    "id": "NzPOWp6AS9uR"
   },
   "source": [
    "4. What is the mean squared error? How does that compare with the results from both the simple and multiple linear regression?"
   ]
  },
  {
   "cell_type": "code",
   "execution_count": 0,
   "metadata": {
    "colab": {
     "base_uri": "https://localhost:8080/",
     "height": 51
    },
    "colab_type": "code",
    "executionInfo": {
     "elapsed": 287,
     "status": "ok",
     "timestamp": 1572200664908,
     "user": {
      "displayName": "Jamal Chu",
      "photoUrl": "",
      "userId": "00597837583331067421"
     },
     "user_tz": 240
    },
    "id": "ECWi1fwsS9uS",
    "outputId": "668630b8-3073-422f-e437-b3e0a64dd4e8"
   },
   "outputs": [
    {
     "name": "stdout",
     "output_type": "stream",
     "text": [
      "The RSquared value is 0.9425886187293218 \n",
      "The MSE is 9.29622201971476 \n"
     ]
    }
   ],
   "source": [
    "# Write the code here. Comment on what you see.\n",
    "# -------------------\n",
    "\n",
    "\n",
    "\n",
    "\n",
    "# -------------------"
   ]
  },
  {
   "cell_type": "markdown",
   "metadata": {
    "colab_type": "text",
    "id": "zJImPAlDS9uT"
   },
   "source": [
    "# Appendix\n",
    "The following code block will clear your workspace, load the data, and import the base packages required for to run the experiments in the Appendix."
   ]
  },
  {
   "cell_type": "code",
   "execution_count": 0,
   "metadata": {
    "colab": {},
    "colab_type": "code",
    "id": "B6qFTX8oS9uU"
   },
   "outputs": [],
   "source": [
    "import matplotlib\n",
    "import matplotlib.pyplot as plt\n",
    "import numpy as np\n",
    "import pandas as pd\n",
    "\n",
    "# Parition training data\n",
    "df = pd.read_csv('NBA_data.csv')\n",
    "dfTrain = df[df.SeasonEnd<2011]\n",
    "xTrain = dfTrain.drop(labels=['W','Team','SeasonEnd'], axis=1)\n",
    "yTrain = dfTrain.W\n"
   ]
  },
  {
   "cell_type": "markdown",
   "metadata": {
    "colab_type": "text",
    "id": "1NKiRr9eS9uW"
   },
   "source": [
    "## Appendix A: Model assumptions\n",
    "The basic assumptions for linear regression are as follows:\n",
    "\n",
    "\n",
    " - __Weak exogeneity:__ The feature values are known exactly and not subject to error. This must be assumed by the modeler.\n",
    " - __Linearity:__ The target can be written as a linear combination of features.\n",
    " - __Constant variance or homoscedasticity:__ The variance of the error terms is constant across all samples.\n",
    " - __No autocorrelation:__ The error terms are not correlated with each other. Note that this assumption is satisfied if the targets are assumed to be from independent samples.\n",
    " - __Normality (or other distribution information):__ The error terms can, but are not required, to be normally distributed. If they are, the the regression coefficients are also normally distributed. This assumption impacts the statistical tests used for the regression coefficients and other distributional assumptions are possible.\n",
    "\n",
    "\n",
    "Before interpreting the model ```mdlSimple``` in Part I, we should carefully check the model assumptions. Residual (or error) plots can be used to test for linearity, homoscedasticity, autocorrelation, and normality. Residuals can also be adjusted or standardized to test for outliers. A residual is defined as $r_i=(\\hat{y}_i -y_i)$.\n",
    "\n",
    "### Normality\n",
    "We can check if the residuals are normally distributed using a histogram and a QQ-plot. The histogram should appear symmetric and be centered at zero. The QQ-plot should have all values near the dashed line. Some variability is normal in the tails, but it should not be severe or pathogenic. The following code can be used to generate these plots."
   ]
  },
  {
   "cell_type": "code",
   "execution_count": 0,
   "metadata": {
    "colab": {
     "base_uri": "https://localhost:8080/",
     "height": 51
    },
    "colab_type": "code",
    "executionInfo": {
     "elapsed": 311,
     "status": "ok",
     "timestamp": 1572200703304,
     "user": {
      "displayName": "Jamal Chu",
      "photoUrl": "",
      "userId": "00597837583331067421"
     },
     "user_tz": 240
    },
    "id": "OHN13PKqS9uW",
    "outputId": "9d453561-548d-447a-a8b2-a4b0d4bb4a5f"
   },
   "outputs": [
    {
     "name": "stdout",
     "output_type": "stream",
     "text": [
      "p = 0.29735867211484407\n",
      "The null hypothesis cannot be rejected (i.e., data is normal)\n"
     ]
    }
   ],
   "source": [
    "from scipy import stats\n",
    "mdlMultiNaive = LinearRegression()\n",
    "mdlMultiNaive.fit(xTrain, yTrain)\n",
    "yPred = np.array(mdlMultiNaive.predict(xTrain))\n",
    "yHat = np.array(yTrain.astype(object))\n",
    "\n",
    "yResiduals = yHat-yPred\n",
    "\n",
    "k2, p = stats.normaltest(yResiduals)\n",
    "alpha = 0.05\n",
    "print(\"p = {}\".format(p))\n",
    "if p < alpha:  # null hypothesis: x comes from a normal distribution\n",
    "    print(\"The null hypothesis can be rejected (i.e. data is not normal)\")\n",
    "else:\n",
    "    print(\"The null hypothesis cannot be rejected (i.e., data is normal)\")"
   ]
  },
  {
   "cell_type": "markdown",
   "metadata": {
    "colab_type": "text",
    "id": "mgzBaG6GS9uY"
   },
   "source": [
    "### Homoscedasticity and autocorrelation\n",
    "We can check for homoscedasticity and autocorrelation using three different residual plots: i) residuals vs. predicted targets, ii) residual vs. previous residual, and iii) residuals vs. case order. In each plot, any patterns or an obvious non-random scatter indicates that there may be a violation and requires further investigation. The following code can be used to generate these plots."
   ]
  },
  {
   "cell_type": "code",
   "execution_count": 0,
   "metadata": {
    "colab": {
     "base_uri": "https://localhost:8080/",
     "height": 367
    },
    "colab_type": "code",
    "executionInfo": {
     "elapsed": 996,
     "status": "ok",
     "timestamp": 1572200709840,
     "user": {
      "displayName": "Jamal Chu",
      "photoUrl": "",
      "userId": "00597837583331067421"
     },
     "user_tz": 240
    },
    "id": "OYSGergrS9uZ",
    "outputId": "6eb4e08c-a6e5-4aae-c1bd-3270b1d65273"
   },
   "outputs": [
    {
     "data": {
      "text/plain": [
       "<Figure size 432x288 with 0 Axes>"
      ]
     },
     "metadata": {
      "tags": []
     },
     "output_type": "display_data"
    },
    {
     "data": {
      "image/png": "[encoded data removed]",
      "text/plain": [
       "<Figure size 1440x360 with 3 Axes>"
      ]
     },
     "metadata": {
      "tags": []
     },
     "output_type": "display_data"
    }
   ],
   "source": [
    "# Check for autocorrelation and homoscedasticity\n",
    "matplotlib.pyplot.subplots_adjust(wspace = 0.2,hspace = 1)\n",
    "plt.figure(figsize=(20,5))\n",
    "\n",
    "plt.subplot(131)\n",
    "plt.scatter(yPred,yResiduals)\n",
    "plt.ylabel('Residual')\n",
    "plt.xlabel('Fitted values')\n",
    "plt.title('Residual vs fitted value')\n",
    "\n",
    "\n",
    "plt.subplot(132)\n",
    "plt.scatter(yResiduals[:-1],yResiduals[1:])\n",
    "plt.ylabel('Residual[t]')\n",
    "plt.xlabel('Residual[t-1]')\n",
    "plt.title('Residuals vs lagged residuals')\n",
    "\n",
    "plt.subplot(133)\n",
    "indexVals = list(range(len(yResiduals)))\n",
    "plt.scatter(indexVals, yResiduals)\n",
    "plt.ylabel('Residual')\n",
    "plt.xlabel('Index number')\n",
    "plt.title('Case order plot of residuals')\n",
    "\n",
    "plt.show()"
   ]
  },
  {
   "cell_type": "markdown",
   "metadata": {
    "colab_type": "text",
    "id": "KpdEM7OWS9ud"
   },
   "source": [
    "### Outliers\n",
    "We can check for outliers using standardized residuals or metrics derived from the residuals. There are two commonly used metrics for assessing outliers: i. Leverage and ii. Cook's distance. In each plot, large or outlying values may indicate an outlier. The following code can be used to generate these plots."
   ]
  },
  {
   "cell_type": "code",
   "execution_count": 0,
   "metadata": {
    "colab": {
     "base_uri": "https://localhost:8080/",
     "height": 85
    },
    "colab_type": "code",
    "executionInfo": {
     "elapsed": 317,
     "status": "ok",
     "timestamp": 1572200776778,
     "user": {
      "displayName": "Jamal Chu",
      "photoUrl": "",
      "userId": "00597837583331067421"
     },
     "user_tz": 240
    },
    "id": "xE4r2cNKS9ud",
    "outputId": "aca1ed67-ffce-4367-ddc7-0eb604ee6c21"
   },
   "outputs": [
    {
     "name": "stdout",
     "output_type": "stream",
     "text": [
      "The highest Cook's distance was 0.02955211964083939 at index 804.\n",
      "Using Cook's distance, there are 0 outliers.\n"
     ]
    },
    {
     "name": "stderr",
     "output_type": "stream",
     "text": [
      "/usr/local/lib/python3.6/dist-packages/numpy/core/fromnumeric.py:2495: FutureWarning: Method .ptp is deprecated and will be removed in a future version. Use numpy.ptp instead.\n",
      "  return ptp(axis=axis, out=out, **kwargs)\n"
     ]
    }
   ],
   "source": [
    "# Imports #\n",
    "import statsmodels.api as smapi\n",
    "\n",
    "# Fit a new linear regression using the ols function \n",
    "smMultiNaive = smapi.OLS(yTrain, smapi.add_constant(xTrain)).fit()\n",
    "\n",
    "# Calculate cook's distance of all points\n",
    "influence = smMultiNaive.get_influence()\n",
    "(cookDist, pCook) = influence.cooks_distance\n",
    "\n",
    "# Find max Cook's distance \n",
    "maxCookDistArg = cookDist.argmax()\n",
    "print('The highest Cook\\'s distance was {} at index {}.'.format(cookDist[maxCookDistArg],maxCookDistArg))\n",
    "print('Using Cook\\'s distance, there are {} outliers.'.format((pCook<0.05).sum()))"
   ]
  },
  {
   "cell_type": "markdown",
   "metadata": {
    "colab_type": "text",
    "id": "Ru-t26IZS9uf"
   },
   "source": [
    "It appears there are no outliers in our training set. In some cases, significant outliers may need to be removed from the data to avoid biasing the results. "
   ]
  },
  {
   "cell_type": "markdown",
   "metadata": {
    "colab_type": "text",
    "id": "bBg-BpqVS9ug"
   },
   "source": [
    "## Appendix B: Training, testing, and cross validation\n",
    "\n",
    "### Training and testing\n",
    "\n",
    "To assess out-of-sample model performance, we typically partition our data into a training and testing set. The _training set_ is the data set that is used to identify the relationship between the feature variables and the target. As such, we sometimes refer to the model fitting process as _training the model_. The _testing set_ is set aside during the model fitting process and used to evaluate performance once a final model has been chosen.\n",
    "\n",
    "If we do not use a testing set and simply evaluate the model performance on the training set, this can lead to a phenomenon known as _overfitting_. Overfitting occurs when the model identifies relationships that are unique to the training set and do not generalize for the larger population. In both information extraction and prediction accuracy applications, it is important that our results generalize beyond the training data. In other words, we want to be confident that our model applies to the general population that the training set was sampled from.\n",
    "\n",
    "In some instances, we may want to partition our data into three sets: training, validation, and testing. The _validation set_ is used to choose or tune user-specified parameters in the model, which are commonly referred to as _hyperparameters_. For example, we can use a validation set to determine the optimal value of $\\lambda$ when using a regularization term. We accomplish this by training the model on the training set with a specified $\\lambda$. We then test the model performance on the validation set. We repeat this process for many values of $\\lambda$ and choose the $\\lambda$ corresponding to the best model performance. Once our hyperparameter(s) are chosen, we apply the final model to the testing set to evaluate the out of sample performance.\n",
    "\n",
    "There are many way to partition the data into training and testing sets. For small data sets ($<100$ observations), cross validation should be used to reduce the variance in the estimates (see the next section). If the data set is sufficiently large, then it is common to use between $70-90\\%$ of the data for training and $10-30\\%$ of the data for testing.\n",
    "\n",
    "### Cross validation\n",
    "In prediction accuracy applications, especially with small data sets, different training/testing partitions can yield significantly different estimations of model accuracy. In this lab, the $R^2$ values obtained from cross validation are actually quite stable, ranging from $0.91$ to $0.95$. For small data sets, cross validation is a popular approach that can be used to reduce the variance and obtain more stable estimates of accuracy (e.g., MSE or $R^2$). In K-fold cross validation, the data is partitioned into K equally sized samples. A single sample is used for testing and the remaining K-1 samples are used for training. This process is repeated K times, with each of the K samples used exactly once as the test set. The K results can then be averaged to produce a single estimate or displayed graphically (as we did above). 10-fold cross validation is commonly used, but any value of K can be chosen.\n",
    "\n",
    "In repeated K-fold cross validation, the process of K-fold cross validation is repeated many times using different initial partitions of the data. Repeated cross validation is considered the gold standard for estimating model performance because it reduces both the bias and the variance of the estimations. However, depending on the application, it may require signifiant computational resources.\n",
    "\n",
    "In stratified K-fold cross validation, the data is partitioned so that each fold has roughly the same mean response variable (or the same proportion of classes). In the binary case, this means that each fold has roughly the same number of 1s and 0s. This is commonly used for classification problems where the data set has many more of one outcome.\n",
    "\n"
   ]
  }
 ],
 "metadata": {
  "colab": {
   "collapsed_sections": [],
   "name": "LinearRegression.ipynb",
   "provenance": []
  },
  "kernelspec": {
   "display_name": "Python 3",
   "language": "python",
   "name": "python3"
  },
  "language_info": {
   "codemirror_mode": {
    "name": "ipython",
    "version": 3
   },
   "file_extension": ".py",
   "mimetype": "text/x-python",
   "name": "python",
   "nbconvert_exporter": "python",
   "pygments_lexer": "ipython3",
   "version": "3.8.3"
  }
 },
 "nbformat": 4,
 "nbformat_minor": 1
}
